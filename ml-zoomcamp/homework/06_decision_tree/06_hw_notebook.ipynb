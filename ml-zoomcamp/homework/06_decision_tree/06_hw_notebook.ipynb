{
 "cells": [
  {
   "cell_type": "code",
   "execution_count": 542,
   "metadata": {},
   "outputs": [],
   "source": [
    "import pandas as pd\n",
    "import matplotlib.pyplot as plt\n",
    "import numpy as np\n",
    "import seaborn as sns"
   ]
  },
  {
   "cell_type": "code",
   "execution_count": 543,
   "metadata": {},
   "outputs": [],
   "source": [
    "housing_df = pd.read_csv(\"/home/my_repos/learning-projects/ml-zoomcamp/data/housing.csv\")"
   ]
  },
  {
   "cell_type": "code",
   "execution_count": 544,
   "metadata": {},
   "outputs": [
    {
     "data": {
      "text/plain": [
       "Index(['longitude', 'latitude', 'housing_median_age', 'total_rooms',\n",
       "       'total_bedrooms', 'population', 'households', 'median_income',\n",
       "       'median_house_value', 'ocean_proximity'],\n",
       "      dtype='object')"
      ]
     },
     "execution_count": 544,
     "metadata": {},
     "output_type": "execute_result"
    }
   ],
   "source": [
    "housing_df.columns"
   ]
  },
  {
   "cell_type": "code",
   "execution_count": 545,
   "metadata": {},
   "outputs": [
    {
     "name": "stdout",
     "output_type": "stream",
     "text": [
      "<class 'pandas.core.frame.DataFrame'>\n",
      "RangeIndex: 20640 entries, 0 to 20639\n",
      "Data columns (total 10 columns):\n",
      " #   Column              Non-Null Count  Dtype  \n",
      "---  ------              --------------  -----  \n",
      " 0   longitude           20640 non-null  float64\n",
      " 1   latitude            20640 non-null  float64\n",
      " 2   housing_median_age  20640 non-null  float64\n",
      " 3   total_rooms         20640 non-null  float64\n",
      " 4   total_bedrooms      20433 non-null  float64\n",
      " 5   population          20640 non-null  float64\n",
      " 6   households          20640 non-null  float64\n",
      " 7   median_income       20640 non-null  float64\n",
      " 8   median_house_value  20640 non-null  float64\n",
      " 9   ocean_proximity     20640 non-null  object \n",
      "dtypes: float64(9), object(1)\n",
      "memory usage: 1.6+ MB\n"
     ]
    }
   ],
   "source": [
    "housing_df.info()"
   ]
  },
  {
   "cell_type": "code",
   "execution_count": 547,
   "metadata": {},
   "outputs": [],
   "source": [
    "df = housing_df[housing_df['ocean_proximity'].isin(['<1H OCEAN', 'INLAND'])]\n",
    "df = df.reset_index(drop=True)\n",
    "df['ocean_proximity'] = df['ocean_proximity'].apply(lambda x: 0 if x == 'INLAND' else 1)"
   ]
  },
  {
   "cell_type": "code",
   "execution_count": 548,
   "metadata": {},
   "outputs": [
    {
     "data": {
      "text/plain": [
       "ocean_proximity\n",
       "1    9136\n",
       "0    6551\n",
       "Name: count, dtype: int64"
      ]
     },
     "execution_count": 548,
     "metadata": {},
     "output_type": "execute_result"
    }
   ],
   "source": [
    "df.ocean_proximity.value_counts()"
   ]
  },
  {
   "cell_type": "code",
   "execution_count": 549,
   "metadata": {},
   "outputs": [
    {
     "data": {
      "text/html": [
       "<div>\n",
       "<style scoped>\n",
       "    .dataframe tbody tr th:only-of-type {\n",
       "        vertical-align: middle;\n",
       "    }\n",
       "\n",
       "    .dataframe tbody tr th {\n",
       "        vertical-align: top;\n",
       "    }\n",
       "\n",
       "    .dataframe thead th {\n",
       "        text-align: right;\n",
       "    }\n",
       "</style>\n",
       "<table border=\"1\" class=\"dataframe\">\n",
       "  <thead>\n",
       "    <tr style=\"text-align: right;\">\n",
       "      <th></th>\n",
       "      <th>longitude</th>\n",
       "      <th>latitude</th>\n",
       "      <th>housing_median_age</th>\n",
       "      <th>total_rooms</th>\n",
       "      <th>total_bedrooms</th>\n",
       "      <th>population</th>\n",
       "      <th>households</th>\n",
       "      <th>median_income</th>\n",
       "      <th>median_house_value</th>\n",
       "      <th>ocean_proximity</th>\n",
       "    </tr>\n",
       "  </thead>\n",
       "  <tbody>\n",
       "    <tr>\n",
       "      <th>0</th>\n",
       "      <td>-121.97</td>\n",
       "      <td>37.64</td>\n",
       "      <td>32.0</td>\n",
       "      <td>1283.0</td>\n",
       "      <td>194.0</td>\n",
       "      <td>485.0</td>\n",
       "      <td>171.0</td>\n",
       "      <td>6.0574</td>\n",
       "      <td>431000.0</td>\n",
       "      <td>1</td>\n",
       "    </tr>\n",
       "    <tr>\n",
       "      <th>1</th>\n",
       "      <td>-121.99</td>\n",
       "      <td>37.61</td>\n",
       "      <td>9.0</td>\n",
       "      <td>3666.0</td>\n",
       "      <td>711.0</td>\n",
       "      <td>2341.0</td>\n",
       "      <td>703.0</td>\n",
       "      <td>4.6458</td>\n",
       "      <td>217000.0</td>\n",
       "      <td>1</td>\n",
       "    </tr>\n",
       "    <tr>\n",
       "      <th>2</th>\n",
       "      <td>-121.97</td>\n",
       "      <td>37.57</td>\n",
       "      <td>21.0</td>\n",
       "      <td>4342.0</td>\n",
       "      <td>783.0</td>\n",
       "      <td>2172.0</td>\n",
       "      <td>789.0</td>\n",
       "      <td>4.6146</td>\n",
       "      <td>247600.0</td>\n",
       "      <td>1</td>\n",
       "    </tr>\n",
       "    <tr>\n",
       "      <th>3</th>\n",
       "      <td>-121.96</td>\n",
       "      <td>37.58</td>\n",
       "      <td>15.0</td>\n",
       "      <td>3575.0</td>\n",
       "      <td>597.0</td>\n",
       "      <td>1777.0</td>\n",
       "      <td>559.0</td>\n",
       "      <td>5.7192</td>\n",
       "      <td>283500.0</td>\n",
       "      <td>1</td>\n",
       "    </tr>\n",
       "    <tr>\n",
       "      <th>4</th>\n",
       "      <td>-121.98</td>\n",
       "      <td>37.58</td>\n",
       "      <td>20.0</td>\n",
       "      <td>4126.0</td>\n",
       "      <td>1031.0</td>\n",
       "      <td>2079.0</td>\n",
       "      <td>975.0</td>\n",
       "      <td>3.6832</td>\n",
       "      <td>216900.0</td>\n",
       "      <td>1</td>\n",
       "    </tr>\n",
       "  </tbody>\n",
       "</table>\n",
       "</div>"
      ],
      "text/plain": [
       "   longitude  latitude  housing_median_age  total_rooms  total_bedrooms  \\\n",
       "0    -121.97     37.64                32.0       1283.0           194.0   \n",
       "1    -121.99     37.61                 9.0       3666.0           711.0   \n",
       "2    -121.97     37.57                21.0       4342.0           783.0   \n",
       "3    -121.96     37.58                15.0       3575.0           597.0   \n",
       "4    -121.98     37.58                20.0       4126.0          1031.0   \n",
       "\n",
       "   population  households  median_income  median_house_value  ocean_proximity  \n",
       "0       485.0       171.0         6.0574            431000.0                1  \n",
       "1      2341.0       703.0         4.6458            217000.0                1  \n",
       "2      2172.0       789.0         4.6146            247600.0                1  \n",
       "3      1777.0       559.0         5.7192            283500.0                1  \n",
       "4      2079.0       975.0         3.6832            216900.0                1  "
      ]
     },
     "execution_count": 549,
     "metadata": {},
     "output_type": "execute_result"
    }
   ],
   "source": [
    "df.head()"
   ]
  },
  {
   "cell_type": "code",
   "execution_count": 550,
   "metadata": {},
   "outputs": [
    {
     "name": "stdout",
     "output_type": "stream",
     "text": [
      "<class 'pandas.core.frame.DataFrame'>\n",
      "RangeIndex: 15687 entries, 0 to 15686\n",
      "Data columns (total 10 columns):\n",
      " #   Column              Non-Null Count  Dtype  \n",
      "---  ------              --------------  -----  \n",
      " 0   longitude           15687 non-null  float64\n",
      " 1   latitude            15687 non-null  float64\n",
      " 2   housing_median_age  15687 non-null  float64\n",
      " 3   total_rooms         15687 non-null  float64\n",
      " 4   total_bedrooms      15530 non-null  float64\n",
      " 5   population          15687 non-null  float64\n",
      " 6   households          15687 non-null  float64\n",
      " 7   median_income       15687 non-null  float64\n",
      " 8   median_house_value  15687 non-null  float64\n",
      " 9   ocean_proximity     15687 non-null  int64  \n",
      "dtypes: float64(9), int64(1)\n",
      "memory usage: 1.2 MB\n"
     ]
    }
   ],
   "source": [
    "df.info()"
   ]
  },
  {
   "cell_type": "code",
   "execution_count": 551,
   "metadata": {},
   "outputs": [
    {
     "data": {
      "text/plain": [
       "longitude               0\n",
       "latitude                0\n",
       "housing_median_age      0\n",
       "total_rooms             0\n",
       "total_bedrooms        157\n",
       "population              0\n",
       "households              0\n",
       "median_income           0\n",
       "median_house_value      0\n",
       "ocean_proximity         0\n",
       "dtype: int64"
      ]
     },
     "execution_count": 551,
     "metadata": {},
     "output_type": "execute_result"
    }
   ],
   "source": [
    "df.isna().sum()"
   ]
  },
  {
   "cell_type": "code",
   "execution_count": 552,
   "metadata": {},
   "outputs": [],
   "source": [
    "df = df.fillna(0)"
   ]
  },
  {
   "cell_type": "code",
   "execution_count": 553,
   "metadata": {},
   "outputs": [
    {
     "data": {
      "text/plain": [
       "longitude             0\n",
       "latitude              0\n",
       "housing_median_age    0\n",
       "total_rooms           0\n",
       "total_bedrooms        0\n",
       "population            0\n",
       "households            0\n",
       "median_income         0\n",
       "median_house_value    0\n",
       "ocean_proximity       0\n",
       "dtype: int64"
      ]
     },
     "execution_count": 553,
     "metadata": {},
     "output_type": "execute_result"
    }
   ],
   "source": [
    "df.isna().sum()"
   ]
  },
  {
   "cell_type": "code",
   "execution_count": 554,
   "metadata": {},
   "outputs": [
    {
     "data": {
      "text/plain": [
       "<Axes: xlabel='median_house_value', ylabel='Count'>"
      ]
     },
     "execution_count": 554,
     "metadata": {},
     "output_type": "execute_result"
    },
    {
     "data": {
      "image/png": "[encoded data removed]",
      "text/plain": [
       "<Figure size 640x480 with 1 Axes>"
      ]
     },
     "metadata": {},
     "output_type": "display_data"
    }
   ],
   "source": [
    "sns.histplot(data=df.median_house_value)"
   ]
  },
  {
   "cell_type": "code",
   "execution_count": 555,
   "metadata": {},
   "outputs": [
    {
     "data": {
      "text/plain": [
       "count     15687.00\n",
       "mean     191943.02\n",
       "std      108801.08\n",
       "min       14999.00\n",
       "25%      111300.00\n",
       "50%      166900.00\n",
       "75%      241100.00\n",
       "max      500001.00\n",
       "Name: median_house_value, dtype: float64"
      ]
     },
     "execution_count": 555,
     "metadata": {},
     "output_type": "execute_result"
    }
   ],
   "source": [
    "df.median_house_value.describe().round(2)"
   ]
  },
  {
   "cell_type": "code",
   "execution_count": 556,
   "metadata": {},
   "outputs": [
    {
     "data": {
      "text/plain": [
       "<Axes: xlabel='median_house_value', ylabel='Count'>"
      ]
     },
     "execution_count": 556,
     "metadata": {},
     "output_type": "execute_result"
    },
    {
     "data": {
      "image/png": "[encoded data removed]",
      "text/plain": [
       "<Figure size 640x480 with 1 Axes>"
      ]
     },
     "metadata": {},
     "output_type": "display_data"
    }
   ],
   "source": [
    "sns.histplot(np.log1p(df.median_house_value))"
   ]
  },
  {
   "cell_type": "code",
   "execution_count": 557,
   "metadata": {},
   "outputs": [],
   "source": [
    "df.median_house_value = np.log1p(df.median_house_value)"
   ]
  },
  {
   "cell_type": "code",
   "execution_count": 558,
   "metadata": {},
   "outputs": [
    {
     "data": {
      "text/html": [
       "<div>\n",
       "<style scoped>\n",
       "    .dataframe tbody tr th:only-of-type {\n",
       "        vertical-align: middle;\n",
       "    }\n",
       "\n",
       "    .dataframe tbody tr th {\n",
       "        vertical-align: top;\n",
       "    }\n",
       "\n",
       "    .dataframe thead th {\n",
       "        text-align: right;\n",
       "    }\n",
       "</style>\n",
       "<table border=\"1\" class=\"dataframe\">\n",
       "  <thead>\n",
       "    <tr style=\"text-align: right;\">\n",
       "      <th></th>\n",
       "      <th>longitude</th>\n",
       "      <th>latitude</th>\n",
       "      <th>housing_median_age</th>\n",
       "      <th>total_rooms</th>\n",
       "      <th>total_bedrooms</th>\n",
       "      <th>population</th>\n",
       "      <th>households</th>\n",
       "      <th>median_income</th>\n",
       "      <th>median_house_value</th>\n",
       "      <th>ocean_proximity</th>\n",
       "    </tr>\n",
       "  </thead>\n",
       "  <tbody>\n",
       "    <tr>\n",
       "      <th>0</th>\n",
       "      <td>-121.97</td>\n",
       "      <td>37.64</td>\n",
       "      <td>32.0</td>\n",
       "      <td>1283.0</td>\n",
       "      <td>194.0</td>\n",
       "      <td>485.0</td>\n",
       "      <td>171.0</td>\n",
       "      <td>6.0574</td>\n",
       "      <td>12.973866</td>\n",
       "      <td>1</td>\n",
       "    </tr>\n",
       "    <tr>\n",
       "      <th>1</th>\n",
       "      <td>-121.99</td>\n",
       "      <td>37.61</td>\n",
       "      <td>9.0</td>\n",
       "      <td>3666.0</td>\n",
       "      <td>711.0</td>\n",
       "      <td>2341.0</td>\n",
       "      <td>703.0</td>\n",
       "      <td>4.6458</td>\n",
       "      <td>12.287657</td>\n",
       "      <td>1</td>\n",
       "    </tr>\n",
       "    <tr>\n",
       "      <th>2</th>\n",
       "      <td>-121.97</td>\n",
       "      <td>37.57</td>\n",
       "      <td>21.0</td>\n",
       "      <td>4342.0</td>\n",
       "      <td>783.0</td>\n",
       "      <td>2172.0</td>\n",
       "      <td>789.0</td>\n",
       "      <td>4.6146</td>\n",
       "      <td>12.419574</td>\n",
       "      <td>1</td>\n",
       "    </tr>\n",
       "    <tr>\n",
       "      <th>3</th>\n",
       "      <td>-121.96</td>\n",
       "      <td>37.58</td>\n",
       "      <td>15.0</td>\n",
       "      <td>3575.0</td>\n",
       "      <td>597.0</td>\n",
       "      <td>1777.0</td>\n",
       "      <td>559.0</td>\n",
       "      <td>5.7192</td>\n",
       "      <td>12.554971</td>\n",
       "      <td>1</td>\n",
       "    </tr>\n",
       "    <tr>\n",
       "      <th>4</th>\n",
       "      <td>-121.98</td>\n",
       "      <td>37.58</td>\n",
       "      <td>20.0</td>\n",
       "      <td>4126.0</td>\n",
       "      <td>1031.0</td>\n",
       "      <td>2079.0</td>\n",
       "      <td>975.0</td>\n",
       "      <td>3.6832</td>\n",
       "      <td>12.287196</td>\n",
       "      <td>1</td>\n",
       "    </tr>\n",
       "  </tbody>\n",
       "</table>\n",
       "</div>"
      ],
      "text/plain": [
       "   longitude  latitude  housing_median_age  total_rooms  total_bedrooms  \\\n",
       "0    -121.97     37.64                32.0       1283.0           194.0   \n",
       "1    -121.99     37.61                 9.0       3666.0           711.0   \n",
       "2    -121.97     37.57                21.0       4342.0           783.0   \n",
       "3    -121.96     37.58                15.0       3575.0           597.0   \n",
       "4    -121.98     37.58                20.0       4126.0          1031.0   \n",
       "\n",
       "   population  households  median_income  median_house_value  ocean_proximity  \n",
       "0       485.0       171.0         6.0574           12.973866                1  \n",
       "1      2341.0       703.0         4.6458           12.287657                1  \n",
       "2      2172.0       789.0         4.6146           12.419574                1  \n",
       "3      1777.0       559.0         5.7192           12.554971                1  \n",
       "4      2079.0       975.0         3.6832           12.287196                1  "
      ]
     },
     "execution_count": 558,
     "metadata": {},
     "output_type": "execute_result"
    }
   ],
   "source": [
    "df.head()"
   ]
  },
  {
   "cell_type": "markdown",
   "metadata": {},
   "source": [
    "#### Split dataset\n",
    "    train / val / test\n",
    "    60 / 20 / 20"
   ]
  },
  {
   "cell_type": "code",
   "execution_count": 559,
   "metadata": {},
   "outputs": [],
   "source": [
    "from sklearn.model_selection import train_test_split"
   ]
  },
  {
   "cell_type": "code",
   "execution_count": 560,
   "metadata": {},
   "outputs": [],
   "source": [
    "df_full_train, df_test = train_test_split(df, test_size=0.2, random_state=1)"
   ]
  },
  {
   "cell_type": "code",
   "execution_count": 561,
   "metadata": {},
   "outputs": [],
   "source": [
    "df_train, df_val = train_test_split(df_full_train, test_size=0.25, random_state=1)"
   ]
  },
  {
   "cell_type": "code",
   "execution_count": 562,
   "metadata": {},
   "outputs": [
    {
     "name": "stdout",
     "output_type": "stream",
     "text": [
      "(12549, 10) (3138, 10) (3138, 10)\n"
     ]
    }
   ],
   "source": [
    "print(df_full_train.shape, df_val.shape, df_test.shape)"
   ]
  },
  {
   "cell_type": "code",
   "execution_count": 563,
   "metadata": {},
   "outputs": [],
   "source": [
    "df_train = df_train.reset_index(drop=True)\n",
    "df_val = df_val.reset_index(drop=True)\n",
    "df_test = df_test.reset_index(drop=True)"
   ]
  },
  {
   "cell_type": "code",
   "execution_count": 564,
   "metadata": {},
   "outputs": [],
   "source": [
    "y_train = df_train.median_house_value.values\n",
    "y_val = df_val.median_house_value.values\n",
    "y_test = df_test.median_house_value.values"
   ]
  },
  {
   "cell_type": "code",
   "execution_count": 565,
   "metadata": {},
   "outputs": [
    {
     "data": {
      "text/plain": [
       "array([11.80634853, 12.68168862, 11.61187447, ..., 11.46374572,\n",
       "       11.93032573, 10.92054627])"
      ]
     },
     "execution_count": 565,
     "metadata": {},
     "output_type": "execute_result"
    }
   ],
   "source": [
    "y_train"
   ]
  },
  {
   "cell_type": "code",
   "execution_count": 566,
   "metadata": {},
   "outputs": [
    {
     "data": {
      "text/plain": [
       "array([12.09122841, 12.14153946, 11.47834437, ..., 12.61686023,\n",
       "       11.03651737, 11.65182617])"
      ]
     },
     "execution_count": 566,
     "metadata": {},
     "output_type": "execute_result"
    }
   ],
   "source": [
    "y_val"
   ]
  },
  {
   "cell_type": "code",
   "execution_count": 567,
   "metadata": {},
   "outputs": [
    {
     "data": {
      "text/plain": [
       "array([12.76082233, 11.39415319, 11.21587969, ..., 11.22791981,\n",
       "       12.11615341, 12.48824331])"
      ]
     },
     "execution_count": 567,
     "metadata": {},
     "output_type": "execute_result"
    }
   ],
   "source": [
    "y_test"
   ]
  },
  {
   "cell_type": "code",
   "execution_count": 568,
   "metadata": {},
   "outputs": [],
   "source": [
    "del df_train['median_house_value']\n",
    "del df_val['median_house_value']\n",
    "del df_test['median_house_value']"
   ]
  },
  {
   "cell_type": "code",
   "execution_count": 569,
   "metadata": {},
   "outputs": [
    {
     "data": {
      "text/plain": [
       "Index(['longitude', 'latitude', 'housing_median_age', 'total_rooms',\n",
       "       'total_bedrooms', 'population', 'households', 'median_income',\n",
       "       'ocean_proximity'],\n",
       "      dtype='object')"
      ]
     },
     "execution_count": 569,
     "metadata": {},
     "output_type": "execute_result"
    }
   ],
   "source": [
    "df_train.columns"
   ]
  },
  {
   "cell_type": "code",
   "execution_count": 570,
   "metadata": {},
   "outputs": [],
   "source": [
    "from sklearn.tree import DecisionTreeRegressor\n",
    "from sklearn.feature_extraction import DictVectorizer\n",
    "from sklearn.tree import export_text"
   ]
  },
  {
   "cell_type": "code",
   "execution_count": 571,
   "metadata": {},
   "outputs": [],
   "source": [
    "columns = ['longitude', 'latitude', 'housing_median_age', 'total_rooms',\n",
    "       'total_bedrooms', 'population', 'households', 'median_income',\n",
    "       'ocean_proximity']\n",
    "\n",
    "train_dicts = df_train[columns].to_dict(orient='records')\n",
    "val_dicts = df_val[columns].to_dict(orient='records')\n",
    "test_dicts = df_test[columns].to_dict(orient='records')"
   ]
  },
  {
   "cell_type": "code",
   "execution_count": 573,
   "metadata": {},
   "outputs": [],
   "source": [
    "dv = DictVectorizer(sparse=False)\n",
    "\n",
    "X_train = dv.fit_transform(train_dicts)"
   ]
  },
  {
   "cell_type": "code",
   "execution_count": 574,
   "metadata": {},
   "outputs": [],
   "source": [
    "X_val = dv.transform(val_dicts)\n",
    "X_test = dv.transform(test_dicts)"
   ]
  },
  {
   "cell_type": "code",
   "execution_count": 576,
   "metadata": {},
   "outputs": [
    {
     "data": {
      "text/html": [
       "<style>#sk-container-id-10 {color: black;}#sk-container-id-10 pre{padding: 0;}#sk-container-id-10 div.sk-toggleable {background-color: white;}#sk-container-id-10 label.sk-toggleable__label {cursor: pointer;display: block;width: 100%;margin-bottom: 0;padding: 0.3em;box-sizing: border-box;text-align: center;}#sk-container-id-10 label.sk-toggleable__label-arrow:before {content: \"▸\";float: left;margin-right: 0.25em;color: #696969;}#sk-container-id-10 label.sk-toggleable__label-arrow:hover:before {color: black;}#sk-container-id-10 div.sk-estimator:hover label.sk-toggleable__label-arrow:before {color: black;}#sk-container-id-10 div.sk-toggleable__content {max-height: 0;max-width: 0;overflow: hidden;text-align: left;background-color: #f0f8ff;}#sk-container-id-10 div.sk-toggleable__content pre {margin: 0.2em;color: black;border-radius: 0.25em;background-color: #f0f8ff;}#sk-container-id-10 input.sk-toggleable__control:checked~div.sk-toggleable__content {max-height: 200px;max-width: 100%;overflow: auto;}#sk-container-id-10 input.sk-toggleable__control:checked~label.sk-toggleable__label-arrow:before {content: \"▾\";}#sk-container-id-10 div.sk-estimator input.sk-toggleable__control:checked~label.sk-toggleable__label {background-color: #d4ebff;}#sk-container-id-10 div.sk-label input.sk-toggleable__control:checked~label.sk-toggleable__label {background-color: #d4ebff;}#sk-container-id-10 input.sk-hidden--visually {border: 0;clip: rect(1px 1px 1px 1px);clip: rect(1px, 1px, 1px, 1px);height: 1px;margin: -1px;overflow: hidden;padding: 0;position: absolute;width: 1px;}#sk-container-id-10 div.sk-estimator {font-family: monospace;background-color: #f0f8ff;border: 1px dotted black;border-radius: 0.25em;box-sizing: border-box;margin-bottom: 0.5em;}#sk-container-id-10 div.sk-estimator:hover {background-color: #d4ebff;}#sk-container-id-10 div.sk-parallel-item::after {content: \"\";width: 100%;border-bottom: 1px solid gray;flex-grow: 1;}#sk-container-id-10 div.sk-label:hover label.sk-toggleable__label {background-color: #d4ebff;}#sk-container-id-10 div.sk-serial::before {content: \"\";position: absolute;border-left: 1px solid gray;box-sizing: border-box;top: 0;bottom: 0;left: 50%;z-index: 0;}#sk-container-id-10 div.sk-serial {display: flex;flex-direction: column;align-items: center;background-color: white;padding-right: 0.2em;padding-left: 0.2em;position: relative;}#sk-container-id-10 div.sk-item {position: relative;z-index: 1;}#sk-container-id-10 div.sk-parallel {display: flex;align-items: stretch;justify-content: center;background-color: white;position: relative;}#sk-container-id-10 div.sk-item::before, #sk-container-id-10 div.sk-parallel-item::before {content: \"\";position: absolute;border-left: 1px solid gray;box-sizing: border-box;top: 0;bottom: 0;left: 50%;z-index: -1;}#sk-container-id-10 div.sk-parallel-item {display: flex;flex-direction: column;z-index: 1;position: relative;background-color: white;}#sk-container-id-10 div.sk-parallel-item:first-child::after {align-self: flex-end;width: 50%;}#sk-container-id-10 div.sk-parallel-item:last-child::after {align-self: flex-start;width: 50%;}#sk-container-id-10 div.sk-parallel-item:only-child::after {width: 0;}#sk-container-id-10 div.sk-dashed-wrapped {border: 1px dashed gray;margin: 0 0.4em 0.5em 0.4em;box-sizing: border-box;padding-bottom: 0.4em;background-color: white;}#sk-container-id-10 div.sk-label label {font-family: monospace;font-weight: bold;display: inline-block;line-height: 1.2em;}#sk-container-id-10 div.sk-label-container {text-align: center;}#sk-container-id-10 div.sk-container {/* jupyter's `normalize.less` sets `[hidden] { display: none; }` but bootstrap.min.css set `[hidden] { display: none !important; }` so we also need the `!important` here to be able to override the default hidden behavior on the sphinx rendered scikit-learn.org. See: https://github.com/scikit-learn/scikit-learn/issues/21755 */display: inline-block !important;position: relative;}#sk-container-id-10 div.sk-text-repr-fallback {display: none;}</style><div id=\"sk-container-id-10\" class=\"sk-top-container\"><div class=\"sk-text-repr-fallback\"><pre>DecisionTreeRegressor(max_depth=1)</pre><b>In a Jupyter environment, please rerun this cell to show the HTML representation or trust the notebook. <br />On GitHub, the HTML representation is unable to render, please try loading this page with nbviewer.org.</b></div><div class=\"sk-container\" hidden><div class=\"sk-item\"><div class=\"sk-estimator sk-toggleable\"><input class=\"sk-toggleable__control sk-hidden--visually\" id=\"sk-estimator-id-10\" type=\"checkbox\" checked><label for=\"sk-estimator-id-10\" class=\"sk-toggleable__label sk-toggleable__label-arrow\">DecisionTreeRegressor</label><div class=\"sk-toggleable__content\"><pre>DecisionTreeRegressor(max_depth=1)</pre></div></div></div></div></div>"
      ],
      "text/plain": [
       "DecisionTreeRegressor(max_depth=1)"
      ]
     },
     "execution_count": 576,
     "metadata": {},
     "output_type": "execute_result"
    }
   ],
   "source": [
    "dt = DecisionTreeRegressor(max_depth=1)\n",
    "\n",
    "dt.fit(X_train, y_train)"
   ]
  },
  {
   "cell_type": "code",
   "execution_count": 577,
   "metadata": {},
   "outputs": [],
   "source": [
    "y_pred = dt.predict(X_val)"
   ]
  },
  {
   "cell_type": "markdown",
   "metadata": {},
   "source": [
    "**Question 1**\n",
    "\n",
    "    Which feature is used for splitting the data?"
   ]
  },
  {
   "cell_type": "code",
   "execution_count": 579,
   "metadata": {},
   "outputs": [
    {
     "name": "stdout",
     "output_type": "stream",
     "text": [
      "|--- ocean_proximity <= 0.50\n",
      "|   |--- value: [11.61]\n",
      "|--- ocean_proximity >  0.50\n",
      "|   |--- value: [12.30]\n",
      "\n"
     ]
    }
   ],
   "source": [
    "feature_names=list(dv.get_feature_names_out())\n",
    "\n",
    "print(export_text(dt, feature_names=feature_names))"
   ]
  },
  {
   "cell_type": "code",
   "execution_count": 580,
   "metadata": {},
   "outputs": [
    {
     "data": {
      "text/html": [
       "<div>\n",
       "<style scoped>\n",
       "    .dataframe tbody tr th:only-of-type {\n",
       "        vertical-align: middle;\n",
       "    }\n",
       "\n",
       "    .dataframe tbody tr th {\n",
       "        vertical-align: top;\n",
       "    }\n",
       "\n",
       "    .dataframe thead th {\n",
       "        text-align: right;\n",
       "    }\n",
       "</style>\n",
       "<table border=\"1\" class=\"dataframe\">\n",
       "  <thead>\n",
       "    <tr style=\"text-align: right;\">\n",
       "      <th></th>\n",
       "      <th>Feature</th>\n",
       "      <th>Importance</th>\n",
       "    </tr>\n",
       "  </thead>\n",
       "  <tbody>\n",
       "    <tr>\n",
       "      <th>0</th>\n",
       "      <td>households</td>\n",
       "      <td>0.0</td>\n",
       "    </tr>\n",
       "    <tr>\n",
       "      <th>1</th>\n",
       "      <td>housing_median_age</td>\n",
       "      <td>0.0</td>\n",
       "    </tr>\n",
       "    <tr>\n",
       "      <th>2</th>\n",
       "      <td>latitude</td>\n",
       "      <td>0.0</td>\n",
       "    </tr>\n",
       "    <tr>\n",
       "      <th>3</th>\n",
       "      <td>longitude</td>\n",
       "      <td>0.0</td>\n",
       "    </tr>\n",
       "    <tr>\n",
       "      <th>4</th>\n",
       "      <td>median_income</td>\n",
       "      <td>0.0</td>\n",
       "    </tr>\n",
       "    <tr>\n",
       "      <th>5</th>\n",
       "      <td>ocean_proximity</td>\n",
       "      <td>1.0</td>\n",
       "    </tr>\n",
       "    <tr>\n",
       "      <th>6</th>\n",
       "      <td>population</td>\n",
       "      <td>0.0</td>\n",
       "    </tr>\n",
       "    <tr>\n",
       "      <th>7</th>\n",
       "      <td>total_bedrooms</td>\n",
       "      <td>0.0</td>\n",
       "    </tr>\n",
       "    <tr>\n",
       "      <th>8</th>\n",
       "      <td>total_rooms</td>\n",
       "      <td>0.0</td>\n",
       "    </tr>\n",
       "  </tbody>\n",
       "</table>\n",
       "</div>"
      ],
      "text/plain": [
       "              Feature  Importance\n",
       "0          households         0.0\n",
       "1  housing_median_age         0.0\n",
       "2            latitude         0.0\n",
       "3           longitude         0.0\n",
       "4       median_income         0.0\n",
       "5     ocean_proximity         1.0\n",
       "6          population         0.0\n",
       "7      total_bedrooms         0.0\n",
       "8         total_rooms         0.0"
      ]
     },
     "execution_count": 580,
     "metadata": {},
     "output_type": "execute_result"
    }
   ],
   "source": [
    "df_feature_importance = pd.DataFrame({'Feature': dv.feature_names_, \n",
    "                                      'Importance': dt.feature_importances_})\n",
    "\n",
    "df_feature_importance"
   ]
  },
  {
   "cell_type": "code",
   "execution_count": 581,
   "metadata": {},
   "outputs": [
    {
     "name": "stdout",
     "output_type": "stream",
     "text": [
      "              Feature  Importance\n",
      "5     ocean_proximity         1.0\n",
      "0          households         0.0\n",
      "1  housing_median_age         0.0\n",
      "2            latitude         0.0\n",
      "3           longitude         0.0\n",
      "4       median_income         0.0\n",
      "6          population         0.0\n",
      "7      total_bedrooms         0.0\n",
      "8         total_rooms         0.0\n"
     ]
    }
   ],
   "source": [
    "# Get the feature importances\n",
    "feature_importances = dt.feature_importances_\n",
    "\n",
    "# Create a DataFrame to display the results\n",
    "feature_importance_df = pd.DataFrame({'Feature': feature_names, 'Importance': feature_importances})\n",
    "\n",
    "# Sort the features by importance in descending order\n",
    "feature_importance_df = feature_importance_df.sort_values(by='Importance', ascending=False)\n",
    "\n",
    "# Print or inspect the feature importances\n",
    "print(feature_importance_df)\n"
   ]
  },
  {
   "cell_type": "code",
   "execution_count": 582,
   "metadata": {},
   "outputs": [
    {
     "name": "stdout",
     "output_type": "stream",
     "text": [
      "|--- ocean_proximity <= 0.50\n",
      "|   |--- value: [11.61]\n",
      "|--- ocean_proximity >  0.50\n",
      "|   |--- value: [12.30]\n",
      "\n"
     ]
    }
   ],
   "source": [
    "print(export_text(dt, feature_names=list(feature_names)))"
   ]
  },
  {
   "cell_type": "markdown",
   "metadata": {},
   "source": [
    "**Question 2 - Random Forest Regressor**\n",
    "\n",
    "        What's the RMSE of this model on validation?"
   ]
  },
  {
   "cell_type": "code",
   "execution_count": 583,
   "metadata": {},
   "outputs": [],
   "source": [
    "from sklearn.ensemble import RandomForestRegressor\n",
    "from sklearn.metrics import mean_squared_error"
   ]
  },
  {
   "cell_type": "code",
   "execution_count": 584,
   "metadata": {},
   "outputs": [],
   "source": [
    "rf = RandomForestRegressor(n_estimators=10,\n",
    "                            random_state=1,\n",
    "                            n_jobs=-1)"
   ]
  },
  {
   "cell_type": "code",
   "execution_count": 585,
   "metadata": {},
   "outputs": [],
   "source": [
    "rf.fit(X_train, y_train)\n",
    "\n",
    "y_pred = rf.predict(X_val)\n",
    "rmse = np.sqrt(mean_squared_error(y_val, y_pred))"
   ]
  },
  {
   "cell_type": "code",
   "execution_count": 586,
   "metadata": {},
   "outputs": [
    {
     "data": {
      "text/plain": [
       "0.24579"
      ]
     },
     "execution_count": 586,
     "metadata": {},
     "output_type": "execute_result"
    }
   ],
   "source": [
    "rmse.round(5)"
   ]
  },
  {
   "cell_type": "markdown",
   "metadata": {},
   "source": [
    "**Question 3**\n",
    "\n",
    "    Now let's experiment with the `n_estimators` parameter"
   ]
  },
  {
   "cell_type": "code",
   "execution_count": 587,
   "metadata": {},
   "outputs": [],
   "source": [
    "scores = []\n",
    "\n",
    "n_estimators = np.arange(10, 210, 10)\n",
    "\n",
    "for n in n_estimators:\n",
    "\n",
    "    rf = RandomForestRegressor(n_estimators=n,\n",
    "                                random_state=1,\n",
    "                                n_jobs=-1)\n",
    "    \n",
    "    rf.fit(X_train, y_train)\n",
    "\n",
    "    y_pred = rf.predict(X_val)\n",
    "    rmse = np.sqrt(mean_squared_error(y_val, y_pred))\n",
    "\n",
    "    scores.append([n, rmse.round(4)])\n"
   ]
  },
  {
   "cell_type": "code",
   "execution_count": 588,
   "metadata": {},
   "outputs": [],
   "source": [
    "columns = ['n_estimators', 'rmse']\n",
    "scores = pd.DataFrame(scores, columns=columns)"
   ]
  },
  {
   "cell_type": "code",
   "execution_count": 589,
   "metadata": {},
   "outputs": [
    {
     "data": {
      "image/png": "[encoded data removed]",
      "text/plain": [
       "<Figure size 640x480 with 1 Axes>"
      ]
     },
     "metadata": {},
     "output_type": "display_data"
    }
   ],
   "source": [
    "plt.plot(scores.n_estimators, scores.rmse)\n",
    "plt.show()"
   ]
  },
  {
   "cell_type": "markdown",
   "metadata": {},
   "source": [
    "Lower RMSE values indicate better model performance. After n_estimator: 50, the model stop to improve."
   ]
  },
  {
   "cell_type": "markdown",
   "metadata": {},
   "source": [
    "**Question 4**\n",
    "\n",
    "    - Try different values of `max_depth`: `[10, 15, 20, 25]`\n",
    "    - For each of these values, try different values of `n_estimators` from 10 till 200 (with step 10)\n",
    "    - Fix the random seed: `random_state=1`\n",
    "\n",
    "    What's the best `max_depth`?"
   ]
  },
  {
   "cell_type": "code",
   "execution_count": 590,
   "metadata": {},
   "outputs": [],
   "source": [
    "scores = []\n",
    "\n",
    "max_depths = [10, 15, 20, 25]\n",
    "n_estimators = np.arange(10, 70, 10)\n",
    "\n",
    "for n in n_estimators:\n",
    "    for d in max_depths:\n",
    "\n",
    "        rf = RandomForestRegressor(n_estimators=n,\n",
    "                                   max_depth=d,\n",
    "                                    random_state=1,\n",
    "                                    n_jobs=-1)\n",
    "\n",
    "        rf.fit(X_train, y_train)\n",
    "\n",
    "        y_pred = rf.predict(X_val)\n",
    "        rmse = np.sqrt(mean_squared_error(y_val, y_pred))\n",
    "\n",
    "        scores.append([n, d, rmse.round(4)])"
   ]
  },
  {
   "cell_type": "code",
   "execution_count": 591,
   "metadata": {},
   "outputs": [],
   "source": [
    "columns = ['n_estimators', 'max_depth', 'rmse']\n",
    "scores = pd.DataFrame(scores, columns=columns)"
   ]
  },
  {
   "cell_type": "code",
   "execution_count": 592,
   "metadata": {},
   "outputs": [
    {
     "data": {
      "text/plain": [
       "n_estimators    60.0000\n",
       "max_depth       20.0000\n",
       "rmse             0.2347\n",
       "Name: 22, dtype: float64"
      ]
     },
     "execution_count": 592,
     "metadata": {},
     "output_type": "execute_result"
    }
   ],
   "source": [
    "# Find the min value for rmse\n",
    "scores.loc[scores['rmse'].idxmin()]"
   ]
  },
  {
   "cell_type": "code",
   "execution_count": 593,
   "metadata": {},
   "outputs": [
    {
     "data": {
      "text/plain": [
       "<Axes: xlabel='None-max_depth', ylabel='n_estimators'>"
      ]
     },
     "execution_count": 593,
     "metadata": {},
     "output_type": "execute_result"
    },
    {
     "data": {
      "image/png": "[encoded data removed]",
      "text/plain": [
       "<Figure size 640x480 with 2 Axes>"
      ]
     },
     "metadata": {},
     "output_type": "display_data"
    }
   ],
   "source": [
    "# Make a different visualization for better understanding\n",
    "scores_pivot = scores.pivot(index='n_estimators', \n",
    "                                  columns=['max_depth'], \n",
    "                                  values=['rmse'])\n",
    "scores_pivot\n",
    "\n",
    "sns.heatmap(scores_pivot, annot=True, fmt='.4f')"
   ]
  },
  {
   "cell_type": "markdown",
   "metadata": {},
   "source": [
    "The best max_depth is 20"
   ]
  },
  {
   "cell_type": "markdown",
   "metadata": {},
   "source": [
    "**Question 5: Feature importance**\n",
    "\n",
    "    We can extract feature importance information from tree-based models.\n",
    "\n",
    "    At each step of the decision tree learning algorith, it finds the best split. When doint it, we can calculate \"gain\" - the reduction in impurity before and after the split. This gain is quite useful in understanding what are the imporatant features for tree-based models.\n",
    "\n",
    "    What's the most important feature (among these 4)?\n",
    "\n",
    "    total_rooms\n",
    "    median_income\n",
    "    total_bedrooms\n",
    "    longitude\n"
   ]
  },
  {
   "cell_type": "code",
   "execution_count": 594,
   "metadata": {},
   "outputs": [],
   "source": [
    "rf = RandomForestRegressor(n_estimators=10,\n",
    "                           max_depth=20,\n",
    "                           random_state=1,\n",
    "                           n_jobs=-1)\n",
    "\n",
    "rf.fit(X_train, y_train)\n",
    "\n",
    "y_pred = rf.predict(X_val)"
   ]
  },
  {
   "cell_type": "code",
   "execution_count": 595,
   "metadata": {},
   "outputs": [
    {
     "name": "stdout",
     "output_type": "stream",
     "text": [
      "              Feature  Importance\n",
      "5     ocean_proximity    0.366279\n",
      "4       median_income    0.335908\n",
      "2            latitude    0.103164\n",
      "3           longitude    0.085156\n",
      "1  housing_median_age    0.030113\n",
      "6          population    0.027281\n",
      "8         total_rooms    0.021592\n",
      "7      total_bedrooms    0.015567\n",
      "0          households    0.014941\n"
     ]
    }
   ],
   "source": [
    "feature_names=list(dv.get_feature_names_out())\n",
    "\n",
    "# Get the feature importances\n",
    "feature_importances = rf.feature_importances_\n",
    "\n",
    "# Create a DataFrame to display the results\n",
    "feature_importance_df = pd.DataFrame({'Feature': feature_names, 'Importance': feature_importances})\n",
    "\n",
    "# Sort the features by importance in descending order\n",
    "feature_importance_df = feature_importance_df.sort_values(by='Importance', ascending=False)\n",
    "\n",
    "# Print or inspect the feature importances\n",
    "print(feature_importance_df)"
   ]
  },
  {
   "cell_type": "markdown",
   "metadata": {},
   "source": [
    "From the option list, the most important feature is median_income"
   ]
  },
  {
   "cell_type": "markdown",
   "metadata": {},
   "source": [
    "**Question 6: XGBoost model**"
   ]
  },
  {
   "cell_type": "code",
   "execution_count": 596,
   "metadata": {},
   "outputs": [
    {
     "data": {
      "text/plain": [
       "array(['households', 'housing_median_age', 'latitude', 'longitude',\n",
       "       'median_income', 'ocean_proximity', 'population', 'total_bedrooms',\n",
       "       'total_rooms'], dtype=object)"
      ]
     },
     "execution_count": 596,
     "metadata": {},
     "output_type": "execute_result"
    }
   ],
   "source": [
    "features = dv.get_feature_names_out()\n",
    "features"
   ]
  },
  {
   "cell_type": "code",
   "execution_count": 597,
   "metadata": {},
   "outputs": [],
   "source": [
    "import xgboost as xgb"
   ]
  },
  {
   "cell_type": "code",
   "execution_count": 598,
   "metadata": {},
   "outputs": [],
   "source": [
    "evals_result = {}\n",
    "\n",
    "features = dv.get_feature_names_out()\n",
    "\n",
    "dtrain = xgb.DMatrix(X_train,\n",
    "                     label=y_train,\n",
    "                     feature_names=features\n",
    "                     )"
   ]
  },
  {
   "cell_type": "code",
   "execution_count": 599,
   "metadata": {},
   "outputs": [
    {
     "name": "stdout",
     "output_type": "stream",
     "text": [
      "[0]\ttrain-rmse:8.07362\tval-rmse:8.07348\n",
      "[1]\ttrain-rmse:5.65832\tval-rmse:5.65617\n",
      "[2]\ttrain-rmse:3.96917\tval-rmse:3.96541\n",
      "[3]\ttrain-rmse:2.78836\tval-rmse:2.78530\n",
      "[4]\ttrain-rmse:1.96409\tval-rmse:1.96088\n",
      "[5]\ttrain-rmse:1.38983\tval-rmse:1.38852\n",
      "[6]\ttrain-rmse:0.99273\tval-rmse:0.99253\n",
      "[7]\ttrain-rmse:0.71854\tval-rmse:0.72138\n",
      "[8]\ttrain-rmse:0.53440\tval-rmse:0.54054\n",
      "[9]\ttrain-rmse:0.41016\tval-rmse:0.42108\n",
      "[10]\ttrain-rmse:0.33195\tval-rmse:0.34802\n",
      "[11]\ttrain-rmse:0.28413\tval-rmse:0.30539\n",
      "[12]\ttrain-rmse:0.25487\tval-rmse:0.28044\n",
      "[13]\ttrain-rmse:0.23748\tval-rmse:0.26681\n",
      "[14]\ttrain-rmse:0.22789\tval-rmse:0.25955\n",
      "[15]\ttrain-rmse:0.22197\tval-rmse:0.25614\n",
      "[16]\ttrain-rmse:0.21543\tval-rmse:0.25268\n",
      "[17]\ttrain-rmse:0.21034\tval-rmse:0.24871\n",
      "[18]\ttrain-rmse:0.20688\tval-rmse:0.24786\n",
      "[19]\ttrain-rmse:0.20341\tval-rmse:0.24612\n",
      "[20]\ttrain-rmse:0.20036\tval-rmse:0.24508\n",
      "[21]\ttrain-rmse:0.19827\tval-rmse:0.24376\n",
      "[22]\ttrain-rmse:0.19644\tval-rmse:0.24257\n",
      "[23]\ttrain-rmse:0.19320\tval-rmse:0.24095\n",
      "[24]\ttrain-rmse:0.19203\tval-rmse:0.24066\n",
      "[25]\ttrain-rmse:0.18991\tval-rmse:0.24021\n",
      "[26]\ttrain-rmse:0.18715\tval-rmse:0.23921\n",
      "[27]\ttrain-rmse:0.18592\tval-rmse:0.23917\n",
      "[28]\ttrain-rmse:0.18539\tval-rmse:0.23906\n",
      "[29]\ttrain-rmse:0.18394\tval-rmse:0.23830\n",
      "[30]\ttrain-rmse:0.18204\tval-rmse:0.23833\n",
      "[31]\ttrain-rmse:0.18014\tval-rmse:0.23764\n",
      "[32]\ttrain-rmse:0.17785\tval-rmse:0.23717\n",
      "[33]\ttrain-rmse:0.17441\tval-rmse:0.23620\n",
      "[34]\ttrain-rmse:0.17311\tval-rmse:0.23603\n",
      "[35]\ttrain-rmse:0.17091\tval-rmse:0.23452\n",
      "[36]\ttrain-rmse:0.16973\tval-rmse:0.23439\n",
      "[37]\ttrain-rmse:0.16827\tval-rmse:0.23419\n",
      "[38]\ttrain-rmse:0.16728\tval-rmse:0.23403\n",
      "[39]\ttrain-rmse:0.16621\tval-rmse:0.23389\n",
      "[40]\ttrain-rmse:0.16422\tval-rmse:0.23379\n",
      "[41]\ttrain-rmse:0.16272\tval-rmse:0.23398\n",
      "[42]\ttrain-rmse:0.16186\tval-rmse:0.23384\n",
      "[43]\ttrain-rmse:0.15985\tval-rmse:0.23320\n",
      "[44]\ttrain-rmse:0.15905\tval-rmse:0.23307\n",
      "[45]\ttrain-rmse:0.15756\tval-rmse:0.23302\n",
      "[46]\ttrain-rmse:0.15677\tval-rmse:0.23323\n",
      "[47]\ttrain-rmse:0.15588\tval-rmse:0.23335\n",
      "[48]\ttrain-rmse:0.15467\tval-rmse:0.23302\n",
      "[49]\ttrain-rmse:0.15364\tval-rmse:0.23319\n",
      "[50]\ttrain-rmse:0.15210\tval-rmse:0.23262\n",
      "[51]\ttrain-rmse:0.15110\tval-rmse:0.23268\n",
      "[52]\ttrain-rmse:0.14992\tval-rmse:0.23254\n",
      "[53]\ttrain-rmse:0.14890\tval-rmse:0.23234\n",
      "[54]\ttrain-rmse:0.14729\tval-rmse:0.23212\n",
      "[55]\ttrain-rmse:0.14633\tval-rmse:0.23167\n",
      "[56]\ttrain-rmse:0.14531\tval-rmse:0.23168\n",
      "[57]\ttrain-rmse:0.14476\tval-rmse:0.23183\n",
      "[58]\ttrain-rmse:0.14398\tval-rmse:0.23178\n",
      "[59]\ttrain-rmse:0.14309\tval-rmse:0.23177\n",
      "[60]\ttrain-rmse:0.14218\tval-rmse:0.23160\n",
      "[61]\ttrain-rmse:0.14194\tval-rmse:0.23150\n",
      "[62]\ttrain-rmse:0.14141\tval-rmse:0.23169\n",
      "[63]\ttrain-rmse:0.14087\tval-rmse:0.23180\n",
      "[64]\ttrain-rmse:0.14022\tval-rmse:0.23175\n",
      "[65]\ttrain-rmse:0.13898\tval-rmse:0.23169\n",
      "[66]\ttrain-rmse:0.13823\tval-rmse:0.23179\n",
      "[67]\ttrain-rmse:0.13696\tval-rmse:0.23140\n",
      "[68]\ttrain-rmse:0.13665\tval-rmse:0.23148\n",
      "[69]\ttrain-rmse:0.13565\tval-rmse:0.23115\n",
      "[70]\ttrain-rmse:0.13471\tval-rmse:0.23108\n",
      "[71]\ttrain-rmse:0.13392\tval-rmse:0.23081\n",
      "[72]\ttrain-rmse:0.13290\tval-rmse:0.23044\n",
      "[73]\ttrain-rmse:0.13249\tval-rmse:0.23043\n",
      "[74]\ttrain-rmse:0.13143\tval-rmse:0.23026\n",
      "[75]\ttrain-rmse:0.13072\tval-rmse:0.23036\n",
      "[76]\ttrain-rmse:0.13034\tval-rmse:0.23027\n",
      "[77]\ttrain-rmse:0.12963\tval-rmse:0.23029\n",
      "[78]\ttrain-rmse:0.12914\tval-rmse:0.23029\n",
      "[79]\ttrain-rmse:0.12872\tval-rmse:0.23028\n",
      "[80]\ttrain-rmse:0.12835\tval-rmse:0.23045\n"
     ]
    },
    {
     "name": "stdout",
     "output_type": "stream",
     "text": [
      "[81]\ttrain-rmse:0.12754\tval-rmse:0.23025\n",
      "[82]\ttrain-rmse:0.12727\tval-rmse:0.23015\n",
      "[83]\ttrain-rmse:0.12666\tval-rmse:0.23024\n",
      "[84]\ttrain-rmse:0.12630\tval-rmse:0.23028\n",
      "[85]\ttrain-rmse:0.12534\tval-rmse:0.23010\n",
      "[86]\ttrain-rmse:0.12495\tval-rmse:0.23009\n",
      "[87]\ttrain-rmse:0.12455\tval-rmse:0.23004\n",
      "[88]\ttrain-rmse:0.12330\tval-rmse:0.22953\n",
      "[89]\ttrain-rmse:0.12260\tval-rmse:0.22949\n",
      "[90]\ttrain-rmse:0.12174\tval-rmse:0.22957\n",
      "[91]\ttrain-rmse:0.12118\tval-rmse:0.22940\n",
      "[92]\ttrain-rmse:0.12037\tval-rmse:0.22914\n",
      "[93]\ttrain-rmse:0.11983\tval-rmse:0.22921\n",
      "[94]\ttrain-rmse:0.11949\tval-rmse:0.22909\n",
      "[95]\ttrain-rmse:0.11894\tval-rmse:0.22906\n",
      "[96]\ttrain-rmse:0.11840\tval-rmse:0.22906\n",
      "[97]\ttrain-rmse:0.11791\tval-rmse:0.22898\n",
      "[98]\ttrain-rmse:0.11672\tval-rmse:0.22891\n",
      "[99]\ttrain-rmse:0.11656\tval-rmse:0.22897\n"
     ]
    }
   ],
   "source": [
    "evals_result = {}\n",
    "\n",
    "features = dv.get_feature_names_out()\n",
    "\n",
    "dtrain = xgb.DMatrix(X_train,\n",
    "                     label=y_train,\n",
    "                     feature_names=features\n",
    "                     )\n",
    "\n",
    "dval = xgb.DMatrix(X_val,\n",
    "                label=y_val,\n",
    "                feature_names=features)\n",
    "\n",
    "xgb_params = {\n",
    "    'eta': 0.3, \n",
    "    'max_depth': 6,\n",
    "    'min_child_weight': 1,\n",
    "    \n",
    "    'objective': 'reg:squarederror',\n",
    "    'nthread': 8,\n",
    "    \n",
    "    'seed': 1,\n",
    "    'verbosity': 1,\n",
    "}\n",
    "\n",
    "watchlist = [(dtrain, 'train'), (dval, 'val')]\n",
    "\n",
    "model = xgb.train(xgb_params,\n",
    "                  dtrain=dtrain, \n",
    "                  num_boost_round=100,\n",
    "                  evals=watchlist,\n",
    "                  evals_result=evals_result,\n",
    "                  verbose_eval=1\n",
    "                  )\n",
    "\n",
    "y_pred = model.predict(dval)"
   ]
  },
  {
   "cell_type": "code",
   "execution_count": 600,
   "metadata": {},
   "outputs": [
    {
     "data": {
      "text/plain": [
       "{'households': 709.0,\n",
       " 'housing_median_age': 507.0,\n",
       " 'latitude': 727.0,\n",
       " 'longitude': 699.0,\n",
       " 'median_income': 751.0,\n",
       " 'ocean_proximity': 67.0,\n",
       " 'population': 472.0,\n",
       " 'total_bedrooms': 297.0,\n",
       " 'total_rooms': 452.0}"
      ]
     },
     "execution_count": 600,
     "metadata": {},
     "output_type": "execute_result"
    }
   ],
   "source": [
    "model.get_score()"
   ]
  },
  {
   "cell_type": "code",
   "execution_count": 601,
   "metadata": {},
   "outputs": [
    {
     "data": {
      "text/plain": [
       "99"
      ]
     },
     "execution_count": 601,
     "metadata": {},
     "output_type": "execute_result"
    }
   ],
   "source": [
    "model.best_iteration"
   ]
  },
  {
   "cell_type": "code",
   "execution_count": 602,
   "metadata": {},
   "outputs": [
    {
     "data": {
      "text/plain": [
       "<matplotlib.legend.Legend at 0x7f22f2063e90>"
      ]
     },
     "execution_count": 602,
     "metadata": {},
     "output_type": "execute_result"
    },
    {
     "data": {
      "image/png": "[encoded data removed]",
      "text/plain": [
       "<Figure size 640x480 with 1 Axes>"
      ]
     },
     "metadata": {},
     "output_type": "display_data"
    }
   ],
   "source": [
    "# Extract training and validation RMSE scores\n",
    "columns = ['iter', 'train_rmse', 'val_rmse']\n",
    "train_rmse = list(evals_result['train'].values())[0]\n",
    "val_rmse = list(evals_result['val'].values())[0]\n",
    "\n",
    "# Create a DataFrame for the scores\n",
    "df_scores = pd.DataFrame(\n",
    "    list(zip(\n",
    "        range(1, len(train_rmse) + 1),\n",
    "        train_rmse,\n",
    "        val_rmse\n",
    "    )), columns=columns)\n",
    "\n",
    "# Plot the RMSE scores\n",
    "plt.plot(df_scores.iter, df_scores.train_rmse, label='train')\n",
    "plt.plot(df_scores.iter, df_scores.val_rmse, label='val')\n",
    "plt.xlabel('# iterations')\n",
    "plt.ylabel('rmse')\n",
    "plt.legend()"
   ]
  },
  {
   "cell_type": "markdown",
   "metadata": {},
   "source": [
    "Which eta leads to the best RMSE score on the validation dataset?\n"
   ]
  },
  {
   "cell_type": "code",
   "execution_count": 603,
   "metadata": {},
   "outputs": [
    {
     "name": "stdout",
     "output_type": "stream",
     "text": [
      "[0]\ttrain-rmse:10.37456\tval-rmse:10.37545\n",
      "[1]\ttrain-rmse:9.33895\tval-rmse:9.33910\n",
      "[2]\ttrain-rmse:8.40699\tval-rmse:8.40694\n",
      "[3]\ttrain-rmse:7.56827\tval-rmse:7.56760\n",
      "[4]\ttrain-rmse:6.81351\tval-rmse:6.81222\n",
      "[5]\ttrain-rmse:6.13433\tval-rmse:6.13236\n",
      "[6]\ttrain-rmse:5.52318\tval-rmse:5.52066\n",
      "[7]\ttrain-rmse:4.97329\tval-rmse:4.97019\n",
      "[8]\ttrain-rmse:4.47854\tval-rmse:4.47532\n",
      "[9]\ttrain-rmse:4.03346\tval-rmse:4.03005\n",
      "[10]\ttrain-rmse:3.63299\tval-rmse:3.62939\n",
      "[11]\ttrain-rmse:3.27269\tval-rmse:3.26930\n",
      "[12]\ttrain-rmse:2.94855\tval-rmse:2.94514\n",
      "[13]\ttrain-rmse:2.65703\tval-rmse:2.65359\n",
      "[14]\ttrain-rmse:2.39479\tval-rmse:2.39150\n",
      "[15]\ttrain-rmse:2.15901\tval-rmse:2.15616\n",
      "[16]\ttrain-rmse:1.94714\tval-rmse:1.94442\n",
      "[17]\ttrain-rmse:1.75677\tval-rmse:1.75478\n",
      "[18]\ttrain-rmse:1.58567\tval-rmse:1.58404\n",
      "[19]\ttrain-rmse:1.43206\tval-rmse:1.43081\n",
      "[20]\ttrain-rmse:1.29412\tval-rmse:1.29329\n",
      "[21]\ttrain-rmse:1.17023\tval-rmse:1.17013\n",
      "[22]\ttrain-rmse:1.05934\tval-rmse:1.05983\n",
      "[23]\ttrain-rmse:0.95998\tval-rmse:0.96117\n",
      "[24]\ttrain-rmse:0.87015\tval-rmse:0.87245\n",
      "[25]\ttrain-rmse:0.78993\tval-rmse:0.79342\n",
      "[26]\ttrain-rmse:0.71854\tval-rmse:0.72317\n",
      "[27]\ttrain-rmse:0.65509\tval-rmse:0.66070\n",
      "[28]\ttrain-rmse:0.59798\tval-rmse:0.60472\n",
      "[29]\ttrain-rmse:0.54753\tval-rmse:0.55556\n",
      "[30]\ttrain-rmse:0.50217\tval-rmse:0.51149\n",
      "[31]\ttrain-rmse:0.46264\tval-rmse:0.47334\n",
      "[32]\ttrain-rmse:0.42764\tval-rmse:0.44027\n",
      "[33]\ttrain-rmse:0.39638\tval-rmse:0.41081\n",
      "[34]\ttrain-rmse:0.36934\tval-rmse:0.38547\n",
      "[35]\ttrain-rmse:0.34590\tval-rmse:0.36371\n",
      "[36]\ttrain-rmse:0.32525\tval-rmse:0.34493\n",
      "[37]\ttrain-rmse:0.30757\tval-rmse:0.32888\n",
      "[38]\ttrain-rmse:0.29236\tval-rmse:0.31534\n",
      "[39]\ttrain-rmse:0.27876\tval-rmse:0.30333\n",
      "[40]\ttrain-rmse:0.26743\tval-rmse:0.29345\n",
      "[41]\ttrain-rmse:0.25766\tval-rmse:0.28530\n",
      "[42]\ttrain-rmse:0.24866\tval-rmse:0.27785\n",
      "[43]\ttrain-rmse:0.24160\tval-rmse:0.27211\n",
      "[44]\ttrain-rmse:0.23504\tval-rmse:0.26702\n",
      "[45]\ttrain-rmse:0.23014\tval-rmse:0.26315\n",
      "[46]\ttrain-rmse:0.22465\tval-rmse:0.25892\n",
      "[47]\ttrain-rmse:0.22086\tval-rmse:0.25593\n",
      "[48]\ttrain-rmse:0.21776\tval-rmse:0.25353\n",
      "[49]\ttrain-rmse:0.21459\tval-rmse:0.25146\n",
      "[50]\ttrain-rmse:0.21112\tval-rmse:0.24907\n",
      "[51]\ttrain-rmse:0.20919\tval-rmse:0.24776\n",
      "[52]\ttrain-rmse:0.20751\tval-rmse:0.24671\n",
      "[53]\ttrain-rmse:0.20576\tval-rmse:0.24575\n",
      "[54]\ttrain-rmse:0.20434\tval-rmse:0.24485\n",
      "[55]\ttrain-rmse:0.20315\tval-rmse:0.24427\n",
      "[56]\ttrain-rmse:0.20155\tval-rmse:0.24317\n",
      "[57]\ttrain-rmse:0.20032\tval-rmse:0.24263\n",
      "[58]\ttrain-rmse:0.19953\tval-rmse:0.24210\n",
      "[59]\ttrain-rmse:0.19820\tval-rmse:0.24144\n",
      "[60]\ttrain-rmse:0.19724\tval-rmse:0.24107\n",
      "[61]\ttrain-rmse:0.19641\tval-rmse:0.24095\n",
      "[62]\ttrain-rmse:0.19543\tval-rmse:0.24063\n",
      "[63]\ttrain-rmse:0.19420\tval-rmse:0.23990\n",
      "[64]\ttrain-rmse:0.19329\tval-rmse:0.23953\n",
      "[65]\ttrain-rmse:0.19264\tval-rmse:0.23932\n",
      "[66]\ttrain-rmse:0.19168\tval-rmse:0.23909\n",
      "[67]\ttrain-rmse:0.19096\tval-rmse:0.23884\n",
      "[68]\ttrain-rmse:0.19050\tval-rmse:0.23878\n",
      "[69]\ttrain-rmse:0.19009\tval-rmse:0.23867\n",
      "[70]\ttrain-rmse:0.18911\tval-rmse:0.23824\n",
      "[71]\ttrain-rmse:0.18801\tval-rmse:0.23804\n",
      "[72]\ttrain-rmse:0.18750\tval-rmse:0.23790\n",
      "[73]\ttrain-rmse:0.18708\tval-rmse:0.23774\n",
      "[74]\ttrain-rmse:0.18594\tval-rmse:0.23732\n",
      "[75]\ttrain-rmse:0.18503\tval-rmse:0.23731\n",
      "[76]\ttrain-rmse:0.18439\tval-rmse:0.23703\n",
      "[77]\ttrain-rmse:0.18358\tval-rmse:0.23669\n",
      "[78]\ttrain-rmse:0.18285\tval-rmse:0.23652\n",
      "[79]\ttrain-rmse:0.18226\tval-rmse:0.23628\n",
      "[80]\ttrain-rmse:0.18145\tval-rmse:0.23594\n",
      "[81]\ttrain-rmse:0.18110\tval-rmse:0.23586\n",
      "[82]\ttrain-rmse:0.18036\tval-rmse:0.23567\n",
      "[83]\ttrain-rmse:0.17949\tval-rmse:0.23527\n",
      "[84]\ttrain-rmse:0.17910\tval-rmse:0.23516\n",
      "[85]\ttrain-rmse:0.17807\tval-rmse:0.23475\n",
      "[86]\ttrain-rmse:0.17739\tval-rmse:0.23449\n",
      "[87]\ttrain-rmse:0.17664\tval-rmse:0.23412\n",
      "[88]\ttrain-rmse:0.17601\tval-rmse:0.23395\n",
      "[89]\ttrain-rmse:0.17510\tval-rmse:0.23353\n",
      "[90]\ttrain-rmse:0.17418\tval-rmse:0.23307\n",
      "[91]\ttrain-rmse:0.17374\tval-rmse:0.23291\n",
      "[92]\ttrain-rmse:0.17309\tval-rmse:0.23271\n",
      "[93]\ttrain-rmse:0.17258\tval-rmse:0.23280\n",
      "[94]\ttrain-rmse:0.17174\tval-rmse:0.23259\n",
      "[95]\ttrain-rmse:0.17149\tval-rmse:0.23258\n",
      "[96]\ttrain-rmse:0.17096\tval-rmse:0.23244\n",
      "[97]\ttrain-rmse:0.17065\tval-rmse:0.23245\n",
      "[98]\ttrain-rmse:0.17037\tval-rmse:0.23238\n",
      "[99]\ttrain-rmse:0.17000\tval-rmse:0.23234\n",
      "[0]\ttrain-rmse:8.07362\tval-rmse:8.07348\n",
      "[1]\ttrain-rmse:5.65832\tval-rmse:5.65617\n",
      "[2]\ttrain-rmse:3.96917\tval-rmse:3.96541\n",
      "[3]\ttrain-rmse:2.78836\tval-rmse:2.78530\n",
      "[4]\ttrain-rmse:1.96409\tval-rmse:1.96088\n",
      "[5]\ttrain-rmse:1.38983\tval-rmse:1.38852\n",
      "[6]\ttrain-rmse:0.99273\tval-rmse:0.99253\n",
      "[7]\ttrain-rmse:0.71854\tval-rmse:0.72138\n",
      "[8]\ttrain-rmse:0.53440\tval-rmse:0.54054\n",
      "[9]\ttrain-rmse:0.41016\tval-rmse:0.42108\n",
      "[10]\ttrain-rmse:0.33195\tval-rmse:0.34802\n",
      "[11]\ttrain-rmse:0.28413\tval-rmse:0.30539\n",
      "[12]\ttrain-rmse:0.25487\tval-rmse:0.28044\n",
      "[13]\ttrain-rmse:0.23748\tval-rmse:0.26681\n",
      "[14]\ttrain-rmse:0.22789\tval-rmse:0.25955\n",
      "[15]\ttrain-rmse:0.22197\tval-rmse:0.25614\n",
      "[16]\ttrain-rmse:0.21543\tval-rmse:0.25268\n",
      "[17]\ttrain-rmse:0.21034\tval-rmse:0.24871\n",
      "[18]\ttrain-rmse:0.20688\tval-rmse:0.24786\n",
      "[19]\ttrain-rmse:0.20341\tval-rmse:0.24612\n",
      "[20]\ttrain-rmse:0.20036\tval-rmse:0.24508\n",
      "[21]\ttrain-rmse:0.19827\tval-rmse:0.24376\n",
      "[22]\ttrain-rmse:0.19644\tval-rmse:0.24257\n",
      "[23]\ttrain-rmse:0.19320\tval-rmse:0.24095\n",
      "[24]\ttrain-rmse:0.19203\tval-rmse:0.24066\n",
      "[25]\ttrain-rmse:0.18991\tval-rmse:0.24021\n",
      "[26]\ttrain-rmse:0.18715\tval-rmse:0.23921\n",
      "[27]\ttrain-rmse:0.18592\tval-rmse:0.23917\n",
      "[28]\ttrain-rmse:0.18539\tval-rmse:0.23906\n",
      "[29]\ttrain-rmse:0.18394\tval-rmse:0.23830\n",
      "[30]\ttrain-rmse:0.18204\tval-rmse:0.23833\n",
      "[31]\ttrain-rmse:0.18014\tval-rmse:0.23764\n",
      "[32]\ttrain-rmse:0.17785\tval-rmse:0.23717\n",
      "[33]\ttrain-rmse:0.17441\tval-rmse:0.23620\n",
      "[34]\ttrain-rmse:0.17311\tval-rmse:0.23603\n",
      "[35]\ttrain-rmse:0.17091\tval-rmse:0.23452\n",
      "[36]\ttrain-rmse:0.16973\tval-rmse:0.23439\n",
      "[37]\ttrain-rmse:0.16827\tval-rmse:0.23419\n",
      "[38]\ttrain-rmse:0.16728\tval-rmse:0.23403\n",
      "[39]\ttrain-rmse:0.16621\tval-rmse:0.23389\n",
      "[40]\ttrain-rmse:0.16422\tval-rmse:0.23379\n",
      "[41]\ttrain-rmse:0.16272\tval-rmse:0.23398\n",
      "[42]\ttrain-rmse:0.16186\tval-rmse:0.23384\n",
      "[43]\ttrain-rmse:0.15985\tval-rmse:0.23320\n",
      "[44]\ttrain-rmse:0.15905\tval-rmse:0.23307\n",
      "[45]\ttrain-rmse:0.15756\tval-rmse:0.23302\n",
      "[46]\ttrain-rmse:0.15677\tval-rmse:0.23323\n",
      "[47]\ttrain-rmse:0.15588\tval-rmse:0.23335\n",
      "[48]\ttrain-rmse:0.15467\tval-rmse:0.23302\n",
      "[49]\ttrain-rmse:0.15364\tval-rmse:0.23319\n",
      "[50]\ttrain-rmse:0.15210\tval-rmse:0.23262\n",
      "[51]\ttrain-rmse:0.15110\tval-rmse:0.23268\n",
      "[52]\ttrain-rmse:0.14992\tval-rmse:0.23254\n",
      "[53]\ttrain-rmse:0.14890\tval-rmse:0.23234\n",
      "[54]\ttrain-rmse:0.14729\tval-rmse:0.23212\n",
      "[55]\ttrain-rmse:0.14633\tval-rmse:0.23167\n",
      "[56]\ttrain-rmse:0.14531\tval-rmse:0.23168\n",
      "[57]\ttrain-rmse:0.14476\tval-rmse:0.23183\n",
      "[58]\ttrain-rmse:0.14398\tval-rmse:0.23178\n",
      "[59]\ttrain-rmse:0.14309\tval-rmse:0.23177\n",
      "[60]\ttrain-rmse:0.14218\tval-rmse:0.23160\n",
      "[61]\ttrain-rmse:0.14194\tval-rmse:0.23150\n",
      "[62]\ttrain-rmse:0.14141\tval-rmse:0.23169\n",
      "[63]\ttrain-rmse:0.14087\tval-rmse:0.23180\n",
      "[64]\ttrain-rmse:0.14022\tval-rmse:0.23175\n",
      "[65]\ttrain-rmse:0.13898\tval-rmse:0.23169\n",
      "[66]\ttrain-rmse:0.13823\tval-rmse:0.23179\n",
      "[67]\ttrain-rmse:0.13696\tval-rmse:0.23140\n",
      "[68]\ttrain-rmse:0.13665\tval-rmse:0.23148\n",
      "[69]\ttrain-rmse:0.13565\tval-rmse:0.23115\n",
      "[70]\ttrain-rmse:0.13471\tval-rmse:0.23108\n",
      "[71]\ttrain-rmse:0.13392\tval-rmse:0.23081\n",
      "[72]\ttrain-rmse:0.13290\tval-rmse:0.23044\n",
      "[73]\ttrain-rmse:0.13249\tval-rmse:0.23043\n",
      "[74]\ttrain-rmse:0.13143\tval-rmse:0.23026\n",
      "[75]\ttrain-rmse:0.13072\tval-rmse:0.23036\n",
      "[76]\ttrain-rmse:0.13034\tval-rmse:0.23027\n",
      "[77]\ttrain-rmse:0.12963\tval-rmse:0.23029\n",
      "[78]\ttrain-rmse:0.12914\tval-rmse:0.23029\n",
      "[79]\ttrain-rmse:0.12872\tval-rmse:0.23028\n",
      "[80]\ttrain-rmse:0.12835\tval-rmse:0.23045\n",
      "[81]\ttrain-rmse:0.12754\tval-rmse:0.23025\n",
      "[82]\ttrain-rmse:0.12727\tval-rmse:0.23015\n",
      "[83]\ttrain-rmse:0.12666\tval-rmse:0.23024\n",
      "[84]\ttrain-rmse:0.12630\tval-rmse:0.23028\n",
      "[85]\ttrain-rmse:0.12534\tval-rmse:0.23010\n",
      "[86]\ttrain-rmse:0.12495\tval-rmse:0.23009\n",
      "[87]\ttrain-rmse:0.12455\tval-rmse:0.23004\n",
      "[88]\ttrain-rmse:0.12330\tval-rmse:0.22953\n",
      "[89]\ttrain-rmse:0.12260\tval-rmse:0.22949\n",
      "[90]\ttrain-rmse:0.12174\tval-rmse:0.22957\n",
      "[91]\ttrain-rmse:0.12118\tval-rmse:0.22940\n",
      "[92]\ttrain-rmse:0.12037\tval-rmse:0.22914\n",
      "[93]\ttrain-rmse:0.11983\tval-rmse:0.22921\n",
      "[94]\ttrain-rmse:0.11949\tval-rmse:0.22909\n",
      "[95]\ttrain-rmse:0.11894\tval-rmse:0.22906\n",
      "[96]\ttrain-rmse:0.11840\tval-rmse:0.22906\n",
      "[97]\ttrain-rmse:0.11791\tval-rmse:0.22898\n",
      "[98]\ttrain-rmse:0.11672\tval-rmse:0.22891\n",
      "[99]\ttrain-rmse:0.11656\tval-rmse:0.22897\n"
     ]
    }
   ],
   "source": [
    "etas = [0.1, 0.3]\n",
    "\n",
    "features = dv.get_feature_names_out()\n",
    "dtrain = xgb.DMatrix(X_train, \n",
    "                     label=y_train,\n",
    "                     feature_names=features)\n",
    "dval = xgb.DMatrix(X_val, \n",
    "                     label=y_val,\n",
    "                     feature_names=features)\n",
    "\n",
    "# Initialize a dictionary to store evaluation results\n",
    "evals_result = {}\n",
    "\n",
    "# Initialize lists to store AUC scores for each parameter\n",
    "eta_scores = []\n",
    "\n",
    "xgb_params = {\n",
    "    'max_depth': 6,\n",
    "    'min_child_weight': 1,\n",
    "    \n",
    "    'objective': 'reg:squarederror',\n",
    "    'nthread': 8,\n",
    "    \n",
    "    'seed': 1,\n",
    "    'verbosity': 1,\n",
    "}\n",
    "\n",
    "watchlist = [(dtrain, 'train'), (dval, 'val')]\n",
    "\n",
    "for eta in etas:\n",
    "    params = xgb_params.copy()\n",
    "    params['eta'] = eta\n",
    "\n",
    "    # Create and train the XGBoost model with the current eta value\n",
    "    model = xgb.train(params=params,\n",
    "                      dtrain=dtrain,\n",
    "                      num_boost_round=100,\n",
    "                      evals=watchlist,\n",
    "                      evals_result=evals_result,\n",
    "                      verbose_eval=1)\n",
    "\n",
    "    # Get the AUC scores for each iteration\n",
    "    rmse_scores = evals_result['val']['rmse']\n",
    "    eta_scores.append(rmse_scores)"
   ]
  },
  {
   "cell_type": "code",
   "execution_count": 604,
   "metadata": {},
   "outputs": [
    {
     "data": {
      "text/plain": [
       "<matplotlib.legend.Legend at 0x7f228f23be90>"
      ]
     },
     "execution_count": 604,
     "metadata": {},
     "output_type": "execute_result"
    },
    {
     "data": {
      "image/png": "[encoded data removed]",
      "text/plain": [
       "<Figure size 1200x400 with 1 Axes>"
      ]
     },
     "metadata": {},
     "output_type": "display_data"
    }
   ],
   "source": [
    "# Plot the AUC scores for each parameter\n",
    "plt.figure(figsize=(12, 4))\n",
    "plt.subplot(121)\n",
    "for i, eta in enumerate(etas):\n",
    "    plt.plot(range(1, len(eta_scores[i]) + 1), eta_scores[i], label=f'eta={eta}')\n",
    "plt.title('RMSE vs. eta')\n",
    "plt.xlabel('Iteration')\n",
    "plt.ylabel('RMSE')\n",
    "plt.legend()"
   ]
  },
  {
   "cell_type": "markdown",
   "metadata": {},
   "source": [
    "eta 0.3 leads to better model performance"
   ]
  },
  {
   "cell_type": "markdown",
   "metadata": {},
   "source": []
  }
 ],
 "metadata": {
  "kernelspec": {
   "display_name": "base",
   "language": "python",
   "name": "python3"
  },
  "language_info": {
   "codemirror_mode": {
    "name": "ipython",
    "version": 3
   },
   "file_extension": ".py",
   "mimetype": "text/x-python",
   "name": "python",
   "nbconvert_exporter": "python",
   "pygments_lexer": "ipython3",
   "version": "3.11.5"
  }
 },
 "nbformat": 4,
 "nbformat_minor": 2
}
