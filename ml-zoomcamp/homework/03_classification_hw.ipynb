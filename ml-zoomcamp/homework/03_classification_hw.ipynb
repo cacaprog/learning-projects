{
 "cells": [
  {
   "cell_type": "code",
   "execution_count": 568,
   "metadata": {},
   "outputs": [],
   "source": [
    "import pandas as pd\n",
    "import numpy as np\n",
    "import matplotlib.pyplot as plt"
   ]
  },
  {
   "cell_type": "code",
   "execution_count": 569,
   "metadata": {},
   "outputs": [],
   "source": [
    "df = pd.read_csv('/home/cacaprog/learning-projects/ml-zoomcamp/data/car_price.csv')"
   ]
  },
  {
   "cell_type": "code",
   "execution_count": 570,
   "metadata": {},
   "outputs": [
    {
     "data": {
      "text/html": [
       "<div>\n",
       "<style scoped>\n",
       "    .dataframe tbody tr th:only-of-type {\n",
       "        vertical-align: middle;\n",
       "    }\n",
       "\n",
       "    .dataframe tbody tr th {\n",
       "        vertical-align: top;\n",
       "    }\n",
       "\n",
       "    .dataframe thead th {\n",
       "        text-align: right;\n",
       "    }\n",
       "</style>\n",
       "<table border=\"1\" class=\"dataframe\">\n",
       "  <thead>\n",
       "    <tr style=\"text-align: right;\">\n",
       "      <th></th>\n",
       "      <th>Make</th>\n",
       "      <th>Model</th>\n",
       "      <th>Year</th>\n",
       "      <th>Engine Fuel Type</th>\n",
       "      <th>Engine HP</th>\n",
       "      <th>Engine Cylinders</th>\n",
       "      <th>Transmission Type</th>\n",
       "      <th>Driven_Wheels</th>\n",
       "      <th>Number of Doors</th>\n",
       "      <th>Market Category</th>\n",
       "      <th>Vehicle Size</th>\n",
       "      <th>Vehicle Style</th>\n",
       "      <th>highway MPG</th>\n",
       "      <th>city mpg</th>\n",
       "      <th>Popularity</th>\n",
       "      <th>MSRP</th>\n",
       "    </tr>\n",
       "  </thead>\n",
       "  <tbody>\n",
       "    <tr>\n",
       "      <th>0</th>\n",
       "      <td>BMW</td>\n",
       "      <td>1 Series M</td>\n",
       "      <td>2011</td>\n",
       "      <td>premium unleaded (required)</td>\n",
       "      <td>335.0</td>\n",
       "      <td>6.0</td>\n",
       "      <td>MANUAL</td>\n",
       "      <td>rear wheel drive</td>\n",
       "      <td>2.0</td>\n",
       "      <td>Factory Tuner,Luxury,High-Performance</td>\n",
       "      <td>Compact</td>\n",
       "      <td>Coupe</td>\n",
       "      <td>26</td>\n",
       "      <td>19</td>\n",
       "      <td>3916</td>\n",
       "      <td>46135</td>\n",
       "    </tr>\n",
       "    <tr>\n",
       "      <th>1</th>\n",
       "      <td>BMW</td>\n",
       "      <td>1 Series</td>\n",
       "      <td>2011</td>\n",
       "      <td>premium unleaded (required)</td>\n",
       "      <td>300.0</td>\n",
       "      <td>6.0</td>\n",
       "      <td>MANUAL</td>\n",
       "      <td>rear wheel drive</td>\n",
       "      <td>2.0</td>\n",
       "      <td>Luxury,Performance</td>\n",
       "      <td>Compact</td>\n",
       "      <td>Convertible</td>\n",
       "      <td>28</td>\n",
       "      <td>19</td>\n",
       "      <td>3916</td>\n",
       "      <td>40650</td>\n",
       "    </tr>\n",
       "    <tr>\n",
       "      <th>2</th>\n",
       "      <td>BMW</td>\n",
       "      <td>1 Series</td>\n",
       "      <td>2011</td>\n",
       "      <td>premium unleaded (required)</td>\n",
       "      <td>300.0</td>\n",
       "      <td>6.0</td>\n",
       "      <td>MANUAL</td>\n",
       "      <td>rear wheel drive</td>\n",
       "      <td>2.0</td>\n",
       "      <td>Luxury,High-Performance</td>\n",
       "      <td>Compact</td>\n",
       "      <td>Coupe</td>\n",
       "      <td>28</td>\n",
       "      <td>20</td>\n",
       "      <td>3916</td>\n",
       "      <td>36350</td>\n",
       "    </tr>\n",
       "    <tr>\n",
       "      <th>3</th>\n",
       "      <td>BMW</td>\n",
       "      <td>1 Series</td>\n",
       "      <td>2011</td>\n",
       "      <td>premium unleaded (required)</td>\n",
       "      <td>230.0</td>\n",
       "      <td>6.0</td>\n",
       "      <td>MANUAL</td>\n",
       "      <td>rear wheel drive</td>\n",
       "      <td>2.0</td>\n",
       "      <td>Luxury,Performance</td>\n",
       "      <td>Compact</td>\n",
       "      <td>Coupe</td>\n",
       "      <td>28</td>\n",
       "      <td>18</td>\n",
       "      <td>3916</td>\n",
       "      <td>29450</td>\n",
       "    </tr>\n",
       "    <tr>\n",
       "      <th>4</th>\n",
       "      <td>BMW</td>\n",
       "      <td>1 Series</td>\n",
       "      <td>2011</td>\n",
       "      <td>premium unleaded (required)</td>\n",
       "      <td>230.0</td>\n",
       "      <td>6.0</td>\n",
       "      <td>MANUAL</td>\n",
       "      <td>rear wheel drive</td>\n",
       "      <td>2.0</td>\n",
       "      <td>Luxury</td>\n",
       "      <td>Compact</td>\n",
       "      <td>Convertible</td>\n",
       "      <td>28</td>\n",
       "      <td>18</td>\n",
       "      <td>3916</td>\n",
       "      <td>34500</td>\n",
       "    </tr>\n",
       "  </tbody>\n",
       "</table>\n",
       "</div>"
      ],
      "text/plain": [
       "  Make       Model  Year             Engine Fuel Type  Engine HP  \\\n",
       "0  BMW  1 Series M  2011  premium unleaded (required)      335.0   \n",
       "1  BMW    1 Series  2011  premium unleaded (required)      300.0   \n",
       "2  BMW    1 Series  2011  premium unleaded (required)      300.0   \n",
       "3  BMW    1 Series  2011  premium unleaded (required)      230.0   \n",
       "4  BMW    1 Series  2011  premium unleaded (required)      230.0   \n",
       "\n",
       "   Engine Cylinders Transmission Type     Driven_Wheels  Number of Doors  \\\n",
       "0               6.0            MANUAL  rear wheel drive              2.0   \n",
       "1               6.0            MANUAL  rear wheel drive              2.0   \n",
       "2               6.0            MANUAL  rear wheel drive              2.0   \n",
       "3               6.0            MANUAL  rear wheel drive              2.0   \n",
       "4               6.0            MANUAL  rear wheel drive              2.0   \n",
       "\n",
       "                         Market Category Vehicle Size Vehicle Style  \\\n",
       "0  Factory Tuner,Luxury,High-Performance      Compact         Coupe   \n",
       "1                     Luxury,Performance      Compact   Convertible   \n",
       "2                Luxury,High-Performance      Compact         Coupe   \n",
       "3                     Luxury,Performance      Compact         Coupe   \n",
       "4                                 Luxury      Compact   Convertible   \n",
       "\n",
       "   highway MPG  city mpg  Popularity   MSRP  \n",
       "0           26        19        3916  46135  \n",
       "1           28        19        3916  40650  \n",
       "2           28        20        3916  36350  \n",
       "3           28        18        3916  29450  \n",
       "4           28        18        3916  34500  "
      ]
     },
     "execution_count": 570,
     "metadata": {},
     "output_type": "execute_result"
    }
   ],
   "source": [
    "df.head()"
   ]
  },
  {
   "cell_type": "code",
   "execution_count": 571,
   "metadata": {},
   "outputs": [
    {
     "data": {
      "text/html": [
       "<div>\n",
       "<style scoped>\n",
       "    .dataframe tbody tr th:only-of-type {\n",
       "        vertical-align: middle;\n",
       "    }\n",
       "\n",
       "    .dataframe tbody tr th {\n",
       "        vertical-align: top;\n",
       "    }\n",
       "\n",
       "    .dataframe thead th {\n",
       "        text-align: right;\n",
       "    }\n",
       "</style>\n",
       "<table border=\"1\" class=\"dataframe\">\n",
       "  <thead>\n",
       "    <tr style=\"text-align: right;\">\n",
       "      <th></th>\n",
       "      <th>Make</th>\n",
       "      <th>Model</th>\n",
       "      <th>Year</th>\n",
       "      <th>Engine Fuel Type</th>\n",
       "      <th>Engine HP</th>\n",
       "      <th>Engine Cylinders</th>\n",
       "      <th>Transmission Type</th>\n",
       "      <th>Driven_Wheels</th>\n",
       "      <th>Number of Doors</th>\n",
       "      <th>Market Category</th>\n",
       "      <th>Vehicle Size</th>\n",
       "      <th>Vehicle Style</th>\n",
       "      <th>highway MPG</th>\n",
       "      <th>city mpg</th>\n",
       "      <th>Popularity</th>\n",
       "      <th>MSRP</th>\n",
       "    </tr>\n",
       "  </thead>\n",
       "  <tbody>\n",
       "    <tr>\n",
       "      <th>count</th>\n",
       "      <td>11914</td>\n",
       "      <td>11914</td>\n",
       "      <td>11914.000000</td>\n",
       "      <td>11911</td>\n",
       "      <td>11845.00000</td>\n",
       "      <td>11884.000000</td>\n",
       "      <td>11914</td>\n",
       "      <td>11914</td>\n",
       "      <td>11908.000000</td>\n",
       "      <td>8172</td>\n",
       "      <td>11914</td>\n",
       "      <td>11914</td>\n",
       "      <td>11914.000000</td>\n",
       "      <td>11914.000000</td>\n",
       "      <td>11914.000000</td>\n",
       "      <td>1.191400e+04</td>\n",
       "    </tr>\n",
       "    <tr>\n",
       "      <th>unique</th>\n",
       "      <td>48</td>\n",
       "      <td>915</td>\n",
       "      <td>NaN</td>\n",
       "      <td>10</td>\n",
       "      <td>NaN</td>\n",
       "      <td>NaN</td>\n",
       "      <td>5</td>\n",
       "      <td>4</td>\n",
       "      <td>NaN</td>\n",
       "      <td>71</td>\n",
       "      <td>3</td>\n",
       "      <td>16</td>\n",
       "      <td>NaN</td>\n",
       "      <td>NaN</td>\n",
       "      <td>NaN</td>\n",
       "      <td>NaN</td>\n",
       "    </tr>\n",
       "    <tr>\n",
       "      <th>top</th>\n",
       "      <td>Chevrolet</td>\n",
       "      <td>Silverado 1500</td>\n",
       "      <td>NaN</td>\n",
       "      <td>regular unleaded</td>\n",
       "      <td>NaN</td>\n",
       "      <td>NaN</td>\n",
       "      <td>AUTOMATIC</td>\n",
       "      <td>front wheel drive</td>\n",
       "      <td>NaN</td>\n",
       "      <td>Crossover</td>\n",
       "      <td>Compact</td>\n",
       "      <td>Sedan</td>\n",
       "      <td>NaN</td>\n",
       "      <td>NaN</td>\n",
       "      <td>NaN</td>\n",
       "      <td>NaN</td>\n",
       "    </tr>\n",
       "    <tr>\n",
       "      <th>freq</th>\n",
       "      <td>1123</td>\n",
       "      <td>156</td>\n",
       "      <td>NaN</td>\n",
       "      <td>7172</td>\n",
       "      <td>NaN</td>\n",
       "      <td>NaN</td>\n",
       "      <td>8266</td>\n",
       "      <td>4787</td>\n",
       "      <td>NaN</td>\n",
       "      <td>1110</td>\n",
       "      <td>4764</td>\n",
       "      <td>3048</td>\n",
       "      <td>NaN</td>\n",
       "      <td>NaN</td>\n",
       "      <td>NaN</td>\n",
       "      <td>NaN</td>\n",
       "    </tr>\n",
       "    <tr>\n",
       "      <th>mean</th>\n",
       "      <td>NaN</td>\n",
       "      <td>NaN</td>\n",
       "      <td>2010.384338</td>\n",
       "      <td>NaN</td>\n",
       "      <td>249.38607</td>\n",
       "      <td>5.628829</td>\n",
       "      <td>NaN</td>\n",
       "      <td>NaN</td>\n",
       "      <td>3.436093</td>\n",
       "      <td>NaN</td>\n",
       "      <td>NaN</td>\n",
       "      <td>NaN</td>\n",
       "      <td>26.637485</td>\n",
       "      <td>19.733255</td>\n",
       "      <td>1554.911197</td>\n",
       "      <td>4.059474e+04</td>\n",
       "    </tr>\n",
       "    <tr>\n",
       "      <th>std</th>\n",
       "      <td>NaN</td>\n",
       "      <td>NaN</td>\n",
       "      <td>7.579740</td>\n",
       "      <td>NaN</td>\n",
       "      <td>109.19187</td>\n",
       "      <td>1.780559</td>\n",
       "      <td>NaN</td>\n",
       "      <td>NaN</td>\n",
       "      <td>0.881315</td>\n",
       "      <td>NaN</td>\n",
       "      <td>NaN</td>\n",
       "      <td>NaN</td>\n",
       "      <td>8.863001</td>\n",
       "      <td>8.987798</td>\n",
       "      <td>1441.855347</td>\n",
       "      <td>6.010910e+04</td>\n",
       "    </tr>\n",
       "    <tr>\n",
       "      <th>min</th>\n",
       "      <td>NaN</td>\n",
       "      <td>NaN</td>\n",
       "      <td>1990.000000</td>\n",
       "      <td>NaN</td>\n",
       "      <td>55.00000</td>\n",
       "      <td>0.000000</td>\n",
       "      <td>NaN</td>\n",
       "      <td>NaN</td>\n",
       "      <td>2.000000</td>\n",
       "      <td>NaN</td>\n",
       "      <td>NaN</td>\n",
       "      <td>NaN</td>\n",
       "      <td>12.000000</td>\n",
       "      <td>7.000000</td>\n",
       "      <td>2.000000</td>\n",
       "      <td>2.000000e+03</td>\n",
       "    </tr>\n",
       "    <tr>\n",
       "      <th>25%</th>\n",
       "      <td>NaN</td>\n",
       "      <td>NaN</td>\n",
       "      <td>2007.000000</td>\n",
       "      <td>NaN</td>\n",
       "      <td>170.00000</td>\n",
       "      <td>4.000000</td>\n",
       "      <td>NaN</td>\n",
       "      <td>NaN</td>\n",
       "      <td>2.000000</td>\n",
       "      <td>NaN</td>\n",
       "      <td>NaN</td>\n",
       "      <td>NaN</td>\n",
       "      <td>22.000000</td>\n",
       "      <td>16.000000</td>\n",
       "      <td>549.000000</td>\n",
       "      <td>2.100000e+04</td>\n",
       "    </tr>\n",
       "    <tr>\n",
       "      <th>50%</th>\n",
       "      <td>NaN</td>\n",
       "      <td>NaN</td>\n",
       "      <td>2015.000000</td>\n",
       "      <td>NaN</td>\n",
       "      <td>227.00000</td>\n",
       "      <td>6.000000</td>\n",
       "      <td>NaN</td>\n",
       "      <td>NaN</td>\n",
       "      <td>4.000000</td>\n",
       "      <td>NaN</td>\n",
       "      <td>NaN</td>\n",
       "      <td>NaN</td>\n",
       "      <td>26.000000</td>\n",
       "      <td>18.000000</td>\n",
       "      <td>1385.000000</td>\n",
       "      <td>2.999500e+04</td>\n",
       "    </tr>\n",
       "    <tr>\n",
       "      <th>75%</th>\n",
       "      <td>NaN</td>\n",
       "      <td>NaN</td>\n",
       "      <td>2016.000000</td>\n",
       "      <td>NaN</td>\n",
       "      <td>300.00000</td>\n",
       "      <td>6.000000</td>\n",
       "      <td>NaN</td>\n",
       "      <td>NaN</td>\n",
       "      <td>4.000000</td>\n",
       "      <td>NaN</td>\n",
       "      <td>NaN</td>\n",
       "      <td>NaN</td>\n",
       "      <td>30.000000</td>\n",
       "      <td>22.000000</td>\n",
       "      <td>2009.000000</td>\n",
       "      <td>4.223125e+04</td>\n",
       "    </tr>\n",
       "    <tr>\n",
       "      <th>max</th>\n",
       "      <td>NaN</td>\n",
       "      <td>NaN</td>\n",
       "      <td>2017.000000</td>\n",
       "      <td>NaN</td>\n",
       "      <td>1001.00000</td>\n",
       "      <td>16.000000</td>\n",
       "      <td>NaN</td>\n",
       "      <td>NaN</td>\n",
       "      <td>4.000000</td>\n",
       "      <td>NaN</td>\n",
       "      <td>NaN</td>\n",
       "      <td>NaN</td>\n",
       "      <td>354.000000</td>\n",
       "      <td>137.000000</td>\n",
       "      <td>5657.000000</td>\n",
       "      <td>2.065902e+06</td>\n",
       "    </tr>\n",
       "  </tbody>\n",
       "</table>\n",
       "</div>"
      ],
      "text/plain": [
       "             Make           Model          Year  Engine Fuel Type  \\\n",
       "count       11914           11914  11914.000000             11911   \n",
       "unique         48             915           NaN                10   \n",
       "top     Chevrolet  Silverado 1500           NaN  regular unleaded   \n",
       "freq         1123             156           NaN              7172   \n",
       "mean          NaN             NaN   2010.384338               NaN   \n",
       "std           NaN             NaN      7.579740               NaN   \n",
       "min           NaN             NaN   1990.000000               NaN   \n",
       "25%           NaN             NaN   2007.000000               NaN   \n",
       "50%           NaN             NaN   2015.000000               NaN   \n",
       "75%           NaN             NaN   2016.000000               NaN   \n",
       "max           NaN             NaN   2017.000000               NaN   \n",
       "\n",
       "          Engine HP  Engine Cylinders Transmission Type      Driven_Wheels  \\\n",
       "count   11845.00000      11884.000000             11914              11914   \n",
       "unique          NaN               NaN                 5                  4   \n",
       "top             NaN               NaN         AUTOMATIC  front wheel drive   \n",
       "freq            NaN               NaN              8266               4787   \n",
       "mean      249.38607          5.628829               NaN                NaN   \n",
       "std       109.19187          1.780559               NaN                NaN   \n",
       "min        55.00000          0.000000               NaN                NaN   \n",
       "25%       170.00000          4.000000               NaN                NaN   \n",
       "50%       227.00000          6.000000               NaN                NaN   \n",
       "75%       300.00000          6.000000               NaN                NaN   \n",
       "max      1001.00000         16.000000               NaN                NaN   \n",
       "\n",
       "        Number of Doors Market Category Vehicle Size Vehicle Style  \\\n",
       "count      11908.000000            8172        11914         11914   \n",
       "unique              NaN              71            3            16   \n",
       "top                 NaN       Crossover      Compact         Sedan   \n",
       "freq                NaN            1110         4764          3048   \n",
       "mean           3.436093             NaN          NaN           NaN   \n",
       "std            0.881315             NaN          NaN           NaN   \n",
       "min            2.000000             NaN          NaN           NaN   \n",
       "25%            2.000000             NaN          NaN           NaN   \n",
       "50%            4.000000             NaN          NaN           NaN   \n",
       "75%            4.000000             NaN          NaN           NaN   \n",
       "max            4.000000             NaN          NaN           NaN   \n",
       "\n",
       "         highway MPG      city mpg    Popularity          MSRP  \n",
       "count   11914.000000  11914.000000  11914.000000  1.191400e+04  \n",
       "unique           NaN           NaN           NaN           NaN  \n",
       "top              NaN           NaN           NaN           NaN  \n",
       "freq             NaN           NaN           NaN           NaN  \n",
       "mean       26.637485     19.733255   1554.911197  4.059474e+04  \n",
       "std         8.863001      8.987798   1441.855347  6.010910e+04  \n",
       "min        12.000000      7.000000      2.000000  2.000000e+03  \n",
       "25%        22.000000     16.000000    549.000000  2.100000e+04  \n",
       "50%        26.000000     18.000000   1385.000000  2.999500e+04  \n",
       "75%        30.000000     22.000000   2009.000000  4.223125e+04  \n",
       "max       354.000000    137.000000   5657.000000  2.065902e+06  "
      ]
     },
     "execution_count": 571,
     "metadata": {},
     "output_type": "execute_result"
    }
   ],
   "source": [
    "df.describe(include='all')"
   ]
  },
  {
   "cell_type": "code",
   "execution_count": 572,
   "metadata": {},
   "outputs": [
    {
     "name": "stdout",
     "output_type": "stream",
     "text": [
      "<class 'pandas.core.frame.DataFrame'>\n",
      "RangeIndex: 11914 entries, 0 to 11913\n",
      "Data columns (total 16 columns):\n",
      " #   Column             Non-Null Count  Dtype  \n",
      "---  ------             --------------  -----  \n",
      " 0   Make               11914 non-null  object \n",
      " 1   Model              11914 non-null  object \n",
      " 2   Year               11914 non-null  int64  \n",
      " 3   Engine Fuel Type   11911 non-null  object \n",
      " 4   Engine HP          11845 non-null  float64\n",
      " 5   Engine Cylinders   11884 non-null  float64\n",
      " 6   Transmission Type  11914 non-null  object \n",
      " 7   Driven_Wheels      11914 non-null  object \n",
      " 8   Number of Doors    11908 non-null  float64\n",
      " 9   Market Category    8172 non-null   object \n",
      " 10  Vehicle Size       11914 non-null  object \n",
      " 11  Vehicle Style      11914 non-null  object \n",
      " 12  highway MPG        11914 non-null  int64  \n",
      " 13  city mpg           11914 non-null  int64  \n",
      " 14  Popularity         11914 non-null  int64  \n",
      " 15  MSRP               11914 non-null  int64  \n",
      "dtypes: float64(3), int64(5), object(8)\n",
      "memory usage: 1.5+ MB\n"
     ]
    }
   ],
   "source": [
    "df.info()"
   ]
  },
  {
   "cell_type": "code",
   "execution_count": 573,
   "metadata": {},
   "outputs": [],
   "source": [
    "columns = ['Make', 'Model', 'Year', 'Engine HP', 'Engine Cylinders', 'Transmission Type', 'Vehicle Style', 'highway MPG', 'city mpg', 'MSRP']\n",
    "data = df[columns]\n"
   ]
  },
  {
   "cell_type": "code",
   "execution_count": 574,
   "metadata": {},
   "outputs": [
    {
     "data": {
      "text/html": [
       "<div>\n",
       "<style scoped>\n",
       "    .dataframe tbody tr th:only-of-type {\n",
       "        vertical-align: middle;\n",
       "    }\n",
       "\n",
       "    .dataframe tbody tr th {\n",
       "        vertical-align: top;\n",
       "    }\n",
       "\n",
       "    .dataframe thead th {\n",
       "        text-align: right;\n",
       "    }\n",
       "</style>\n",
       "<table border=\"1\" class=\"dataframe\">\n",
       "  <thead>\n",
       "    <tr style=\"text-align: right;\">\n",
       "      <th></th>\n",
       "      <th>Make</th>\n",
       "      <th>Model</th>\n",
       "      <th>Year</th>\n",
       "      <th>Engine HP</th>\n",
       "      <th>Engine Cylinders</th>\n",
       "      <th>Transmission Type</th>\n",
       "      <th>Vehicle Style</th>\n",
       "      <th>highway MPG</th>\n",
       "      <th>city mpg</th>\n",
       "      <th>MSRP</th>\n",
       "    </tr>\n",
       "  </thead>\n",
       "  <tbody>\n",
       "    <tr>\n",
       "      <th>0</th>\n",
       "      <td>BMW</td>\n",
       "      <td>1 Series M</td>\n",
       "      <td>2011</td>\n",
       "      <td>335.0</td>\n",
       "      <td>6.0</td>\n",
       "      <td>MANUAL</td>\n",
       "      <td>Coupe</td>\n",
       "      <td>26</td>\n",
       "      <td>19</td>\n",
       "      <td>46135</td>\n",
       "    </tr>\n",
       "    <tr>\n",
       "      <th>1</th>\n",
       "      <td>BMW</td>\n",
       "      <td>1 Series</td>\n",
       "      <td>2011</td>\n",
       "      <td>300.0</td>\n",
       "      <td>6.0</td>\n",
       "      <td>MANUAL</td>\n",
       "      <td>Convertible</td>\n",
       "      <td>28</td>\n",
       "      <td>19</td>\n",
       "      <td>40650</td>\n",
       "    </tr>\n",
       "    <tr>\n",
       "      <th>2</th>\n",
       "      <td>BMW</td>\n",
       "      <td>1 Series</td>\n",
       "      <td>2011</td>\n",
       "      <td>300.0</td>\n",
       "      <td>6.0</td>\n",
       "      <td>MANUAL</td>\n",
       "      <td>Coupe</td>\n",
       "      <td>28</td>\n",
       "      <td>20</td>\n",
       "      <td>36350</td>\n",
       "    </tr>\n",
       "    <tr>\n",
       "      <th>3</th>\n",
       "      <td>BMW</td>\n",
       "      <td>1 Series</td>\n",
       "      <td>2011</td>\n",
       "      <td>230.0</td>\n",
       "      <td>6.0</td>\n",
       "      <td>MANUAL</td>\n",
       "      <td>Coupe</td>\n",
       "      <td>28</td>\n",
       "      <td>18</td>\n",
       "      <td>29450</td>\n",
       "    </tr>\n",
       "    <tr>\n",
       "      <th>4</th>\n",
       "      <td>BMW</td>\n",
       "      <td>1 Series</td>\n",
       "      <td>2011</td>\n",
       "      <td>230.0</td>\n",
       "      <td>6.0</td>\n",
       "      <td>MANUAL</td>\n",
       "      <td>Convertible</td>\n",
       "      <td>28</td>\n",
       "      <td>18</td>\n",
       "      <td>34500</td>\n",
       "    </tr>\n",
       "  </tbody>\n",
       "</table>\n",
       "</div>"
      ],
      "text/plain": [
       "  Make       Model  Year  Engine HP  Engine Cylinders Transmission Type  \\\n",
       "0  BMW  1 Series M  2011      335.0               6.0            MANUAL   \n",
       "1  BMW    1 Series  2011      300.0               6.0            MANUAL   \n",
       "2  BMW    1 Series  2011      300.0               6.0            MANUAL   \n",
       "3  BMW    1 Series  2011      230.0               6.0            MANUAL   \n",
       "4  BMW    1 Series  2011      230.0               6.0            MANUAL   \n",
       "\n",
       "  Vehicle Style  highway MPG  city mpg   MSRP  \n",
       "0         Coupe           26        19  46135  \n",
       "1   Convertible           28        19  40650  \n",
       "2         Coupe           28        20  36350  \n",
       "3         Coupe           28        18  29450  \n",
       "4   Convertible           28        18  34500  "
      ]
     },
     "execution_count": 574,
     "metadata": {},
     "output_type": "execute_result"
    }
   ],
   "source": [
    "data.head()"
   ]
  },
  {
   "cell_type": "code",
   "execution_count": 575,
   "metadata": {},
   "outputs": [],
   "source": [
    "data.columns = data.columns.str.replace(' ', '_').str.lower()"
   ]
  },
  {
   "cell_type": "code",
   "execution_count": 576,
   "metadata": {},
   "outputs": [
    {
     "data": {
      "text/plain": [
       "Index(['make', 'model', 'year', 'engine_hp', 'engine_cylinders',\n",
       "       'transmission_type', 'vehicle_style', 'highway_mpg', 'city_mpg',\n",
       "       'msrp'],\n",
       "      dtype='object')"
      ]
     },
     "execution_count": 576,
     "metadata": {},
     "output_type": "execute_result"
    }
   ],
   "source": [
    "data.columns"
   ]
  },
  {
   "cell_type": "code",
   "execution_count": 577,
   "metadata": {},
   "outputs": [
    {
     "name": "stderr",
     "output_type": "stream",
     "text": [
      "/tmp/ipykernel_277/2844412706.py:1: SettingWithCopyWarning: \n",
      "A value is trying to be set on a copy of a slice from a DataFrame\n",
      "\n",
      "See the caveats in the documentation: https://pandas.pydata.org/pandas-docs/stable/user_guide/indexing.html#returning-a-view-versus-a-copy\n",
      "  data.rename(columns = {'msrp':'price'}, inplace = True)\n"
     ]
    }
   ],
   "source": [
    "data.rename(columns = {'msrp':'price'}, inplace = True)"
   ]
  },
  {
   "cell_type": "code",
   "execution_count": 578,
   "metadata": {},
   "outputs": [
    {
     "data": {
      "text/plain": [
       "Index(['make', 'model', 'year', 'engine_hp', 'engine_cylinders',\n",
       "       'transmission_type', 'vehicle_style', 'highway_mpg', 'city_mpg',\n",
       "       'price'],\n",
       "      dtype='object')"
      ]
     },
     "execution_count": 578,
     "metadata": {},
     "output_type": "execute_result"
    }
   ],
   "source": [
    "data.columns"
   ]
  },
  {
   "cell_type": "code",
   "execution_count": 579,
   "metadata": {},
   "outputs": [
    {
     "data": {
      "text/plain": [
       "make                  0\n",
       "model                 0\n",
       "year                  0\n",
       "engine_hp            69\n",
       "engine_cylinders     30\n",
       "transmission_type     0\n",
       "vehicle_style         0\n",
       "highway_mpg           0\n",
       "city_mpg              0\n",
       "price                 0\n",
       "dtype: int64"
      ]
     },
     "execution_count": 579,
     "metadata": {},
     "output_type": "execute_result"
    }
   ],
   "source": [
    "data.isnull().sum()"
   ]
  },
  {
   "cell_type": "code",
   "execution_count": 580,
   "metadata": {},
   "outputs": [
    {
     "name": "stderr",
     "output_type": "stream",
     "text": [
      "/tmp/ipykernel_277/2227532753.py:1: SettingWithCopyWarning: \n",
      "A value is trying to be set on a copy of a slice from a DataFrame\n",
      "\n",
      "See the caveats in the documentation: https://pandas.pydata.org/pandas-docs/stable/user_guide/indexing.html#returning-a-view-versus-a-copy\n",
      "  data.fillna(0, inplace=True)\n"
     ]
    }
   ],
   "source": [
    "data.fillna(0, inplace=True)"
   ]
  },
  {
   "cell_type": "code",
   "execution_count": 581,
   "metadata": {},
   "outputs": [
    {
     "data": {
      "text/plain": [
       "make                 0\n",
       "model                0\n",
       "year                 0\n",
       "engine_hp            0\n",
       "engine_cylinders     0\n",
       "transmission_type    0\n",
       "vehicle_style        0\n",
       "highway_mpg          0\n",
       "city_mpg             0\n",
       "price                0\n",
       "dtype: int64"
      ]
     },
     "execution_count": 581,
     "metadata": {},
     "output_type": "execute_result"
    }
   ],
   "source": [
    "data.isnull().sum()"
   ]
  },
  {
   "cell_type": "code",
   "execution_count": 582,
   "metadata": {},
   "outputs": [
    {
     "data": {
      "text/plain": [
       "AUTOMATIC           0.693806\n",
       "MANUAL              0.246349\n",
       "AUTOMATED_MANUAL    0.052543\n",
       "DIRECT_DRIVE        0.005708\n",
       "UNKNOWN             0.001595\n",
       "Name: transmission_type, dtype: float64"
      ]
     },
     "execution_count": 582,
     "metadata": {},
     "output_type": "execute_result"
    }
   ],
   "source": [
    "data.transmission_type.value_counts(normalize=True)"
   ]
  },
  {
   "cell_type": "markdown",
   "metadata": {},
   "source": [
    "Question 1: What is the most frequent observation (mode) for the column `transmission_type`?\n",
    "- AUTOMATIC"
   ]
  },
  {
   "cell_type": "code",
   "execution_count": 583,
   "metadata": {},
   "outputs": [
    {
     "name": "stdout",
     "output_type": "stream",
     "text": [
      "<class 'pandas.core.frame.DataFrame'>\n",
      "RangeIndex: 11914 entries, 0 to 11913\n",
      "Data columns (total 10 columns):\n",
      " #   Column             Non-Null Count  Dtype  \n",
      "---  ------             --------------  -----  \n",
      " 0   make               11914 non-null  object \n",
      " 1   model              11914 non-null  object \n",
      " 2   year               11914 non-null  int64  \n",
      " 3   engine_hp          11914 non-null  float64\n",
      " 4   engine_cylinders   11914 non-null  float64\n",
      " 5   transmission_type  11914 non-null  object \n",
      " 6   vehicle_style      11914 non-null  object \n",
      " 7   highway_mpg        11914 non-null  int64  \n",
      " 8   city_mpg           11914 non-null  int64  \n",
      " 9   price              11914 non-null  int64  \n",
      "dtypes: float64(2), int64(4), object(4)\n",
      "memory usage: 930.9+ KB\n"
     ]
    }
   ],
   "source": [
    "data.info()"
   ]
  },
  {
   "cell_type": "code",
   "execution_count": 584,
   "metadata": {},
   "outputs": [],
   "source": [
    "numerical = ['year', 'engine_hp', 'engine_cylinders', 'highway_mpg', 'city_mpg']\n"
   ]
  },
  {
   "cell_type": "code",
   "execution_count": 585,
   "metadata": {},
   "outputs": [],
   "source": [
    "data_numerical = data[numerical]"
   ]
  },
  {
   "cell_type": "code",
   "execution_count": 586,
   "metadata": {},
   "outputs": [
    {
     "data": {
      "text/html": [
       "<div>\n",
       "<style scoped>\n",
       "    .dataframe tbody tr th:only-of-type {\n",
       "        vertical-align: middle;\n",
       "    }\n",
       "\n",
       "    .dataframe tbody tr th {\n",
       "        vertical-align: top;\n",
       "    }\n",
       "\n",
       "    .dataframe thead th {\n",
       "        text-align: right;\n",
       "    }\n",
       "</style>\n",
       "<table border=\"1\" class=\"dataframe\">\n",
       "  <thead>\n",
       "    <tr style=\"text-align: right;\">\n",
       "      <th></th>\n",
       "      <th>year</th>\n",
       "      <th>engine_hp</th>\n",
       "      <th>engine_cylinders</th>\n",
       "      <th>highway_mpg</th>\n",
       "      <th>city_mpg</th>\n",
       "    </tr>\n",
       "  </thead>\n",
       "  <tbody>\n",
       "    <tr>\n",
       "      <th>0</th>\n",
       "      <td>2011</td>\n",
       "      <td>335.0</td>\n",
       "      <td>6.0</td>\n",
       "      <td>26</td>\n",
       "      <td>19</td>\n",
       "    </tr>\n",
       "    <tr>\n",
       "      <th>1</th>\n",
       "      <td>2011</td>\n",
       "      <td>300.0</td>\n",
       "      <td>6.0</td>\n",
       "      <td>28</td>\n",
       "      <td>19</td>\n",
       "    </tr>\n",
       "    <tr>\n",
       "      <th>2</th>\n",
       "      <td>2011</td>\n",
       "      <td>300.0</td>\n",
       "      <td>6.0</td>\n",
       "      <td>28</td>\n",
       "      <td>20</td>\n",
       "    </tr>\n",
       "    <tr>\n",
       "      <th>3</th>\n",
       "      <td>2011</td>\n",
       "      <td>230.0</td>\n",
       "      <td>6.0</td>\n",
       "      <td>28</td>\n",
       "      <td>18</td>\n",
       "    </tr>\n",
       "    <tr>\n",
       "      <th>4</th>\n",
       "      <td>2011</td>\n",
       "      <td>230.0</td>\n",
       "      <td>6.0</td>\n",
       "      <td>28</td>\n",
       "      <td>18</td>\n",
       "    </tr>\n",
       "  </tbody>\n",
       "</table>\n",
       "</div>"
      ],
      "text/plain": [
       "   year  engine_hp  engine_cylinders  highway_mpg  city_mpg\n",
       "0  2011      335.0               6.0           26        19\n",
       "1  2011      300.0               6.0           28        19\n",
       "2  2011      300.0               6.0           28        20\n",
       "3  2011      230.0               6.0           28        18\n",
       "4  2011      230.0               6.0           28        18"
      ]
     },
     "execution_count": 586,
     "metadata": {},
     "output_type": "execute_result"
    }
   ],
   "source": [
    "data_numerical.head()"
   ]
  },
  {
   "cell_type": "code",
   "execution_count": 587,
   "metadata": {},
   "outputs": [
    {
     "data": {
      "text/plain": [
       "0.3387141847624471"
      ]
     },
     "execution_count": 587,
     "metadata": {},
     "output_type": "execute_result"
    }
   ],
   "source": [
    "# correlation between `engine_hp` and `year`\n",
    "data.engine_hp.corr(data.year)"
   ]
  },
  {
   "cell_type": "code",
   "execution_count": 588,
   "metadata": {},
   "outputs": [
    {
     "data": {
      "text/plain": [
       "0.3387141847624471"
      ]
     },
     "execution_count": 588,
     "metadata": {},
     "output_type": "execute_result"
    }
   ],
   "source": [
    "data.engine_hp.corr(data.year)"
   ]
  },
  {
   "cell_type": "code",
   "execution_count": 589,
   "metadata": {},
   "outputs": [
    {
     "name": "stderr",
     "output_type": "stream",
     "text": [
      "/tmp/ipykernel_277/307749493.py:1: FutureWarning: The default value of numeric_only in DataFrame.corr is deprecated. In a future version, it will default to False. Select only valid columns or specify the value of numeric_only to silence this warning.\n",
      "  correlation = data.corr()\n"
     ]
    }
   ],
   "source": [
    "correlation = data.corr()"
   ]
  },
  {
   "cell_type": "code",
   "execution_count": 590,
   "metadata": {},
   "outputs": [
    {
     "data": {
      "text/html": [
       "<div>\n",
       "<style scoped>\n",
       "    .dataframe tbody tr th:only-of-type {\n",
       "        vertical-align: middle;\n",
       "    }\n",
       "\n",
       "    .dataframe tbody tr th {\n",
       "        vertical-align: top;\n",
       "    }\n",
       "\n",
       "    .dataframe thead th {\n",
       "        text-align: right;\n",
       "    }\n",
       "</style>\n",
       "<table border=\"1\" class=\"dataframe\">\n",
       "  <thead>\n",
       "    <tr style=\"text-align: right;\">\n",
       "      <th></th>\n",
       "      <th>year</th>\n",
       "      <th>engine_hp</th>\n",
       "      <th>engine_cylinders</th>\n",
       "      <th>highway_mpg</th>\n",
       "      <th>city_mpg</th>\n",
       "      <th>price</th>\n",
       "    </tr>\n",
       "  </thead>\n",
       "  <tbody>\n",
       "    <tr>\n",
       "      <th>year</th>\n",
       "      <td>1.000000</td>\n",
       "      <td>0.338714</td>\n",
       "      <td>-0.040708</td>\n",
       "      <td>0.258240</td>\n",
       "      <td>0.198171</td>\n",
       "      <td>0.227590</td>\n",
       "    </tr>\n",
       "    <tr>\n",
       "      <th>engine_hp</th>\n",
       "      <td>0.338714</td>\n",
       "      <td>1.000000</td>\n",
       "      <td>0.774851</td>\n",
       "      <td>-0.415707</td>\n",
       "      <td>-0.424918</td>\n",
       "      <td>0.650095</td>\n",
       "    </tr>\n",
       "    <tr>\n",
       "      <th>engine_cylinders</th>\n",
       "      <td>-0.040708</td>\n",
       "      <td>0.774851</td>\n",
       "      <td>1.000000</td>\n",
       "      <td>-0.614541</td>\n",
       "      <td>-0.587306</td>\n",
       "      <td>0.526274</td>\n",
       "    </tr>\n",
       "    <tr>\n",
       "      <th>highway_mpg</th>\n",
       "      <td>0.258240</td>\n",
       "      <td>-0.415707</td>\n",
       "      <td>-0.614541</td>\n",
       "      <td>1.000000</td>\n",
       "      <td>0.886829</td>\n",
       "      <td>-0.160043</td>\n",
       "    </tr>\n",
       "    <tr>\n",
       "      <th>city_mpg</th>\n",
       "      <td>0.198171</td>\n",
       "      <td>-0.424918</td>\n",
       "      <td>-0.587306</td>\n",
       "      <td>0.886829</td>\n",
       "      <td>1.000000</td>\n",
       "      <td>-0.157676</td>\n",
       "    </tr>\n",
       "    <tr>\n",
       "      <th>price</th>\n",
       "      <td>0.227590</td>\n",
       "      <td>0.650095</td>\n",
       "      <td>0.526274</td>\n",
       "      <td>-0.160043</td>\n",
       "      <td>-0.157676</td>\n",
       "      <td>1.000000</td>\n",
       "    </tr>\n",
       "  </tbody>\n",
       "</table>\n",
       "</div>"
      ],
      "text/plain": [
       "                      year  engine_hp  engine_cylinders  highway_mpg  \\\n",
       "year              1.000000   0.338714         -0.040708     0.258240   \n",
       "engine_hp         0.338714   1.000000          0.774851    -0.415707   \n",
       "engine_cylinders -0.040708   0.774851          1.000000    -0.614541   \n",
       "highway_mpg       0.258240  -0.415707         -0.614541     1.000000   \n",
       "city_mpg          0.198171  -0.424918         -0.587306     0.886829   \n",
       "price             0.227590   0.650095          0.526274    -0.160043   \n",
       "\n",
       "                  city_mpg     price  \n",
       "year              0.198171  0.227590  \n",
       "engine_hp        -0.424918  0.650095  \n",
       "engine_cylinders -0.587306  0.526274  \n",
       "highway_mpg       0.886829 -0.160043  \n",
       "city_mpg          1.000000 -0.157676  \n",
       "price            -0.157676  1.000000  "
      ]
     },
     "execution_count": 590,
     "metadata": {},
     "output_type": "execute_result"
    }
   ],
   "source": [
    "correlation"
   ]
  },
  {
   "cell_type": "code",
   "execution_count": 591,
   "metadata": {},
   "outputs": [
    {
     "data": {
      "text/plain": [
       "(array([0.5, 1.5, 2.5, 3.5, 4.5, 5.5]),\n",
       " [Text(0.5, 0, 'year'),\n",
       "  Text(1.5, 0, 'engine_hp'),\n",
       "  Text(2.5, 0, 'engine_cylinders'),\n",
       "  Text(3.5, 0, 'highway_mpg'),\n",
       "  Text(4.5, 0, 'city_mpg'),\n",
       "  Text(5.5, 0, 'price')])"
      ]
     },
     "execution_count": 591,
     "metadata": {},
     "output_type": "execute_result"
    },
    {
     "data": {
      "image/png": "[encoded data removed]",
      "text/plain": [
       "<Figure size 640x480 with 2 Axes>"
      ]
     },
     "metadata": {},
     "output_type": "display_data"
    }
   ],
   "source": [
    "import seaborn as sns\n",
    "\n",
    "sns.heatmap(correlation, cmap='Blues', annot=True)\n",
    "plt.xticks(rotation=45)"
   ]
  },
  {
   "cell_type": "markdown",
   "metadata": {},
   "source": [
    "Question 2: What are the two features that have the biggest correlation in this dataset?\n",
    "\n",
    "- `highway_mpg` and `city_mpg` 0.886829"
   ]
  },
  {
   "cell_type": "code",
   "execution_count": 592,
   "metadata": {},
   "outputs": [
    {
     "data": {
      "text/plain": [
       "40594.737032063116"
      ]
     },
     "execution_count": 592,
     "metadata": {},
     "output_type": "execute_result"
    }
   ],
   "source": [
    "price_mean = data.price.mean()\n",
    "price_mean"
   ]
  },
  {
   "cell_type": "code",
   "execution_count": 593,
   "metadata": {},
   "outputs": [
    {
     "name": "stderr",
     "output_type": "stream",
     "text": [
      "/tmp/ipykernel_277/771121296.py:2: SettingWithCopyWarning: \n",
      "A value is trying to be set on a copy of a slice from a DataFrame.\n",
      "Try using .loc[row_indexer,col_indexer] = value instead\n",
      "\n",
      "See the caveats in the documentation: https://pandas.pydata.org/pandas-docs/stable/user_guide/indexing.html#returning-a-view-versus-a-copy\n",
      "  data['above_average'] = data['price'].apply(lambda x: 1 if x > price_mean else 0)\n"
     ]
    }
   ],
   "source": [
    "# convert price to binary values\n",
    "data['above_average'] = data['price'].apply(lambda x: 1 if x > price_mean else 0)"
   ]
  },
  {
   "cell_type": "code",
   "execution_count": 594,
   "metadata": {},
   "outputs": [
    {
     "data": {
      "text/plain": [
       "0        1\n",
       "1        1\n",
       "2        0\n",
       "3        0\n",
       "4        0\n",
       "        ..\n",
       "11909    1\n",
       "11910    1\n",
       "11911    1\n",
       "11912    1\n",
       "11913    0\n",
       "Name: above_average, Length: 11914, dtype: int64"
      ]
     },
     "execution_count": 594,
     "metadata": {},
     "output_type": "execute_result"
    }
   ],
   "source": [
    "data.above_average"
   ]
  },
  {
   "cell_type": "code",
   "execution_count": 595,
   "metadata": {},
   "outputs": [],
   "source": [
    "from sklearn.model_selection import train_test_split"
   ]
  },
  {
   "cell_type": "code",
   "execution_count": 596,
   "metadata": {},
   "outputs": [],
   "source": [
    "# Split your data in train/val/test sets with 60%/20%/20% distribution\n",
    "# 60 train\n",
    "# 20 validation\n",
    "# 20 test\n",
    "\n",
    "target = data[['price']]\n",
    "# data = data.drop(columns='price')"
   ]
  },
  {
   "cell_type": "code",
   "execution_count": 597,
   "metadata": {},
   "outputs": [
    {
     "data": {
      "text/html": [
       "<div>\n",
       "<style scoped>\n",
       "    .dataframe tbody tr th:only-of-type {\n",
       "        vertical-align: middle;\n",
       "    }\n",
       "\n",
       "    .dataframe tbody tr th {\n",
       "        vertical-align: top;\n",
       "    }\n",
       "\n",
       "    .dataframe thead th {\n",
       "        text-align: right;\n",
       "    }\n",
       "</style>\n",
       "<table border=\"1\" class=\"dataframe\">\n",
       "  <thead>\n",
       "    <tr style=\"text-align: right;\">\n",
       "      <th></th>\n",
       "      <th>price</th>\n",
       "    </tr>\n",
       "  </thead>\n",
       "  <tbody>\n",
       "    <tr>\n",
       "      <th>0</th>\n",
       "      <td>46135</td>\n",
       "    </tr>\n",
       "    <tr>\n",
       "      <th>1</th>\n",
       "      <td>40650</td>\n",
       "    </tr>\n",
       "    <tr>\n",
       "      <th>2</th>\n",
       "      <td>36350</td>\n",
       "    </tr>\n",
       "    <tr>\n",
       "      <th>3</th>\n",
       "      <td>29450</td>\n",
       "    </tr>\n",
       "    <tr>\n",
       "      <th>4</th>\n",
       "      <td>34500</td>\n",
       "    </tr>\n",
       "    <tr>\n",
       "      <th>...</th>\n",
       "      <td>...</td>\n",
       "    </tr>\n",
       "    <tr>\n",
       "      <th>11909</th>\n",
       "      <td>46120</td>\n",
       "    </tr>\n",
       "    <tr>\n",
       "      <th>11910</th>\n",
       "      <td>56670</td>\n",
       "    </tr>\n",
       "    <tr>\n",
       "      <th>11911</th>\n",
       "      <td>50620</td>\n",
       "    </tr>\n",
       "    <tr>\n",
       "      <th>11912</th>\n",
       "      <td>50920</td>\n",
       "    </tr>\n",
       "    <tr>\n",
       "      <th>11913</th>\n",
       "      <td>28995</td>\n",
       "    </tr>\n",
       "  </tbody>\n",
       "</table>\n",
       "<p>11914 rows × 1 columns</p>\n",
       "</div>"
      ],
      "text/plain": [
       "       price\n",
       "0      46135\n",
       "1      40650\n",
       "2      36350\n",
       "3      29450\n",
       "4      34500\n",
       "...      ...\n",
       "11909  46120\n",
       "11910  56670\n",
       "11911  50620\n",
       "11912  50920\n",
       "11913  28995\n",
       "\n",
       "[11914 rows x 1 columns]"
      ]
     },
     "execution_count": 597,
     "metadata": {},
     "output_type": "execute_result"
    }
   ],
   "source": [
    "target"
   ]
  },
  {
   "cell_type": "code",
   "execution_count": 598,
   "metadata": {},
   "outputs": [
    {
     "data": {
      "text/plain": [
       "make                   48\n",
       "model                 915\n",
       "year                   28\n",
       "engine_hp             357\n",
       "engine_cylinders        9\n",
       "transmission_type       5\n",
       "vehicle_style          16\n",
       "highway_mpg            59\n",
       "city_mpg               69\n",
       "price                6049\n",
       "above_average           2\n",
       "dtype: int64"
      ]
     },
     "execution_count": 598,
     "metadata": {},
     "output_type": "execute_result"
    }
   ],
   "source": [
    "data.nunique()"
   ]
  },
  {
   "cell_type": "code",
   "execution_count": 599,
   "metadata": {},
   "outputs": [],
   "source": [
    "\n",
    "data_full_train, data_test = train_test_split(data, random_state=42, test_size=0.2)"
   ]
  },
  {
   "cell_type": "code",
   "execution_count": 600,
   "metadata": {},
   "outputs": [],
   "source": [
    "data_train, data_val = train_test_split(data_full_train, random_state=42, test_size=0.25)"
   ]
  },
  {
   "cell_type": "code",
   "execution_count": 601,
   "metadata": {},
   "outputs": [
    {
     "name": "stdout",
     "output_type": "stream",
     "text": [
      "9531\n",
      "7148\n",
      "2383\n"
     ]
    }
   ],
   "source": [
    "print(data_full_train.shape[0])\n",
    "print(data_train.shape[0])\n",
    "print(data_test.shape[0])"
   ]
  },
  {
   "cell_type": "code",
   "execution_count": 602,
   "metadata": {},
   "outputs": [],
   "source": [
    "# y_values for logistic regression\n",
    "y_train = data_train.above_average.values\n",
    "y_val = data_val.above_average.values\n",
    "y_test = data_test.above_average.values\n",
    "\n",
    "# y_values for linear regression\n",
    "y_train_lin = np.log1p(data_train.price.values)\n",
    "y_val_lin = np.log1p(data_val.price.values)\n",
    "y_test_lin = np.log1p(data_test.price.values)"
   ]
  },
  {
   "cell_type": "code",
   "execution_count": 603,
   "metadata": {},
   "outputs": [],
   "source": [
    "data_train = data_train.drop(columns=['price', 'above_average']).reset_index(drop=True)"
   ]
  },
  {
   "cell_type": "code",
   "execution_count": 604,
   "metadata": {},
   "outputs": [],
   "source": [
    "data_val = data_val.drop(columns=['price', 'above_average']).reset_index(drop=True)"
   ]
  },
  {
   "cell_type": "code",
   "execution_count": 605,
   "metadata": {},
   "outputs": [
    {
     "data": {
      "text/html": [
       "<div>\n",
       "<style scoped>\n",
       "    .dataframe tbody tr th:only-of-type {\n",
       "        vertical-align: middle;\n",
       "    }\n",
       "\n",
       "    .dataframe tbody tr th {\n",
       "        vertical-align: top;\n",
       "    }\n",
       "\n",
       "    .dataframe thead th {\n",
       "        text-align: right;\n",
       "    }\n",
       "</style>\n",
       "<table border=\"1\" class=\"dataframe\">\n",
       "  <thead>\n",
       "    <tr style=\"text-align: right;\">\n",
       "      <th></th>\n",
       "      <th>make</th>\n",
       "      <th>model</th>\n",
       "      <th>year</th>\n",
       "      <th>engine_hp</th>\n",
       "      <th>engine_cylinders</th>\n",
       "      <th>transmission_type</th>\n",
       "      <th>vehicle_style</th>\n",
       "      <th>highway_mpg</th>\n",
       "      <th>city_mpg</th>\n",
       "    </tr>\n",
       "  </thead>\n",
       "  <tbody>\n",
       "    <tr>\n",
       "      <th>0</th>\n",
       "      <td>Volkswagen</td>\n",
       "      <td>Beetle</td>\n",
       "      <td>2015</td>\n",
       "      <td>210.0</td>\n",
       "      <td>4.0</td>\n",
       "      <td>MANUAL</td>\n",
       "      <td>2dr Hatchback</td>\n",
       "      <td>31</td>\n",
       "      <td>23</td>\n",
       "    </tr>\n",
       "    <tr>\n",
       "      <th>1</th>\n",
       "      <td>Audi</td>\n",
       "      <td>SQ5</td>\n",
       "      <td>2015</td>\n",
       "      <td>354.0</td>\n",
       "      <td>6.0</td>\n",
       "      <td>AUTOMATIC</td>\n",
       "      <td>4dr SUV</td>\n",
       "      <td>24</td>\n",
       "      <td>17</td>\n",
       "    </tr>\n",
       "    <tr>\n",
       "      <th>2</th>\n",
       "      <td>Pontiac</td>\n",
       "      <td>Grand Am</td>\n",
       "      <td>2005</td>\n",
       "      <td>140.0</td>\n",
       "      <td>4.0</td>\n",
       "      <td>AUTOMATIC</td>\n",
       "      <td>Sedan</td>\n",
       "      <td>31</td>\n",
       "      <td>22</td>\n",
       "    </tr>\n",
       "    <tr>\n",
       "      <th>3</th>\n",
       "      <td>Nissan</td>\n",
       "      <td>350Z</td>\n",
       "      <td>2009</td>\n",
       "      <td>306.0</td>\n",
       "      <td>6.0</td>\n",
       "      <td>MANUAL</td>\n",
       "      <td>Convertible</td>\n",
       "      <td>24</td>\n",
       "      <td>17</td>\n",
       "    </tr>\n",
       "    <tr>\n",
       "      <th>4</th>\n",
       "      <td>Ford</td>\n",
       "      <td>E-150</td>\n",
       "      <td>1996</td>\n",
       "      <td>199.0</td>\n",
       "      <td>6.0</td>\n",
       "      <td>AUTOMATIC</td>\n",
       "      <td>Passenger Van</td>\n",
       "      <td>15</td>\n",
       "      <td>11</td>\n",
       "    </tr>\n",
       "    <tr>\n",
       "      <th>...</th>\n",
       "      <td>...</td>\n",
       "      <td>...</td>\n",
       "      <td>...</td>\n",
       "      <td>...</td>\n",
       "      <td>...</td>\n",
       "      <td>...</td>\n",
       "      <td>...</td>\n",
       "      <td>...</td>\n",
       "      <td>...</td>\n",
       "    </tr>\n",
       "    <tr>\n",
       "      <th>2378</th>\n",
       "      <td>Ford</td>\n",
       "      <td>Explorer Sport</td>\n",
       "      <td>2003</td>\n",
       "      <td>203.0</td>\n",
       "      <td>6.0</td>\n",
       "      <td>AUTOMATIC</td>\n",
       "      <td>2dr SUV</td>\n",
       "      <td>19</td>\n",
       "      <td>14</td>\n",
       "    </tr>\n",
       "    <tr>\n",
       "      <th>2379</th>\n",
       "      <td>Subaru</td>\n",
       "      <td>Outback</td>\n",
       "      <td>2016</td>\n",
       "      <td>175.0</td>\n",
       "      <td>4.0</td>\n",
       "      <td>AUTOMATIC</td>\n",
       "      <td>4dr SUV</td>\n",
       "      <td>33</td>\n",
       "      <td>25</td>\n",
       "    </tr>\n",
       "    <tr>\n",
       "      <th>2380</th>\n",
       "      <td>GMC</td>\n",
       "      <td>Sonoma</td>\n",
       "      <td>2003</td>\n",
       "      <td>190.0</td>\n",
       "      <td>6.0</td>\n",
       "      <td>MANUAL</td>\n",
       "      <td>Extended Cab Pickup</td>\n",
       "      <td>17</td>\n",
       "      <td>12</td>\n",
       "    </tr>\n",
       "    <tr>\n",
       "      <th>2381</th>\n",
       "      <td>Aston Martin</td>\n",
       "      <td>V8 Vantage</td>\n",
       "      <td>2015</td>\n",
       "      <td>430.0</td>\n",
       "      <td>8.0</td>\n",
       "      <td>AUTOMATED_MANUAL</td>\n",
       "      <td>Coupe</td>\n",
       "      <td>21</td>\n",
       "      <td>14</td>\n",
       "    </tr>\n",
       "    <tr>\n",
       "      <th>2382</th>\n",
       "      <td>Cadillac</td>\n",
       "      <td>CTS</td>\n",
       "      <td>2015</td>\n",
       "      <td>321.0</td>\n",
       "      <td>6.0</td>\n",
       "      <td>AUTOMATIC</td>\n",
       "      <td>Sedan</td>\n",
       "      <td>29</td>\n",
       "      <td>18</td>\n",
       "    </tr>\n",
       "  </tbody>\n",
       "</table>\n",
       "<p>2383 rows × 9 columns</p>\n",
       "</div>"
      ],
      "text/plain": [
       "              make           model  year  engine_hp  engine_cylinders  \\\n",
       "0       Volkswagen          Beetle  2015      210.0               4.0   \n",
       "1             Audi             SQ5  2015      354.0               6.0   \n",
       "2          Pontiac        Grand Am  2005      140.0               4.0   \n",
       "3           Nissan            350Z  2009      306.0               6.0   \n",
       "4             Ford           E-150  1996      199.0               6.0   \n",
       "...            ...             ...   ...        ...               ...   \n",
       "2378          Ford  Explorer Sport  2003      203.0               6.0   \n",
       "2379        Subaru         Outback  2016      175.0               4.0   \n",
       "2380           GMC          Sonoma  2003      190.0               6.0   \n",
       "2381  Aston Martin      V8 Vantage  2015      430.0               8.0   \n",
       "2382      Cadillac             CTS  2015      321.0               6.0   \n",
       "\n",
       "     transmission_type        vehicle_style  highway_mpg  city_mpg  \n",
       "0               MANUAL        2dr Hatchback           31        23  \n",
       "1            AUTOMATIC              4dr SUV           24        17  \n",
       "2            AUTOMATIC                Sedan           31        22  \n",
       "3               MANUAL          Convertible           24        17  \n",
       "4            AUTOMATIC        Passenger Van           15        11  \n",
       "...                ...                  ...          ...       ...  \n",
       "2378         AUTOMATIC              2dr SUV           19        14  \n",
       "2379         AUTOMATIC              4dr SUV           33        25  \n",
       "2380            MANUAL  Extended Cab Pickup           17        12  \n",
       "2381  AUTOMATED_MANUAL                Coupe           21        14  \n",
       "2382         AUTOMATIC                Sedan           29        18  \n",
       "\n",
       "[2383 rows x 9 columns]"
      ]
     },
     "execution_count": 605,
     "metadata": {},
     "output_type": "execute_result"
    }
   ],
   "source": [
    "data_val"
   ]
  },
  {
   "cell_type": "code",
   "execution_count": 606,
   "metadata": {},
   "outputs": [],
   "source": [
    "data_test = data_test.drop(columns=['price', 'above_average']).reset_index(drop=True)"
   ]
  },
  {
   "cell_type": "code",
   "execution_count": 607,
   "metadata": {},
   "outputs": [
    {
     "data": {
      "text/html": [
       "<div>\n",
       "<style scoped>\n",
       "    .dataframe tbody tr th:only-of-type {\n",
       "        vertical-align: middle;\n",
       "    }\n",
       "\n",
       "    .dataframe tbody tr th {\n",
       "        vertical-align: top;\n",
       "    }\n",
       "\n",
       "    .dataframe thead th {\n",
       "        text-align: right;\n",
       "    }\n",
       "</style>\n",
       "<table border=\"1\" class=\"dataframe\">\n",
       "  <thead>\n",
       "    <tr style=\"text-align: right;\">\n",
       "      <th></th>\n",
       "      <th>make</th>\n",
       "      <th>model</th>\n",
       "      <th>year</th>\n",
       "      <th>engine_hp</th>\n",
       "      <th>engine_cylinders</th>\n",
       "      <th>transmission_type</th>\n",
       "      <th>vehicle_style</th>\n",
       "      <th>highway_mpg</th>\n",
       "      <th>city_mpg</th>\n",
       "    </tr>\n",
       "  </thead>\n",
       "  <tbody>\n",
       "    <tr>\n",
       "      <th>0</th>\n",
       "      <td>GMC</td>\n",
       "      <td>Envoy XL</td>\n",
       "      <td>2005</td>\n",
       "      <td>275.0</td>\n",
       "      <td>6.0</td>\n",
       "      <td>AUTOMATIC</td>\n",
       "      <td>4dr SUV</td>\n",
       "      <td>18</td>\n",
       "      <td>13</td>\n",
       "    </tr>\n",
       "    <tr>\n",
       "      <th>1</th>\n",
       "      <td>Volkswagen</td>\n",
       "      <td>Passat</td>\n",
       "      <td>2016</td>\n",
       "      <td>170.0</td>\n",
       "      <td>4.0</td>\n",
       "      <td>AUTOMATIC</td>\n",
       "      <td>Sedan</td>\n",
       "      <td>38</td>\n",
       "      <td>25</td>\n",
       "    </tr>\n",
       "    <tr>\n",
       "      <th>2</th>\n",
       "      <td>Honda</td>\n",
       "      <td>Odyssey</td>\n",
       "      <td>2016</td>\n",
       "      <td>248.0</td>\n",
       "      <td>6.0</td>\n",
       "      <td>AUTOMATIC</td>\n",
       "      <td>Passenger Minivan</td>\n",
       "      <td>28</td>\n",
       "      <td>19</td>\n",
       "    </tr>\n",
       "    <tr>\n",
       "      <th>3</th>\n",
       "      <td>Chevrolet</td>\n",
       "      <td>Cruze</td>\n",
       "      <td>2015</td>\n",
       "      <td>138.0</td>\n",
       "      <td>4.0</td>\n",
       "      <td>MANUAL</td>\n",
       "      <td>Sedan</td>\n",
       "      <td>36</td>\n",
       "      <td>25</td>\n",
       "    </tr>\n",
       "    <tr>\n",
       "      <th>4</th>\n",
       "      <td>Volvo</td>\n",
       "      <td>740</td>\n",
       "      <td>1991</td>\n",
       "      <td>162.0</td>\n",
       "      <td>4.0</td>\n",
       "      <td>AUTOMATIC</td>\n",
       "      <td>Sedan</td>\n",
       "      <td>20</td>\n",
       "      <td>17</td>\n",
       "    </tr>\n",
       "    <tr>\n",
       "      <th>...</th>\n",
       "      <td>...</td>\n",
       "      <td>...</td>\n",
       "      <td>...</td>\n",
       "      <td>...</td>\n",
       "      <td>...</td>\n",
       "      <td>...</td>\n",
       "      <td>...</td>\n",
       "      <td>...</td>\n",
       "      <td>...</td>\n",
       "    </tr>\n",
       "    <tr>\n",
       "      <th>2378</th>\n",
       "      <td>Nissan</td>\n",
       "      <td>350Z</td>\n",
       "      <td>2007</td>\n",
       "      <td>306.0</td>\n",
       "      <td>6.0</td>\n",
       "      <td>MANUAL</td>\n",
       "      <td>Convertible</td>\n",
       "      <td>24</td>\n",
       "      <td>17</td>\n",
       "    </tr>\n",
       "    <tr>\n",
       "      <th>2379</th>\n",
       "      <td>Ford</td>\n",
       "      <td>Expedition</td>\n",
       "      <td>2016</td>\n",
       "      <td>365.0</td>\n",
       "      <td>6.0</td>\n",
       "      <td>AUTOMATIC</td>\n",
       "      <td>4dr SUV</td>\n",
       "      <td>20</td>\n",
       "      <td>15</td>\n",
       "    </tr>\n",
       "    <tr>\n",
       "      <th>2380</th>\n",
       "      <td>Acura</td>\n",
       "      <td>ILX</td>\n",
       "      <td>2015</td>\n",
       "      <td>150.0</td>\n",
       "      <td>4.0</td>\n",
       "      <td>AUTOMATIC</td>\n",
       "      <td>Sedan</td>\n",
       "      <td>35</td>\n",
       "      <td>24</td>\n",
       "    </tr>\n",
       "    <tr>\n",
       "      <th>2381</th>\n",
       "      <td>Volkswagen</td>\n",
       "      <td>Jetta SportWagen</td>\n",
       "      <td>2014</td>\n",
       "      <td>170.0</td>\n",
       "      <td>5.0</td>\n",
       "      <td>MANUAL</td>\n",
       "      <td>Wagon</td>\n",
       "      <td>33</td>\n",
       "      <td>23</td>\n",
       "    </tr>\n",
       "    <tr>\n",
       "      <th>2382</th>\n",
       "      <td>BMW</td>\n",
       "      <td>X5</td>\n",
       "      <td>2015</td>\n",
       "      <td>255.0</td>\n",
       "      <td>6.0</td>\n",
       "      <td>AUTOMATIC</td>\n",
       "      <td>4dr SUV</td>\n",
       "      <td>31</td>\n",
       "      <td>24</td>\n",
       "    </tr>\n",
       "  </tbody>\n",
       "</table>\n",
       "<p>2383 rows × 9 columns</p>\n",
       "</div>"
      ],
      "text/plain": [
       "            make             model  year  engine_hp  engine_cylinders  \\\n",
       "0            GMC          Envoy XL  2005      275.0               6.0   \n",
       "1     Volkswagen            Passat  2016      170.0               4.0   \n",
       "2          Honda           Odyssey  2016      248.0               6.0   \n",
       "3      Chevrolet             Cruze  2015      138.0               4.0   \n",
       "4          Volvo               740  1991      162.0               4.0   \n",
       "...          ...               ...   ...        ...               ...   \n",
       "2378      Nissan              350Z  2007      306.0               6.0   \n",
       "2379        Ford        Expedition  2016      365.0               6.0   \n",
       "2380       Acura               ILX  2015      150.0               4.0   \n",
       "2381  Volkswagen  Jetta SportWagen  2014      170.0               5.0   \n",
       "2382         BMW                X5  2015      255.0               6.0   \n",
       "\n",
       "     transmission_type      vehicle_style  highway_mpg  city_mpg  \n",
       "0            AUTOMATIC            4dr SUV           18        13  \n",
       "1            AUTOMATIC              Sedan           38        25  \n",
       "2            AUTOMATIC  Passenger Minivan           28        19  \n",
       "3               MANUAL              Sedan           36        25  \n",
       "4            AUTOMATIC              Sedan           20        17  \n",
       "...                ...                ...          ...       ...  \n",
       "2378            MANUAL        Convertible           24        17  \n",
       "2379         AUTOMATIC            4dr SUV           20        15  \n",
       "2380         AUTOMATIC              Sedan           35        24  \n",
       "2381            MANUAL              Wagon           33        23  \n",
       "2382         AUTOMATIC            4dr SUV           31        24  \n",
       "\n",
       "[2383 rows x 9 columns]"
      ]
     },
     "execution_count": 607,
     "metadata": {},
     "output_type": "execute_result"
    }
   ],
   "source": [
    "data_test"
   ]
  },
  {
   "cell_type": "code",
   "execution_count": 608,
   "metadata": {},
   "outputs": [],
   "source": [
    "from sklearn.metrics import mutual_info_score"
   ]
  },
  {
   "cell_type": "code",
   "execution_count": 609,
   "metadata": {},
   "outputs": [],
   "source": [
    "def mutual_info_score_avg(series):\n",
    "    return round(mutual_info_score(series, data_full_train.above_average), 2)"
   ]
  },
  {
   "cell_type": "code",
   "execution_count": 610,
   "metadata": {},
   "outputs": [
    {
     "name": "stdout",
     "output_type": "stream",
     "text": [
      "<class 'pandas.core.frame.DataFrame'>\n",
      "Int64Index: 9531 entries, 3181 to 7270\n",
      "Data columns (total 11 columns):\n",
      " #   Column             Non-Null Count  Dtype  \n",
      "---  ------             --------------  -----  \n",
      " 0   make               9531 non-null   object \n",
      " 1   model              9531 non-null   object \n",
      " 2   year               9531 non-null   int64  \n",
      " 3   engine_hp          9531 non-null   float64\n",
      " 4   engine_cylinders   9531 non-null   float64\n",
      " 5   transmission_type  9531 non-null   object \n",
      " 6   vehicle_style      9531 non-null   object \n",
      " 7   highway_mpg        9531 non-null   int64  \n",
      " 8   city_mpg           9531 non-null   int64  \n",
      " 9   price              9531 non-null   int64  \n",
      " 10  above_average      9531 non-null   int64  \n",
      "dtypes: float64(2), int64(5), object(4)\n",
      "memory usage: 893.5+ KB\n"
     ]
    }
   ],
   "source": [
    "data_full_train.info()"
   ]
  },
  {
   "cell_type": "code",
   "execution_count": 611,
   "metadata": {},
   "outputs": [],
   "source": [
    "categorical = ['make', 'model', 'transmission_type', 'vehicle_style']\n",
    "numerical = ['year', 'engine_hp', 'engine_cylinders', 'highway_mpg', 'city_mpg']"
   ]
  },
  {
   "cell_type": "code",
   "execution_count": 612,
   "metadata": {},
   "outputs": [],
   "source": [
    "mi = data_full_train[categorical].apply(mutual_info_score_avg)"
   ]
  },
  {
   "cell_type": "code",
   "execution_count": 613,
   "metadata": {},
   "outputs": [
    {
     "data": {
      "text/plain": [
       "model                0.46\n",
       "make                 0.24\n",
       "vehicle_style        0.08\n",
       "transmission_type    0.02\n",
       "dtype: float64"
      ]
     },
     "execution_count": 613,
     "metadata": {},
     "output_type": "execute_result"
    }
   ],
   "source": [
    "mi.sort_values(ascending=False)"
   ]
  },
  {
   "cell_type": "markdown",
   "metadata": {},
   "source": [
    "Question 3: Which of these variables has the lowest mutual information score?\n",
    "- 'transmission_type'"
   ]
  },
  {
   "cell_type": "code",
   "execution_count": 614,
   "metadata": {},
   "outputs": [
    {
     "data": {
      "text/plain": [
       "4.0     3832\n",
       "6.0     3568\n",
       "8.0     1616\n",
       "12.0     184\n",
       "5.0      184\n",
       "0.0       61\n",
       "10.0      56\n",
       "3.0       27\n",
       "16.0       3\n",
       "Name: engine_cylinders, dtype: int64"
      ]
     },
     "execution_count": 614,
     "metadata": {},
     "output_type": "execute_result"
    }
   ],
   "source": [
    "data_full_train.engine_cylinders.value_counts()"
   ]
  },
  {
   "cell_type": "code",
   "execution_count": 615,
   "metadata": {},
   "outputs": [
    {
     "data": {
      "text/plain": [
       "make                  48\n",
       "model                902\n",
       "transmission_type      5\n",
       "vehicle_style         16\n",
       "dtype: int64"
      ]
     },
     "execution_count": 615,
     "metadata": {},
     "output_type": "execute_result"
    }
   ],
   "source": [
    "data_full_train[categorical].nunique()"
   ]
  },
  {
   "cell_type": "code",
   "execution_count": 616,
   "metadata": {},
   "outputs": [
    {
     "data": {
      "text/plain": [
       "array(['Sedan', '4dr SUV', 'Coupe', 'Regular Cab Pickup', '2dr Hatchback',\n",
       "       'Wagon', 'Passenger Minivan', 'Crew Cab Pickup',\n",
       "       'Extended Cab Pickup', '4dr Hatchback', 'Convertible',\n",
       "       'Convertible SUV', '2dr SUV', 'Passenger Van', 'Cargo Minivan',\n",
       "       'Cargo Van'], dtype=object)"
      ]
     },
     "execution_count": 616,
     "metadata": {},
     "output_type": "execute_result"
    }
   ],
   "source": [
    "data_full_train.vehicle_style.unique()"
   ]
  },
  {
   "cell_type": "code",
   "execution_count": 617,
   "metadata": {},
   "outputs": [
    {
     "data": {
      "text/plain": [
       "make                 0\n",
       "model                0\n",
       "year                 0\n",
       "engine_hp            0\n",
       "engine_cylinders     0\n",
       "transmission_type    0\n",
       "vehicle_style        0\n",
       "highway_mpg          0\n",
       "city_mpg             0\n",
       "price                0\n",
       "above_average        0\n",
       "dtype: int64"
      ]
     },
     "execution_count": 617,
     "metadata": {},
     "output_type": "execute_result"
    }
   ],
   "source": [
    "data_full_train.isnull().sum()"
   ]
  },
  {
   "cell_type": "markdown",
   "metadata": {},
   "source": [
    "One hot encoding"
   ]
  },
  {
   "cell_type": "code",
   "execution_count": 618,
   "metadata": {},
   "outputs": [],
   "source": [
    "from sklearn.feature_extraction import DictVectorizer"
   ]
  },
  {
   "cell_type": "code",
   "execution_count": 619,
   "metadata": {},
   "outputs": [],
   "source": [
    "train_dicts = data_train[categorical + numerical].to_dict(orient='records')"
   ]
  },
  {
   "cell_type": "code",
   "execution_count": 620,
   "metadata": {},
   "outputs": [
    {
     "data": {
      "text/plain": [
       "{'make': 'Mitsubishi',\n",
       " 'model': 'Endeavor',\n",
       " 'transmission_type': 'AUTOMATIC',\n",
       " 'vehicle_style': '4dr SUV',\n",
       " 'year': 2011,\n",
       " 'engine_hp': 225.0,\n",
       " 'engine_cylinders': 6.0,\n",
       " 'highway_mpg': 19,\n",
       " 'city_mpg': 15}"
      ]
     },
     "execution_count": 620,
     "metadata": {},
     "output_type": "execute_result"
    }
   ],
   "source": [
    "train_dicts[0]"
   ]
  },
  {
   "cell_type": "code",
   "execution_count": 621,
   "metadata": {},
   "outputs": [],
   "source": [
    "dv = DictVectorizer(sparse=False)"
   ]
  },
  {
   "cell_type": "code",
   "execution_count": 622,
   "metadata": {},
   "outputs": [
    {
     "data": {
      "text/plain": [
       "(7148, 943)"
      ]
     },
     "execution_count": 622,
     "metadata": {},
     "output_type": "execute_result"
    }
   ],
   "source": [
    "X_train = dv.fit_transform(train_dicts)\n",
    "X_train.shape"
   ]
  },
  {
   "cell_type": "code",
   "execution_count": 623,
   "metadata": {},
   "outputs": [
    {
     "data": {
      "text/plain": [
       "(2383, 943)"
      ]
     },
     "execution_count": 623,
     "metadata": {},
     "output_type": "execute_result"
    }
   ],
   "source": [
    "val_dicts = data_val[categorical + numerical].to_dict(orient='records')\n",
    "\n",
    "X_val = dv.transform(val_dicts)\n",
    "X_val.shape"
   ]
  },
  {
   "cell_type": "code",
   "execution_count": 624,
   "metadata": {},
   "outputs": [
    {
     "data": {
      "text/plain": [
       "array(['city_mpg', 'engine_cylinders', 'engine_hp', 'highway_mpg',\n",
       "       'make=Acura', 'make=Alfa Romeo', 'make=Aston Martin', 'make=Audi',\n",
       "       'make=BMW', 'make=Bentley', 'make=Bugatti', 'make=Buick',\n",
       "       'make=Cadillac', 'make=Chevrolet', 'make=Chrysler', 'make=Dodge',\n",
       "       'make=FIAT', 'make=Ferrari', 'make=Ford', 'make=GMC',\n",
       "       'make=Genesis', 'make=HUMMER', 'make=Honda', 'make=Hyundai',\n",
       "       'make=Infiniti', 'make=Kia', 'make=Lamborghini', 'make=Land Rover',\n",
       "       'make=Lexus', 'make=Lincoln', 'make=Lotus', 'make=Maserati',\n",
       "       'make=Maybach', 'make=Mazda', 'make=McLaren', 'make=Mercedes-Benz',\n",
       "       'make=Mitsubishi', 'make=Nissan', 'make=Oldsmobile',\n",
       "       'make=Plymouth', 'make=Pontiac', 'make=Porsche',\n",
       "       'make=Rolls-Royce', 'make=Saab', 'make=Scion', 'make=Spyker',\n",
       "       'make=Subaru', 'make=Suzuki', 'make=Tesla', 'make=Toyota',\n",
       "       'make=Volkswagen', 'make=Volvo', 'model=1 Series', 'model=100',\n",
       "       'model=124 Spider', 'model=190-Class', 'model=2', 'model=2 Series',\n",
       "       'model=200', 'model=200SX', 'model=240', 'model=240SX', 'model=3',\n",
       "       'model=3 Series', 'model=3 Series Gran Turismo', 'model=300',\n",
       "       'model=300-Class', 'model=3000GT', 'model=300M', 'model=300ZX',\n",
       "       'model=323', 'model=350-Class', 'model=350Z', 'model=360',\n",
       "       'model=370Z', 'model=4 Series', 'model=4 Series Gran Coupe',\n",
       "       'model=400-Class', 'model=420-Class', 'model=456M',\n",
       "       'model=458 Italia', 'model=4C', 'model=4Runner', 'model=5',\n",
       "       'model=5 Series', 'model=5 Series Gran Turismo', 'model=500',\n",
       "       'model=500-Class', 'model=500L', 'model=500X', 'model=500e',\n",
       "       'model=550', 'model=560-Class', 'model=57', 'model=570S',\n",
       "       'model=575M', 'model=599', 'model=6', 'model=6 Series',\n",
       "       'model=6 Series Gran Coupe', 'model=600-Class', 'model=6000',\n",
       "       'model=612 Scaglietti', 'model=62', 'model=626', 'model=7 Series',\n",
       "       'model=740', 'model=760', 'model=780', 'model=8 Series',\n",
       "       'model=80', 'model=850', 'model=9-2X', 'model=9-3',\n",
       "       'model=9-3 Griffin', 'model=9-4X', 'model=9-5', 'model=9-7X',\n",
       "       'model=90', 'model=900', 'model=9000', 'model=911', 'model=928',\n",
       "       'model=929', 'model=940', 'model=944', 'model=960', 'model=968',\n",
       "       'model=A3', 'model=A4', 'model=A5', 'model=A6', 'model=A7',\n",
       "       'model=A8', 'model=ALPINA B6 Gran Coupe', 'model=ALPINA B7',\n",
       "       'model=AMG GT', 'model=ATS', 'model=ATS Coupe', 'model=Acadia',\n",
       "       'model=Acadia Limited', 'model=Accent', 'model=Acclaim',\n",
       "       'model=Accord', 'model=Accord Crosstour', 'model=Accord Hybrid',\n",
       "       'model=Accord Plug-In Hybrid', 'model=Achieva',\n",
       "       'model=ActiveHybrid 5', 'model=ActiveHybrid 7',\n",
       "       'model=ActiveHybrid X6', 'model=Aerio', 'model=Aerostar',\n",
       "       'model=Alero', 'model=Allante', 'model=Altima',\n",
       "       'model=Altima Hybrid', 'model=Amanti', 'model=Armada',\n",
       "       'model=Arnage', 'model=Aspen', 'model=Aspire', 'model=Astro',\n",
       "       'model=Astro Cargo', 'model=Aurora', 'model=Avalanche',\n",
       "       'model=Avalon', 'model=Avalon Hybrid', 'model=Avenger',\n",
       "       'model=Aventador', 'model=Aveo', 'model=Aviator', 'model=Axxess',\n",
       "       'model=Azera', 'model=Aztek', 'model=Azure', 'model=Azure T',\n",
       "       'model=B-Class Electric Drive', 'model=B-Series',\n",
       "       'model=B-Series Pickup', 'model=B-Series Truck',\n",
       "       'model=B9 Tribeca', 'model=BRZ', 'model=Baja', 'model=Beetle',\n",
       "       'model=Beetle Convertible', 'model=Beretta',\n",
       "       'model=Black Diamond Avalanche', 'model=Blackwood', 'model=Blazer',\n",
       "       'model=Bonneville', 'model=Borrego', 'model=Boxster',\n",
       "       'model=Bravada', 'model=Breeze', 'model=Bronco', 'model=Bronco II',\n",
       "       'model=Brooklands', 'model=Brougham', 'model=C-Class',\n",
       "       'model=C-Max Hybrid', 'model=C/K 1500 Series',\n",
       "       'model=C/K 2500 Series', 'model=C30', 'model=C43 AMG', 'model=C70',\n",
       "       'model=C8', 'model=CC', 'model=CL', 'model=CL-Class',\n",
       "       'model=CLA-Class', 'model=CLK-Class', 'model=CLS-Class',\n",
       "       'model=CR-V', 'model=CR-Z', 'model=CT6', 'model=CTS',\n",
       "       'model=CTS Coupe', 'model=CTS Wagon', 'model=CTS-V',\n",
       "       'model=CTS-V Coupe', 'model=CTS-V Wagon', 'model=CX-3',\n",
       "       'model=CX-5', 'model=CX-7', 'model=CX-9', 'model=Cabrio',\n",
       "       'model=Cabriolet', 'model=Cadenza', 'model=Caliber',\n",
       "       'model=Camaro', 'model=Camry', 'model=Camry Hybrid',\n",
       "       'model=Camry Solara', 'model=Canyon', 'model=Caprice',\n",
       "       'model=Captiva Sport', 'model=Caravan', 'model=Carrera GT',\n",
       "       'model=Cascada', 'model=Catera', 'model=Cavalier', 'model=Cayenne',\n",
       "       'model=Cayman', 'model=Cayman S', 'model=Celebrity',\n",
       "       'model=Celica', 'model=Century', 'model=Challenger',\n",
       "       'model=Charger', 'model=Chevy Van', 'model=City Express',\n",
       "       'model=Civic', 'model=Civic CRX', 'model=Civic del Sol',\n",
       "       'model=Classic', 'model=Cobalt', 'model=Colorado', 'model=Colt',\n",
       "       'model=Concorde', 'model=Continental',\n",
       "       'model=Continental Flying Spur',\n",
       "       'model=Continental Flying Spur Speed', 'model=Continental GT',\n",
       "       'model=Continental GT Speed',\n",
       "       'model=Continental GT Speed Convertible', 'model=Continental GTC',\n",
       "       'model=Continental GTC Speed', 'model=Continental Supersports',\n",
       "       'model=Continental Supersports Convertible', 'model=Contour',\n",
       "       'model=Corniche', 'model=Corolla', 'model=Corolla iM',\n",
       "       'model=Corrado', 'model=Corvette', 'model=Corvette Stingray',\n",
       "       'model=Coupe', 'model=Cressida', 'model=Crossfire',\n",
       "       'model=Crosstour', 'model=Crosstrek', 'model=Crown Victoria',\n",
       "       'model=Cruze', 'model=Cruze Limited', 'model=Cube',\n",
       "       'model=Custom Cruiser', 'model=Cutlass', 'model=Cutlass Calais',\n",
       "       'model=Cutlass Ciera', 'model=Cutlass Supreme', 'model=DB9',\n",
       "       'model=DB9 GT', 'model=DBS', 'model=DTS', 'model=Dakota',\n",
       "       'model=Dart', 'model=Dawn', 'model=Daytona', 'model=DeVille',\n",
       "       'model=Defender', 'model=Diablo', 'model=Diamante',\n",
       "       'model=Discovery', 'model=Discovery Series II',\n",
       "       'model=Discovery Sport', 'model=Durango', 'model=Dynasty',\n",
       "       'model=E-150', 'model=E-250', 'model=E-Class',\n",
       "       'model=E-Series Van', 'model=E-Series Wagon', 'model=E55 AMG',\n",
       "       'model=ECHO', 'model=ES 250', 'model=ES 300', 'model=ES 300h',\n",
       "       'model=EX', 'model=EX35', 'model=Eclipse', 'model=Eclipse Spyder',\n",
       "       'model=Edge', 'model=Eighty-Eight', 'model=Eighty-Eight Royale',\n",
       "       'model=Elantra', 'model=Elantra Coupe', 'model=Elantra GT',\n",
       "       'model=Elantra Touring', 'model=Eldorado', 'model=Electra',\n",
       "       'model=Element', 'model=Elise', 'model=Enclave', 'model=Encore',\n",
       "       'model=Endeavor', 'model=Entourage', 'model=Envision',\n",
       "       'model=Envoy', 'model=Envoy XL', 'model=Envoy XUV', 'model=Eos',\n",
       "       'model=Equator', 'model=Equinox', 'model=Equus', 'model=Escalade',\n",
       "       'model=Escalade ESV', 'model=Escalade EXT',\n",
       "       'model=Escalade Hybrid', 'model=Escape', 'model=Escape Hybrid',\n",
       "       'model=Escort', 'model=Esprit', 'model=Esteem', 'model=EuroVan',\n",
       "       'model=Evora', 'model=Excel', 'model=Exige', 'model=Expedition',\n",
       "       'model=Explorer', 'model=Explorer Sport',\n",
       "       'model=Explorer Sport Trac', 'model=Expo', 'model=Express',\n",
       "       'model=Express Cargo', 'model=F-150', 'model=F-150 Heritage',\n",
       "       'model=F-150 SVT Lightning', 'model=F-250', 'model=F12 Berlinetta',\n",
       "       'model=F430', 'model=FF', 'model=FJ Cruiser', 'model=FR-S',\n",
       "       'model=FX', 'model=FX35', 'model=FX45', 'model=FX50',\n",
       "       'model=Festiva', 'model=Fiesta', 'model=Firebird', 'model=Fit',\n",
       "       'model=Five Hundred', 'model=Fleetwood', 'model=Flex',\n",
       "       'model=Flying Spur', 'model=Focus', 'model=Focus ST',\n",
       "       'model=Forenza', 'model=Forester', 'model=Forte', 'model=Fox',\n",
       "       'model=Freelander', 'model=Freestar', 'model=Freestyle',\n",
       "       'model=Frontier', 'model=Fusion', 'model=Fusion Hybrid',\n",
       "       'model=G Convertible', 'model=G Coupe', 'model=G Sedan',\n",
       "       'model=G-Class', 'model=G20', 'model=G3', 'model=G35', 'model=G37',\n",
       "       'model=G37 Convertible', 'model=G37 Coupe', 'model=G37 Sedan',\n",
       "       'model=G5', 'model=G6', 'model=G8', 'model=G80', 'model=GL-Class',\n",
       "       'model=GLA-Class', 'model=GLC-Class', 'model=GLE-Class',\n",
       "       'model=GLE-Class Coupe', 'model=GLI', 'model=GLK-Class',\n",
       "       'model=GLS-Class', 'model=GS 200t', 'model=GS 300', 'model=GS 350',\n",
       "       'model=GS 400', 'model=GS 430', 'model=GS 450h', 'model=GS 460',\n",
       "       'model=GT', 'model=GT-R', 'model=GTI', 'model=GTO', 'model=GX 460',\n",
       "       'model=GX 470', 'model=Galant', 'model=Gallardo', 'model=Genesis',\n",
       "       'model=Genesis Coupe', 'model=Ghibli', 'model=Ghost',\n",
       "       'model=Ghost Series II', 'model=Golf', 'model=Golf Alltrack',\n",
       "       'model=Golf GTI', 'model=Golf R', 'model=Golf SportWagen',\n",
       "       'model=GranSport', 'model=GranTurismo',\n",
       "       'model=GranTurismo Convertible', 'model=Grand Am',\n",
       "       'model=Grand Caravan', 'model=Grand Prix', 'model=Grand Vitara',\n",
       "       'model=Grand Voyager', 'model=H3', 'model=H3T', 'model=HHR',\n",
       "       'model=HR-V', 'model=HS 250h', 'model=Highlander',\n",
       "       'model=Highlander Hybrid', 'model=Horizon', 'model=Huracan',\n",
       "       'model=I30', 'model=I35', 'model=ILX', 'model=ILX Hybrid',\n",
       "       'model=IS 200t', 'model=IS 250', 'model=IS 250 C', 'model=IS 300',\n",
       "       'model=IS 350', 'model=IS 350 C', 'model=IS F', 'model=Impala',\n",
       "       'model=Impala Limited', 'model=Imperial', 'model=Impreza',\n",
       "       'model=Impreza WRX', 'model=Insight', 'model=Integra',\n",
       "       'model=Intrepid', 'model=Intrigue', 'model=J30', 'model=JX',\n",
       "       'model=Jetta', 'model=Jetta GLI', 'model=Jetta Hybrid',\n",
       "       'model=Jetta SportWagen', 'model=Jimmy', 'model=Journey',\n",
       "       'model=Juke', 'model=Justy', 'model=K900', 'model=Kizashi',\n",
       "       'model=LFA', 'model=LHS', 'model=LR2', 'model=LR3', 'model=LR4',\n",
       "       'model=LS', 'model=LS 400', 'model=LS 430', 'model=LS 460',\n",
       "       'model=LS 600h L', 'model=LSS', 'model=LTD Crown Victoria',\n",
       "       'model=LX 450', 'model=LX 470', 'model=LX 570', 'model=LaCrosse',\n",
       "       'model=Lancer', 'model=Lancer Evolution', 'model=Lancer Sportback',\n",
       "       'model=Land Cruiser', 'model=Laser', 'model=Le Baron',\n",
       "       'model=Le Mans', 'model=LeSabre', 'model=Leaf', 'model=Legacy',\n",
       "       'model=Legend', 'model=Levante', 'model=Loyale', 'model=Lucerne',\n",
       "       'model=Lumina', 'model=Lumina Minivan', 'model=M', 'model=M-Class',\n",
       "       'model=M2', 'model=M3', 'model=M30', 'model=M35', 'model=M37',\n",
       "       'model=M4', 'model=M45', 'model=M5', 'model=M56', 'model=M6',\n",
       "       'model=M6 Gran Coupe', 'model=MDX', 'model=MKC', 'model=MKS',\n",
       "       'model=MKT', 'model=MKX', 'model=MKZ', 'model=MKZ Hybrid',\n",
       "       'model=MP4-12C', 'model=MPV', 'model=MR2', 'model=MR2 Spyder',\n",
       "       'model=MX-3', 'model=MX-5 Miata', 'model=MX-6', 'model=Macan',\n",
       "       'model=Magnum', 'model=Malibu', 'model=Malibu Classic',\n",
       "       'model=Malibu Hybrid', 'model=Malibu Limited', 'model=Malibu Maxx',\n",
       "       'model=Mark LT', 'model=Mark VII', 'model=Mark VIII',\n",
       "       'model=Matrix', 'model=Maxima', 'model=Maybach',\n",
       "       'model=Mazdaspeed 3', 'model=Mazdaspeed MX-5 Miata',\n",
       "       'model=Mazdaspeed Protege', 'model=Metris', 'model=Metro',\n",
       "       'model=Mighty Max Pickup', 'model=Millenia', 'model=Mirage',\n",
       "       'model=Mirage G4', 'model=Model S', 'model=Monaco',\n",
       "       'model=Montana', 'model=Montana SV6', 'model=Monte Carlo',\n",
       "       'model=Montero', 'model=Montero Sport', 'model=Mulsanne',\n",
       "       'model=Murano', 'model=Murano CrossCabriolet', 'model=Murcielago',\n",
       "       'model=Mustang', 'model=Mustang SVT Cobra', 'model=NSX',\n",
       "       'model=NV200', 'model=NX', 'model=NX 200t', 'model=NX 300h',\n",
       "       'model=Navajo', 'model=Navigator', 'model=Neon',\n",
       "       'model=New Beetle', 'model=New Yorker', 'model=Ninety-Eight',\n",
       "       'model=Nitro', 'model=Odyssey', 'model=Omni', 'model=Optima',\n",
       "       'model=Optima Hybrid', 'model=Outback', 'model=Outlander',\n",
       "       'model=Outlander Sport', 'model=PT Cruiser', 'model=Pacifica',\n",
       "       'model=Panamera', 'model=Park Avenue', 'model=Paseo',\n",
       "       'model=Passat', 'model=Passport', 'model=Pathfinder',\n",
       "       'model=Phaeton', 'model=Phantom', 'model=Phantom Coupe',\n",
       "       'model=Phantom Drophead Coupe', 'model=Pickup', 'model=Pilot',\n",
       "       'model=Precis', 'model=Prelude', 'model=Previa', 'model=Prius',\n",
       "       'model=Prius Prime', 'model=Prius c', 'model=Prius v',\n",
       "       'model=Prizm', 'model=Probe', 'model=Protege', 'model=Protege5',\n",
       "       'model=Prowler', 'model=Q3', 'model=Q40', 'model=Q45', 'model=Q5',\n",
       "       'model=Q50', 'model=Q60 Convertible', 'model=Q60 Coupe',\n",
       "       'model=Q7', 'model=Q70', 'model=QX', 'model=QX4', 'model=QX50',\n",
       "       'model=QX56', 'model=QX60', 'model=QX70', 'model=QX80',\n",
       "       'model=Quattroporte', 'model=Quest', 'model=R-Class', 'model=R32',\n",
       "       'model=R8', 'model=RAM 150', 'model=RAM 250', 'model=RAV4',\n",
       "       'model=RAV4 EV', 'model=RAV4 Hybrid', 'model=RC 200t',\n",
       "       'model=RC 300', 'model=RC 350', 'model=RDX', 'model=RL',\n",
       "       'model=RLX', 'model=RS 4', 'model=RS 5', 'model=RS 7', 'model=RSX',\n",
       "       'model=RX 300', 'model=RX 330', 'model=RX 350', 'model=RX 400h',\n",
       "       'model=RX 450h', 'model=RX-7', 'model=RX-8', 'model=Rabbit',\n",
       "       'model=Raider', 'model=Rainier', 'model=Rally Wagon',\n",
       "       'model=Ram 50 Pickup', 'model=Ram Cargo', 'model=Ram Pickup 1500',\n",
       "       'model=Ram Van', 'model=Ram Wagon', 'model=Ramcharger',\n",
       "       'model=Range Rover', 'model=Range Rover Evoque',\n",
       "       'model=Range Rover Sport', 'model=Ranger', 'model=Rapide',\n",
       "       'model=Rapide S', 'model=Reatta', 'model=Regal', 'model=Regency',\n",
       "       'model=Rendezvous', 'model=Reno', 'model=Reventon',\n",
       "       'model=Ridgeline', 'model=Rio', 'model=Riviera',\n",
       "       'model=Roadmaster', 'model=Rogue', 'model=Rogue Select',\n",
       "       'model=Rondo', 'model=Routan', 'model=S-10', 'model=S-10 Blazer',\n",
       "       'model=S-15', 'model=S-15 Jimmy', 'model=S-Class', 'model=S2000',\n",
       "       'model=S3', 'model=S4', 'model=S40', 'model=S5', 'model=S6',\n",
       "       'model=S60', 'model=S60 Cross Country', 'model=S7', 'model=S70',\n",
       "       'model=S8', 'model=S80', 'model=S90', 'model=SC 300',\n",
       "       'model=SC 400', 'model=SC 430', 'model=SL-Class',\n",
       "       'model=SLC-Class', 'model=SLK-Class', 'model=SLR McLaren',\n",
       "       'model=SLS AMG', 'model=SLS AMG GT',\n",
       "       'model=SLS AMG GT Final Edition', 'model=SLX', 'model=SQ5',\n",
       "       'model=SRT Viper', 'model=SRX', 'model=STS', 'model=STS-V',\n",
       "       'model=SVX', 'model=SX4', 'model=Safari', 'model=Safari Cargo',\n",
       "       'model=Samurai', 'model=Santa Fe', 'model=Santa Fe Sport',\n",
       "       'model=Savana', 'model=Savana Cargo', 'model=Scoupe',\n",
       "       'model=Sebring', 'model=Sedona', 'model=Sentra', 'model=Sephia',\n",
       "       'model=Sequoia', 'model=Seville', 'model=Shadow',\n",
       "       'model=Shelby GT350', 'model=Shelby GT500', 'model=Sidekick',\n",
       "       'model=Sienna', 'model=Sierra 1500', 'model=Sierra 1500 Classic',\n",
       "       'model=Sierra 1500 Hybrid', 'model=Sierra 1500HD',\n",
       "       'model=Sierra C3', 'model=Sierra Classic 1500', 'model=Sigma',\n",
       "       'model=Silhouette', 'model=Silver Seraph', 'model=Silverado 1500',\n",
       "       'model=Silverado 1500 Classic', 'model=Silverado 1500 Hybrid',\n",
       "       'model=Skylark', 'model=Solstice', 'model=Sonata',\n",
       "       'model=Sonata Hybrid', 'model=Sonic', 'model=Sonoma',\n",
       "       'model=Sorento', 'model=Soul', 'model=Soul EV', 'model=Spark',\n",
       "       'model=Spark EV', 'model=Spectra', 'model=Spirit',\n",
       "       'model=Sportage', 'model=Sportvan', 'model=Spyder', 'model=Stanza',\n",
       "       'model=Stealth', 'model=Stratus', 'model=Suburban',\n",
       "       'model=Sunbird', 'model=Sundance', 'model=Sunfire', 'model=Supra',\n",
       "       'model=Swift', 'model=Syclone', 'model=T100', 'model=TL',\n",
       "       'model=TLX', 'model=TSX', 'model=TSX Sport Wagon', 'model=TT',\n",
       "       'model=TTS', 'model=Tacoma', 'model=Tahoe', 'model=Tahoe Hybrid',\n",
       "       'model=Tahoe Limited/Z71', 'model=Taurus', 'model=Taurus X',\n",
       "       'model=Tempo', 'model=Tercel', 'model=Terrain', 'model=Terraza',\n",
       "       'model=Thunderbird', 'model=Tiburon', 'model=Tiguan',\n",
       "       'model=Titan', 'model=Toronado', 'model=Torrent', 'model=Touareg',\n",
       "       'model=Touareg 2', 'model=Town Car', 'model=Town and Country',\n",
       "       'model=Tracker', 'model=TrailBlazer', 'model=TrailBlazer EXT',\n",
       "       'model=Trans Sport', 'model=Transit Connect',\n",
       "       'model=Transit Wagon', 'model=Traverse', 'model=Trax',\n",
       "       'model=Tribeca', 'model=Tribute', 'model=Tribute Hybrid',\n",
       "       'model=Truck', 'model=Tucson', 'model=Tundra', 'model=Typhoon',\n",
       "       'model=Uplander', 'model=V12 Vanquish', 'model=V12 Vantage',\n",
       "       'model=V12 Vantage S', 'model=V40', 'model=V50', 'model=V60',\n",
       "       'model=V60 Cross Country', 'model=V70', 'model=V8 Vantage',\n",
       "       'model=Van', 'model=Vanagon', 'model=Vandura', 'model=Vanquish',\n",
       "       'model=Vanwagon', 'model=Veloster', 'model=Venture', 'model=Venza',\n",
       "       'model=Veracruz', 'model=Verano', 'model=Verona', 'model=Versa',\n",
       "       'model=Versa Note', 'model=Veyron 16.4', 'model=Vibe',\n",
       "       'model=Vigor', 'model=Viper', 'model=Virage', 'model=Vitara',\n",
       "       'model=Voyager', 'model=WRX', 'model=Windstar',\n",
       "       'model=Windstar Cargo', 'model=Wraith', 'model=X-90', 'model=X1',\n",
       "       'model=X3', 'model=X4', 'model=X5', 'model=X5 M', 'model=X6',\n",
       "       'model=X6 M', 'model=XC', 'model=XC60', 'model=XC70', 'model=XC90',\n",
       "       'model=XG300', 'model=XG350', 'model=XL-7', 'model=XL7',\n",
       "       'model=XLR', 'model=XLR-V', 'model=XT', 'model=XT5', 'model=XTS',\n",
       "       'model=XV Crosstrek', 'model=Xterra', 'model=Yaris',\n",
       "       'model=Yaris iA', 'model=Yukon', 'model=Yukon Denali',\n",
       "       'model=Yukon Hybrid', 'model=Yukon XL', 'model=Z3', 'model=Z4',\n",
       "       'model=Z4 M', 'model=Z8', 'model=ZDX', 'model=allroad',\n",
       "       'model=allroad quattro', 'model=e-Golf', 'model=i-MiEV',\n",
       "       'model=i3', 'model=iA', 'model=iQ', 'model=tC', 'model=xA',\n",
       "       'model=xB', 'model=xD', 'transmission_type=AUTOMATED_MANUAL',\n",
       "       'transmission_type=AUTOMATIC', 'transmission_type=DIRECT_DRIVE',\n",
       "       'transmission_type=MANUAL', 'transmission_type=UNKNOWN',\n",
       "       'vehicle_style=2dr Hatchback', 'vehicle_style=2dr SUV',\n",
       "       'vehicle_style=4dr Hatchback', 'vehicle_style=4dr SUV',\n",
       "       'vehicle_style=Cargo Minivan', 'vehicle_style=Cargo Van',\n",
       "       'vehicle_style=Convertible', 'vehicle_style=Convertible SUV',\n",
       "       'vehicle_style=Coupe', 'vehicle_style=Crew Cab Pickup',\n",
       "       'vehicle_style=Extended Cab Pickup',\n",
       "       'vehicle_style=Passenger Minivan', 'vehicle_style=Passenger Van',\n",
       "       'vehicle_style=Regular Cab Pickup', 'vehicle_style=Sedan',\n",
       "       'vehicle_style=Wagon', 'year'], dtype=object)"
      ]
     },
     "execution_count": 624,
     "metadata": {},
     "output_type": "execute_result"
    }
   ],
   "source": [
    "dv.get_feature_names_out()"
   ]
  },
  {
   "cell_type": "markdown",
   "metadata": {},
   "source": [
    "Logistic Regression"
   ]
  },
  {
   "cell_type": "code",
   "execution_count": 625,
   "metadata": {},
   "outputs": [],
   "source": [
    "from sklearn.linear_model import LogisticRegression"
   ]
  },
  {
   "cell_type": "code",
   "execution_count": 626,
   "metadata": {},
   "outputs": [],
   "source": [
    "model = LogisticRegression(solver='liblinear', C=10, max_iter=1000, random_state=42)"
   ]
  },
  {
   "cell_type": "code",
   "execution_count": 627,
   "metadata": {},
   "outputs": [
    {
     "data": {
      "text/html": [
       "<style>#sk-container-id-6 {color: black;}#sk-container-id-6 pre{padding: 0;}#sk-container-id-6 div.sk-toggleable {background-color: white;}#sk-container-id-6 label.sk-toggleable__label {cursor: pointer;display: block;width: 100%;margin-bottom: 0;padding: 0.3em;box-sizing: border-box;text-align: center;}#sk-container-id-6 label.sk-toggleable__label-arrow:before {content: \"▸\";float: left;margin-right: 0.25em;color: #696969;}#sk-container-id-6 label.sk-toggleable__label-arrow:hover:before {color: black;}#sk-container-id-6 div.sk-estimator:hover label.sk-toggleable__label-arrow:before {color: black;}#sk-container-id-6 div.sk-toggleable__content {max-height: 0;max-width: 0;overflow: hidden;text-align: left;background-color: #f0f8ff;}#sk-container-id-6 div.sk-toggleable__content pre {margin: 0.2em;color: black;border-radius: 0.25em;background-color: #f0f8ff;}#sk-container-id-6 input.sk-toggleable__control:checked~div.sk-toggleable__content {max-height: 200px;max-width: 100%;overflow: auto;}#sk-container-id-6 input.sk-toggleable__control:checked~label.sk-toggleable__label-arrow:before {content: \"▾\";}#sk-container-id-6 div.sk-estimator input.sk-toggleable__control:checked~label.sk-toggleable__label {background-color: #d4ebff;}#sk-container-id-6 div.sk-label input.sk-toggleable__control:checked~label.sk-toggleable__label {background-color: #d4ebff;}#sk-container-id-6 input.sk-hidden--visually {border: 0;clip: rect(1px 1px 1px 1px);clip: rect(1px, 1px, 1px, 1px);height: 1px;margin: -1px;overflow: hidden;padding: 0;position: absolute;width: 1px;}#sk-container-id-6 div.sk-estimator {font-family: monospace;background-color: #f0f8ff;border: 1px dotted black;border-radius: 0.25em;box-sizing: border-box;margin-bottom: 0.5em;}#sk-container-id-6 div.sk-estimator:hover {background-color: #d4ebff;}#sk-container-id-6 div.sk-parallel-item::after {content: \"\";width: 100%;border-bottom: 1px solid gray;flex-grow: 1;}#sk-container-id-6 div.sk-label:hover label.sk-toggleable__label {background-color: #d4ebff;}#sk-container-id-6 div.sk-serial::before {content: \"\";position: absolute;border-left: 1px solid gray;box-sizing: border-box;top: 0;bottom: 0;left: 50%;z-index: 0;}#sk-container-id-6 div.sk-serial {display: flex;flex-direction: column;align-items: center;background-color: white;padding-right: 0.2em;padding-left: 0.2em;position: relative;}#sk-container-id-6 div.sk-item {position: relative;z-index: 1;}#sk-container-id-6 div.sk-parallel {display: flex;align-items: stretch;justify-content: center;background-color: white;position: relative;}#sk-container-id-6 div.sk-item::before, #sk-container-id-6 div.sk-parallel-item::before {content: \"\";position: absolute;border-left: 1px solid gray;box-sizing: border-box;top: 0;bottom: 0;left: 50%;z-index: -1;}#sk-container-id-6 div.sk-parallel-item {display: flex;flex-direction: column;z-index: 1;position: relative;background-color: white;}#sk-container-id-6 div.sk-parallel-item:first-child::after {align-self: flex-end;width: 50%;}#sk-container-id-6 div.sk-parallel-item:last-child::after {align-self: flex-start;width: 50%;}#sk-container-id-6 div.sk-parallel-item:only-child::after {width: 0;}#sk-container-id-6 div.sk-dashed-wrapped {border: 1px dashed gray;margin: 0 0.4em 0.5em 0.4em;box-sizing: border-box;padding-bottom: 0.4em;background-color: white;}#sk-container-id-6 div.sk-label label {font-family: monospace;font-weight: bold;display: inline-block;line-height: 1.2em;}#sk-container-id-6 div.sk-label-container {text-align: center;}#sk-container-id-6 div.sk-container {/* jupyter's `normalize.less` sets `[hidden] { display: none; }` but bootstrap.min.css set `[hidden] { display: none !important; }` so we also need the `!important` here to be able to override the default hidden behavior on the sphinx rendered scikit-learn.org. See: https://github.com/scikit-learn/scikit-learn/issues/21755 */display: inline-block !important;position: relative;}#sk-container-id-6 div.sk-text-repr-fallback {display: none;}</style><div id=\"sk-container-id-6\" class=\"sk-top-container\"><div class=\"sk-text-repr-fallback\"><pre>LogisticRegression(C=10, max_iter=1000, random_state=42, solver=&#x27;liblinear&#x27;)</pre><b>In a Jupyter environment, please rerun this cell to show the HTML representation or trust the notebook. <br />On GitHub, the HTML representation is unable to render, please try loading this page with nbviewer.org.</b></div><div class=\"sk-container\" hidden><div class=\"sk-item\"><div class=\"sk-estimator sk-toggleable\"><input class=\"sk-toggleable__control sk-hidden--visually\" id=\"sk-estimator-id-6\" type=\"checkbox\" checked><label for=\"sk-estimator-id-6\" class=\"sk-toggleable__label sk-toggleable__label-arrow\">LogisticRegression</label><div class=\"sk-toggleable__content\"><pre>LogisticRegression(C=10, max_iter=1000, random_state=42, solver=&#x27;liblinear&#x27;)</pre></div></div></div></div></div>"
      ],
      "text/plain": [
       "LogisticRegression(C=10, max_iter=1000, random_state=42, solver='liblinear')"
      ]
     },
     "execution_count": 627,
     "metadata": {},
     "output_type": "execute_result"
    }
   ],
   "source": [
    "model.fit(X_train, y_train)"
   ]
  },
  {
   "cell_type": "code",
   "execution_count": 628,
   "metadata": {},
   "outputs": [],
   "source": [
    "y_pred_train = model.predict(X_train)"
   ]
  },
  {
   "cell_type": "code",
   "execution_count": 629,
   "metadata": {},
   "outputs": [
    {
     "data": {
      "text/plain": [
       "array([[9.93101791e-01, 6.89820947e-03],\n",
       "       [9.71423007e-01, 2.85769927e-02],\n",
       "       [2.83911328e-05, 9.99971609e-01],\n",
       "       ...,\n",
       "       [9.81875147e-01, 1.81248534e-02],\n",
       "       [9.99994267e-01, 5.73312727e-06],\n",
       "       [7.13639702e-01, 2.86360298e-01]])"
      ]
     },
     "execution_count": 629,
     "metadata": {},
     "output_type": "execute_result"
    }
   ],
   "source": [
    "model.predict_proba(X_train)"
   ]
  },
  {
   "cell_type": "code",
   "execution_count": 630,
   "metadata": {},
   "outputs": [
    {
     "data": {
      "text/plain": [
       "array([[ 8.57445601e-02, -1.15102424e-01,  3.84698300e-02,\n",
       "        -4.47139954e-03,  1.61668925e+00,  2.18106896e+00,\n",
       "         7.55961290e-01,  3.27297844e+00,  2.87866931e+00,\n",
       "         2.12269771e-01,  3.07953130e-08, -4.69775030e-01,\n",
       "         2.61843833e+00, -1.73394853e+00, -1.42954530e+00,\n",
       "        -4.04144335e+00, -6.56587433e-01,  5.00784415e-01,\n",
       "        -2.13941795e+00, -1.38801043e+00,  8.80990827e-01,\n",
       "        -3.57166550e-01, -1.34929729e+00, -2.69782507e+00,\n",
       "         3.66586000e-01, -1.53004419e+00,  1.45687619e-02,\n",
       "         2.16592185e+00,  1.51342672e+00,  1.22601468e+00,\n",
       "         4.40211168e+00,  1.33322469e+00,  6.47542742e-03,\n",
       "        -1.75791728e+00,  6.33121587e-04,  9.12705099e-01,\n",
       "        -2.40328761e+00, -1.30192476e+00, -1.74543194e+00,\n",
       "        -6.35674827e-01, -3.68079552e+00,  1.96722813e+00,\n",
       "         1.26576959e+00,  7.38655804e-01, -2.98598507e-01,\n",
       "         4.56734328e-01, -3.09960504e+00, -2.20863396e+00,\n",
       "         3.70328813e+00, -5.13992022e-01, -1.13093747e+00,\n",
       "         1.03605255e+00, -1.80975742e+00, -7.17423112e-01,\n",
       "        -6.76367087e-02, -1.47699613e-02, -2.06880836e-03,\n",
       "        -1.84873745e+00, -1.22370338e+00, -3.31204716e-03,\n",
       "        -6.66144020e-03, -3.84402251e-03, -2.07133257e-01,\n",
       "         1.95582301e-01,  2.34382444e+00,  7.11680133e-01,\n",
       "        -6.52479698e-01, -6.88685563e-02, -2.29461646e-01,\n",
       "        -2.76927209e-01, -4.15068138e-04, -2.33401961e-02,\n",
       "        -1.13605397e+00,  2.03601499e-01,  5.49084462e-02,\n",
       "         2.00586497e+00,  1.22292231e+00, -9.03334165e-01,\n",
       "        -1.20217574e-01,  1.44886073e-01,  1.94497075e-04,\n",
       "         2.18106896e+00,  5.16682850e-01, -3.53327573e-02,\n",
       "         1.67212949e+00,  1.31773925e+00, -7.05148040e-02,\n",
       "        -3.46352399e+00, -5.87643522e-02, -3.73450462e-01,\n",
       "        -8.62211065e-02,  3.41559434e-02, -3.84122247e-01,\n",
       "         2.50849918e-03,  4.59373909e-04,  3.50885910e-02,\n",
       "         3.60706556e-04, -1.22496086e-01,  6.55474370e-01,\n",
       "         2.59945814e-01, -3.92478508e+00, -4.04241416e-03,\n",
       "         2.38827169e-03,  3.96692824e-03, -9.92620670e-03,\n",
       "         2.79655528e-01, -9.06062988e-02, -1.22927226e-02,\n",
       "        -4.62972407e-02, -2.22584156e+00, -1.04714658e-01,\n",
       "        -1.51443132e+00, -2.57550199e-01,  1.03789004e+00,\n",
       "         9.20198398e-01, -1.35671613e+00,  6.94511463e-01,\n",
       "         3.65167925e-01, -4.32894360e-01, -5.21884798e-01,\n",
       "        -1.42960890e-01,  1.00214351e+00, -6.65863183e-01,\n",
       "        -1.56361881e-02, -2.19565681e-01, -8.36209841e-01,\n",
       "        -1.45281418e-01, -1.42831960e+00, -1.15452615e+00,\n",
       "        -1.09193987e+00,  1.88467118e+00,  1.79580238e+00,\n",
       "         9.89954611e-01,  4.38713899e-01,  9.69573905e-05,\n",
       "         4.30456874e-04,  1.38819637e-03, -1.38466502e+00,\n",
       "        -2.55110336e-01,  1.84088315e+00,  1.83948494e+00,\n",
       "        -7.69007852e-03, -3.88425061e-03, -1.23888610e+00,\n",
       "        -1.91442973e-01, -3.65613401e-01, -1.00472477e-01,\n",
       "        -9.88542101e-03,  8.11685387e-02,  6.82994122e-02,\n",
       "         8.04218376e-04, -6.08163355e-02, -9.86931137e-03,\n",
       "        -6.95205630e-02, -6.11370926e-01, -8.73611876e-01,\n",
       "        -5.69842787e-02, -1.50822061e-01,  2.75912956e+00,\n",
       "         7.35363987e-02, -7.47114642e-01, -2.57938774e-04,\n",
       "        -3.27207418e-02, -1.37341567e-02, -1.09108529e-01,\n",
       "         1.91049449e+00, -1.16836923e+00,  2.11033541e+00,\n",
       "        -9.71847944e-02,  3.26082529e-05, -4.13347643e-03,\n",
       "        -4.17399061e-01, -4.44390410e-03, -3.16334883e-01,\n",
       "        -2.23466569e-02,  1.50125721e-02,  9.48850985e-04,\n",
       "        -3.21000872e-01, -2.99949669e-03, -5.24399879e-03,\n",
       "        -7.63868006e-03, -7.58577979e-01, -2.64258029e-02,\n",
       "        -4.15650996e-02, -2.26141280e-01, -2.08550150e+00,\n",
       "        -4.64796255e-03,  1.48207596e+00,  5.88825753e-01,\n",
       "        -5.41641694e-02, -1.41731581e-01, -1.79556965e+00,\n",
       "         8.30098068e-01, -8.92953552e-01, -2.91573285e-03,\n",
       "        -1.09016282e-02, -1.74477042e-03,  4.29279363e-03,\n",
       "        -2.16539071e-01,  1.68032193e+00, -1.46265894e-01,\n",
       "        -3.17152364e-02, -9.97557626e-03, -1.37030479e-01,\n",
       "        -8.58243554e-01, -1.03753945e-01,  4.56734328e-01,\n",
       "         1.50468499e+00, -7.89649016e-01,  3.50354724e-02,\n",
       "        -6.49491760e-01,  2.01992911e+00,  2.99776488e-01,\n",
       "        -6.21869546e-01, -1.83541638e-02,  7.43487331e-01,\n",
       "         1.62173241e+00, -2.10440948e-02, -1.53011713e-01,\n",
       "         1.65306189e-04,  4.44858089e-04,  2.96122348e-04,\n",
       "        -7.28284148e-02, -3.90653322e-01, -6.37528059e-01,\n",
       "         1.00755601e+00, -5.08998597e-02, -5.70448784e-01,\n",
       "         1.35791258e+00, -8.75911439e-03, -2.62243921e+00,\n",
       "        -1.02632867e+00, -5.29505056e-01, -7.05747480e-01,\n",
       "        -2.19922294e+00, -8.13191675e-02, -8.13267825e-02,\n",
       "        -6.91945102e-03,  2.93172968e-05, -2.78023555e-01,\n",
       "        -4.55860181e-01, -1.13655849e-02,  1.40760838e-01,\n",
       "         1.13727710e+00,  6.09015421e-01, -1.38036504e-03,\n",
       "        -3.12575742e-02, -2.25056132e-02, -1.51091084e+00,\n",
       "        -1.78776167e+00, -2.21370136e-02, -3.00583187e-03,\n",
       "        -3.42323945e-01, -6.04982171e-04, -3.26444320e-03,\n",
       "        -2.40251986e-03, -1.45049094e-01, -1.71264663e+00,\n",
       "        -1.86471257e-02, -1.99957979e-01,  3.16662365e+00,\n",
       "         7.16677043e-04,  3.08233441e-04,  7.02835457e-03,\n",
       "         3.25345248e-04,  1.22493455e-05,  5.87874327e-04,\n",
       "         3.72209008e-05,  9.11782882e-05,  3.07207522e-05,\n",
       "        -2.12161159e-03,  1.62539577e-01, -1.32183540e-01,\n",
       "        -2.77506478e-03, -1.68365029e-03,  1.09040958e+00,\n",
       "         1.27437155e-01,  4.34515969e-01, -1.32221677e-02,\n",
       "        -1.28522050e-01, -5.88860053e-01, -1.98221776e-02,\n",
       "        -3.44496729e-02, -8.58325073e-02, -1.98258342e-02,\n",
       "        -1.10513165e-02, -4.82585743e-03, -6.17555190e-03,\n",
       "        -2.69956295e-02, -2.54350297e-02, -3.92400562e-02,\n",
       "         1.02147945e-02,  1.12014595e-03,  3.51181154e-02,\n",
       "         1.66554613e+00, -1.28614153e-01, -2.83237311e-02,\n",
       "         7.99781910e-05, -2.61064891e-03,  1.77946028e+00,\n",
       "        -9.01282700e-02,  3.90215307e-03, -5.76159743e-02,\n",
       "         6.06999627e-01, -4.56869702e-01, -8.37566154e-01,\n",
       "         3.77356847e+00, -9.07828021e-04, -1.22365229e-02,\n",
       "        -1.33282927e-02,  4.34003494e+00, -7.02768623e-02,\n",
       "        -1.73405603e-01, -1.30666235e+00, -1.09847755e-02,\n",
       "        -1.09547571e-02, -3.11283298e-01,  9.77284030e-01,\n",
       "        -2.80484562e+00, -3.37784583e+00, -3.62572066e-02,\n",
       "        -5.43421943e-01, -1.15727881e+00, -1.35389413e-01,\n",
       "        -6.35928451e-02, -5.77411569e-02, -5.85254710e-03,\n",
       "        -6.36991534e-03, -3.23419853e-03, -4.43489096e-01,\n",
       "        -1.49158473e-02, -9.30046890e-02,  1.39346016e+00,\n",
       "         1.88861098e+00, -2.01902307e-01, -2.28907061e-01,\n",
       "        -8.44386988e-02,  1.37941629e+00, -2.04532052e+00,\n",
       "        -1.76805714e+00, -4.67652863e-01,  8.11040833e-01,\n",
       "        -3.06292982e-01, -3.29465609e-01,  4.92361814e-01,\n",
       "         5.59809237e-02,  3.17026538e-02,  4.83749677e-02,\n",
       "         2.52664988e-01, -9.80996555e-02, -1.93764274e-01,\n",
       "        -2.62661487e-03,  1.99378795e-01, -2.19286891e-02,\n",
       "        -4.39390848e-02,  1.22284772e+00, -4.35716423e-04,\n",
       "         1.58642501e+00,  2.71729909e+00,  6.03813321e-01,\n",
       "        -6.17937260e-02, -7.20227612e-01, -1.87003864e-03,\n",
       "        -7.32347564e-01, -1.11321651e-01,  1.41622141e+00,\n",
       "        -1.78627702e-02, -8.93049575e-02, -2.43970081e-02,\n",
       "         5.35957905e-06,  8.00241364e-02,  7.93375242e-05,\n",
       "        -9.02348422e-01, -1.80403678e-01,  1.39629264e+00,\n",
       "         1.05282611e-01,  3.65779397e-01,  4.14829485e-02,\n",
       "        -1.98352905e-04, -8.31154090e-03, -6.07541376e-01,\n",
       "        -1.19886283e-02, -8.36216778e-02, -1.36425897e+00,\n",
       "         3.29149931e-01,  2.46367104e-03, -4.14339859e-02,\n",
       "        -3.78755005e-02, -1.89601009e-02, -4.18351533e-01,\n",
       "        -7.36321954e-02, -8.20057898e-04, -6.02448230e-01,\n",
       "        -3.36832839e-02, -8.69061784e-02, -1.34803077e+00,\n",
       "        -2.25469402e-01, -1.98602300e-01,  7.96525914e-01,\n",
       "         2.54780224e-01, -1.13846778e+00,  3.75204638e-02,\n",
       "        -3.63510249e-02, -1.61559830e-04, -2.52862375e+00,\n",
       "        -2.15428913e+00,  4.23225457e-01, -1.06359771e+00,\n",
       "        -1.10073931e+00, -4.81870676e-03, -1.61138748e-01,\n",
       "        -1.13145888e+00,  8.80990827e-01,  1.40221855e+00,\n",
       "        -9.31787632e-01, -6.97266393e-01,  1.51201120e+00,\n",
       "         3.71812142e-02, -3.09035190e-01, -3.25294855e+00,\n",
       "         3.25224536e-03,  2.24803222e+00,  1.08083149e+00,\n",
       "         1.13050557e+00, -1.59013597e+00,  4.41708078e-01,\n",
       "         1.17533300e-01,  3.79062557e-01,  2.16021329e-02,\n",
       "         8.90187743e-03, -2.69461520e-01, -7.69183183e-01,\n",
       "         4.83591233e-01,  1.43352776e+00, -1.45836307e-02,\n",
       "         9.55724786e-03,  9.59128545e-01, -1.29616137e+00,\n",
       "         2.71929584e-01,  7.92682573e-04,  7.75194398e-04,\n",
       "        -7.54798819e-02, -1.56749756e-02, -3.60036790e-01,\n",
       "        -4.82130576e-01, -1.95583381e-01,  1.60014324e-01,\n",
       "         6.66919732e-02,  1.51952996e-02, -1.75452297e-02,\n",
       "        -3.10456127e-01, -3.65071268e-01, -7.02844775e-02,\n",
       "        -4.22880892e-02,  6.61683747e-01, -1.01885030e+00,\n",
       "        -1.67376923e-01, -6.90164847e-02, -8.32501963e-01,\n",
       "         6.07356114e-01,  1.21143614e+00, -2.28198605e-04,\n",
       "         4.84745271e-04, -4.36897194e-01, -4.61765969e-01,\n",
       "        -1.14202649e+00, -3.02137928e-02, -9.17856438e-01,\n",
       "        -6.65050149e-01,  7.98832331e-01, -3.81427951e-01,\n",
       "        -8.92848345e-01,  7.74248641e-02,  1.40243191e-02,\n",
       "         4.45081424e-01, -8.25288008e-01, -1.92268958e-03,\n",
       "        -4.51032945e-02, -2.77263242e-01, -8.21447691e-03,\n",
       "        -1.82210040e-01, -2.99803046e-02, -1.30533374e-01,\n",
       "        -2.22461126e-01,  7.70668976e-01, -6.04708884e-01,\n",
       "        -7.11008242e-01, -2.38260693e-01, -1.92250780e-01,\n",
       "        -3.12169084e-01, -5.93894152e-01, -1.27369153e-01,\n",
       "        -2.62057163e-04,  1.19960036e+00, -1.41938619e-01,\n",
       "         4.17290215e-04, -1.20754818e-01, -3.16913817e-01,\n",
       "         3.90396908e-01,  2.43698003e-01, -5.68266887e-01,\n",
       "        -1.43722388e+00,  5.43107628e-01,  4.86839369e-01,\n",
       "         5.89405141e-03, -3.44398349e-02, -6.69286002e-03,\n",
       "        -2.32899947e-01,  1.00679165e+00,  7.79555710e-02,\n",
       "        -1.14691282e+00, -3.20308876e-02, -3.95023394e-01,\n",
       "        -8.97724362e-03,  1.48345446e-01, -1.64869455e-02,\n",
       "        -7.32768332e-03, -8.20625857e-04, -9.16886443e-02,\n",
       "        -1.05172047e-01, -1.59824074e-01, -7.95732294e-01,\n",
       "         8.56306571e-03, -5.94463319e-04,  1.19767303e+00,\n",
       "        -2.06537399e-02, -4.36325773e-03,  1.42094337e+00,\n",
       "         2.49588274e+00,  1.38724505e-01,  1.41045259e-02,\n",
       "        -1.34140434e-01,  2.39426354e+00,  3.68357959e-01,\n",
       "         3.18916482e-02,  1.46188833e+00,  2.21243291e-04,\n",
       "         5.73407360e-02,  2.33243704e-04,  2.22719622e-04,\n",
       "         2.05342715e+00, -2.44909741e-01, -1.08936092e+00,\n",
       "         7.37860589e-01, -1.26512837e+00,  6.06658283e-01,\n",
       "        -3.48722327e-01,  1.73747678e-04, -9.44262145e-02,\n",
       "        -8.02679611e-03, -5.64805903e-02, -1.02661415e-03,\n",
       "        -2.59043622e-01, -2.87657979e-03,  4.98908549e-01,\n",
       "        -1.54021190e+00, -4.30553653e-01, -4.42683899e-02,\n",
       "        -1.30937713e-02, -5.67421549e-02, -4.42241781e-02,\n",
       "        -1.51383198e+00, -5.92238103e-01, -1.30755676e+00,\n",
       "        -8.27144858e-03, -1.45934390e+00,  6.95292043e-04,\n",
       "        -1.47561717e-02, -3.50799833e-02, -4.81419573e-03,\n",
       "        -3.09604678e-01, -5.49464866e-04, -2.13473082e-04,\n",
       "        -8.99941082e-02, -5.08606399e-03, -1.45780839e-03,\n",
       "         3.70328813e+00, -1.41616279e-03, -4.59555445e-02,\n",
       "        -6.72489034e-03, -2.29467077e-01, -4.90377816e-02,\n",
       "        -1.94139066e-01,  4.20050490e-03,  1.16292880e+00,\n",
       "         2.09208248e+00,  5.34620020e-04, -1.93415813e+00,\n",
       "        -1.00512707e+00,  2.56993601e+00, -6.05880816e-03,\n",
       "        -8.67340988e-04, -2.66548768e+00,  2.75794266e-01,\n",
       "        -8.76401552e-03,  2.25527617e-01, -2.97668552e-02,\n",
       "        -1.84221520e-01, -3.47509544e-02, -5.77275895e-02,\n",
       "        -1.96266239e-01,  2.32809710e+00, -5.02590500e-05,\n",
       "        -6.54743708e-01, -9.62752873e-02, -3.61303014e-01,\n",
       "        -1.99719179e-01, -1.93606258e-01, -2.18262017e-02,\n",
       "        -4.61489899e-01,  6.79387962e-01,  1.23700351e+00,\n",
       "        -2.74887863e-03, -7.08838393e-01, -2.41271118e-01,\n",
       "         2.41637243e-01,  2.08817183e+00,  4.90714320e-02,\n",
       "         3.67425445e-02,  6.17023838e-03, -2.41860587e-03,\n",
       "         3.03225233e-01, -7.92432094e-05, -2.28961240e-02,\n",
       "        -5.46399299e-02, -8.34065199e-02, -7.48718811e-03,\n",
       "        -2.51738398e-02, -1.34302467e-01, -4.06863225e-03,\n",
       "        -5.22254428e-04, -2.07589207e-03, -8.06625548e-04,\n",
       "         7.31641180e-01, -2.06228416e+00, -1.04566871e+00,\n",
       "         3.35959364e-01,  6.39054624e-01,  7.87597390e-01,\n",
       "         6.37845988e-01,  3.65732797e+00,  8.84426193e-01,\n",
       "         1.70357038e+00,  8.82430838e-02, -6.66945896e-01,\n",
       "        -3.25862856e+00,  6.95949394e-01,  2.61307294e+00,\n",
       "         7.42273494e-01,  1.20504844e-01,  1.97312205e-01,\n",
       "         7.46726995e-01,  3.31667513e+00, -2.11192342e-02,\n",
       "         2.15986303e-02, -4.85042546e-03, -2.87244774e-03,\n",
       "        -5.25204033e-01,  1.88655561e+00, -4.11258228e-01,\n",
       "        -7.15721589e-01,  1.68015191e+00,  9.73894767e-01,\n",
       "        -2.35212663e+00,  1.63867232e+00,  1.15771186e+00,\n",
       "         2.40321611e-02,  4.53591233e-03,  6.03644841e-05,\n",
       "        -4.64808523e-02, -1.15774272e+00, -1.36336049e+00,\n",
       "         1.10780245e+00,  5.46680610e-01,  2.54223589e-01,\n",
       "        -4.68976936e-02, -7.33670901e-02, -1.66706145e-02,\n",
       "        -1.03302173e-01, -1.59817002e+00, -1.57623659e-02,\n",
       "        -4.04604392e-04, -5.85667406e-03, -1.47191820e+00,\n",
       "        -5.62127793e-03, -4.60151120e-04, -2.20570268e-02,\n",
       "         3.84161167e-01,  2.59245810e+00,  2.52134214e-01,\n",
       "        -1.71264873e-02,  2.32786781e-02,  9.52426550e-04,\n",
       "        -4.17076695e-02, -1.06045857e+00, -1.97987715e-02,\n",
       "        -6.89861466e-02, -3.97542828e-03,  5.73874450e-05,\n",
       "         3.77792592e-01, -3.45368521e-02, -8.21202831e-02,\n",
       "        -6.33342188e-01, -3.11075209e-01, -5.99596622e-02,\n",
       "        -3.41739455e-02, -2.87160574e-01, -1.37958157e-02,\n",
       "        -2.82431315e-02, -1.17695935e-03, -1.75849097e-02,\n",
       "         2.40628649e-02, -4.40328606e-01,  2.08771223e-01,\n",
       "         3.73866232e-01, -6.31634264e-01,  2.73761971e-01,\n",
       "         6.21170518e-03, -4.02637985e-01,  9.30574068e-01,\n",
       "         5.20363011e-03, -4.43532696e-01,  2.15041510e-04,\n",
       "         8.29882464e-01,  1.87938636e-01, -4.48980111e-01,\n",
       "        -1.19211499e+00,  1.87106087e-01,  6.13782377e-02,\n",
       "         1.34661874e-02,  1.44474114e+00,  3.39063183e-05,\n",
       "         4.07634506e-04,  1.34680152e-04,  1.36182005e-04,\n",
       "        -1.32155560e-01,  4.54605978e-02,  5.83725958e-03,\n",
       "        -1.82136447e+00,  6.30827450e-01,  2.71407437e-03,\n",
       "        -3.17915241e-02, -3.04864361e-02, -2.04815788e-02,\n",
       "        -2.29769492e-02, -2.67011272e-04, -9.62667315e-01,\n",
       "        -3.90225870e-01, -9.75679829e-01, -3.80682660e-01,\n",
       "        -9.44477170e-04, -4.94446796e-01, -7.66703083e-02,\n",
       "        -6.84214812e-02, -4.87412693e-03,  1.40619334e+00,\n",
       "         9.36613358e-01, -2.06478159e-03,  6.38700564e-02,\n",
       "         1.88979514e-04, -9.90000274e-03,  5.73230781e-01,\n",
       "         1.57798233e+00, -1.16915158e+00,  1.43879533e+00,\n",
       "        -9.07316100e-01, -1.22080941e-01, -9.67249952e-03,\n",
       "        -1.19154509e-03, -1.08428971e-01,  1.00950326e+00,\n",
       "         1.63293150e+00, -9.12260234e-01,  2.24053019e+00,\n",
       "        -2.76503221e-02, -1.88550835e-01, -2.97072914e-01,\n",
       "        -9.40079253e-02, -3.62964420e-02, -4.77695005e-03,\n",
       "        -5.43997065e-01, -2.34245934e-02, -7.64142291e-02,\n",
       "        -3.49498003e-03, -2.31968310e+00, -2.34232726e-02,\n",
       "        -2.17850700e-04, -4.98999836e-01, -1.33326659e-02,\n",
       "         7.94994496e-02, -5.29241964e-03, -6.63535925e-02,\n",
       "        -1.43941750e-02,  1.53143326e+00, -3.26749824e-03,\n",
       "        -2.79563030e-03, -7.25699552e-04, -9.79504126e-03,\n",
       "        -6.52190946e-04, -1.90169511e-02, -8.62082126e-03,\n",
       "        -6.81802615e-02, -4.57379876e-01, -1.59465908e+00,\n",
       "        -6.52828053e-01,  4.22473016e-01,  2.05523201e-01,\n",
       "        -8.69823064e-01,  2.37069142e+00,  1.59955622e+00,\n",
       "        -1.36424394e-01, -9.07653857e-01, -4.21838888e-01,\n",
       "        -1.36430609e-03, -1.61898349e-03, -5.01192579e-01,\n",
       "        -4.31860596e-01, -1.35062424e+00, -6.77333243e-03,\n",
       "        -6.88973237e-01, -1.39104394e+00, -1.13809527e-02,\n",
       "        -1.89241109e-01,  3.98463976e+00, -3.82790568e-03,\n",
       "         3.35061006e+00,  1.65366209e-02, -3.36508647e-02,\n",
       "        -4.13298907e+00, -1.26480026e+00, -1.74772697e-02,\n",
       "        -1.13630879e-01,  2.14971067e+00,  4.43563227e-01,\n",
       "        -8.17934938e-02, -2.45601386e-01, -5.31363471e-01,\n",
       "        -8.53771643e-02, -6.86231689e-03, -1.06975430e-01,\n",
       "        -9.10391851e-01, -3.42716199e-01, -4.70492740e-01,\n",
       "         4.22659058e-02,  1.65085363e-02,  1.22460348e-03,\n",
       "        -1.85305456e-01, -8.75551095e-01, -5.82617869e-01,\n",
       "         2.29582570e+00, -3.01684568e-01,  6.22425254e-01,\n",
       "        -1.17474068e-03, -1.93061864e-03, -7.10567536e-03,\n",
       "         1.77642507e-03, -5.75647836e-04, -3.79328880e-02,\n",
       "        -7.00477361e-02, -1.32120507e+00, -4.55335966e-01,\n",
       "        -4.72234247e-01, -1.16707704e-02, -1.83916792e-02,\n",
       "        -5.85784656e-03,  3.07953130e-08, -2.99244194e-03,\n",
       "        -5.08105936e-02,  2.90219911e-02,  1.07640554e-03,\n",
       "        -1.93572833e-02, -6.64549195e-02, -6.65897864e-01,\n",
       "        -1.11913982e-01, -1.43048227e-02,  9.46860944e-05,\n",
       "        -8.20119054e-04, -2.85001390e+00, -2.82582203e-01,\n",
       "         8.66150137e-01,  5.72147714e-01,  4.80544625e-05,\n",
       "         2.42122872e-01,  2.38090971e-05, -9.69760492e-02,\n",
       "         1.31043967e-01,  7.27751638e-01,  1.79451989e+00,\n",
       "        -4.02509903e-03, -1.50956533e-02, -1.67383618e-01,\n",
       "        -1.34389989e+00,  1.84608756e-01,  2.24704759e-03,\n",
       "        -9.40821979e-04,  1.13133555e-01,  1.27515200e+00,\n",
       "        -4.62807077e-02, -1.09199372e+00, -9.42524314e-03,\n",
       "        -1.10713195e-03,  1.24623002e+00, -1.10524747e-01,\n",
       "         1.42862470e+00,  1.52306903e+00, -1.47146300e+00,\n",
       "         4.19646484e-01,  5.09037031e-01,  1.96532963e-02,\n",
       "         2.49139446e+00,  1.89914072e+00, -3.64161113e-01,\n",
       "        -1.74120762e+00, -2.67323435e-01,  7.57659886e-03,\n",
       "        -8.05785831e-03, -3.04880487e-03, -5.23020215e-02,\n",
       "        -4.12475726e-03, -4.34859244e-02, -7.17546223e-03,\n",
       "        -7.96979769e-02,  1.18580817e-01,  5.46739776e-01,\n",
       "        -1.03227494e+00, -9.59605465e-02, -2.09397918e+00,\n",
       "         3.24323528e-01, -1.15974940e+00,  1.31084743e+00,\n",
       "        -2.34978362e-01, -6.19752929e-01,  2.70054388e+00,\n",
       "         2.08224364e+00, -2.12401921e-01,  4.40005893e-01,\n",
       "        -1.33046618e+00,  6.88592131e-01,  2.29908785e-01,\n",
       "        -3.52303182e+00,  2.76376967e-01,  5.78904669e-01,\n",
       "        -6.16136300e-03]])"
      ]
     },
     "execution_count": 630,
     "metadata": {},
     "output_type": "execute_result"
    }
   ],
   "source": [
    "model.coef_"
   ]
  },
  {
   "cell_type": "code",
   "execution_count": 631,
   "metadata": {},
   "outputs": [
    {
     "data": {
      "text/plain": [
       "-0.5426128679693407"
      ]
     },
     "execution_count": 631,
     "metadata": {},
     "output_type": "execute_result"
    }
   ],
   "source": [
    "model.intercept_[0]"
   ]
  },
  {
   "cell_type": "code",
   "execution_count": 632,
   "metadata": {},
   "outputs": [],
   "source": [
    "from sklearn import metrics"
   ]
  },
  {
   "cell_type": "code",
   "execution_count": 633,
   "metadata": {},
   "outputs": [
    {
     "data": {
      "text/plain": [
       "0.95"
      ]
     },
     "execution_count": 633,
     "metadata": {},
     "output_type": "execute_result"
    }
   ],
   "source": [
    "metrics.accuracy_score(y_train, y_pred_train).round(2)"
   ]
  },
  {
   "cell_type": "code",
   "execution_count": 634,
   "metadata": {},
   "outputs": [
    {
     "data": {
      "text/plain": [
       "<bound method ClassifierMixin.score of LogisticRegression(C=10, max_iter=1000, random_state=42, solver='liblinear')>"
      ]
     },
     "execution_count": 634,
     "metadata": {},
     "output_type": "execute_result"
    }
   ],
   "source": [
    "model.score"
   ]
  },
  {
   "cell_type": "code",
   "execution_count": 635,
   "metadata": {},
   "outputs": [],
   "source": [
    "y_pred_val = model.predict(X_val)"
   ]
  },
  {
   "cell_type": "code",
   "execution_count": 636,
   "metadata": {},
   "outputs": [
    {
     "data": {
      "text/plain": [
       "0.95"
      ]
     },
     "execution_count": 636,
     "metadata": {},
     "output_type": "execute_result"
    }
   ],
   "source": [
    "metrics.accuracy_score(y_val, y_pred_val).round(2)"
   ]
  },
  {
   "cell_type": "markdown",
   "metadata": {},
   "source": [
    "Question 4: What accuracy did you get?\n",
    "- 0.95"
   ]
  },
  {
   "cell_type": "markdown",
   "metadata": {},
   "source": [
    "- Dicts\n",
    "- Vectorizer\n",
    "- Logistic Regression\n",
    "- Score\n",
    "- Compare scores"
   ]
  },
  {
   "cell_type": "code",
   "execution_count": 639,
   "metadata": {},
   "outputs": [],
   "source": [
    "# Logistic regression for categorical variables\n",
    "def log_reg_cat(data, y_data, categorical, numerical):\n",
    "    scores = {}\n",
    "    difference = {}\n",
    "    \n",
    "    for cat_var in categorical:\n",
    "        selected_cols = [var for var in categorical if var != cat_var] + numerical\n",
    "        data_subset = data[selected_cols]\n",
    "    \n",
    "        dicts = data_subset.to_dict(orient='records')    \n",
    "    \n",
    "        dv = DictVectorizer(sparse=False)\n",
    "        X = dv.fit_transform(dicts)\n",
    "\n",
    "        model = LogisticRegression(solver='liblinear', C=10, max_iter=1000, random_state=42)\n",
    "        model.fit(X, y_data)\n",
    "        y_pred = model.predict(X)\n",
    "\n",
    "        score = metrics.accuracy_score(y_data, y_pred).round(2)\n",
    "        scores[f'Excluding {cat_var}'] = score\n",
    "\n",
    "    return scores"
   ]
  },
  {
   "cell_type": "code",
   "execution_count": 640,
   "metadata": {},
   "outputs": [
    {
     "name": "stdout",
     "output_type": "stream",
     "text": [
      "Accuracy (Excluding make): 0.95\n",
      "Difference 0.00\n",
      "Accuracy (Excluding model): 0.91\n",
      "Difference 0.04\n",
      "Accuracy (Excluding transmission_type): 0.95\n",
      "Difference 0.00\n",
      "Accuracy (Excluding vehicle_style): 0.95\n",
      "Difference 0.00\n"
     ]
    }
   ],
   "source": [
    "# Get the score for train dataset\n",
    "scores = log_reg_cat(data_train, y_train, categorical, numerical)\n",
    "\n",
    "for cat_var, score in scores.items():\n",
    "    print(f'Accuracy ({cat_var}): {score:.2f}')\n",
    "    print(f'Difference {0.95 - score:.2f}')"
   ]
  },
  {
   "cell_type": "code",
   "execution_count": 641,
   "metadata": {},
   "outputs": [
    {
     "name": "stdout",
     "output_type": "stream",
     "text": [
      "Accuracy (Excluding make): 0.96\n",
      "Difference -0.01\n",
      "Accuracy (Excluding model): 0.92\n",
      "Difference 0.03\n",
      "Accuracy (Excluding transmission_type): 0.97\n",
      "Difference -0.02\n",
      "Accuracy (Excluding vehicle_style): 0.96\n",
      "Difference -0.01\n"
     ]
    }
   ],
   "source": [
    "# Get the score for validation dataset\n",
    "scores = log_reg_cat(data_val, y_val, categorical, numerical)\n",
    "\n",
    "for cat_var, score in scores.items():\n",
    "    print(f'Accuracy ({cat_var}): {score:.2f}')\n",
    "    print(f'Difference {0.95 - score:.2f}')"
   ]
  },
  {
   "cell_type": "code",
   "execution_count": 642,
   "metadata": {},
   "outputs": [],
   "source": [
    "# Logistic regression for numerical variables\n",
    "def log_reg_num(data, y_data, categorical, numerical):\n",
    "    scores = {}\n",
    "    \n",
    "    for num_var in numerical:\n",
    "        selected_cols = [var for var in numerical if var != num_var] + categorical\n",
    "        data_subset = data[selected_cols]\n",
    "    \n",
    "        dicts = data_subset.to_dict(orient='records')    \n",
    "    \n",
    "        dv = DictVectorizer(sparse=False)\n",
    "        X = dv.fit_transform(dicts)\n",
    "\n",
    "        model = LogisticRegression(solver='liblinear', C=10, max_iter=1000, random_state=42)\n",
    "        model.fit(X, y_data)\n",
    "        y_pred = model.predict(X)\n",
    "\n",
    "        score = metrics.accuracy_score(y_data, y_pred).round(2)\n",
    "        scores[f'Excluding {num_var}'] = score\n",
    "\n",
    "    return scores"
   ]
  },
  {
   "cell_type": "code",
   "execution_count": 643,
   "metadata": {},
   "outputs": [
    {
     "name": "stdout",
     "output_type": "stream",
     "text": [
      "Accuracy (Excluding year): 0.96\n",
      "Difference -0.01\n",
      "Accuracy (Excluding engine_hp): 0.94\n",
      "Difference 0.01\n",
      "Accuracy (Excluding engine_cylinders): 0.96\n",
      "Difference -0.01\n",
      "Accuracy (Excluding highway_mpg): 0.96\n",
      "Difference -0.01\n",
      "Accuracy (Excluding city_mpg): 0.95\n",
      "Difference 0.00\n"
     ]
    }
   ],
   "source": [
    "# Get the score for train dataset\n",
    "scores = log_reg_num(data_train, y_train, categorical, numerical)\n",
    "\n",
    "for num_var, score in scores.items():\n",
    "    print(f'Accuracy ({num_var}): {score:.2f}')\n",
    "    print(f'Difference {0.95 - score:.2f}')"
   ]
  },
  {
   "cell_type": "code",
   "execution_count": 644,
   "metadata": {},
   "outputs": [
    {
     "name": "stdout",
     "output_type": "stream",
     "text": [
      "Accuracy (Excluding year): 0.97\n",
      "Difference -0.02\n",
      "Accuracy (Excluding engine_hp): 0.95\n",
      "Difference 0.00\n",
      "Accuracy (Excluding engine_cylinders): 0.97\n",
      "Difference -0.02\n",
      "Accuracy (Excluding highway_mpg): 0.97\n",
      "Difference -0.02\n",
      "Accuracy (Excluding city_mpg): 0.95\n",
      "Difference 0.00\n"
     ]
    }
   ],
   "source": [
    "# Get the score for validation dataset\n",
    "scores = log_reg_num(data_val, y_val, categorical, numerical)\n",
    "\n",
    "for num_var, score in scores.items():\n",
    "    print(f'Accuracy ({num_var}): {score:.2f}')\n",
    "    print(f'Difference {0.95 - score:.2f}')"
   ]
  },
  {
   "cell_type": "markdown",
   "metadata": {},
   "source": [
    "QUestion 5: Which of following feature has the smallest difference?\n",
    "- `year` 0.02\n",
    "- `engine_hp` 0.0\n",
    "- `transmission_type` 0.02\n",
    "- `city_mpg` 0.0"
   ]
  },
  {
   "cell_type": "markdown",
   "metadata": {},
   "source": [
    "Linear regression"
   ]
  },
  {
   "cell_type": "code",
   "execution_count": 650,
   "metadata": {},
   "outputs": [],
   "source": [
    "from sklearn.linear_model import Ridge\n",
    "from sklearn.metrics import mean_squared_error\n",
    "import math\n",
    "from tqdm import tqdm"
   ]
  },
  {
   "cell_type": "code",
   "execution_count": 685,
   "metadata": {},
   "outputs": [],
   "source": [
    "def ridge_regression_scores(X, y, X_val, y_val):\n",
    "    alpha_values = [0, 0.01, 0.1, 1, 10]\n",
    "    scores = {}\n",
    "\n",
    "    for alpha in tqdm(alpha_values, desc='Alpha Values'):\n",
    "        model = Ridge(solver='sag', random_state=42, alpha=alpha)\n",
    "        model.fit(X, y)\n",
    "        y_pred = model.predict(X_val)\n",
    "        rmse = math.sqrt(mean_squared_error(y_val, y_pred))\n",
    "        scores[alpha] = round(float(rmse), 3)\n",
    "\n",
    "        \n",
    "    return scores"
   ]
  },
  {
   "cell_type": "code",
   "execution_count": 686,
   "metadata": {},
   "outputs": [
    {
     "name": "stderr",
     "output_type": "stream",
     "text": [
      "Alpha Values:   0%|          | 0/5 [00:00<?, ?it/s]/home/cacaprog/anaconda3/lib/python3.11/site-packages/sklearn/linear_model/_sag.py:350: ConvergenceWarning: The max_iter was reached which means the coef_ did not converge\n",
      "  warnings.warn(\n",
      "Alpha Values:  20%|██        | 1/5 [00:33<02:13, 33.38s/it]/home/cacaprog/anaconda3/lib/python3.11/site-packages/sklearn/linear_model/_sag.py:350: ConvergenceWarning: The max_iter was reached which means the coef_ did not converge\n",
      "  warnings.warn(\n",
      "Alpha Values:  40%|████      | 2/5 [01:06<01:40, 33.36s/it]/home/cacaprog/anaconda3/lib/python3.11/site-packages/sklearn/linear_model/_sag.py:350: ConvergenceWarning: The max_iter was reached which means the coef_ did not converge\n",
      "  warnings.warn(\n",
      "Alpha Values:  60%|██████    | 3/5 [01:40<01:06, 33.46s/it]/home/cacaprog/anaconda3/lib/python3.11/site-packages/sklearn/linear_model/_sag.py:350: ConvergenceWarning: The max_iter was reached which means the coef_ did not converge\n",
      "  warnings.warn(\n",
      "Alpha Values:  80%|████████  | 4/5 [02:14<00:33, 33.57s/it]/home/cacaprog/anaconda3/lib/python3.11/site-packages/sklearn/linear_model/_sag.py:350: ConvergenceWarning: The max_iter was reached which means the coef_ did not converge\n",
      "  warnings.warn(\n",
      "Alpha Values: 100%|██████████| 5/5 [02:47<00:00, 33.49s/it]"
     ]
    },
    {
     "name": "stdout",
     "output_type": "stream",
     "text": [
      "Ridge Regression (alpha=0): RMSE = 0.487\n",
      "Ridge Regression (alpha=0.01): RMSE = 0.487\n",
      "Ridge Regression (alpha=0.1): RMSE = 0.487\n",
      "Ridge Regression (alpha=1): RMSE = 0.487\n",
      "Ridge Regression (alpha=10): RMSE = 0.487\n"
     ]
    },
    {
     "name": "stderr",
     "output_type": "stream",
     "text": [
      "\n"
     ]
    }
   ],
   "source": [
    "# Score (RMSE) the ridge regression model\n",
    "scores = ridge_regression_scores(X_train, y_train_lin, X_val, y_val_lin)\n",
    "\n",
    "for alpha, rmse in scores.items():\n",
    "    print(f'Ridge Regression (alpha={alpha}): RMSE = {rmse}')"
   ]
  },
  {
   "cell_type": "code",
   "execution_count": 687,
   "metadata": {},
   "outputs": [
    {
     "data": {
      "text/plain": [
       "{0: 0.487, 0.01: 0.487, 0.1: 0.487, 1: 0.487, 10: 0.487}"
      ]
     },
     "execution_count": 687,
     "metadata": {},
     "output_type": "execute_result"
    }
   ],
   "source": [
    "scores"
   ]
  },
  {
   "cell_type": "code",
   "execution_count": 689,
   "metadata": {},
   "outputs": [
    {
     "data": {
      "text/plain": [
       "dict_items([(0, 0.487), (0.01, 0.487), (0.1, 0.487), (1, 0.487), (10, 0.487)])"
      ]
     },
     "execution_count": 689,
     "metadata": {},
     "output_type": "execute_result"
    }
   ],
   "source": [
    "scores.items()"
   ]
  },
  {
   "cell_type": "code",
   "execution_count": null,
   "metadata": {},
   "outputs": [],
   "source": []
  }
 ],
 "metadata": {
  "kernelspec": {
   "display_name": "base",
   "language": "python",
   "name": "python3"
  },
  "language_info": {
   "codemirror_mode": {
    "name": "ipython",
    "version": 3
   },
   "file_extension": ".py",
   "mimetype": "text/x-python",
   "name": "python",
   "nbconvert_exporter": "python",
   "pygments_lexer": "ipython3",
   "version": "3.11.4"
  },
  "orig_nbformat": 4
 },
 "nbformat": 4,
 "nbformat_minor": 2
}
