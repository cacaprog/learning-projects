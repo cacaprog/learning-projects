{
 "cells": [
  {
   "cell_type": "code",
   "execution_count": 14,
   "metadata": {},
   "outputs": [],
   "source": [
    "import pandas as pd\n",
    "import numpy as np\n",
    "import seaborn as sns\n",
    "import matplotlib.pyplot as plt\n",
    "import xgboost as xgb\n",
    "from sklearn.tree import export_text\n",
    "from sklearn.metrics import mean_squared_error\n",
    "from sklearn.model_selection import train_test_split\n",
    "from sklearn.feature_extraction import DictVectorizer"
   ]
  },
  {
   "cell_type": "code",
   "execution_count": 15,
   "metadata": {},
   "outputs": [],
   "source": [
    "df = pd.read_csv('/home/my_repos/learning-projects/ml-zoomcamp/midterm-project/spotify_song_cleaned.csv')"
   ]
  },
  {
   "cell_type": "code",
   "execution_count": 16,
   "metadata": {},
   "outputs": [
    {
     "name": "stdout",
     "output_type": "stream",
     "text": [
      "<class 'pandas.core.frame.DataFrame'>\n",
      "RangeIndex: 28351 entries, 0 to 28350\n",
      "Data columns (total 22 columns):\n",
      " #   Column             Non-Null Count  Dtype  \n",
      "---  ------             --------------  -----  \n",
      " 0   track_id           28351 non-null  object \n",
      " 1   track_name         28351 non-null  object \n",
      " 2   track_artist       28351 non-null  object \n",
      " 3   track_popularity   28351 non-null  int64  \n",
      " 4   track_album_id     28351 non-null  object \n",
      " 5   track_album_name   28351 non-null  object \n",
      " 6   playlist_name      28351 non-null  object \n",
      " 7   playlist_id        28351 non-null  object \n",
      " 8   playlist_genre     28351 non-null  object \n",
      " 9   playlist_subgenre  28351 non-null  object \n",
      " 10  danceability       28351 non-null  float64\n",
      " 11  energy             28351 non-null  float64\n",
      " 12  key                28351 non-null  int64  \n",
      " 13  loudness           28351 non-null  float64\n",
      " 14  mode               28351 non-null  int64  \n",
      " 15  speechiness        28351 non-null  float64\n",
      " 16  acousticness       28351 non-null  float64\n",
      " 17  instrumentalness   28351 non-null  float64\n",
      " 18  liveness           28351 non-null  float64\n",
      " 19  valence            28351 non-null  float64\n",
      " 20  tempo              28351 non-null  float64\n",
      " 21  duration_ms        28351 non-null  int64  \n",
      "dtypes: float64(9), int64(4), object(9)\n",
      "memory usage: 4.8+ MB\n"
     ]
    }
   ],
   "source": [
    "df.info()"
   ]
  },
  {
   "cell_type": "code",
   "execution_count": 17,
   "metadata": {},
   "outputs": [],
   "source": [
    "df_train, df_test = train_test_split(df, test_size=0.2, random_state=42)"
   ]
  },
  {
   "cell_type": "code",
   "execution_count": 18,
   "metadata": {},
   "outputs": [],
   "source": [
    "columns = ['track_popularity', 'danceability', 'energy', 'key', 'loudness', \n",
    "             'mode', 'speechiness', 'acousticness', 'instrumentalness', 'liveness', \n",
    "             'tempo', 'duration_ms']"
   ]
  },
  {
   "cell_type": "code",
   "execution_count": 19,
   "metadata": {},
   "outputs": [],
   "source": [
    "df_train = df_train.reset_index(drop=True)\n",
    "df_test = df_test.reset_index(drop=True)"
   ]
  },
  {
   "cell_type": "code",
   "execution_count": 20,
   "metadata": {},
   "outputs": [],
   "source": [
    "y_train = df_train.valence.values\n",
    "y_test = df_test.valence.values"
   ]
  },
  {
   "cell_type": "code",
   "execution_count": 21,
   "metadata": {},
   "outputs": [],
   "source": [
    "train_dicts = df_train[columns].to_dict(orient='records')\n",
    "test_dicts = df_test[columns].to_dict(orient='records')"
   ]
  },
  {
   "cell_type": "code",
   "execution_count": 23,
   "metadata": {},
   "outputs": [],
   "source": [
    "dv = DictVectorizer(sparse=False)\n",
    "\n",
    "X_train = dv.fit_transform(train_dicts)\n",
    "X_test = dv.transform(test_dicts)"
   ]
  },
  {
   "cell_type": "code",
   "execution_count": 37,
   "metadata": {},
   "outputs": [
    {
     "name": "stdout",
     "output_type": "stream",
     "text": [
      "[0]\ttrain-rmse:0.21967\ttest-rmse:0.21983\n"
     ]
    },
    {
     "name": "stdout",
     "output_type": "stream",
     "text": [
      "[1]\ttrain-rmse:0.21024\ttest-rmse:0.21196\n",
      "[2]\ttrain-rmse:0.20380\ttest-rmse:0.20674\n",
      "[3]\ttrain-rmse:0.19899\ttest-rmse:0.20257\n",
      "[4]\ttrain-rmse:0.19529\ttest-rmse:0.20026\n",
      "[5]\ttrain-rmse:0.19203\ttest-rmse:0.19808\n",
      "[6]\ttrain-rmse:0.18982\ttest-rmse:0.19658\n",
      "[7]\ttrain-rmse:0.18762\ttest-rmse:0.19531\n",
      "[8]\ttrain-rmse:0.18555\ttest-rmse:0.19402\n",
      "[9]\ttrain-rmse:0.18394\ttest-rmse:0.19325\n",
      "[10]\ttrain-rmse:0.18269\ttest-rmse:0.19266\n",
      "[11]\ttrain-rmse:0.18100\ttest-rmse:0.19185\n",
      "[12]\ttrain-rmse:0.17972\ttest-rmse:0.19148\n",
      "[13]\ttrain-rmse:0.17853\ttest-rmse:0.19117\n",
      "[14]\ttrain-rmse:0.17766\ttest-rmse:0.19089\n",
      "[15]\ttrain-rmse:0.17659\ttest-rmse:0.19058\n",
      "[16]\ttrain-rmse:0.17569\ttest-rmse:0.19034\n",
      "[17]\ttrain-rmse:0.17509\ttest-rmse:0.19033\n",
      "[18]\ttrain-rmse:0.17401\ttest-rmse:0.19018\n",
      "[19]\ttrain-rmse:0.17325\ttest-rmse:0.18998\n",
      "[20]\ttrain-rmse:0.17233\ttest-rmse:0.18991\n",
      "[21]\ttrain-rmse:0.17175\ttest-rmse:0.18981\n",
      "[22]\ttrain-rmse:0.17111\ttest-rmse:0.18973\n",
      "[23]\ttrain-rmse:0.17046\ttest-rmse:0.18951\n",
      "[24]\ttrain-rmse:0.17013\ttest-rmse:0.18946\n",
      "[25]\ttrain-rmse:0.16957\ttest-rmse:0.18939\n",
      "[26]\ttrain-rmse:0.16890\ttest-rmse:0.18939\n",
      "[27]\ttrain-rmse:0.16860\ttest-rmse:0.18936\n",
      "[28]\ttrain-rmse:0.16800\ttest-rmse:0.18931\n",
      "[29]\ttrain-rmse:0.16781\ttest-rmse:0.18927\n",
      "[30]\ttrain-rmse:0.16757\ttest-rmse:0.18927\n",
      "[31]\ttrain-rmse:0.16693\ttest-rmse:0.18926\n",
      "[32]\ttrain-rmse:0.16651\ttest-rmse:0.18912\n",
      "[33]\ttrain-rmse:0.16581\ttest-rmse:0.18911\n",
      "[34]\ttrain-rmse:0.16552\ttest-rmse:0.18911\n",
      "[35]\ttrain-rmse:0.16504\ttest-rmse:0.18909\n",
      "[36]\ttrain-rmse:0.16471\ttest-rmse:0.18906\n",
      "[37]\ttrain-rmse:0.16430\ttest-rmse:0.18919\n",
      "[38]\ttrain-rmse:0.16400\ttest-rmse:0.18916\n",
      "[39]\ttrain-rmse:0.16326\ttest-rmse:0.18908\n",
      "[40]\ttrain-rmse:0.16302\ttest-rmse:0.18911\n",
      "[41]\ttrain-rmse:0.16234\ttest-rmse:0.18904\n",
      "[42]\ttrain-rmse:0.16193\ttest-rmse:0.18902\n",
      "[43]\ttrain-rmse:0.16153\ttest-rmse:0.18904\n",
      "[44]\ttrain-rmse:0.16102\ttest-rmse:0.18902\n",
      "[45]\ttrain-rmse:0.16083\ttest-rmse:0.18907\n",
      "[46]\ttrain-rmse:0.16051\ttest-rmse:0.18917\n",
      "[47]\ttrain-rmse:0.15981\ttest-rmse:0.18919\n",
      "[48]\ttrain-rmse:0.15929\ttest-rmse:0.18932\n",
      "[49]\ttrain-rmse:0.15897\ttest-rmse:0.18942\n"
     ]
    }
   ],
   "source": [
    "evals_result = {}\n",
    "\n",
    "features = dv.get_feature_names_out()\n",
    "\n",
    "dtrain = xgb.DMatrix(X_train,\n",
    "                     label=y_train,\n",
    "                     feature_names=features)\n",
    "\n",
    "dtest = xgb.DMatrix(X_test,\n",
    "                     label=y_test,\n",
    "                     feature_names=features)\n",
    "\n",
    "watchlist = [(dtrain, 'train'), (dtest, 'test')]\n",
    "\n",
    "xgb_params = {\n",
    "    'eta': 0.3,\n",
    "    'max_depth': 6,\n",
    "    'min_child_weight': 1,\n",
    "\n",
    "    'objective': 'reg:squarederror',\n",
    "    'eval_metric': 'rmse',\n",
    "\n",
    "    'nthread': 8,\n",
    "    'seed': 1,\n",
    "    'verbosity': 1\n",
    "}\n",
    "\n",
    "model = xgb.train(params=xgb_params, \n",
    "                      dtrain=dtrain, \n",
    "                      num_boost_round=50,\n",
    "                      evals=watchlist,\n",
    "                      evals_result=evals_result,\n",
    "                      verbose_eval=1)\n",
    "\n",
    "test_rmse_scores = evals_result['test']['rmse']\n",
    "train_rmse_scores = evals_result['train']['rmse']"
   ]
  },
  {
   "cell_type": "code",
   "execution_count": 39,
   "metadata": {},
   "outputs": [
    {
     "data": {
      "image/png": "[encoded data removed]",
      "text/plain": [
       "<Figure size 640x480 with 1 Axes>"
      ]
     },
     "metadata": {},
     "output_type": "display_data"
    }
   ],
   "source": [
    "plt.plot(train_rmse_scores, label='train')\n",
    "plt.plot(test_rmse_scores, label='test')\n",
    "plt.legend()\n",
    "plt.show()"
   ]
  }
 ],
 "metadata": {
  "kernelspec": {
   "display_name": "Python 3",
   "language": "python",
   "name": "python3"
  },
  "language_info": {
   "codemirror_mode": {
    "name": "ipython",
    "version": 3
   },
   "file_extension": ".py",
   "mimetype": "text/x-python",
   "name": "python",
   "nbconvert_exporter": "python",
   "pygments_lexer": "ipython3",
   "version": "3.11.5"
  }
 },
 "nbformat": 4,
 "nbformat_minor": 2
}
