{
  "cells": [
    {
      "cell_type": "markdown",
      "metadata": {
        "id": "2EjDU9m2v4UJ"
      },
      "source": [
        "# Exploratory Data Analysis"
      ]
    },
    {
      "cell_type": "code",
      "execution_count": 11,
      "metadata": {
        "id": "40neptG07gTo"
      },
      "outputs": [],
      "source": [
        "# import necessary libraries\n",
        "import pandas as pd\n",
        "import numpy as np\n",
        "import matplotlib.pyplot as plt\n",
        "import seaborn as sns"
      ]
    },
    {
      "cell_type": "code",
      "execution_count": 12,
      "metadata": {
        "colab": {
          "base_uri": "https://localhost:8080/"
        },
        "id": "JM68dfJkS3OF",
        "outputId": "883b7c57-ec13-4185-f52e-ce7d75233f94"
      },
      "outputs": [
        {
          "name": "stdout",
          "output_type": "stream",
          "text": [
            "            scientific_name                            park_name  observations\n",
            "0        Vicia benghalensis  Great Smoky Mountains National Park            68\n",
            "1            Neovison vison  Great Smoky Mountains National Park            77\n",
            "2         Prunus subcordata               Yosemite National Park           138\n",
            "3      Abutilon theophrasti                  Bryce National Park            84\n",
            "4  Githopsis specularioides  Great Smoky Mountains National Park            85\n",
            "scientific_name    0\n",
            "park_name          0\n",
            "observations       0\n",
            "dtype: int64\n"
          ]
        }
      ],
      "source": [
        "# load the datasets\n",
        "obs = pd.read_csv(\"/home/cacaprog/learning-projects/biodiversity/observations.csv\")\n",
        "\n",
        "# print the first few rows of the DataFrame\n",
        "print(obs.head(5))\n",
        "\n",
        "# check for missing values\n",
        "print(obs.isnull().sum())\n"
      ]
    },
    {
      "cell_type": "code",
      "execution_count": 13,
      "metadata": {
        "colab": {
          "base_uri": "https://localhost:8080/",
          "height": 394
        },
        "id": "9LXkH61zpxj1",
        "outputId": "3bf83b4d-670d-4529-8ab2-e4cd12908de7"
      },
      "outputs": [
        {
          "data": {
            "text/html": [
              "<div>\n",
              "<style scoped>\n",
              "    .dataframe tbody tr th:only-of-type {\n",
              "        vertical-align: middle;\n",
              "    }\n",
              "\n",
              "    .dataframe tbody tr th {\n",
              "        vertical-align: top;\n",
              "    }\n",
              "\n",
              "    .dataframe thead th {\n",
              "        text-align: right;\n",
              "    }\n",
              "</style>\n",
              "<table border=\"1\" class=\"dataframe\">\n",
              "  <thead>\n",
              "    <tr style=\"text-align: right;\">\n",
              "      <th></th>\n",
              "      <th>scientific_name</th>\n",
              "      <th>park_name</th>\n",
              "      <th>observations</th>\n",
              "    </tr>\n",
              "  </thead>\n",
              "  <tbody>\n",
              "    <tr>\n",
              "      <th>count</th>\n",
              "      <td>23296</td>\n",
              "      <td>23296</td>\n",
              "      <td>23296.000000</td>\n",
              "    </tr>\n",
              "    <tr>\n",
              "      <th>unique</th>\n",
              "      <td>5541</td>\n",
              "      <td>4</td>\n",
              "      <td>NaN</td>\n",
              "    </tr>\n",
              "    <tr>\n",
              "      <th>top</th>\n",
              "      <td>Myotis lucifugus</td>\n",
              "      <td>Great Smoky Mountains National Park</td>\n",
              "      <td>NaN</td>\n",
              "    </tr>\n",
              "    <tr>\n",
              "      <th>freq</th>\n",
              "      <td>12</td>\n",
              "      <td>5824</td>\n",
              "      <td>NaN</td>\n",
              "    </tr>\n",
              "    <tr>\n",
              "      <th>mean</th>\n",
              "      <td>NaN</td>\n",
              "      <td>NaN</td>\n",
              "      <td>142.287904</td>\n",
              "    </tr>\n",
              "    <tr>\n",
              "      <th>std</th>\n",
              "      <td>NaN</td>\n",
              "      <td>NaN</td>\n",
              "      <td>69.890532</td>\n",
              "    </tr>\n",
              "    <tr>\n",
              "      <th>min</th>\n",
              "      <td>NaN</td>\n",
              "      <td>NaN</td>\n",
              "      <td>9.000000</td>\n",
              "    </tr>\n",
              "    <tr>\n",
              "      <th>25%</th>\n",
              "      <td>NaN</td>\n",
              "      <td>NaN</td>\n",
              "      <td>86.000000</td>\n",
              "    </tr>\n",
              "    <tr>\n",
              "      <th>50%</th>\n",
              "      <td>NaN</td>\n",
              "      <td>NaN</td>\n",
              "      <td>124.000000</td>\n",
              "    </tr>\n",
              "    <tr>\n",
              "      <th>75%</th>\n",
              "      <td>NaN</td>\n",
              "      <td>NaN</td>\n",
              "      <td>195.000000</td>\n",
              "    </tr>\n",
              "    <tr>\n",
              "      <th>max</th>\n",
              "      <td>NaN</td>\n",
              "      <td>NaN</td>\n",
              "      <td>321.000000</td>\n",
              "    </tr>\n",
              "  </tbody>\n",
              "</table>\n",
              "</div>"
            ],
            "text/plain": [
              "         scientific_name                            park_name  observations\n",
              "count              23296                                23296  23296.000000\n",
              "unique              5541                                    4           NaN\n",
              "top     Myotis lucifugus  Great Smoky Mountains National Park           NaN\n",
              "freq                  12                                 5824           NaN\n",
              "mean                 NaN                                  NaN    142.287904\n",
              "std                  NaN                                  NaN     69.890532\n",
              "min                  NaN                                  NaN      9.000000\n",
              "25%                  NaN                                  NaN     86.000000\n",
              "50%                  NaN                                  NaN    124.000000\n",
              "75%                  NaN                                  NaN    195.000000\n",
              "max                  NaN                                  NaN    321.000000"
            ]
          },
          "execution_count": 13,
          "metadata": {},
          "output_type": "execute_result"
        }
      ],
      "source": [
        "obs.describe(include='all')"
      ]
    },
    {
      "cell_type": "code",
      "execution_count": 14,
      "metadata": {
        "colab": {
          "base_uri": "https://localhost:8080/"
        },
        "id": "oEexcFeRqh7q",
        "outputId": "51359054-977a-42b6-f160-cf74865f1b59"
      },
      "outputs": [
        {
          "data": {
            "text/plain": [
              "False    23281\n",
              "True        15\n",
              "dtype: int64"
            ]
          },
          "execution_count": 14,
          "metadata": {},
          "output_type": "execute_result"
        }
      ],
      "source": [
        "# Have duplicated data?\n",
        "obs.duplicated().value_counts()"
      ]
    },
    {
      "cell_type": "code",
      "execution_count": 15,
      "metadata": {
        "colab": {
          "base_uri": "https://localhost:8080/",
          "height": 424
        },
        "id": "txgE-tjtz-JV",
        "outputId": "90c04164-a13b-4eae-9fb6-15338c20bb69"
      },
      "outputs": [
        {
          "data": {
            "text/html": [
              "<div>\n",
              "<style scoped>\n",
              "    .dataframe tbody tr th:only-of-type {\n",
              "        vertical-align: middle;\n",
              "    }\n",
              "\n",
              "    .dataframe tbody tr th {\n",
              "        vertical-align: top;\n",
              "    }\n",
              "\n",
              "    .dataframe thead th {\n",
              "        text-align: right;\n",
              "    }\n",
              "</style>\n",
              "<table border=\"1\" class=\"dataframe\">\n",
              "  <thead>\n",
              "    <tr style=\"text-align: right;\">\n",
              "      <th></th>\n",
              "      <th>scientific_name</th>\n",
              "      <th>park_name</th>\n",
              "      <th>observations</th>\n",
              "    </tr>\n",
              "  </thead>\n",
              "  <tbody>\n",
              "    <tr>\n",
              "      <th>483</th>\n",
              "      <td>Agrostis gigantea</td>\n",
              "      <td>Yellowstone National Park</td>\n",
              "      <td>235</td>\n",
              "    </tr>\n",
              "    <tr>\n",
              "      <th>490</th>\n",
              "      <td>Agrostis mertensii</td>\n",
              "      <td>Yosemite National Park</td>\n",
              "      <td>128</td>\n",
              "    </tr>\n",
              "    <tr>\n",
              "      <th>945</th>\n",
              "      <td>Rumex crispus</td>\n",
              "      <td>Yellowstone National Park</td>\n",
              "      <td>255</td>\n",
              "    </tr>\n",
              "    <tr>\n",
              "      <th>1213</th>\n",
              "      <td>Dianthus barbatus</td>\n",
              "      <td>Bryce National Park</td>\n",
              "      <td>110</td>\n",
              "    </tr>\n",
              "    <tr>\n",
              "      <th>1259</th>\n",
              "      <td>Riparia riparia</td>\n",
              "      <td>Bryce National Park</td>\n",
              "      <td>91</td>\n",
              "    </tr>\n",
              "    <tr>\n",
              "      <th>...</th>\n",
              "      <td>...</td>\n",
              "      <td>...</td>\n",
              "      <td>...</td>\n",
              "    </tr>\n",
              "    <tr>\n",
              "      <th>23258</th>\n",
              "      <td>Microtus longicaudus</td>\n",
              "      <td>Yellowstone National Park</td>\n",
              "      <td>244</td>\n",
              "    </tr>\n",
              "    <tr>\n",
              "      <th>23259</th>\n",
              "      <td>Agrostis scabra</td>\n",
              "      <td>Bryce National Park</td>\n",
              "      <td>118</td>\n",
              "    </tr>\n",
              "    <tr>\n",
              "      <th>23267</th>\n",
              "      <td>Oxalis corniculata</td>\n",
              "      <td>Yosemite National Park</td>\n",
              "      <td>164</td>\n",
              "    </tr>\n",
              "    <tr>\n",
              "      <th>23273</th>\n",
              "      <td>Dactylis glomerata</td>\n",
              "      <td>Bryce National Park</td>\n",
              "      <td>89</td>\n",
              "    </tr>\n",
              "    <tr>\n",
              "      <th>23280</th>\n",
              "      <td>Botrychium simplex</td>\n",
              "      <td>Yellowstone National Park</td>\n",
              "      <td>241</td>\n",
              "    </tr>\n",
              "  </tbody>\n",
              "</table>\n",
              "<p>1132 rows × 3 columns</p>\n",
              "</div>"
            ],
            "text/plain": [
              "            scientific_name                  park_name  observations\n",
              "483       Agrostis gigantea  Yellowstone National Park           235\n",
              "490      Agrostis mertensii     Yosemite National Park           128\n",
              "945           Rumex crispus  Yellowstone National Park           255\n",
              "1213      Dianthus barbatus        Bryce National Park           110\n",
              "1259        Riparia riparia        Bryce National Park            91\n",
              "...                     ...                        ...           ...\n",
              "23258  Microtus longicaudus  Yellowstone National Park           244\n",
              "23259       Agrostis scabra        Bryce National Park           118\n",
              "23267    Oxalis corniculata     Yosemite National Park           164\n",
              "23273    Dactylis glomerata        Bryce National Park            89\n",
              "23280    Botrychium simplex  Yellowstone National Park           241\n",
              "\n",
              "[1132 rows x 3 columns]"
            ]
          },
          "execution_count": 15,
          "metadata": {},
          "output_type": "execute_result"
        }
      ],
      "source": [
        "# Check for duplicate data\n",
        "obs[obs.duplicated(subset=['scientific_name', 'park_name'])]"
      ]
    },
    {
      "cell_type": "code",
      "execution_count": 16,
      "metadata": {
        "colab": {
          "base_uri": "https://localhost:8080/",
          "height": 175
        },
        "id": "h00g71_s0fRl",
        "outputId": "9f0961b2-91d6-4ad2-b9b1-63d70bd29d9d"
      },
      "outputs": [
        {
          "data": {
            "text/html": [
              "<div>\n",
              "<style scoped>\n",
              "    .dataframe tbody tr th:only-of-type {\n",
              "        vertical-align: middle;\n",
              "    }\n",
              "\n",
              "    .dataframe tbody tr th {\n",
              "        vertical-align: top;\n",
              "    }\n",
              "\n",
              "    .dataframe thead th {\n",
              "        text-align: right;\n",
              "    }\n",
              "</style>\n",
              "<table border=\"1\" class=\"dataframe\">\n",
              "  <thead>\n",
              "    <tr style=\"text-align: right;\">\n",
              "      <th></th>\n",
              "      <th>scientific_name</th>\n",
              "      <th>park_name</th>\n",
              "      <th>observations</th>\n",
              "    </tr>\n",
              "  </thead>\n",
              "  <tbody>\n",
              "    <tr>\n",
              "      <th>55</th>\n",
              "      <td>Penstemon procerus</td>\n",
              "      <td>Great Smoky Mountains National Park</td>\n",
              "      <td>67</td>\n",
              "    </tr>\n",
              "    <tr>\n",
              "      <th>211</th>\n",
              "      <td>Penstemon procerus</td>\n",
              "      <td>Yellowstone National Park</td>\n",
              "      <td>215</td>\n",
              "    </tr>\n",
              "    <tr>\n",
              "      <th>2334</th>\n",
              "      <td>Penstemon procerus</td>\n",
              "      <td>Bryce National Park</td>\n",
              "      <td>98</td>\n",
              "    </tr>\n",
              "    <tr>\n",
              "      <th>16876</th>\n",
              "      <td>Penstemon procerus</td>\n",
              "      <td>Yosemite National Park</td>\n",
              "      <td>121</td>\n",
              "    </tr>\n",
              "  </tbody>\n",
              "</table>\n",
              "</div>"
            ],
            "text/plain": [
              "          scientific_name                            park_name  observations\n",
              "55     Penstemon procerus  Great Smoky Mountains National Park            67\n",
              "211    Penstemon procerus            Yellowstone National Park           215\n",
              "2334   Penstemon procerus                  Bryce National Park            98\n",
              "16876  Penstemon procerus               Yosemite National Park           121"
            ]
          },
          "execution_count": 16,
          "metadata": {},
          "output_type": "execute_result"
        }
      ],
      "source": [
        "obs[obs.scientific_name == 'Penstemon procerus']"
      ]
    },
    {
      "attachments": {},
      "cell_type": "markdown",
      "metadata": {
        "id": "zOlwO4140iEw"
      },
      "source": [
        "Duplicated scientific name. The same specie was found in different parks."
      ]
    },
    {
      "cell_type": "code",
      "execution_count": 17,
      "metadata": {
        "colab": {
          "base_uri": "https://localhost:8080/"
        },
        "id": "IZkBUBfesAyU",
        "outputId": "3d42f69f-e562-479e-a1b0-9f4be627ac57"
      },
      "outputs": [
        {
          "name": "stdout",
          "output_type": "stream",
          "text": [
            "<class 'pandas.core.frame.DataFrame'>\n",
            "Int64Index: 22164 entries, 0 to 23295\n",
            "Data columns (total 3 columns):\n",
            " #   Column           Non-Null Count  Dtype \n",
            "---  ------           --------------  ----- \n",
            " 0   scientific_name  22164 non-null  object\n",
            " 1   park_name        22164 non-null  object\n",
            " 2   observations     22164 non-null  int64 \n",
            "dtypes: int64(1), object(2)\n",
            "memory usage: 692.6+ KB\n"
          ]
        }
      ],
      "source": [
        "# Calculate the total observations for duplicate records and then remove the duplicates\n",
        "obs['total'] = obs.groupby(['scientific_name', 'park_name'])['observations'].transform('sum')\n",
        "obs.drop_duplicates(subset=['scientific_name', 'park_name'], keep='last', inplace=True)\n",
        "obs = obs[['scientific_name', 'park_name', 'total']]\n",
        "obs = obs.rename(columns={'total': 'observations'})\n",
        "obs.info()"
      ]
    },
    {
      "cell_type": "markdown",
      "metadata": {
        "id": "OGb8KU2V4AlJ"
      },
      "source": [
        "Let's do the same on spec dataframe"
      ]
    },
    {
      "cell_type": "code",
      "execution_count": 18,
      "metadata": {
        "colab": {
          "base_uri": "https://localhost:8080/"
        },
        "id": "Lsk8EL-yTYO0",
        "outputId": "9a8fde05-bbc9-4c89-b28f-519a685ca50b"
      },
      "outputs": [
        {
          "name": "stdout",
          "output_type": "stream",
          "text": [
            "  category                scientific_name  \\\n",
            "0   Mammal  Clethrionomys gapperi gapperi   \n",
            "1   Mammal                      Bos bison   \n",
            "2   Mammal                     Bos taurus   \n",
            "3   Mammal                     Ovis aries   \n",
            "4   Mammal                 Cervus elaphus   \n",
            "\n",
            "                                        common_names conservation_status  \n",
            "0                           Gapper's Red-Backed Vole                 NaN  \n",
            "1                              American Bison, Bison                 NaN  \n",
            "2  Aurochs, Aurochs, Domestic Cattle (Feral), Dom...                 NaN  \n",
            "3  Domestic Sheep, Mouflon, Red Sheep, Sheep (Feral)                 NaN  \n",
            "4                                      Wapiti Or Elk                 NaN  \n",
            "category                  0\n",
            "scientific_name           0\n",
            "common_names              0\n",
            "conservation_status    5633\n",
            "dtype: int64\n"
          ]
        }
      ],
      "source": [
        "# load the datasets\n",
        "spec = pd.read_csv(\"/home/cacaprog/learning-projects/biodiversity/species_info.csv\")\n",
        "# print the first few rows of the DataFrame\n",
        "print(spec.head(5))\n",
        "\n",
        "# check for missing values\n",
        "print(spec.isnull().sum())"
      ]
    },
    {
      "attachments": {},
      "cell_type": "markdown",
      "metadata": {},
      "source": [
        "5633 missing data (96,72 %) on conservation_status column"
      ]
    },
    {
      "cell_type": "code",
      "execution_count": 19,
      "metadata": {
        "colab": {
          "base_uri": "https://localhost:8080/",
          "height": 175
        },
        "id": "OFPEyKYVku1q",
        "outputId": "b42b3fed-d97f-45e6-e098-999ed2195579"
      },
      "outputs": [
        {
          "data": {
            "text/html": [
              "<div>\n",
              "<style scoped>\n",
              "    .dataframe tbody tr th:only-of-type {\n",
              "        vertical-align: middle;\n",
              "    }\n",
              "\n",
              "    .dataframe tbody tr th {\n",
              "        vertical-align: top;\n",
              "    }\n",
              "\n",
              "    .dataframe thead th {\n",
              "        text-align: right;\n",
              "    }\n",
              "</style>\n",
              "<table border=\"1\" class=\"dataframe\">\n",
              "  <thead>\n",
              "    <tr style=\"text-align: right;\">\n",
              "      <th></th>\n",
              "      <th>category</th>\n",
              "      <th>scientific_name</th>\n",
              "      <th>common_names</th>\n",
              "      <th>conservation_status</th>\n",
              "    </tr>\n",
              "  </thead>\n",
              "  <tbody>\n",
              "    <tr>\n",
              "      <th>count</th>\n",
              "      <td>5824</td>\n",
              "      <td>5824</td>\n",
              "      <td>5824</td>\n",
              "      <td>191</td>\n",
              "    </tr>\n",
              "    <tr>\n",
              "      <th>unique</th>\n",
              "      <td>7</td>\n",
              "      <td>5541</td>\n",
              "      <td>5504</td>\n",
              "      <td>4</td>\n",
              "    </tr>\n",
              "    <tr>\n",
              "      <th>top</th>\n",
              "      <td>Vascular Plant</td>\n",
              "      <td>Castor canadensis</td>\n",
              "      <td>Brachythecium Moss</td>\n",
              "      <td>Species of Concern</td>\n",
              "    </tr>\n",
              "    <tr>\n",
              "      <th>freq</th>\n",
              "      <td>4470</td>\n",
              "      <td>3</td>\n",
              "      <td>7</td>\n",
              "      <td>161</td>\n",
              "    </tr>\n",
              "  </tbody>\n",
              "</table>\n",
              "</div>"
            ],
            "text/plain": [
              "              category    scientific_name        common_names  \\\n",
              "count             5824               5824                5824   \n",
              "unique               7               5541                5504   \n",
              "top     Vascular Plant  Castor canadensis  Brachythecium Moss   \n",
              "freq              4470                  3                   7   \n",
              "\n",
              "       conservation_status  \n",
              "count                  191  \n",
              "unique                   4  \n",
              "top     Species of Concern  \n",
              "freq                   161  "
            ]
          },
          "execution_count": 19,
          "metadata": {},
          "output_type": "execute_result"
        }
      ],
      "source": [
        "spec.describe(include='all')"
      ]
    },
    {
      "cell_type": "code",
      "execution_count": 20,
      "metadata": {
        "colab": {
          "base_uri": "https://localhost:8080/"
        },
        "id": "DKXz7Gp6rlc3",
        "outputId": "ff52cbbc-b556-4a47-eb3f-4ca51cd67be3"
      },
      "outputs": [
        {
          "data": {
            "text/plain": [
              "False    5824\n",
              "dtype: int64"
            ]
          },
          "execution_count": 20,
          "metadata": {},
          "output_type": "execute_result"
        }
      ],
      "source": [
        "# Have duplicated data?\n",
        "spec.duplicated().value_counts()"
      ]
    },
    {
      "cell_type": "markdown",
      "metadata": {
        "id": "0ISE466trtbu"
      },
      "source": [
        "Let's check further, inside dataset"
      ]
    },
    {
      "cell_type": "code",
      "execution_count": 21,
      "metadata": {
        "colab": {
          "base_uri": "https://localhost:8080/",
          "height": 424
        },
        "id": "hkKpnzxn4jbc",
        "outputId": "aeeadd14-9f8b-4a26-bd9a-072c379587ec"
      },
      "outputs": [
        {
          "data": {
            "text/html": [
              "<div>\n",
              "<style scoped>\n",
              "    .dataframe tbody tr th:only-of-type {\n",
              "        vertical-align: middle;\n",
              "    }\n",
              "\n",
              "    .dataframe tbody tr th {\n",
              "        vertical-align: top;\n",
              "    }\n",
              "\n",
              "    .dataframe thead th {\n",
              "        text-align: right;\n",
              "    }\n",
              "</style>\n",
              "<table border=\"1\" class=\"dataframe\">\n",
              "  <thead>\n",
              "    <tr style=\"text-align: right;\">\n",
              "      <th></th>\n",
              "      <th>category</th>\n",
              "      <th>scientific_name</th>\n",
              "      <th>common_names</th>\n",
              "      <th>conservation_status</th>\n",
              "    </tr>\n",
              "  </thead>\n",
              "  <tbody>\n",
              "    <tr>\n",
              "      <th>3017</th>\n",
              "      <td>Mammal</td>\n",
              "      <td>Cervus elaphus</td>\n",
              "      <td>Rocky Mountain Elk</td>\n",
              "      <td>NaN</td>\n",
              "    </tr>\n",
              "    <tr>\n",
              "      <th>3019</th>\n",
              "      <td>Mammal</td>\n",
              "      <td>Odocoileus virginianus</td>\n",
              "      <td>White-Tailed Deer, White-Tailed Deer</td>\n",
              "      <td>NaN</td>\n",
              "    </tr>\n",
              "    <tr>\n",
              "      <th>3020</th>\n",
              "      <td>Mammal</td>\n",
              "      <td>Canis lupus</td>\n",
              "      <td>Gray Wolf, Wolf</td>\n",
              "      <td>In Recovery</td>\n",
              "    </tr>\n",
              "    <tr>\n",
              "      <th>3022</th>\n",
              "      <td>Mammal</td>\n",
              "      <td>Puma concolor</td>\n",
              "      <td>Cougar, Mountain Lion, Puma</td>\n",
              "      <td>NaN</td>\n",
              "    </tr>\n",
              "    <tr>\n",
              "      <th>3025</th>\n",
              "      <td>Mammal</td>\n",
              "      <td>Lutra canadensis</td>\n",
              "      <td>River Otter</td>\n",
              "      <td>NaN</td>\n",
              "    </tr>\n",
              "    <tr>\n",
              "      <th>...</th>\n",
              "      <td>...</td>\n",
              "      <td>...</td>\n",
              "      <td>...</td>\n",
              "      <td>...</td>\n",
              "    </tr>\n",
              "    <tr>\n",
              "      <th>5619</th>\n",
              "      <td>Vascular Plant</td>\n",
              "      <td>Panicum rigidulum var. rigidulum</td>\n",
              "      <td>Redtop Panicgrass, Redtop Panicum</td>\n",
              "      <td>NaN</td>\n",
              "    </tr>\n",
              "    <tr>\n",
              "      <th>5638</th>\n",
              "      <td>Vascular Plant</td>\n",
              "      <td>Setaria pumila</td>\n",
              "      <td>Cattail Grass, Yellow Bristle Grass, Yellow Br...</td>\n",
              "      <td>NaN</td>\n",
              "    </tr>\n",
              "    <tr>\n",
              "      <th>5640</th>\n",
              "      <td>Vascular Plant</td>\n",
              "      <td>Vulpia bromoides</td>\n",
              "      <td>Brome Fescue, Brome Six-Weeks Grass, Desert Fe...</td>\n",
              "      <td>NaN</td>\n",
              "    </tr>\n",
              "    <tr>\n",
              "      <th>5643</th>\n",
              "      <td>Vascular Plant</td>\n",
              "      <td>Vulpia myuros</td>\n",
              "      <td>Foxtail Fescue, Rattail Fescue, Rat-Tail Fescu...</td>\n",
              "      <td>NaN</td>\n",
              "    </tr>\n",
              "    <tr>\n",
              "      <th>5750</th>\n",
              "      <td>Vascular Plant</td>\n",
              "      <td>Rosa eglanteria</td>\n",
              "      <td>Sweetbriar Rose</td>\n",
              "      <td>NaN</td>\n",
              "    </tr>\n",
              "  </tbody>\n",
              "</table>\n",
              "<p>283 rows × 4 columns</p>\n",
              "</div>"
            ],
            "text/plain": [
              "            category                   scientific_name  \\\n",
              "3017          Mammal                    Cervus elaphus   \n",
              "3019          Mammal            Odocoileus virginianus   \n",
              "3020          Mammal                       Canis lupus   \n",
              "3022          Mammal                     Puma concolor   \n",
              "3025          Mammal                  Lutra canadensis   \n",
              "...              ...                               ...   \n",
              "5619  Vascular Plant  Panicum rigidulum var. rigidulum   \n",
              "5638  Vascular Plant                    Setaria pumila   \n",
              "5640  Vascular Plant                  Vulpia bromoides   \n",
              "5643  Vascular Plant                     Vulpia myuros   \n",
              "5750  Vascular Plant                   Rosa eglanteria   \n",
              "\n",
              "                                           common_names conservation_status  \n",
              "3017                                 Rocky Mountain Elk                 NaN  \n",
              "3019               White-Tailed Deer, White-Tailed Deer                 NaN  \n",
              "3020                                    Gray Wolf, Wolf         In Recovery  \n",
              "3022                        Cougar, Mountain Lion, Puma                 NaN  \n",
              "3025                                        River Otter                 NaN  \n",
              "...                                                 ...                 ...  \n",
              "5619                  Redtop Panicgrass, Redtop Panicum                 NaN  \n",
              "5638  Cattail Grass, Yellow Bristle Grass, Yellow Br...                 NaN  \n",
              "5640  Brome Fescue, Brome Six-Weeks Grass, Desert Fe...                 NaN  \n",
              "5643  Foxtail Fescue, Rattail Fescue, Rat-Tail Fescu...                 NaN  \n",
              "5750                                    Sweetbriar Rose                 NaN  \n",
              "\n",
              "[283 rows x 4 columns]"
            ]
          },
          "execution_count": 21,
          "metadata": {},
          "output_type": "execute_result"
        }
      ],
      "source": [
        "spec[spec.duplicated(subset=['scientific_name'])]"
      ]
    },
    {
      "cell_type": "code",
      "execution_count": 22,
      "metadata": {
        "colab": {
          "base_uri": "https://localhost:8080/",
          "height": 143
        },
        "id": "ARpj1wYn4sWs",
        "outputId": "d750eaba-7dd2-49d6-84fb-56a86b9663e1"
      },
      "outputs": [
        {
          "data": {
            "text/html": [
              "<div>\n",
              "<style scoped>\n",
              "    .dataframe tbody tr th:only-of-type {\n",
              "        vertical-align: middle;\n",
              "    }\n",
              "\n",
              "    .dataframe tbody tr th {\n",
              "        vertical-align: top;\n",
              "    }\n",
              "\n",
              "    .dataframe thead th {\n",
              "        text-align: right;\n",
              "    }\n",
              "</style>\n",
              "<table border=\"1\" class=\"dataframe\">\n",
              "  <thead>\n",
              "    <tr style=\"text-align: right;\">\n",
              "      <th></th>\n",
              "      <th>category</th>\n",
              "      <th>scientific_name</th>\n",
              "      <th>common_names</th>\n",
              "      <th>conservation_status</th>\n",
              "    </tr>\n",
              "  </thead>\n",
              "  <tbody>\n",
              "    <tr>\n",
              "      <th>8</th>\n",
              "      <td>Mammal</td>\n",
              "      <td>Canis lupus</td>\n",
              "      <td>Gray Wolf</td>\n",
              "      <td>Endangered</td>\n",
              "    </tr>\n",
              "    <tr>\n",
              "      <th>3020</th>\n",
              "      <td>Mammal</td>\n",
              "      <td>Canis lupus</td>\n",
              "      <td>Gray Wolf, Wolf</td>\n",
              "      <td>In Recovery</td>\n",
              "    </tr>\n",
              "    <tr>\n",
              "      <th>4448</th>\n",
              "      <td>Mammal</td>\n",
              "      <td>Canis lupus</td>\n",
              "      <td>Gray Wolf, Wolf</td>\n",
              "      <td>Endangered</td>\n",
              "    </tr>\n",
              "  </tbody>\n",
              "</table>\n",
              "</div>"
            ],
            "text/plain": [
              "     category scientific_name     common_names conservation_status\n",
              "8      Mammal     Canis lupus        Gray Wolf          Endangered\n",
              "3020   Mammal     Canis lupus  Gray Wolf, Wolf         In Recovery\n",
              "4448   Mammal     Canis lupus  Gray Wolf, Wolf          Endangered"
            ]
          },
          "execution_count": 22,
          "metadata": {},
          "output_type": "execute_result"
        }
      ],
      "source": [
        "spec[spec.scientific_name == 'Canis lupus']"
      ]
    },
    {
      "cell_type": "markdown",
      "metadata": {
        "id": "GS-GCmq4508b"
      },
      "source": [
        "Let's drop the duplicate"
      ]
    },
    {
      "cell_type": "code",
      "execution_count": 23,
      "metadata": {
        "id": "B5EQ4TMx58kf"
      },
      "outputs": [],
      "source": [
        "spec.drop_duplicates(subset=['scientific_name'], keep='last', inplace=True)"
      ]
    },
    {
      "cell_type": "code",
      "execution_count": 24,
      "metadata": {
        "colab": {
          "base_uri": "https://localhost:8080/"
        },
        "id": "48jaRn656aOt",
        "outputId": "c9cfa02e-b3b7-4a76-b14f-7bb9337b4121"
      },
      "outputs": [
        {
          "name": "stdout",
          "output_type": "stream",
          "text": [
            "<class 'pandas.core.frame.DataFrame'>\n",
            "Int64Index: 5541 entries, 0 to 5823\n",
            "Data columns (total 4 columns):\n",
            " #   Column               Non-Null Count  Dtype \n",
            "---  ------               --------------  ----- \n",
            " 0   category             5541 non-null   object\n",
            " 1   scientific_name      5541 non-null   object\n",
            " 2   common_names         5541 non-null   object\n",
            " 3   conservation_status  179 non-null    object\n",
            "dtypes: object(4)\n",
            "memory usage: 216.4+ KB\n"
          ]
        }
      ],
      "source": [
        "spec.info()"
      ]
    },
    {
      "cell_type": "markdown",
      "metadata": {
        "id": "y3p3B5mx-Jh2"
      },
      "source": [
        "### 1. What is the distribution of conservation_status for animals?\n"
      ]
    },
    {
      "cell_type": "code",
      "execution_count": 25,
      "metadata": {
        "colab": {
          "base_uri": "https://localhost:8080/"
        },
        "id": "iID3nEft-Ps0",
        "outputId": "1ac18cb4-151e-46fa-aef9-714e1e9b735c"
      },
      "outputs": [
        {
          "data": {
            "text/plain": [
              "Species of Concern    151\n",
              "Endangered             15\n",
              "Threatened             10\n",
              "In Recovery             3\n",
              "Name: conservation_status, dtype: int64"
            ]
          },
          "execution_count": 25,
          "metadata": {},
          "output_type": "execute_result"
        }
      ],
      "source": [
        "spec.conservation_status.value_counts()"
      ]
    },
    {
      "cell_type": "code",
      "execution_count": 26,
      "metadata": {
        "colab": {
          "base_uri": "https://localhost:8080/"
        },
        "id": "mWD4Z9CN_boh",
        "outputId": "66e3d4ac-4b79-40f4-da75-c555b8b1d463"
      },
      "outputs": [
        {
          "data": {
            "text/plain": [
              "array(['Mammal', 'Bird', 'Reptile', 'Amphibian', 'Fish', 'Vascular Plant',\n",
              "       'Nonvascular Plant'], dtype=object)"
            ]
          },
          "execution_count": 26,
          "metadata": {},
          "output_type": "execute_result"
        }
      ],
      "source": [
        "spec.category.unique()"
      ]
    },
    {
      "cell_type": "markdown",
      "metadata": {
        "id": "lvUpssug_gV0"
      },
      "source": [
        "Animals = Mammal, Bird, Reptile, Amphibian, Fish, Vascular Plant, Nonvascular Plant"
      ]
    },
    {
      "cell_type": "code",
      "execution_count": 28,
      "metadata": {
        "colab": {
          "base_uri": "https://localhost:8080/",
          "height": 206
        },
        "id": "wXk6mPy0--A1",
        "outputId": "8ddd2eaa-1681-42f3-8ed2-5e4a0cb5a06e"
      },
      "outputs": [
        {
          "data": {
            "text/html": [
              "<div>\n",
              "<style scoped>\n",
              "    .dataframe tbody tr th:only-of-type {\n",
              "        vertical-align: middle;\n",
              "    }\n",
              "\n",
              "    .dataframe tbody tr th {\n",
              "        vertical-align: top;\n",
              "    }\n",
              "\n",
              "    .dataframe thead th {\n",
              "        text-align: right;\n",
              "    }\n",
              "</style>\n",
              "<table border=\"1\" class=\"dataframe\">\n",
              "  <thead>\n",
              "    <tr style=\"text-align: right;\">\n",
              "      <th></th>\n",
              "      <th>scientific_name</th>\n",
              "    </tr>\n",
              "    <tr>\n",
              "      <th>conservation_status</th>\n",
              "      <th></th>\n",
              "    </tr>\n",
              "  </thead>\n",
              "  <tbody>\n",
              "    <tr>\n",
              "      <th>Endangered</th>\n",
              "      <td>15</td>\n",
              "    </tr>\n",
              "    <tr>\n",
              "      <th>In Recovery</th>\n",
              "      <td>3</td>\n",
              "    </tr>\n",
              "    <tr>\n",
              "      <th>Species of Concern</th>\n",
              "      <td>151</td>\n",
              "    </tr>\n",
              "    <tr>\n",
              "      <th>Threatened</th>\n",
              "      <td>10</td>\n",
              "    </tr>\n",
              "  </tbody>\n",
              "</table>\n",
              "</div>"
            ],
            "text/plain": [
              "                     scientific_name\n",
              "conservation_status                 \n",
              "Endangered                        15\n",
              "In Recovery                        3\n",
              "Species of Concern               151\n",
              "Threatened                        10"
            ]
          },
          "execution_count": 28,
          "metadata": {},
          "output_type": "execute_result"
        }
      ],
      "source": [
        "spec[['scientific_name', 'conservation_status']].groupby('conservation_status').count()"
      ]
    },
    {
      "cell_type": "code",
      "execution_count": 29,
      "metadata": {
        "colab": {
          "base_uri": "https://localhost:8080/"
        },
        "id": "5wSBfc-dLYOn",
        "outputId": "4784971e-2c1a-430b-f864-bc03438cde92"
      },
      "outputs": [
        {
          "data": {
            "text/plain": [
              "In Recovery           0.016760\n",
              "Threatened            0.055866\n",
              "Endangered            0.083799\n",
              "Species of Concern    0.843575\n",
              "Name: conservation_status, dtype: float64"
            ]
          },
          "execution_count": 29,
          "metadata": {},
          "output_type": "execute_result"
        }
      ],
      "source": [
        "spec.conservation_status.value_counts(normalize=True, ascending=True)"
      ]
    },
    {
      "cell_type": "code",
      "execution_count": 30,
      "metadata": {
        "id": "l7Ps3UKGOFfM"
      },
      "outputs": [],
      "source": [
        "# Create a specific dataframe for animals\n",
        "animal = ('Mammal', 'Bird', 'Reptile', 'Amphibian', 'Fish')\n",
        "animals = spec.loc[spec['category'].isin(animal)]"
      ]
    },
    {
      "cell_type": "code",
      "execution_count": 31,
      "metadata": {
        "colab": {
          "base_uri": "https://localhost:8080/",
          "height": 206
        },
        "id": "i2DnggjSOgdL",
        "outputId": "b4aff70d-2b5e-4255-fb20-123c97781d18"
      },
      "outputs": [
        {
          "data": {
            "text/html": [
              "<div>\n",
              "<style scoped>\n",
              "    .dataframe tbody tr th:only-of-type {\n",
              "        vertical-align: middle;\n",
              "    }\n",
              "\n",
              "    .dataframe tbody tr th {\n",
              "        vertical-align: top;\n",
              "    }\n",
              "\n",
              "    .dataframe thead th {\n",
              "        text-align: right;\n",
              "    }\n",
              "</style>\n",
              "<table border=\"1\" class=\"dataframe\">\n",
              "  <thead>\n",
              "    <tr style=\"text-align: right;\">\n",
              "      <th></th>\n",
              "      <th>category</th>\n",
              "      <th>scientific_name</th>\n",
              "      <th>common_names</th>\n",
              "      <th>conservation_status</th>\n",
              "    </tr>\n",
              "  </thead>\n",
              "  <tbody>\n",
              "    <tr>\n",
              "      <th>0</th>\n",
              "      <td>Mammal</td>\n",
              "      <td>Clethrionomys gapperi gapperi</td>\n",
              "      <td>Gapper's Red-Backed Vole</td>\n",
              "      <td>NaN</td>\n",
              "    </tr>\n",
              "    <tr>\n",
              "      <th>1</th>\n",
              "      <td>Mammal</td>\n",
              "      <td>Bos bison</td>\n",
              "      <td>American Bison, Bison</td>\n",
              "      <td>NaN</td>\n",
              "    </tr>\n",
              "    <tr>\n",
              "      <th>2</th>\n",
              "      <td>Mammal</td>\n",
              "      <td>Bos taurus</td>\n",
              "      <td>Aurochs, Aurochs, Domestic Cattle (Feral), Dom...</td>\n",
              "      <td>NaN</td>\n",
              "    </tr>\n",
              "    <tr>\n",
              "      <th>3</th>\n",
              "      <td>Mammal</td>\n",
              "      <td>Ovis aries</td>\n",
              "      <td>Domestic Sheep, Mouflon, Red Sheep, Sheep (Feral)</td>\n",
              "      <td>NaN</td>\n",
              "    </tr>\n",
              "    <tr>\n",
              "      <th>7</th>\n",
              "      <td>Mammal</td>\n",
              "      <td>Canis latrans</td>\n",
              "      <td>Coyote</td>\n",
              "      <td>Species of Concern</td>\n",
              "    </tr>\n",
              "  </tbody>\n",
              "</table>\n",
              "</div>"
            ],
            "text/plain": [
              "  category                scientific_name  \\\n",
              "0   Mammal  Clethrionomys gapperi gapperi   \n",
              "1   Mammal                      Bos bison   \n",
              "2   Mammal                     Bos taurus   \n",
              "3   Mammal                     Ovis aries   \n",
              "7   Mammal                  Canis latrans   \n",
              "\n",
              "                                        common_names conservation_status  \n",
              "0                           Gapper's Red-Backed Vole                 NaN  \n",
              "1                              American Bison, Bison                 NaN  \n",
              "2  Aurochs, Aurochs, Domestic Cattle (Feral), Dom...                 NaN  \n",
              "3  Domestic Sheep, Mouflon, Red Sheep, Sheep (Feral)                 NaN  \n",
              "7                                             Coyote  Species of Concern  "
            ]
          },
          "execution_count": 31,
          "metadata": {},
          "output_type": "execute_result"
        }
      ],
      "source": [
        "animals.head()"
      ]
    },
    {
      "cell_type": "markdown",
      "metadata": {
        "id": "zXFdtI7IP1gv"
      },
      "source": [
        "Now, we can plot the conservation_status for animals"
      ]
    },
    {
      "cell_type": "code",
      "execution_count": 32,
      "metadata": {
        "colab": {
          "base_uri": "https://localhost:8080/",
          "height": 296
        },
        "id": "M-eNSbYTP8JC",
        "outputId": "e65f3dc5-36d9-4296-8308-3fcc9a7f694f"
      },
      "outputs": [
        {
          "data": {
            "image/png": "[encoded data removed]",
            "text/plain": [
              "<Figure size 640x480 with 1 Axes>"
            ]
          },
          "metadata": {},
          "output_type": "display_data"
        },
        {
          "data": {
            "text/plain": [
              "<Figure size 640x480 with 0 Axes>"
            ]
          },
          "metadata": {},
          "output_type": "display_data"
        }
      ],
      "source": [
        "sns.countplot(x='category', hue='conservation_status', data=animals, palette='Accent')\n",
        "plt.show()\n",
        "plt.clf()"
      ]
    },
    {
      "cell_type": "code",
      "execution_count": 65,
      "metadata": {
        "colab": {
          "base_uri": "https://localhost:8080/",
          "height": 344
        },
        "id": "RYyd1N7RSfoQ",
        "outputId": "169d9cb3-3ea3-406d-94ee-3304466a4f98"
      },
      "outputs": [
        {
          "data": {
            "image/png": "[encoded data removed]",
            "text/plain": [
              "<Figure size 640x480 with 1 Axes>"
            ]
          },
          "metadata": {},
          "output_type": "display_data"
        },
        {
          "data": {
            "text/plain": [
              "<Figure size 640x480 with 0 Axes>"
            ]
          },
          "metadata": {},
          "output_type": "display_data"
        }
      ],
      "source": [
        "sns.countplot(x='conservation_status', data=animals, palette='Accent')\n",
        "plt.xticks(rotation=30)\n",
        "plt.title('Animals Conservation Status')\n",
        "plt.show()\n",
        "plt.clf()"
      ]
    },
    {
      "cell_type": "code",
      "execution_count": 34,
      "metadata": {
        "colab": {
          "base_uri": "https://localhost:8080/"
        },
        "id": "_IhMtkOhS56r",
        "outputId": "98eea96c-ba86-4bb4-ff42-54cca01d05ce"
      },
      "outputs": [
        {
          "data": {
            "text/plain": [
              "In Recovery           0.023438\n",
              "Threatened            0.062500\n",
              "Endangered            0.109375\n",
              "Species of Concern    0.804688\n",
              "Name: conservation_status, dtype: float64"
            ]
          },
          "execution_count": 34,
          "metadata": {},
          "output_type": "execute_result"
        }
      ],
      "source": [
        "animals.conservation_status.value_counts(normalize=True, ascending=True)"
      ]
    },
    {
      "cell_type": "markdown",
      "metadata": {
        "id": "MjegwPKqR6qJ"
      },
      "source": [
        "**1. What is the distribution of conservation_status for animals?**\n",
        "\n",
        "Despite the lack of information for all species, we could observe:\n",
        "- 80% of animals are species of concern\n",
        "- 10% are endangered\n",
        "- 6% are threatened\n",
        "- Only 2% in recovery\n",
        "\n"
      ]
    },
    {
      "cell_type": "markdown",
      "metadata": {
        "id": "vpU-u7NNTiUz"
      },
      "source": [
        "### 2. Are certain types of species more likely to be endangered?"
      ]
    },
    {
      "cell_type": "code",
      "execution_count": 35,
      "metadata": {
        "colab": {
          "base_uri": "https://localhost:8080/",
          "height": 206
        },
        "id": "4ifYLwLua3yt",
        "outputId": "5592b92f-5dc1-488b-8388-ef835d41b77b"
      },
      "outputs": [
        {
          "data": {
            "text/html": [
              "<div>\n",
              "<style scoped>\n",
              "    .dataframe tbody tr th:only-of-type {\n",
              "        vertical-align: middle;\n",
              "    }\n",
              "\n",
              "    .dataframe tbody tr th {\n",
              "        vertical-align: top;\n",
              "    }\n",
              "\n",
              "    .dataframe thead th {\n",
              "        text-align: right;\n",
              "    }\n",
              "</style>\n",
              "<table border=\"1\" class=\"dataframe\">\n",
              "  <thead>\n",
              "    <tr style=\"text-align: right;\">\n",
              "      <th></th>\n",
              "      <th>category</th>\n",
              "      <th>scientific_name</th>\n",
              "      <th>common_names</th>\n",
              "      <th>conservation_status</th>\n",
              "    </tr>\n",
              "  </thead>\n",
              "  <tbody>\n",
              "    <tr>\n",
              "      <th>9</th>\n",
              "      <td>Mammal</td>\n",
              "      <td>Canis rufus</td>\n",
              "      <td>Red Wolf</td>\n",
              "      <td>Endangered</td>\n",
              "    </tr>\n",
              "    <tr>\n",
              "      <th>34</th>\n",
              "      <td>Mammal</td>\n",
              "      <td>Myotis grisescens</td>\n",
              "      <td>Gray Myotis</td>\n",
              "      <td>Endangered</td>\n",
              "    </tr>\n",
              "    <tr>\n",
              "      <th>39</th>\n",
              "      <td>Mammal</td>\n",
              "      <td>Myotis sodalis</td>\n",
              "      <td>Indiana Bat, Indiana Or Social Myotis</td>\n",
              "      <td>Endangered</td>\n",
              "    </tr>\n",
              "    <tr>\n",
              "      <th>72</th>\n",
              "      <td>Mammal</td>\n",
              "      <td>Glaucomys sabrinus coloratus</td>\n",
              "      <td>Carolina Northern Flying Squirrel, Northern Fl...</td>\n",
              "      <td>Endangered</td>\n",
              "    </tr>\n",
              "    <tr>\n",
              "      <th>173</th>\n",
              "      <td>Bird</td>\n",
              "      <td>Grus americana</td>\n",
              "      <td>Whooping Crane</td>\n",
              "      <td>Endangered</td>\n",
              "    </tr>\n",
              "  </tbody>\n",
              "</table>\n",
              "</div>"
            ],
            "text/plain": [
              "    category               scientific_name  \\\n",
              "9     Mammal                   Canis rufus   \n",
              "34    Mammal             Myotis grisescens   \n",
              "39    Mammal                Myotis sodalis   \n",
              "72    Mammal  Glaucomys sabrinus coloratus   \n",
              "173     Bird                Grus americana   \n",
              "\n",
              "                                          common_names conservation_status  \n",
              "9                                             Red Wolf          Endangered  \n",
              "34                                         Gray Myotis          Endangered  \n",
              "39               Indiana Bat, Indiana Or Social Myotis          Endangered  \n",
              "72   Carolina Northern Flying Squirrel, Northern Fl...          Endangered  \n",
              "173                                     Whooping Crane          Endangered  "
            ]
          },
          "execution_count": 35,
          "metadata": {},
          "output_type": "execute_result"
        }
      ],
      "source": [
        "spec_endangered = spec[spec.conservation_status == 'Endangered']\n",
        "spec_endangered.head()"
      ]
    },
    {
      "cell_type": "code",
      "execution_count": 36,
      "metadata": {
        "colab": {
          "base_uri": "https://localhost:8080/",
          "height": 360
        },
        "id": "Vw0X02r-bAqZ",
        "outputId": "75366669-8c5c-4b2c-e1ac-e4d22f6147f1"
      },
      "outputs": [
        {
          "data": {
            "image/png": "[encoded data removed]",
            "text/plain": [
              "<Figure size 640x480 with 1 Axes>"
            ]
          },
          "metadata": {},
          "output_type": "display_data"
        },
        {
          "data": {
            "text/plain": [
              "<Figure size 640x480 with 0 Axes>"
            ]
          },
          "metadata": {},
          "output_type": "display_data"
        }
      ],
      "source": [
        "sns.countplot(data=spec_endangered, x='category', palette='Accent')\n",
        "plt.xticks(rotation=45)\n",
        "plt.title('Species in endanger condition')\n",
        "plt.show()\n",
        "plt.clf()"
      ]
    },
    {
      "cell_type": "code",
      "execution_count": 37,
      "metadata": {
        "colab": {
          "base_uri": "https://localhost:8080/"
        },
        "id": "YqQ6sQIFbi9x",
        "outputId": "0d9049e4-26b7-4821-e829-61f446c1660a"
      },
      "outputs": [
        {
          "data": {
            "text/plain": [
              "Mammal            0.400000\n",
              "Bird              0.266667\n",
              "Fish              0.200000\n",
              "Vascular Plant    0.066667\n",
              "Amphibian         0.066667\n",
              "Name: category, dtype: float64"
            ]
          },
          "execution_count": 37,
          "metadata": {},
          "output_type": "execute_result"
        }
      ],
      "source": [
        "spec_endangered.category.value_counts(normalize=True, ascending=False)"
      ]
    },
    {
      "attachments": {},
      "cell_type": "markdown",
      "metadata": {
        "id": "2QaLSS2Zb6d6"
      },
      "source": [
        "**2. Are certain types of species more likely to be endangered?**\n",
        "\n",
        "Our observation, shows that mammals, bird and fish are the top 3 species in danger situation.\n",
        "According the data:\n",
        "- 40% mammal\n",
        "- 26% bird\n",
        "- 20% fish\n",
        "- 6% Plant\n",
        "- 6% Anphibian\n",
        "\n",
        "Two of all species observed are not in danger: reptile and nonvascular plants."
      ]
    },
    {
      "cell_type": "code",
      "execution_count": 38,
      "metadata": {
        "id": "qvDnP4ZBfILA"
      },
      "outputs": [],
      "source": [
        "# Merge the dataframes\n",
        "species_df = spec.merge(obs, on='scientific_name')"
      ]
    },
    {
      "cell_type": "code",
      "execution_count": 39,
      "metadata": {
        "colab": {
          "base_uri": "https://localhost:8080/"
        },
        "id": "8LQqM60Ufjbf",
        "outputId": "f9c83016-eb98-4639-a731-26680a8570c2"
      },
      "outputs": [
        {
          "name": "stdout",
          "output_type": "stream",
          "text": [
            "<class 'pandas.core.frame.DataFrame'>\n",
            "Int64Index: 22164 entries, 0 to 22163\n",
            "Data columns (total 6 columns):\n",
            " #   Column               Non-Null Count  Dtype \n",
            "---  ------               --------------  ----- \n",
            " 0   category             22164 non-null  object\n",
            " 1   scientific_name      22164 non-null  object\n",
            " 2   common_names         22164 non-null  object\n",
            " 3   conservation_status  716 non-null    object\n",
            " 4   park_name            22164 non-null  object\n",
            " 5   observations         22164 non-null  int64 \n",
            "dtypes: int64(1), object(5)\n",
            "memory usage: 1.2+ MB\n"
          ]
        }
      ],
      "source": [
        "# print the first few rows of the DataFrame\n",
        "species_df.head(5)\n",
        "\n",
        "# print the DataFrame's shape\n",
        "species_df.shape\n",
        "\n",
        "# print the DataFrame's data types and other info\n",
        "species_df.info()"
      ]
    },
    {
      "attachments": {},
      "cell_type": "markdown",
      "metadata": {},
      "source": [
        "### 3. Are the differences between species and their conservation status significant?"
      ]
    },
    {
      "cell_type": "code",
      "execution_count": 40,
      "metadata": {},
      "outputs": [
        {
          "data": {
            "image/png": "[encoded data removed]",
            "text/plain": [
              "<Figure size 2282.88x300 with 7 Axes>"
            ]
          },
          "metadata": {},
          "output_type": "display_data"
        },
        {
          "data": {
            "text/plain": [
              "<Figure size 640x480 with 0 Axes>"
            ]
          },
          "metadata": {},
          "output_type": "display_data"
        }
      ],
      "source": [
        "# Facegrid to compare conservation_status between categories\n",
        "graph = sns.FacetGrid(species_df, col='category', hue='conservation_status')\n",
        "graph.map(plt.hist, 'observations').add_legend()\n",
        "plt.show()\n",
        "plt.clf()"
      ]
    },
    {
      "attachments": {},
      "cell_type": "markdown",
      "metadata": {},
      "source": [
        "Despite the data, how many conservation_status are distributed over categories?"
      ]
    },
    {
      "cell_type": "code",
      "execution_count": 41,
      "metadata": {},
      "outputs": [
        {
          "name": "stdout",
          "output_type": "stream",
          "text": [
            "conservation_status  Endangered  In Recovery  Species of Concern  Threatened\n",
            "category                                                                    \n",
            "Amphibian             36.000000          NaN          127.750000     70.5000\n",
            "Bird                  35.875000        116.0          134.713235         NaN\n",
            "Fish                  37.916667          NaN          131.812500    102.8125\n",
            "Mammal                60.958333          NaN          163.727273     72.2500\n",
            "Nonvascular Plant           NaN          NaN          135.250000         NaN\n",
            "Reptile                     NaN          NaN          126.800000         NaN\n",
            "Vascular Plant        40.500000          NaN          128.691860     69.0000\n"
          ]
        }
      ],
      "source": [
        "# Let´s make a pivot table\n",
        "pivot_table = species_df.pivot_table(index='category', columns='conservation_status', values='observations', aggfunc='mean')\n",
        "print(pivot_table)"
      ]
    },
    {
      "attachments": {},
      "cell_type": "markdown",
      "metadata": {},
      "source": [
        "There are 4 conservation status: endangered, in recovery, species of concern and threatened.\n",
        "- All categories have data for 'Species of Concern'\n",
        "- 'In Recovery' only for Bird category\n",
        "- Maybe, that data is not complete yeat, the species are under observation for update."
      ]
    },
    {
      "cell_type": "code",
      "execution_count": 42,
      "metadata": {},
      "outputs": [
        {
          "data": {
            "image/png": "[encoded data removed]",
            "text/plain": [
              "<Figure size 640x480 with 2 Axes>"
            ]
          },
          "metadata": {},
          "output_type": "display_data"
        },
        {
          "data": {
            "text/plain": [
              "<Figure size 640x480 with 0 Axes>"
            ]
          },
          "metadata": {},
          "output_type": "display_data"
        }
      ],
      "source": [
        "# Now, create a heatmap to visualize the pivot_table\n",
        "sns.heatmap(pivot_table)\n",
        "plt.show()\n",
        "plt.clf()"
      ]
    },
    {
      "attachments": {},
      "cell_type": "markdown",
      "metadata": {},
      "source": [
        "Poderíamos transformar estes dados do conservation_status em dados numericos, parece que existe uma ordem lógina nisso.\n",
        "\n",
        "Species of Concern > Endangered > Threatened > In Recovery\n",
        "\n",
        "Até pelo núemro de dados fornecidos para isso.\n"
      ]
    },
    {
      "cell_type": "code",
      "execution_count": 43,
      "metadata": {},
      "outputs": [
        {
          "data": {
            "text/html": [
              "<div>\n",
              "<style scoped>\n",
              "    .dataframe tbody tr th:only-of-type {\n",
              "        vertical-align: middle;\n",
              "    }\n",
              "\n",
              "    .dataframe tbody tr th {\n",
              "        vertical-align: top;\n",
              "    }\n",
              "\n",
              "    .dataframe thead th {\n",
              "        text-align: right;\n",
              "    }\n",
              "</style>\n",
              "<table border=\"1\" class=\"dataframe\">\n",
              "  <thead>\n",
              "    <tr style=\"text-align: right;\">\n",
              "      <th></th>\n",
              "      <th>category</th>\n",
              "      <th>scientific_name</th>\n",
              "      <th>common_names</th>\n",
              "      <th>conservation_status</th>\n",
              "      <th>park_name</th>\n",
              "      <th>observations</th>\n",
              "      <th>conservation_rating</th>\n",
              "    </tr>\n",
              "  </thead>\n",
              "  <tbody>\n",
              "    <tr>\n",
              "      <th>0</th>\n",
              "      <td>Mammal</td>\n",
              "      <td>Clethrionomys gapperi gapperi</td>\n",
              "      <td>Gapper's Red-Backed Vole</td>\n",
              "      <td>NaN</td>\n",
              "      <td>Bryce National Park</td>\n",
              "      <td>130</td>\n",
              "      <td>NaN</td>\n",
              "    </tr>\n",
              "    <tr>\n",
              "      <th>1</th>\n",
              "      <td>Mammal</td>\n",
              "      <td>Clethrionomys gapperi gapperi</td>\n",
              "      <td>Gapper's Red-Backed Vole</td>\n",
              "      <td>NaN</td>\n",
              "      <td>Yellowstone National Park</td>\n",
              "      <td>270</td>\n",
              "      <td>NaN</td>\n",
              "    </tr>\n",
              "    <tr>\n",
              "      <th>2</th>\n",
              "      <td>Mammal</td>\n",
              "      <td>Clethrionomys gapperi gapperi</td>\n",
              "      <td>Gapper's Red-Backed Vole</td>\n",
              "      <td>NaN</td>\n",
              "      <td>Great Smoky Mountains National Park</td>\n",
              "      <td>98</td>\n",
              "      <td>NaN</td>\n",
              "    </tr>\n",
              "    <tr>\n",
              "      <th>3</th>\n",
              "      <td>Mammal</td>\n",
              "      <td>Clethrionomys gapperi gapperi</td>\n",
              "      <td>Gapper's Red-Backed Vole</td>\n",
              "      <td>NaN</td>\n",
              "      <td>Yosemite National Park</td>\n",
              "      <td>117</td>\n",
              "      <td>NaN</td>\n",
              "    </tr>\n",
              "    <tr>\n",
              "      <th>4</th>\n",
              "      <td>Mammal</td>\n",
              "      <td>Bos bison</td>\n",
              "      <td>American Bison, Bison</td>\n",
              "      <td>NaN</td>\n",
              "      <td>Yosemite National Park</td>\n",
              "      <td>128</td>\n",
              "      <td>NaN</td>\n",
              "    </tr>\n",
              "    <tr>\n",
              "      <th>5</th>\n",
              "      <td>Mammal</td>\n",
              "      <td>Bos bison</td>\n",
              "      <td>American Bison, Bison</td>\n",
              "      <td>NaN</td>\n",
              "      <td>Yellowstone National Park</td>\n",
              "      <td>269</td>\n",
              "      <td>NaN</td>\n",
              "    </tr>\n",
              "    <tr>\n",
              "      <th>6</th>\n",
              "      <td>Mammal</td>\n",
              "      <td>Bos bison</td>\n",
              "      <td>American Bison, Bison</td>\n",
              "      <td>NaN</td>\n",
              "      <td>Bryce National Park</td>\n",
              "      <td>68</td>\n",
              "      <td>NaN</td>\n",
              "    </tr>\n",
              "    <tr>\n",
              "      <th>7</th>\n",
              "      <td>Mammal</td>\n",
              "      <td>Bos bison</td>\n",
              "      <td>American Bison, Bison</td>\n",
              "      <td>NaN</td>\n",
              "      <td>Great Smoky Mountains National Park</td>\n",
              "      <td>77</td>\n",
              "      <td>NaN</td>\n",
              "    </tr>\n",
              "    <tr>\n",
              "      <th>8</th>\n",
              "      <td>Mammal</td>\n",
              "      <td>Bos taurus</td>\n",
              "      <td>Aurochs, Aurochs, Domestic Cattle (Feral), Dom...</td>\n",
              "      <td>NaN</td>\n",
              "      <td>Bryce National Park</td>\n",
              "      <td>99</td>\n",
              "      <td>NaN</td>\n",
              "    </tr>\n",
              "    <tr>\n",
              "      <th>9</th>\n",
              "      <td>Mammal</td>\n",
              "      <td>Bos taurus</td>\n",
              "      <td>Aurochs, Aurochs, Domestic Cattle (Feral), Dom...</td>\n",
              "      <td>NaN</td>\n",
              "      <td>Yosemite National Park</td>\n",
              "      <td>124</td>\n",
              "      <td>NaN</td>\n",
              "    </tr>\n",
              "    <tr>\n",
              "      <th>10</th>\n",
              "      <td>Mammal</td>\n",
              "      <td>Bos taurus</td>\n",
              "      <td>Aurochs, Aurochs, Domestic Cattle (Feral), Dom...</td>\n",
              "      <td>NaN</td>\n",
              "      <td>Yellowstone National Park</td>\n",
              "      <td>235</td>\n",
              "      <td>NaN</td>\n",
              "    </tr>\n",
              "    <tr>\n",
              "      <th>11</th>\n",
              "      <td>Mammal</td>\n",
              "      <td>Bos taurus</td>\n",
              "      <td>Aurochs, Aurochs, Domestic Cattle (Feral), Dom...</td>\n",
              "      <td>NaN</td>\n",
              "      <td>Great Smoky Mountains National Park</td>\n",
              "      <td>56</td>\n",
              "      <td>NaN</td>\n",
              "    </tr>\n",
              "    <tr>\n",
              "      <th>12</th>\n",
              "      <td>Mammal</td>\n",
              "      <td>Ovis aries</td>\n",
              "      <td>Domestic Sheep, Mouflon, Red Sheep, Sheep (Feral)</td>\n",
              "      <td>NaN</td>\n",
              "      <td>Yosemite National Park</td>\n",
              "      <td>126</td>\n",
              "      <td>NaN</td>\n",
              "    </tr>\n",
              "    <tr>\n",
              "      <th>13</th>\n",
              "      <td>Mammal</td>\n",
              "      <td>Ovis aries</td>\n",
              "      <td>Domestic Sheep, Mouflon, Red Sheep, Sheep (Feral)</td>\n",
              "      <td>NaN</td>\n",
              "      <td>Great Smoky Mountains National Park</td>\n",
              "      <td>76</td>\n",
              "      <td>NaN</td>\n",
              "    </tr>\n",
              "    <tr>\n",
              "      <th>14</th>\n",
              "      <td>Mammal</td>\n",
              "      <td>Ovis aries</td>\n",
              "      <td>Domestic Sheep, Mouflon, Red Sheep, Sheep (Feral)</td>\n",
              "      <td>NaN</td>\n",
              "      <td>Bryce National Park</td>\n",
              "      <td>119</td>\n",
              "      <td>NaN</td>\n",
              "    </tr>\n",
              "    <tr>\n",
              "      <th>15</th>\n",
              "      <td>Mammal</td>\n",
              "      <td>Ovis aries</td>\n",
              "      <td>Domestic Sheep, Mouflon, Red Sheep, Sheep (Feral)</td>\n",
              "      <td>NaN</td>\n",
              "      <td>Yellowstone National Park</td>\n",
              "      <td>221</td>\n",
              "      <td>NaN</td>\n",
              "    </tr>\n",
              "    <tr>\n",
              "      <th>16</th>\n",
              "      <td>Mammal</td>\n",
              "      <td>Canis latrans</td>\n",
              "      <td>Coyote</td>\n",
              "      <td>Species of Concern</td>\n",
              "      <td>Bryce National Park</td>\n",
              "      <td>85</td>\n",
              "      <td>1.0</td>\n",
              "    </tr>\n",
              "    <tr>\n",
              "      <th>17</th>\n",
              "      <td>Mammal</td>\n",
              "      <td>Canis latrans</td>\n",
              "      <td>Coyote</td>\n",
              "      <td>Species of Concern</td>\n",
              "      <td>Yellowstone National Park</td>\n",
              "      <td>206</td>\n",
              "      <td>1.0</td>\n",
              "    </tr>\n",
              "    <tr>\n",
              "      <th>18</th>\n",
              "      <td>Mammal</td>\n",
              "      <td>Canis latrans</td>\n",
              "      <td>Coyote</td>\n",
              "      <td>Species of Concern</td>\n",
              "      <td>Great Smoky Mountains National Park</td>\n",
              "      <td>68</td>\n",
              "      <td>1.0</td>\n",
              "    </tr>\n",
              "    <tr>\n",
              "      <th>19</th>\n",
              "      <td>Mammal</td>\n",
              "      <td>Canis latrans</td>\n",
              "      <td>Coyote</td>\n",
              "      <td>Species of Concern</td>\n",
              "      <td>Yosemite National Park</td>\n",
              "      <td>99</td>\n",
              "      <td>1.0</td>\n",
              "    </tr>\n",
              "  </tbody>\n",
              "</table>\n",
              "</div>"
            ],
            "text/plain": [
              "   category                scientific_name  \\\n",
              "0    Mammal  Clethrionomys gapperi gapperi   \n",
              "1    Mammal  Clethrionomys gapperi gapperi   \n",
              "2    Mammal  Clethrionomys gapperi gapperi   \n",
              "3    Mammal  Clethrionomys gapperi gapperi   \n",
              "4    Mammal                      Bos bison   \n",
              "5    Mammal                      Bos bison   \n",
              "6    Mammal                      Bos bison   \n",
              "7    Mammal                      Bos bison   \n",
              "8    Mammal                     Bos taurus   \n",
              "9    Mammal                     Bos taurus   \n",
              "10   Mammal                     Bos taurus   \n",
              "11   Mammal                     Bos taurus   \n",
              "12   Mammal                     Ovis aries   \n",
              "13   Mammal                     Ovis aries   \n",
              "14   Mammal                     Ovis aries   \n",
              "15   Mammal                     Ovis aries   \n",
              "16   Mammal                  Canis latrans   \n",
              "17   Mammal                  Canis latrans   \n",
              "18   Mammal                  Canis latrans   \n",
              "19   Mammal                  Canis latrans   \n",
              "\n",
              "                                         common_names conservation_status  \\\n",
              "0                            Gapper's Red-Backed Vole                 NaN   \n",
              "1                            Gapper's Red-Backed Vole                 NaN   \n",
              "2                            Gapper's Red-Backed Vole                 NaN   \n",
              "3                            Gapper's Red-Backed Vole                 NaN   \n",
              "4                               American Bison, Bison                 NaN   \n",
              "5                               American Bison, Bison                 NaN   \n",
              "6                               American Bison, Bison                 NaN   \n",
              "7                               American Bison, Bison                 NaN   \n",
              "8   Aurochs, Aurochs, Domestic Cattle (Feral), Dom...                 NaN   \n",
              "9   Aurochs, Aurochs, Domestic Cattle (Feral), Dom...                 NaN   \n",
              "10  Aurochs, Aurochs, Domestic Cattle (Feral), Dom...                 NaN   \n",
              "11  Aurochs, Aurochs, Domestic Cattle (Feral), Dom...                 NaN   \n",
              "12  Domestic Sheep, Mouflon, Red Sheep, Sheep (Feral)                 NaN   \n",
              "13  Domestic Sheep, Mouflon, Red Sheep, Sheep (Feral)                 NaN   \n",
              "14  Domestic Sheep, Mouflon, Red Sheep, Sheep (Feral)                 NaN   \n",
              "15  Domestic Sheep, Mouflon, Red Sheep, Sheep (Feral)                 NaN   \n",
              "16                                             Coyote  Species of Concern   \n",
              "17                                             Coyote  Species of Concern   \n",
              "18                                             Coyote  Species of Concern   \n",
              "19                                             Coyote  Species of Concern   \n",
              "\n",
              "                              park_name  observations  conservation_rating  \n",
              "0                   Bryce National Park           130                  NaN  \n",
              "1             Yellowstone National Park           270                  NaN  \n",
              "2   Great Smoky Mountains National Park            98                  NaN  \n",
              "3                Yosemite National Park           117                  NaN  \n",
              "4                Yosemite National Park           128                  NaN  \n",
              "5             Yellowstone National Park           269                  NaN  \n",
              "6                   Bryce National Park            68                  NaN  \n",
              "7   Great Smoky Mountains National Park            77                  NaN  \n",
              "8                   Bryce National Park            99                  NaN  \n",
              "9                Yosemite National Park           124                  NaN  \n",
              "10            Yellowstone National Park           235                  NaN  \n",
              "11  Great Smoky Mountains National Park            56                  NaN  \n",
              "12               Yosemite National Park           126                  NaN  \n",
              "13  Great Smoky Mountains National Park            76                  NaN  \n",
              "14                  Bryce National Park           119                  NaN  \n",
              "15            Yellowstone National Park           221                  NaN  \n",
              "16                  Bryce National Park            85                  1.0  \n",
              "17            Yellowstone National Park           206                  1.0  \n",
              "18  Great Smoky Mountains National Park            68                  1.0  \n",
              "19               Yosemite National Park            99                  1.0  "
            ]
          },
          "execution_count": 43,
          "metadata": {},
          "output_type": "execute_result"
        }
      ],
      "source": [
        "# Create a dictionary of label\n",
        "conservation_dict = {'Species of Concern': 1, 'Endangered': 2, 'Threatened': 3, 'In Recovery': 4}\n",
        "\n",
        "# create a new column\n",
        "species_df['conservation_rating'] = species_df['conservation_status'].map(conservation_dict)\n",
        "\n",
        "species_df.head(20)"
      ]
    },
    {
      "cell_type": "code",
      "execution_count": 44,
      "metadata": {},
      "outputs": [
        {
          "name": "stdout",
          "output_type": "stream",
          "text": [
            "<class 'pandas.core.frame.DataFrame'>\n",
            "Int64Index: 22164 entries, 0 to 22163\n",
            "Data columns (total 7 columns):\n",
            " #   Column               Non-Null Count  Dtype  \n",
            "---  ------               --------------  -----  \n",
            " 0   category             22164 non-null  object \n",
            " 1   scientific_name      22164 non-null  object \n",
            " 2   common_names         22164 non-null  object \n",
            " 3   conservation_status  716 non-null    object \n",
            " 4   park_name            22164 non-null  object \n",
            " 5   observations         22164 non-null  int64  \n",
            " 6   conservation_rating  716 non-null    float64\n",
            "dtypes: float64(1), int64(1), object(5)\n",
            "memory usage: 1.4+ MB\n"
          ]
        }
      ],
      "source": [
        "species_df.info()"
      ]
    },
    {
      "cell_type": "code",
      "execution_count": 67,
      "metadata": {},
      "outputs": [
        {
          "data": {
            "image/png": "[encoded data removed]",
            "text/plain": [
              "<Figure size 640x480 with 1 Axes>"
            ]
          },
          "metadata": {},
          "output_type": "display_data"
        },
        {
          "data": {
            "text/plain": [
              "<Figure size 640x480 with 0 Axes>"
            ]
          },
          "metadata": {},
          "output_type": "display_data"
        }
      ],
      "source": [
        "sns.boxplot(x='category', y='observations', hue='conservation_status',data=species_df)\n",
        "plt.ylabel('Number of species')\n",
        "plt.xticks(rotation=40)\n",
        "plt.show()\n",
        "plt.clf()"
      ]
    },
    {
      "cell_type": "code",
      "execution_count": 68,
      "metadata": {},
      "outputs": [
        {
          "data": {
            "text/plain": [
              "category\n",
              "Amphibian            1.714286\n",
              "Bird                 1.173333\n",
              "Fish                 2.000000\n",
              "Mammal               1.333333\n",
              "Nonvascular Plant    1.000000\n",
              "Name: conservation_rating, dtype: float64"
            ]
          },
          "execution_count": 68,
          "metadata": {},
          "output_type": "execute_result"
        }
      ],
      "source": [
        "conserv_rating_cat_mean = species_df.groupby('category')['conservation_rating'].mean()\n",
        "conserv_rating_cat_mean.head()"
      ]
    },
    {
      "attachments": {},
      "cell_type": "markdown",
      "metadata": {},
      "source": [
        "### 4. Which species were spotted the most at each park?"
      ]
    },
    {
      "cell_type": "code",
      "execution_count": 47,
      "metadata": {},
      "outputs": [
        {
          "name": "stdout",
          "output_type": "stream",
          "text": [
            "category                             Amphibian   Bird   Fish  Mammal  \\\n",
            "park_name                                                              \n",
            "Bryce National Park                       93.0  106.0   99.0   117.0   \n",
            "Great Smoky Mountains National Park       72.0   77.0   74.0    85.0   \n",
            "Yellowstone National Park                246.0  261.0  245.0   289.0   \n",
            "Yosemite National Park                   145.0  156.0  149.0   172.0   \n",
            "\n",
            "category                             Nonvascular Plant  Reptile  \\\n",
            "park_name                                                         \n",
            "Bryce National Park                               99.0    102.0   \n",
            "Great Smoky Mountains National Park               75.0     73.0   \n",
            "Yellowstone National Park                        249.0    251.0   \n",
            "Yosemite National Park                           149.0    147.0   \n",
            "\n",
            "category                             Vascular Plant  \n",
            "park_name                                            \n",
            "Bryce National Park                           104.0  \n",
            "Great Smoky Mountains National Park            78.0  \n",
            "Yellowstone National Park                     261.0  \n",
            "Yosemite National Park                        156.0  \n"
          ]
        }
      ],
      "source": [
        "# Let´s make a pivot table \n",
        "pivot_table_park = species_df.pivot_table(index='park_name', columns='category', values='observations').round()\n",
        "print(pivot_table_park)"
      ]
    },
    {
      "cell_type": "code",
      "execution_count": 48,
      "metadata": {},
      "outputs": [
        {
          "name": "stdout",
          "output_type": "stream",
          "text": [
            "park_name          Bryce National Park  Great Smoky Mountains National Park  \\\n",
            "category                                                                      \n",
            "Amphibian                         93.0                                 72.0   \n",
            "Bird                             106.0                                 77.0   \n",
            "Fish                              99.0                                 74.0   \n",
            "Mammal                           117.0                                 85.0   \n",
            "Nonvascular Plant                 99.0                                 75.0   \n",
            "Reptile                          102.0                                 73.0   \n",
            "Vascular Plant                   104.0                                 78.0   \n",
            "\n",
            "park_name          Yellowstone National Park  Yosemite National Park  \n",
            "category                                                              \n",
            "Amphibian                              246.0                   145.0  \n",
            "Bird                                   261.0                   156.0  \n",
            "Fish                                   245.0                   149.0  \n",
            "Mammal                                 289.0                   172.0  \n",
            "Nonvascular Plant                      249.0                   149.0  \n",
            "Reptile                                251.0                   147.0  \n",
            "Vascular Plant                         261.0                   156.0  \n"
          ]
        }
      ],
      "source": [
        "pivot_table_cat = species_df.pivot_table(index='category', columns='park_name', values='observations').round()\n",
        "print(pivot_table_cat)"
      ]
    },
    {
      "cell_type": "code",
      "execution_count": 49,
      "metadata": {},
      "outputs": [
        {
          "data": {
            "image/png": "[encoded data removed]",
            "text/plain": [
              "<Figure size 640x480 with 2 Axes>"
            ]
          },
          "metadata": {},
          "output_type": "display_data"
        },
        {
          "data": {
            "text/plain": [
              "<Figure size 640x480 with 0 Axes>"
            ]
          },
          "metadata": {},
          "output_type": "display_data"
        }
      ],
      "source": [
        "sns.heatmap(pivot_table_cat)\n",
        "plt.xticks(rotation=60)\n",
        "plt.show()\n",
        "plt.clf()"
      ]
    },
    {
      "attachments": {},
      "cell_type": "markdown",
      "metadata": {},
      "source": [
        "The number os species categories spotted the most per park:\n",
        "\n",
        "- Bryce National Park: Mammal, Bird\n",
        "- Great Smoky Mountains National Park: Mammal, Vascular Plant\n",
        "- Yellowstone National Park: Mammal, Bird, Vascular Plant\n",
        "- Yosemite National Park: Mammal, Bird, Vascular Plant"
      ]
    },
    {
      "cell_type": "code",
      "execution_count": 50,
      "metadata": {},
      "outputs": [
        {
          "data": {
            "image/png": "[encoded data removed]",
            "text/plain": [
              "<Figure size 2413.38x300 with 7 Axes>"
            ]
          },
          "metadata": {},
          "output_type": "display_data"
        },
        {
          "data": {
            "text/plain": [
              "<Figure size 640x480 with 0 Axes>"
            ]
          },
          "metadata": {},
          "output_type": "display_data"
        }
      ],
      "source": [
        "graph = sns.FacetGrid(species_df, col='category', hue='park_name')\n",
        "graph.map(plt.hist, 'observations').add_legend()\n",
        "plt.show()\n",
        "plt.clf()"
      ]
    },
    {
      "attachments": {},
      "cell_type": "markdown",
      "metadata": {},
      "source": [
        "Vascular plants are bigger than other categories.\n",
        "It's difficult to compare others. Let´s try to remove it for our avaliation"
      ]
    },
    {
      "cell_type": "code",
      "execution_count": 51,
      "metadata": {},
      "outputs": [
        {
          "data": {
            "text/html": [
              "<div>\n",
              "<style scoped>\n",
              "    .dataframe tbody tr th:only-of-type {\n",
              "        vertical-align: middle;\n",
              "    }\n",
              "\n",
              "    .dataframe tbody tr th {\n",
              "        vertical-align: top;\n",
              "    }\n",
              "\n",
              "    .dataframe thead th {\n",
              "        text-align: right;\n",
              "    }\n",
              "</style>\n",
              "<table border=\"1\" class=\"dataframe\">\n",
              "  <thead>\n",
              "    <tr style=\"text-align: right;\">\n",
              "      <th></th>\n",
              "      <th>category</th>\n",
              "      <th>scientific_name</th>\n",
              "      <th>common_names</th>\n",
              "      <th>conservation_status</th>\n",
              "      <th>park_name</th>\n",
              "      <th>observations</th>\n",
              "      <th>conservation_rating</th>\n",
              "    </tr>\n",
              "  </thead>\n",
              "  <tbody>\n",
              "    <tr>\n",
              "      <th>0</th>\n",
              "      <td>Mammal</td>\n",
              "      <td>Clethrionomys gapperi gapperi</td>\n",
              "      <td>Gapper's Red-Backed Vole</td>\n",
              "      <td>NaN</td>\n",
              "      <td>Bryce National Park</td>\n",
              "      <td>130</td>\n",
              "      <td>NaN</td>\n",
              "    </tr>\n",
              "    <tr>\n",
              "      <th>1</th>\n",
              "      <td>Mammal</td>\n",
              "      <td>Clethrionomys gapperi gapperi</td>\n",
              "      <td>Gapper's Red-Backed Vole</td>\n",
              "      <td>NaN</td>\n",
              "      <td>Yellowstone National Park</td>\n",
              "      <td>270</td>\n",
              "      <td>NaN</td>\n",
              "    </tr>\n",
              "    <tr>\n",
              "      <th>2</th>\n",
              "      <td>Mammal</td>\n",
              "      <td>Clethrionomys gapperi gapperi</td>\n",
              "      <td>Gapper's Red-Backed Vole</td>\n",
              "      <td>NaN</td>\n",
              "      <td>Great Smoky Mountains National Park</td>\n",
              "      <td>98</td>\n",
              "      <td>NaN</td>\n",
              "    </tr>\n",
              "    <tr>\n",
              "      <th>3</th>\n",
              "      <td>Mammal</td>\n",
              "      <td>Clethrionomys gapperi gapperi</td>\n",
              "      <td>Gapper's Red-Backed Vole</td>\n",
              "      <td>NaN</td>\n",
              "      <td>Yosemite National Park</td>\n",
              "      <td>117</td>\n",
              "      <td>NaN</td>\n",
              "    </tr>\n",
              "    <tr>\n",
              "      <th>4</th>\n",
              "      <td>Mammal</td>\n",
              "      <td>Bos bison</td>\n",
              "      <td>American Bison, Bison</td>\n",
              "      <td>NaN</td>\n",
              "      <td>Yosemite National Park</td>\n",
              "      <td>128</td>\n",
              "      <td>NaN</td>\n",
              "    </tr>\n",
              "  </tbody>\n",
              "</table>\n",
              "</div>"
            ],
            "text/plain": [
              "  category                scientific_name              common_names  \\\n",
              "0   Mammal  Clethrionomys gapperi gapperi  Gapper's Red-Backed Vole   \n",
              "1   Mammal  Clethrionomys gapperi gapperi  Gapper's Red-Backed Vole   \n",
              "2   Mammal  Clethrionomys gapperi gapperi  Gapper's Red-Backed Vole   \n",
              "3   Mammal  Clethrionomys gapperi gapperi  Gapper's Red-Backed Vole   \n",
              "4   Mammal                      Bos bison     American Bison, Bison   \n",
              "\n",
              "  conservation_status                            park_name  observations  \\\n",
              "0                 NaN                  Bryce National Park           130   \n",
              "1                 NaN            Yellowstone National Park           270   \n",
              "2                 NaN  Great Smoky Mountains National Park            98   \n",
              "3                 NaN               Yosemite National Park           117   \n",
              "4                 NaN               Yosemite National Park           128   \n",
              "\n",
              "   conservation_rating  \n",
              "0                  NaN  \n",
              "1                  NaN  \n",
              "2                  NaN  \n",
              "3                  NaN  \n",
              "4                  NaN  "
            ]
          },
          "execution_count": 51,
          "metadata": {},
          "output_type": "execute_result"
        }
      ],
      "source": [
        "categories = ('Mammal', 'Bird', 'Reptile', 'Amphibian', 'Fish', 'Nonvascular Plant')\n",
        "category_cleanned = species_df.loc[species_df['category'].isin(categories)]\n",
        "category_cleanned.head()"
      ]
    },
    {
      "cell_type": "code",
      "execution_count": 52,
      "metadata": {},
      "outputs": [
        {
          "data": {
            "image/png": "[encoded data removed]",
            "text/plain": [
              "<Figure size 2113.38x300 with 6 Axes>"
            ]
          },
          "metadata": {},
          "output_type": "display_data"
        },
        {
          "data": {
            "text/plain": [
              "<Figure size 640x480 with 0 Axes>"
            ]
          },
          "metadata": {},
          "output_type": "display_data"
        }
      ],
      "source": [
        "graph = sns.FacetGrid(category_cleanned, col='category', hue='park_name')\n",
        "graph.map(plt.hist, 'observations').add_legend()\n",
        "plt.show()\n",
        "plt.clf()"
      ]
    },
    {
      "attachments": {},
      "cell_type": "markdown",
      "metadata": {},
      "source": [
        "To calculate the relation between the columns, we nee to transform the categorical in numerical.\n",
        "- conservation_status\n",
        "- park_name"
      ]
    },
    {
      "cell_type": "code",
      "execution_count": 53,
      "metadata": {},
      "outputs": [],
      "source": [
        "# Separate by parks\n",
        "yellowstone_park = species_df[species_df['park_name'] == 'Yellowstone National Park']\n",
        "great_smoky_park = species_df[species_df['park_name'] == 'Great Smoky Mountains National Park']\n",
        "yosemite_park = species_df[species_df['park_name'] == 'Yosemite National Park']\n",
        "bryce_park = species_df[species_df['park_name'] == 'Bryce National Park']"
      ]
    },
    {
      "cell_type": "code",
      "execution_count": 55,
      "metadata": {},
      "outputs": [
        {
          "data": {
            "text/html": [
              "<div>\n",
              "<style scoped>\n",
              "    .dataframe tbody tr th:only-of-type {\n",
              "        vertical-align: middle;\n",
              "    }\n",
              "\n",
              "    .dataframe tbody tr th {\n",
              "        vertical-align: top;\n",
              "    }\n",
              "\n",
              "    .dataframe thead th {\n",
              "        text-align: right;\n",
              "    }\n",
              "</style>\n",
              "<table border=\"1\" class=\"dataframe\">\n",
              "  <thead>\n",
              "    <tr style=\"text-align: right;\">\n",
              "      <th></th>\n",
              "      <th>category</th>\n",
              "      <th>scientific_name</th>\n",
              "      <th>common_names</th>\n",
              "      <th>conservation_status</th>\n",
              "      <th>park_name</th>\n",
              "      <th>observations</th>\n",
              "      <th>conservation_rating</th>\n",
              "    </tr>\n",
              "  </thead>\n",
              "  <tbody>\n",
              "    <tr>\n",
              "      <th>count</th>\n",
              "      <td>5541</td>\n",
              "      <td>5541</td>\n",
              "      <td>5541</td>\n",
              "      <td>179</td>\n",
              "      <td>5541</td>\n",
              "      <td>5541.000000</td>\n",
              "      <td>179.000000</td>\n",
              "    </tr>\n",
              "    <tr>\n",
              "      <th>unique</th>\n",
              "      <td>7</td>\n",
              "      <td>5541</td>\n",
              "      <td>5231</td>\n",
              "      <td>4</td>\n",
              "      <td>1</td>\n",
              "      <td>NaN</td>\n",
              "      <td>NaN</td>\n",
              "    </tr>\n",
              "    <tr>\n",
              "      <th>top</th>\n",
              "      <td>Vascular Plant</td>\n",
              "      <td>Clethrionomys gapperi gapperi</td>\n",
              "      <td>Brachythecium Moss</td>\n",
              "      <td>Species of Concern</td>\n",
              "      <td>Yellowstone National Park</td>\n",
              "      <td>NaN</td>\n",
              "      <td>NaN</td>\n",
              "    </tr>\n",
              "    <tr>\n",
              "      <th>freq</th>\n",
              "      <td>4262</td>\n",
              "      <td>1</td>\n",
              "      <td>7</td>\n",
              "      <td>151</td>\n",
              "      <td>5541</td>\n",
              "      <td>NaN</td>\n",
              "      <td>NaN</td>\n",
              "    </tr>\n",
              "    <tr>\n",
              "      <th>mean</th>\n",
              "      <td>NaN</td>\n",
              "      <td>NaN</td>\n",
              "      <td>NaN</td>\n",
              "      <td>NaN</td>\n",
              "      <td>NaN</td>\n",
              "      <td>260.523732</td>\n",
              "      <td>1.245810</td>\n",
              "    </tr>\n",
              "    <tr>\n",
              "      <th>std</th>\n",
              "      <td>NaN</td>\n",
              "      <td>NaN</td>\n",
              "      <td>NaN</td>\n",
              "      <td>NaN</td>\n",
              "      <td>NaN</td>\n",
              "      <td>60.837818</td>\n",
              "      <td>0.632386</td>\n",
              "    </tr>\n",
              "    <tr>\n",
              "      <th>min</th>\n",
              "      <td>NaN</td>\n",
              "      <td>NaN</td>\n",
              "      <td>NaN</td>\n",
              "      <td>NaN</td>\n",
              "      <td>NaN</td>\n",
              "      <td>57.000000</td>\n",
              "      <td>1.000000</td>\n",
              "    </tr>\n",
              "    <tr>\n",
              "      <th>25%</th>\n",
              "      <td>NaN</td>\n",
              "      <td>NaN</td>\n",
              "      <td>NaN</td>\n",
              "      <td>NaN</td>\n",
              "      <td>NaN</td>\n",
              "      <td>236.000000</td>\n",
              "      <td>1.000000</td>\n",
              "    </tr>\n",
              "    <tr>\n",
              "      <th>50%</th>\n",
              "      <td>NaN</td>\n",
              "      <td>NaN</td>\n",
              "      <td>NaN</td>\n",
              "      <td>NaN</td>\n",
              "      <td>NaN</td>\n",
              "      <td>250.000000</td>\n",
              "      <td>1.000000</td>\n",
              "    </tr>\n",
              "    <tr>\n",
              "      <th>75%</th>\n",
              "      <td>NaN</td>\n",
              "      <td>NaN</td>\n",
              "      <td>NaN</td>\n",
              "      <td>NaN</td>\n",
              "      <td>NaN</td>\n",
              "      <td>265.000000</td>\n",
              "      <td>1.000000</td>\n",
              "    </tr>\n",
              "    <tr>\n",
              "      <th>max</th>\n",
              "      <td>NaN</td>\n",
              "      <td>NaN</td>\n",
              "      <td>NaN</td>\n",
              "      <td>NaN</td>\n",
              "      <td>NaN</td>\n",
              "      <td>805.000000</td>\n",
              "      <td>4.000000</td>\n",
              "    </tr>\n",
              "  </tbody>\n",
              "</table>\n",
              "</div>"
            ],
            "text/plain": [
              "              category                scientific_name        common_names  \\\n",
              "count             5541                           5541                5541   \n",
              "unique               7                           5541                5231   \n",
              "top     Vascular Plant  Clethrionomys gapperi gapperi  Brachythecium Moss   \n",
              "freq              4262                              1                   7   \n",
              "mean               NaN                            NaN                 NaN   \n",
              "std                NaN                            NaN                 NaN   \n",
              "min                NaN                            NaN                 NaN   \n",
              "25%                NaN                            NaN                 NaN   \n",
              "50%                NaN                            NaN                 NaN   \n",
              "75%                NaN                            NaN                 NaN   \n",
              "max                NaN                            NaN                 NaN   \n",
              "\n",
              "       conservation_status                  park_name  observations  \\\n",
              "count                  179                       5541   5541.000000   \n",
              "unique                   4                          1           NaN   \n",
              "top     Species of Concern  Yellowstone National Park           NaN   \n",
              "freq                   151                       5541           NaN   \n",
              "mean                   NaN                        NaN    260.523732   \n",
              "std                    NaN                        NaN     60.837818   \n",
              "min                    NaN                        NaN     57.000000   \n",
              "25%                    NaN                        NaN    236.000000   \n",
              "50%                    NaN                        NaN    250.000000   \n",
              "75%                    NaN                        NaN    265.000000   \n",
              "max                    NaN                        NaN    805.000000   \n",
              "\n",
              "        conservation_rating  \n",
              "count            179.000000  \n",
              "unique                  NaN  \n",
              "top                     NaN  \n",
              "freq                    NaN  \n",
              "mean               1.245810  \n",
              "std                0.632386  \n",
              "min                1.000000  \n",
              "25%                1.000000  \n",
              "50%                1.000000  \n",
              "75%                1.000000  \n",
              "max                4.000000  "
            ]
          },
          "execution_count": 55,
          "metadata": {},
          "output_type": "execute_result"
        }
      ],
      "source": [
        "yellowstone_park.describe(include='all')"
      ]
    },
    {
      "cell_type": "code",
      "execution_count": 56,
      "metadata": {},
      "outputs": [
        {
          "data": {
            "text/plain": [
              "Brachythecium Moss                                                            7\n",
              "Dicranum Moss                                                                 7\n",
              "Panic Grass                                                                   6\n",
              "Bryum Moss                                                                    6\n",
              "Sphagnum                                                                      6\n",
              "                                                                             ..\n",
              "Plantain-Leaved Sedge                                                         1\n",
              "Pennsylvania Sedge                                                            1\n",
              "Longstalk Sedge, Peduncled Sedge                                              1\n",
              "Sharpscale Sedge                                                              1\n",
              "Bullhead, Caltrop, Goathead, Mexican Sandbur, Puncture Vine, Texas Sandbur    1\n",
              "Name: common_names, Length: 5231, dtype: int64"
            ]
          },
          "execution_count": 56,
          "metadata": {},
          "output_type": "execute_result"
        }
      ],
      "source": [
        "yellowstone_park.common_names.value_counts()"
      ]
    },
    {
      "cell_type": "code",
      "execution_count": 57,
      "metadata": {},
      "outputs": [
        {
          "name": "stdout",
          "output_type": "stream",
          "text": [
            "Top species in Yellowstone National Park :\n"
          ]
        },
        {
          "data": {
            "text/plain": [
              "common_names\n",
              "Dicranum Moss         7\n",
              "Brachythecium Moss    7\n",
              "Panic Grass           6\n",
              "Sphagnum              6\n",
              "Bryum Moss            6\n",
              "Name: observations, dtype: int64"
            ]
          },
          "execution_count": 57,
          "metadata": {},
          "output_type": "execute_result"
        }
      ],
      "source": [
        "yellowstone_species = yellowstone_park.groupby('common_names')['observations'].count()\n",
        "print('Top species in Yellowstone National Park :')\n",
        "yellowstone_species.sort_values(ascending=False).head(5)"
      ]
    },
    {
      "cell_type": "code",
      "execution_count": 58,
      "metadata": {},
      "outputs": [
        {
          "name": "stdout",
          "output_type": "stream",
          "text": [
            "Top species in Great Smoky Mountains National Park :\n"
          ]
        },
        {
          "data": {
            "text/plain": [
              "common_names\n",
              "Dicranum Moss         7\n",
              "Brachythecium Moss    7\n",
              "Panic Grass           6\n",
              "Sphagnum              6\n",
              "Bryum Moss            6\n",
              "Name: observations, dtype: int64"
            ]
          },
          "execution_count": 58,
          "metadata": {},
          "output_type": "execute_result"
        }
      ],
      "source": [
        "great_smoky_park_species = great_smoky_park.groupby('common_names')['observations'].count()\n",
        "print('Top species in Great Smoky Mountains National Park :')\n",
        "great_smoky_park_species.sort_values(ascending=False).head(5)"
      ]
    },
    {
      "cell_type": "code",
      "execution_count": 59,
      "metadata": {},
      "outputs": [
        {
          "name": "stdout",
          "output_type": "stream",
          "text": [
            "Top species in Yosemite National Park :\n"
          ]
        },
        {
          "data": {
            "text/plain": [
              "common_names\n",
              "Dicranum Moss         7\n",
              "Brachythecium Moss    7\n",
              "Panic Grass           6\n",
              "Sphagnum              6\n",
              "Bryum Moss            6\n",
              "Name: observations, dtype: int64"
            ]
          },
          "execution_count": 59,
          "metadata": {},
          "output_type": "execute_result"
        }
      ],
      "source": [
        "yosemite_park_species = yosemite_park.groupby('common_names')['observations'].count()\n",
        "print('Top species in Yosemite National Park :')\n",
        "yosemite_park_species.sort_values(ascending=False).head(5)"
      ]
    },
    {
      "cell_type": "code",
      "execution_count": 60,
      "metadata": {},
      "outputs": [
        {
          "name": "stdout",
          "output_type": "stream",
          "text": [
            "Top species in Bryce National Park :\n"
          ]
        },
        {
          "data": {
            "text/plain": [
              "common_names\n",
              "Dicranum Moss         7\n",
              "Brachythecium Moss    7\n",
              "Panic Grass           6\n",
              "Sphagnum              6\n",
              "Bryum Moss            6\n",
              "Name: observations, dtype: int64"
            ]
          },
          "execution_count": 60,
          "metadata": {},
          "output_type": "execute_result"
        }
      ],
      "source": [
        "bryce_park_species = bryce_park.groupby('common_names')['observations'].count()\n",
        "print('Top species in Bryce National Park :')\n",
        "bryce_park_species.sort_values(ascending=False).head(5)"
      ]
    },
    {
      "cell_type": "code",
      "execution_count": 61,
      "metadata": {},
      "outputs": [
        {
          "name": "stdout",
          "output_type": "stream",
          "text": [
            "<class 'pandas.core.series.Series'>\n",
            "Index: 5231 entries, A Bluegrass, Bluegrass to Zygodon Moss\n",
            "Series name: observations\n",
            "Non-Null Count  Dtype\n",
            "--------------  -----\n",
            "5231 non-null   int64\n",
            "dtypes: int64(1)\n",
            "memory usage: 81.7+ KB\n"
          ]
        },
        {
          "data": {
            "text/plain": [
              "common_names\n",
              "A Bluegrass, Bluegrass                     1\n",
              "A Bramble, Black Raspberry                 1\n",
              "A Bramble, Blackberry                      1\n",
              "A Bramble, Highbush Blackberry             1\n",
              "A Bramble, Truculent Blackberry            1\n",
              "A Goldenrod, Skunk Goldenrod               1\n",
              "A Goldenrod, Zig-Zag Goldenrod             1\n",
              "A Hawthorn, Hawthorn                       1\n",
              "A Hawthorn, Scarlet Hawthorn               1\n",
              "A Holboell Rock-Cress, Second Rockcress    1\n",
              "Name: observations, dtype: int64"
            ]
          },
          "execution_count": 61,
          "metadata": {},
          "output_type": "execute_result"
        }
      ],
      "source": [
        "bryce_park_species.info()\n",
        "bryce_park_species.head(10)"
      ]
    },
    {
      "cell_type": "code",
      "execution_count": null,
      "metadata": {},
      "outputs": [
        {
          "data": {
            "text/html": [
              "<div>\n",
              "<style scoped>\n",
              "    .dataframe tbody tr th:only-of-type {\n",
              "        vertical-align: middle;\n",
              "    }\n",
              "\n",
              "    .dataframe tbody tr th {\n",
              "        vertical-align: top;\n",
              "    }\n",
              "\n",
              "    .dataframe thead th {\n",
              "        text-align: right;\n",
              "    }\n",
              "</style>\n",
              "<table border=\"1\" class=\"dataframe\">\n",
              "  <thead>\n",
              "    <tr style=\"text-align: right;\">\n",
              "      <th></th>\n",
              "      <th>observations</th>\n",
              "    </tr>\n",
              "    <tr>\n",
              "      <th>category</th>\n",
              "      <th></th>\n",
              "    </tr>\n",
              "  </thead>\n",
              "  <tbody>\n",
              "    <tr>\n",
              "      <th>Amphibian</th>\n",
              "      <td>316</td>\n",
              "    </tr>\n",
              "    <tr>\n",
              "      <th>Bird</th>\n",
              "      <td>1952</td>\n",
              "    </tr>\n",
              "    <tr>\n",
              "      <th>Fish</th>\n",
              "      <td>500</td>\n",
              "    </tr>\n",
              "    <tr>\n",
              "      <th>Mammal</th>\n",
              "      <td>704</td>\n",
              "    </tr>\n",
              "    <tr>\n",
              "      <th>Nonvascular Plant</th>\n",
              "      <td>1332</td>\n",
              "    </tr>\n",
              "    <tr>\n",
              "      <th>Reptile</th>\n",
              "      <td>312</td>\n",
              "    </tr>\n",
              "    <tr>\n",
              "      <th>Vascular Plant</th>\n",
              "      <td>17048</td>\n",
              "    </tr>\n",
              "  </tbody>\n",
              "</table>\n",
              "</div>"
            ],
            "text/plain": [
              "                   observations\n",
              "category                       \n",
              "Amphibian                   316\n",
              "Bird                       1952\n",
              "Fish                        500\n",
              "Mammal                      704\n",
              "Nonvascular Plant          1332\n",
              "Reptile                     312\n",
              "Vascular Plant            17048"
            ]
          },
          "execution_count": 63,
          "metadata": {},
          "output_type": "execute_result"
        }
      ],
      "source": [
        "species_df[['observations', 'category']].groupby('category').count()"
      ]
    },
    {
      "cell_type": "code",
      "execution_count": null,
      "metadata": {},
      "outputs": [
        {
          "data": {
            "image/png": "[encoded data removed]",
            "text/plain": [
              "<Figure size 813.375x500 with 1 Axes>"
            ]
          },
          "metadata": {},
          "output_type": "display_data"
        },
        {
          "data": {
            "text/plain": [
              "<Figure size 640x480 with 0 Axes>"
            ]
          },
          "metadata": {},
          "output_type": "display_data"
        }
      ],
      "source": [
        "sns.displot(data=species_df, x='observations', hue='park_name', alpha=0.5)\n",
        "plt.show()\n",
        "plt.clf()"
      ]
    },
    {
      "attachments": {},
      "cell_type": "markdown",
      "metadata": {},
      "source": [
        "Yellowstone have outliers, more than other parks. What kind of species are there?"
      ]
    },
    {
      "cell_type": "code",
      "execution_count": null,
      "metadata": {},
      "outputs": [],
      "source": [
        "yellowstone_park = species_df[species_df['park_name'] == 'Yellowstone National Park']"
      ]
    },
    {
      "cell_type": "code",
      "execution_count": null,
      "metadata": {},
      "outputs": [
        {
          "name": "stdout",
          "output_type": "stream",
          "text": [
            "% of species:\n",
            "Vascular Plant    0.757353\n",
            "Mammal            0.117647\n",
            "Bird              0.113971\n",
            "Amphibian         0.003676\n",
            "Fish              0.003676\n",
            "Reptile           0.003676\n",
            "Name: category, dtype: float64\n"
          ]
        }
      ],
      "source": [
        "# Let´s check wich species have more than 400 observations\n",
        "\n",
        "yp_upper = yellowstone_park[yellowstone_park['observations'] >= 400]\n",
        "\n",
        "print('% of species:')\n",
        "print((yp_upper.category.value_counts(normalize=True)))"
      ]
    },
    {
      "cell_type": "markdown",
      "metadata": {
        "id": "U_wXco_xbBZf"
      },
      "source": [
        "###"
      ]
    }
  ],
  "metadata": {
    "colab": {
      "provenance": []
    },
    "kernelspec": {
      "display_name": "base",
      "language": "python",
      "name": "python3"
    },
    "language_info": {
      "codemirror_mode": {
        "name": "ipython",
        "version": 3
      },
      "file_extension": ".py",
      "mimetype": "text/x-python",
      "name": "python",
      "nbconvert_exporter": "python",
      "pygments_lexer": "ipython3",
      "version": "3.9.13"
    },
    "vscode": {
      "interpreter": {
        "hash": "155e4320cbd76e32fdde734bac67ea2e161d2b8f53e6edc9d7eae4ecf3146a98"
      }
    }
  },
  "nbformat": 4,
  "nbformat_minor": 0
}
