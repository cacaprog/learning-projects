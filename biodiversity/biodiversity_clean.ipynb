{
  "cells": [
    {
      "cell_type": "markdown",
      "metadata": {
        "id": "2EjDU9m2v4UJ"
      },
      "source": [
        "# Exploratory Data Analysis"
      ]
    },
    {
      "cell_type": "code",
      "execution_count": 500,
      "metadata": {
        "id": "40neptG07gTo"
      },
      "outputs": [],
      "source": [
        "# import necessary libraries\n",
        "import pandas as pd\n",
        "import numpy as np\n",
        "import matplotlib.pyplot as plt\n",
        "import seaborn as sns"
      ]
    },
    {
      "cell_type": "code",
      "execution_count": 501,
      "metadata": {
        "colab": {
          "base_uri": "https://localhost:8080/"
        },
        "id": "JM68dfJkS3OF",
        "outputId": "883b7c57-ec13-4185-f52e-ce7d75233f94"
      },
      "outputs": [
        {
          "name": "stdout",
          "output_type": "stream",
          "text": [
            "            scientific_name                            park_name  observations\n",
            "0        Vicia benghalensis  Great Smoky Mountains National Park            68\n",
            "1            Neovison vison  Great Smoky Mountains National Park            77\n",
            "2         Prunus subcordata               Yosemite National Park           138\n",
            "3      Abutilon theophrasti                  Bryce National Park            84\n",
            "4  Githopsis specularioides  Great Smoky Mountains National Park            85\n",
            "scientific_name    0\n",
            "park_name          0\n",
            "observations       0\n",
            "dtype: int64\n"
          ]
        }
      ],
      "source": [
        "# load the datasets\n",
        "obs = pd.read_csv(\"/Users/administrador/Documents/learning-projects/biodiversity/observations.csv\")\n",
        "\n",
        "# print the first few rows of the DataFrame\n",
        "print(obs.head(5))\n",
        "\n",
        "# check for missing values\n",
        "print(obs.isnull().sum())\n"
      ]
    },
    {
      "cell_type": "code",
      "execution_count": 502,
      "metadata": {
        "colab": {
          "base_uri": "https://localhost:8080/",
          "height": 394
        },
        "id": "9LXkH61zpxj1",
        "outputId": "3bf83b4d-670d-4529-8ab2-e4cd12908de7"
      },
      "outputs": [
        {
          "data": {
            "text/html": [
              "<div>\n",
              "<style scoped>\n",
              "    .dataframe tbody tr th:only-of-type {\n",
              "        vertical-align: middle;\n",
              "    }\n",
              "\n",
              "    .dataframe tbody tr th {\n",
              "        vertical-align: top;\n",
              "    }\n",
              "\n",
              "    .dataframe thead th {\n",
              "        text-align: right;\n",
              "    }\n",
              "</style>\n",
              "<table border=\"1\" class=\"dataframe\">\n",
              "  <thead>\n",
              "    <tr style=\"text-align: right;\">\n",
              "      <th></th>\n",
              "      <th>scientific_name</th>\n",
              "      <th>park_name</th>\n",
              "      <th>observations</th>\n",
              "    </tr>\n",
              "  </thead>\n",
              "  <tbody>\n",
              "    <tr>\n",
              "      <th>count</th>\n",
              "      <td>23296</td>\n",
              "      <td>23296</td>\n",
              "      <td>23296.000000</td>\n",
              "    </tr>\n",
              "    <tr>\n",
              "      <th>unique</th>\n",
              "      <td>5541</td>\n",
              "      <td>4</td>\n",
              "      <td>NaN</td>\n",
              "    </tr>\n",
              "    <tr>\n",
              "      <th>top</th>\n",
              "      <td>Myotis lucifugus</td>\n",
              "      <td>Great Smoky Mountains National Park</td>\n",
              "      <td>NaN</td>\n",
              "    </tr>\n",
              "    <tr>\n",
              "      <th>freq</th>\n",
              "      <td>12</td>\n",
              "      <td>5824</td>\n",
              "      <td>NaN</td>\n",
              "    </tr>\n",
              "    <tr>\n",
              "      <th>mean</th>\n",
              "      <td>NaN</td>\n",
              "      <td>NaN</td>\n",
              "      <td>142.287904</td>\n",
              "    </tr>\n",
              "    <tr>\n",
              "      <th>std</th>\n",
              "      <td>NaN</td>\n",
              "      <td>NaN</td>\n",
              "      <td>69.890532</td>\n",
              "    </tr>\n",
              "    <tr>\n",
              "      <th>min</th>\n",
              "      <td>NaN</td>\n",
              "      <td>NaN</td>\n",
              "      <td>9.000000</td>\n",
              "    </tr>\n",
              "    <tr>\n",
              "      <th>25%</th>\n",
              "      <td>NaN</td>\n",
              "      <td>NaN</td>\n",
              "      <td>86.000000</td>\n",
              "    </tr>\n",
              "    <tr>\n",
              "      <th>50%</th>\n",
              "      <td>NaN</td>\n",
              "      <td>NaN</td>\n",
              "      <td>124.000000</td>\n",
              "    </tr>\n",
              "    <tr>\n",
              "      <th>75%</th>\n",
              "      <td>NaN</td>\n",
              "      <td>NaN</td>\n",
              "      <td>195.000000</td>\n",
              "    </tr>\n",
              "    <tr>\n",
              "      <th>max</th>\n",
              "      <td>NaN</td>\n",
              "      <td>NaN</td>\n",
              "      <td>321.000000</td>\n",
              "    </tr>\n",
              "  </tbody>\n",
              "</table>\n",
              "</div>"
            ],
            "text/plain": [
              "         scientific_name                            park_name  observations\n",
              "count              23296                                23296  23296.000000\n",
              "unique              5541                                    4           NaN\n",
              "top     Myotis lucifugus  Great Smoky Mountains National Park           NaN\n",
              "freq                  12                                 5824           NaN\n",
              "mean                 NaN                                  NaN    142.287904\n",
              "std                  NaN                                  NaN     69.890532\n",
              "min                  NaN                                  NaN      9.000000\n",
              "25%                  NaN                                  NaN     86.000000\n",
              "50%                  NaN                                  NaN    124.000000\n",
              "75%                  NaN                                  NaN    195.000000\n",
              "max                  NaN                                  NaN    321.000000"
            ]
          },
          "execution_count": 502,
          "metadata": {},
          "output_type": "execute_result"
        }
      ],
      "source": [
        "obs.describe(include='all')"
      ]
    },
    {
      "cell_type": "code",
      "execution_count": 503,
      "metadata": {
        "colab": {
          "base_uri": "https://localhost:8080/"
        },
        "id": "oEexcFeRqh7q",
        "outputId": "51359054-977a-42b6-f160-cf74865f1b59"
      },
      "outputs": [
        {
          "data": {
            "text/plain": [
              "False    23281\n",
              "True        15\n",
              "dtype: int64"
            ]
          },
          "execution_count": 503,
          "metadata": {},
          "output_type": "execute_result"
        }
      ],
      "source": [
        "# Have duplicated data?\n",
        "obs.duplicated().value_counts()"
      ]
    },
    {
      "cell_type": "code",
      "execution_count": 504,
      "metadata": {
        "colab": {
          "base_uri": "https://localhost:8080/",
          "height": 424
        },
        "id": "txgE-tjtz-JV",
        "outputId": "90c04164-a13b-4eae-9fb6-15338c20bb69"
      },
      "outputs": [
        {
          "data": {
            "text/html": [
              "<div>\n",
              "<style scoped>\n",
              "    .dataframe tbody tr th:only-of-type {\n",
              "        vertical-align: middle;\n",
              "    }\n",
              "\n",
              "    .dataframe tbody tr th {\n",
              "        vertical-align: top;\n",
              "    }\n",
              "\n",
              "    .dataframe thead th {\n",
              "        text-align: right;\n",
              "    }\n",
              "</style>\n",
              "<table border=\"1\" class=\"dataframe\">\n",
              "  <thead>\n",
              "    <tr style=\"text-align: right;\">\n",
              "      <th></th>\n",
              "      <th>scientific_name</th>\n",
              "      <th>park_name</th>\n",
              "      <th>observations</th>\n",
              "    </tr>\n",
              "  </thead>\n",
              "  <tbody>\n",
              "    <tr>\n",
              "      <th>483</th>\n",
              "      <td>Agrostis gigantea</td>\n",
              "      <td>Yellowstone National Park</td>\n",
              "      <td>235</td>\n",
              "    </tr>\n",
              "    <tr>\n",
              "      <th>490</th>\n",
              "      <td>Agrostis mertensii</td>\n",
              "      <td>Yosemite National Park</td>\n",
              "      <td>128</td>\n",
              "    </tr>\n",
              "    <tr>\n",
              "      <th>945</th>\n",
              "      <td>Rumex crispus</td>\n",
              "      <td>Yellowstone National Park</td>\n",
              "      <td>255</td>\n",
              "    </tr>\n",
              "    <tr>\n",
              "      <th>1213</th>\n",
              "      <td>Dianthus barbatus</td>\n",
              "      <td>Bryce National Park</td>\n",
              "      <td>110</td>\n",
              "    </tr>\n",
              "    <tr>\n",
              "      <th>1259</th>\n",
              "      <td>Riparia riparia</td>\n",
              "      <td>Bryce National Park</td>\n",
              "      <td>91</td>\n",
              "    </tr>\n",
              "    <tr>\n",
              "      <th>...</th>\n",
              "      <td>...</td>\n",
              "      <td>...</td>\n",
              "      <td>...</td>\n",
              "    </tr>\n",
              "    <tr>\n",
              "      <th>23258</th>\n",
              "      <td>Microtus longicaudus</td>\n",
              "      <td>Yellowstone National Park</td>\n",
              "      <td>244</td>\n",
              "    </tr>\n",
              "    <tr>\n",
              "      <th>23259</th>\n",
              "      <td>Agrostis scabra</td>\n",
              "      <td>Bryce National Park</td>\n",
              "      <td>118</td>\n",
              "    </tr>\n",
              "    <tr>\n",
              "      <th>23267</th>\n",
              "      <td>Oxalis corniculata</td>\n",
              "      <td>Yosemite National Park</td>\n",
              "      <td>164</td>\n",
              "    </tr>\n",
              "    <tr>\n",
              "      <th>23273</th>\n",
              "      <td>Dactylis glomerata</td>\n",
              "      <td>Bryce National Park</td>\n",
              "      <td>89</td>\n",
              "    </tr>\n",
              "    <tr>\n",
              "      <th>23280</th>\n",
              "      <td>Botrychium simplex</td>\n",
              "      <td>Yellowstone National Park</td>\n",
              "      <td>241</td>\n",
              "    </tr>\n",
              "  </tbody>\n",
              "</table>\n",
              "<p>1132 rows × 3 columns</p>\n",
              "</div>"
            ],
            "text/plain": [
              "            scientific_name                  park_name  observations\n",
              "483       Agrostis gigantea  Yellowstone National Park           235\n",
              "490      Agrostis mertensii     Yosemite National Park           128\n",
              "945           Rumex crispus  Yellowstone National Park           255\n",
              "1213      Dianthus barbatus        Bryce National Park           110\n",
              "1259        Riparia riparia        Bryce National Park            91\n",
              "...                     ...                        ...           ...\n",
              "23258  Microtus longicaudus  Yellowstone National Park           244\n",
              "23259       Agrostis scabra        Bryce National Park           118\n",
              "23267    Oxalis corniculata     Yosemite National Park           164\n",
              "23273    Dactylis glomerata        Bryce National Park            89\n",
              "23280    Botrychium simplex  Yellowstone National Park           241\n",
              "\n",
              "[1132 rows x 3 columns]"
            ]
          },
          "execution_count": 504,
          "metadata": {},
          "output_type": "execute_result"
        }
      ],
      "source": [
        "# Check for duplicate data\n",
        "obs[obs.duplicated(subset=['scientific_name', 'park_name'])]"
      ]
    },
    {
      "cell_type": "code",
      "execution_count": 505,
      "metadata": {
        "colab": {
          "base_uri": "https://localhost:8080/",
          "height": 175
        },
        "id": "h00g71_s0fRl",
        "outputId": "9f0961b2-91d6-4ad2-b9b1-63d70bd29d9d"
      },
      "outputs": [
        {
          "data": {
            "text/html": [
              "<div>\n",
              "<style scoped>\n",
              "    .dataframe tbody tr th:only-of-type {\n",
              "        vertical-align: middle;\n",
              "    }\n",
              "\n",
              "    .dataframe tbody tr th {\n",
              "        vertical-align: top;\n",
              "    }\n",
              "\n",
              "    .dataframe thead th {\n",
              "        text-align: right;\n",
              "    }\n",
              "</style>\n",
              "<table border=\"1\" class=\"dataframe\">\n",
              "  <thead>\n",
              "    <tr style=\"text-align: right;\">\n",
              "      <th></th>\n",
              "      <th>scientific_name</th>\n",
              "      <th>park_name</th>\n",
              "      <th>observations</th>\n",
              "    </tr>\n",
              "  </thead>\n",
              "  <tbody>\n",
              "    <tr>\n",
              "      <th>55</th>\n",
              "      <td>Penstemon procerus</td>\n",
              "      <td>Great Smoky Mountains National Park</td>\n",
              "      <td>67</td>\n",
              "    </tr>\n",
              "    <tr>\n",
              "      <th>211</th>\n",
              "      <td>Penstemon procerus</td>\n",
              "      <td>Yellowstone National Park</td>\n",
              "      <td>215</td>\n",
              "    </tr>\n",
              "    <tr>\n",
              "      <th>2334</th>\n",
              "      <td>Penstemon procerus</td>\n",
              "      <td>Bryce National Park</td>\n",
              "      <td>98</td>\n",
              "    </tr>\n",
              "    <tr>\n",
              "      <th>16876</th>\n",
              "      <td>Penstemon procerus</td>\n",
              "      <td>Yosemite National Park</td>\n",
              "      <td>121</td>\n",
              "    </tr>\n",
              "  </tbody>\n",
              "</table>\n",
              "</div>"
            ],
            "text/plain": [
              "          scientific_name                            park_name  observations\n",
              "55     Penstemon procerus  Great Smoky Mountains National Park            67\n",
              "211    Penstemon procerus            Yellowstone National Park           215\n",
              "2334   Penstemon procerus                  Bryce National Park            98\n",
              "16876  Penstemon procerus               Yosemite National Park           121"
            ]
          },
          "execution_count": 505,
          "metadata": {},
          "output_type": "execute_result"
        }
      ],
      "source": [
        "obs[obs.scientific_name == 'Penstemon procerus']"
      ]
    },
    {
      "attachments": {},
      "cell_type": "markdown",
      "metadata": {
        "id": "zOlwO4140iEw"
      },
      "source": [
        "Duplicated scientific name. The same specie was found in different parks."
      ]
    },
    {
      "cell_type": "code",
      "execution_count": 506,
      "metadata": {
        "colab": {
          "base_uri": "https://localhost:8080/"
        },
        "id": "IZkBUBfesAyU",
        "outputId": "3d42f69f-e562-479e-a1b0-9f4be627ac57"
      },
      "outputs": [
        {
          "name": "stdout",
          "output_type": "stream",
          "text": [
            "<class 'pandas.core.frame.DataFrame'>\n",
            "Int64Index: 22164 entries, 0 to 23295\n",
            "Data columns (total 3 columns):\n",
            " #   Column           Non-Null Count  Dtype \n",
            "---  ------           --------------  ----- \n",
            " 0   scientific_name  22164 non-null  object\n",
            " 1   park_name        22164 non-null  object\n",
            " 2   observations     22164 non-null  int64 \n",
            "dtypes: int64(1), object(2)\n",
            "memory usage: 692.6+ KB\n"
          ]
        }
      ],
      "source": [
        "# Calculate the total observations for duplicate records and then remove the duplicates\n",
        "obs['total'] = obs.groupby(['scientific_name', 'park_name'])['observations'].transform('sum')\n",
        "obs.drop_duplicates(subset=['scientific_name', 'park_name'], keep='last', inplace=True)\n",
        "obs = obs[['scientific_name', 'park_name', 'total']]\n",
        "obs = obs.rename(columns={'total': 'observations'})\n",
        "obs.info()"
      ]
    },
    {
      "cell_type": "markdown",
      "metadata": {
        "id": "OGb8KU2V4AlJ"
      },
      "source": [
        "Let's do the same on spec dataframe"
      ]
    },
    {
      "cell_type": "code",
      "execution_count": 507,
      "metadata": {
        "colab": {
          "base_uri": "https://localhost:8080/"
        },
        "id": "Lsk8EL-yTYO0",
        "outputId": "9a8fde05-bbc9-4c89-b28f-519a685ca50b"
      },
      "outputs": [
        {
          "name": "stdout",
          "output_type": "stream",
          "text": [
            "  category                scientific_name  \\\n",
            "0   Mammal  Clethrionomys gapperi gapperi   \n",
            "1   Mammal                      Bos bison   \n",
            "2   Mammal                     Bos taurus   \n",
            "3   Mammal                     Ovis aries   \n",
            "4   Mammal                 Cervus elaphus   \n",
            "\n",
            "                                        common_names conservation_status  \n",
            "0                           Gapper's Red-Backed Vole                 NaN  \n",
            "1                              American Bison, Bison                 NaN  \n",
            "2  Aurochs, Aurochs, Domestic Cattle (Feral), Dom...                 NaN  \n",
            "3  Domestic Sheep, Mouflon, Red Sheep, Sheep (Feral)                 NaN  \n",
            "4                                      Wapiti Or Elk                 NaN  \n",
            "category                  0\n",
            "scientific_name           0\n",
            "common_names              0\n",
            "conservation_status    5633\n",
            "dtype: int64\n"
          ]
        }
      ],
      "source": [
        "# load the datasets\n",
        "spec = pd.read_csv(\"/Users/administrador/Documents/learning-projects/biodiversity/species_info.csv\")\n",
        "# print the first few rows of the DataFrame\n",
        "print(spec.head(5))\n",
        "\n",
        "# check for missing values\n",
        "print(spec.isnull().sum())"
      ]
    },
    {
      "attachments": {},
      "cell_type": "markdown",
      "metadata": {},
      "source": [
        "5633 missing data (96,72 %) on conservation_status column"
      ]
    },
    {
      "cell_type": "code",
      "execution_count": 508,
      "metadata": {
        "colab": {
          "base_uri": "https://localhost:8080/",
          "height": 175
        },
        "id": "OFPEyKYVku1q",
        "outputId": "b42b3fed-d97f-45e6-e098-999ed2195579"
      },
      "outputs": [
        {
          "data": {
            "text/html": [
              "<div>\n",
              "<style scoped>\n",
              "    .dataframe tbody tr th:only-of-type {\n",
              "        vertical-align: middle;\n",
              "    }\n",
              "\n",
              "    .dataframe tbody tr th {\n",
              "        vertical-align: top;\n",
              "    }\n",
              "\n",
              "    .dataframe thead th {\n",
              "        text-align: right;\n",
              "    }\n",
              "</style>\n",
              "<table border=\"1\" class=\"dataframe\">\n",
              "  <thead>\n",
              "    <tr style=\"text-align: right;\">\n",
              "      <th></th>\n",
              "      <th>category</th>\n",
              "      <th>scientific_name</th>\n",
              "      <th>common_names</th>\n",
              "      <th>conservation_status</th>\n",
              "    </tr>\n",
              "  </thead>\n",
              "  <tbody>\n",
              "    <tr>\n",
              "      <th>count</th>\n",
              "      <td>5824</td>\n",
              "      <td>5824</td>\n",
              "      <td>5824</td>\n",
              "      <td>191</td>\n",
              "    </tr>\n",
              "    <tr>\n",
              "      <th>unique</th>\n",
              "      <td>7</td>\n",
              "      <td>5541</td>\n",
              "      <td>5504</td>\n",
              "      <td>4</td>\n",
              "    </tr>\n",
              "    <tr>\n",
              "      <th>top</th>\n",
              "      <td>Vascular Plant</td>\n",
              "      <td>Castor canadensis</td>\n",
              "      <td>Brachythecium Moss</td>\n",
              "      <td>Species of Concern</td>\n",
              "    </tr>\n",
              "    <tr>\n",
              "      <th>freq</th>\n",
              "      <td>4470</td>\n",
              "      <td>3</td>\n",
              "      <td>7</td>\n",
              "      <td>161</td>\n",
              "    </tr>\n",
              "  </tbody>\n",
              "</table>\n",
              "</div>"
            ],
            "text/plain": [
              "              category    scientific_name        common_names  \\\n",
              "count             5824               5824                5824   \n",
              "unique               7               5541                5504   \n",
              "top     Vascular Plant  Castor canadensis  Brachythecium Moss   \n",
              "freq              4470                  3                   7   \n",
              "\n",
              "       conservation_status  \n",
              "count                  191  \n",
              "unique                   4  \n",
              "top     Species of Concern  \n",
              "freq                   161  "
            ]
          },
          "execution_count": 508,
          "metadata": {},
          "output_type": "execute_result"
        }
      ],
      "source": [
        "spec.describe(include='all')"
      ]
    },
    {
      "cell_type": "code",
      "execution_count": 509,
      "metadata": {
        "colab": {
          "base_uri": "https://localhost:8080/"
        },
        "id": "DKXz7Gp6rlc3",
        "outputId": "ff52cbbc-b556-4a47-eb3f-4ca51cd67be3"
      },
      "outputs": [
        {
          "data": {
            "text/plain": [
              "False    5824\n",
              "dtype: int64"
            ]
          },
          "execution_count": 509,
          "metadata": {},
          "output_type": "execute_result"
        }
      ],
      "source": [
        "# Have duplicated data?\n",
        "spec.duplicated().value_counts()"
      ]
    },
    {
      "cell_type": "markdown",
      "metadata": {
        "id": "0ISE466trtbu"
      },
      "source": [
        "Let's check further, inside dataset"
      ]
    },
    {
      "cell_type": "code",
      "execution_count": 510,
      "metadata": {
        "colab": {
          "base_uri": "https://localhost:8080/",
          "height": 424
        },
        "id": "hkKpnzxn4jbc",
        "outputId": "aeeadd14-9f8b-4a26-bd9a-072c379587ec"
      },
      "outputs": [
        {
          "data": {
            "text/html": [
              "<div>\n",
              "<style scoped>\n",
              "    .dataframe tbody tr th:only-of-type {\n",
              "        vertical-align: middle;\n",
              "    }\n",
              "\n",
              "    .dataframe tbody tr th {\n",
              "        vertical-align: top;\n",
              "    }\n",
              "\n",
              "    .dataframe thead th {\n",
              "        text-align: right;\n",
              "    }\n",
              "</style>\n",
              "<table border=\"1\" class=\"dataframe\">\n",
              "  <thead>\n",
              "    <tr style=\"text-align: right;\">\n",
              "      <th></th>\n",
              "      <th>category</th>\n",
              "      <th>scientific_name</th>\n",
              "      <th>common_names</th>\n",
              "      <th>conservation_status</th>\n",
              "    </tr>\n",
              "  </thead>\n",
              "  <tbody>\n",
              "    <tr>\n",
              "      <th>3017</th>\n",
              "      <td>Mammal</td>\n",
              "      <td>Cervus elaphus</td>\n",
              "      <td>Rocky Mountain Elk</td>\n",
              "      <td>NaN</td>\n",
              "    </tr>\n",
              "    <tr>\n",
              "      <th>3019</th>\n",
              "      <td>Mammal</td>\n",
              "      <td>Odocoileus virginianus</td>\n",
              "      <td>White-Tailed Deer, White-Tailed Deer</td>\n",
              "      <td>NaN</td>\n",
              "    </tr>\n",
              "    <tr>\n",
              "      <th>3020</th>\n",
              "      <td>Mammal</td>\n",
              "      <td>Canis lupus</td>\n",
              "      <td>Gray Wolf, Wolf</td>\n",
              "      <td>In Recovery</td>\n",
              "    </tr>\n",
              "    <tr>\n",
              "      <th>3022</th>\n",
              "      <td>Mammal</td>\n",
              "      <td>Puma concolor</td>\n",
              "      <td>Cougar, Mountain Lion, Puma</td>\n",
              "      <td>NaN</td>\n",
              "    </tr>\n",
              "    <tr>\n",
              "      <th>3025</th>\n",
              "      <td>Mammal</td>\n",
              "      <td>Lutra canadensis</td>\n",
              "      <td>River Otter</td>\n",
              "      <td>NaN</td>\n",
              "    </tr>\n",
              "    <tr>\n",
              "      <th>...</th>\n",
              "      <td>...</td>\n",
              "      <td>...</td>\n",
              "      <td>...</td>\n",
              "      <td>...</td>\n",
              "    </tr>\n",
              "    <tr>\n",
              "      <th>5619</th>\n",
              "      <td>Vascular Plant</td>\n",
              "      <td>Panicum rigidulum var. rigidulum</td>\n",
              "      <td>Redtop Panicgrass, Redtop Panicum</td>\n",
              "      <td>NaN</td>\n",
              "    </tr>\n",
              "    <tr>\n",
              "      <th>5638</th>\n",
              "      <td>Vascular Plant</td>\n",
              "      <td>Setaria pumila</td>\n",
              "      <td>Cattail Grass, Yellow Bristle Grass, Yellow Br...</td>\n",
              "      <td>NaN</td>\n",
              "    </tr>\n",
              "    <tr>\n",
              "      <th>5640</th>\n",
              "      <td>Vascular Plant</td>\n",
              "      <td>Vulpia bromoides</td>\n",
              "      <td>Brome Fescue, Brome Six-Weeks Grass, Desert Fe...</td>\n",
              "      <td>NaN</td>\n",
              "    </tr>\n",
              "    <tr>\n",
              "      <th>5643</th>\n",
              "      <td>Vascular Plant</td>\n",
              "      <td>Vulpia myuros</td>\n",
              "      <td>Foxtail Fescue, Rattail Fescue, Rat-Tail Fescu...</td>\n",
              "      <td>NaN</td>\n",
              "    </tr>\n",
              "    <tr>\n",
              "      <th>5750</th>\n",
              "      <td>Vascular Plant</td>\n",
              "      <td>Rosa eglanteria</td>\n",
              "      <td>Sweetbriar Rose</td>\n",
              "      <td>NaN</td>\n",
              "    </tr>\n",
              "  </tbody>\n",
              "</table>\n",
              "<p>283 rows × 4 columns</p>\n",
              "</div>"
            ],
            "text/plain": [
              "            category                   scientific_name  \\\n",
              "3017          Mammal                    Cervus elaphus   \n",
              "3019          Mammal            Odocoileus virginianus   \n",
              "3020          Mammal                       Canis lupus   \n",
              "3022          Mammal                     Puma concolor   \n",
              "3025          Mammal                  Lutra canadensis   \n",
              "...              ...                               ...   \n",
              "5619  Vascular Plant  Panicum rigidulum var. rigidulum   \n",
              "5638  Vascular Plant                    Setaria pumila   \n",
              "5640  Vascular Plant                  Vulpia bromoides   \n",
              "5643  Vascular Plant                     Vulpia myuros   \n",
              "5750  Vascular Plant                   Rosa eglanteria   \n",
              "\n",
              "                                           common_names conservation_status  \n",
              "3017                                 Rocky Mountain Elk                 NaN  \n",
              "3019               White-Tailed Deer, White-Tailed Deer                 NaN  \n",
              "3020                                    Gray Wolf, Wolf         In Recovery  \n",
              "3022                        Cougar, Mountain Lion, Puma                 NaN  \n",
              "3025                                        River Otter                 NaN  \n",
              "...                                                 ...                 ...  \n",
              "5619                  Redtop Panicgrass, Redtop Panicum                 NaN  \n",
              "5638  Cattail Grass, Yellow Bristle Grass, Yellow Br...                 NaN  \n",
              "5640  Brome Fescue, Brome Six-Weeks Grass, Desert Fe...                 NaN  \n",
              "5643  Foxtail Fescue, Rattail Fescue, Rat-Tail Fescu...                 NaN  \n",
              "5750                                    Sweetbriar Rose                 NaN  \n",
              "\n",
              "[283 rows x 4 columns]"
            ]
          },
          "execution_count": 510,
          "metadata": {},
          "output_type": "execute_result"
        }
      ],
      "source": [
        "spec[spec.duplicated(subset=['scientific_name'])]"
      ]
    },
    {
      "cell_type": "code",
      "execution_count": 511,
      "metadata": {
        "colab": {
          "base_uri": "https://localhost:8080/",
          "height": 143
        },
        "id": "ARpj1wYn4sWs",
        "outputId": "d750eaba-7dd2-49d6-84fb-56a86b9663e1"
      },
      "outputs": [
        {
          "data": {
            "text/html": [
              "<div>\n",
              "<style scoped>\n",
              "    .dataframe tbody tr th:only-of-type {\n",
              "        vertical-align: middle;\n",
              "    }\n",
              "\n",
              "    .dataframe tbody tr th {\n",
              "        vertical-align: top;\n",
              "    }\n",
              "\n",
              "    .dataframe thead th {\n",
              "        text-align: right;\n",
              "    }\n",
              "</style>\n",
              "<table border=\"1\" class=\"dataframe\">\n",
              "  <thead>\n",
              "    <tr style=\"text-align: right;\">\n",
              "      <th></th>\n",
              "      <th>category</th>\n",
              "      <th>scientific_name</th>\n",
              "      <th>common_names</th>\n",
              "      <th>conservation_status</th>\n",
              "    </tr>\n",
              "  </thead>\n",
              "  <tbody>\n",
              "    <tr>\n",
              "      <th>8</th>\n",
              "      <td>Mammal</td>\n",
              "      <td>Canis lupus</td>\n",
              "      <td>Gray Wolf</td>\n",
              "      <td>Endangered</td>\n",
              "    </tr>\n",
              "    <tr>\n",
              "      <th>3020</th>\n",
              "      <td>Mammal</td>\n",
              "      <td>Canis lupus</td>\n",
              "      <td>Gray Wolf, Wolf</td>\n",
              "      <td>In Recovery</td>\n",
              "    </tr>\n",
              "    <tr>\n",
              "      <th>4448</th>\n",
              "      <td>Mammal</td>\n",
              "      <td>Canis lupus</td>\n",
              "      <td>Gray Wolf, Wolf</td>\n",
              "      <td>Endangered</td>\n",
              "    </tr>\n",
              "  </tbody>\n",
              "</table>\n",
              "</div>"
            ],
            "text/plain": [
              "     category scientific_name     common_names conservation_status\n",
              "8      Mammal     Canis lupus        Gray Wolf          Endangered\n",
              "3020   Mammal     Canis lupus  Gray Wolf, Wolf         In Recovery\n",
              "4448   Mammal     Canis lupus  Gray Wolf, Wolf          Endangered"
            ]
          },
          "execution_count": 511,
          "metadata": {},
          "output_type": "execute_result"
        }
      ],
      "source": [
        "spec[spec.scientific_name == 'Canis lupus']"
      ]
    },
    {
      "cell_type": "markdown",
      "metadata": {
        "id": "GS-GCmq4508b"
      },
      "source": [
        "Let's drop the duplicate"
      ]
    },
    {
      "cell_type": "code",
      "execution_count": 512,
      "metadata": {
        "id": "B5EQ4TMx58kf"
      },
      "outputs": [],
      "source": [
        "spec.drop_duplicates(subset=['scientific_name'], keep='last', inplace=True)"
      ]
    },
    {
      "cell_type": "code",
      "execution_count": 513,
      "metadata": {
        "colab": {
          "base_uri": "https://localhost:8080/"
        },
        "id": "48jaRn656aOt",
        "outputId": "c9cfa02e-b3b7-4a76-b14f-7bb9337b4121"
      },
      "outputs": [
        {
          "name": "stdout",
          "output_type": "stream",
          "text": [
            "<class 'pandas.core.frame.DataFrame'>\n",
            "Int64Index: 5541 entries, 0 to 5823\n",
            "Data columns (total 4 columns):\n",
            " #   Column               Non-Null Count  Dtype \n",
            "---  ------               --------------  ----- \n",
            " 0   category             5541 non-null   object\n",
            " 1   scientific_name      5541 non-null   object\n",
            " 2   common_names         5541 non-null   object\n",
            " 3   conservation_status  179 non-null    object\n",
            "dtypes: object(4)\n",
            "memory usage: 216.4+ KB\n"
          ]
        }
      ],
      "source": [
        "spec.info()"
      ]
    },
    {
      "cell_type": "markdown",
      "metadata": {
        "id": "y3p3B5mx-Jh2"
      },
      "source": [
        "### 1. What is the distribution of conservation_status for animals?\n"
      ]
    },
    {
      "cell_type": "code",
      "execution_count": 514,
      "metadata": {},
      "outputs": [
        {
          "data": {
            "text/plain": [
              "5541"
            ]
          },
          "execution_count": 514,
          "metadata": {},
          "output_type": "execute_result"
        }
      ],
      "source": [
        "spec.conservation_status.isna().count()"
      ]
    },
    {
      "attachments": {},
      "cell_type": "markdown",
      "metadata": {},
      "source": [
        "If a specie is not categorized in any status, it's not treated. Let's fill NaN with that information"
      ]
    },
    {
      "cell_type": "code",
      "execution_count": 515,
      "metadata": {},
      "outputs": [],
      "source": [
        "spec.conservation_status = spec.conservation_status.fillna('No Intervention')"
      ]
    },
    {
      "cell_type": "code",
      "execution_count": 516,
      "metadata": {},
      "outputs": [
        {
          "data": {
            "text/plain": [
              "0       No Intervention\n",
              "1       No Intervention\n",
              "2       No Intervention\n",
              "3       No Intervention\n",
              "7    Species of Concern\n",
              "Name: conservation_status, dtype: object"
            ]
          },
          "execution_count": 516,
          "metadata": {},
          "output_type": "execute_result"
        }
      ],
      "source": [
        "spec.conservation_status.head()"
      ]
    },
    {
      "cell_type": "code",
      "execution_count": 517,
      "metadata": {
        "colab": {
          "base_uri": "https://localhost:8080/"
        },
        "id": "iID3nEft-Ps0",
        "outputId": "1ac18cb4-151e-46fa-aef9-714e1e9b735c"
      },
      "outputs": [
        {
          "data": {
            "text/plain": [
              "No Intervention       5362\n",
              "Species of Concern     151\n",
              "Endangered              15\n",
              "Threatened              10\n",
              "In Recovery              3\n",
              "Name: conservation_status, dtype: int64"
            ]
          },
          "execution_count": 517,
          "metadata": {},
          "output_type": "execute_result"
        }
      ],
      "source": [
        "spec.conservation_status.value_counts()"
      ]
    },
    {
      "cell_type": "code",
      "execution_count": 518,
      "metadata": {
        "colab": {
          "base_uri": "https://localhost:8080/"
        },
        "id": "mWD4Z9CN_boh",
        "outputId": "66e3d4ac-4b79-40f4-da75-c555b8b1d463"
      },
      "outputs": [
        {
          "data": {
            "text/plain": [
              "array(['Mammal', 'Bird', 'Reptile', 'Amphibian', 'Fish', 'Vascular Plant',\n",
              "       'Nonvascular Plant'], dtype=object)"
            ]
          },
          "execution_count": 518,
          "metadata": {},
          "output_type": "execute_result"
        }
      ],
      "source": [
        "spec.category.unique()"
      ]
    },
    {
      "cell_type": "markdown",
      "metadata": {
        "id": "lvUpssug_gV0"
      },
      "source": [
        "Animals = Mammal, Bird, Reptile, Amphibian, Fish, Vascular Plant, Nonvascular Plant"
      ]
    },
    {
      "cell_type": "code",
      "execution_count": 519,
      "metadata": {
        "id": "l7Ps3UKGOFfM"
      },
      "outputs": [],
      "source": [
        "# Create a specific dataframe for animals\n",
        "animal = ('Mammal', 'Bird', 'Reptile', 'Amphibian', 'Fish')\n",
        "animals = spec.loc[spec['category'].isin(animal)]"
      ]
    },
    {
      "cell_type": "code",
      "execution_count": 520,
      "metadata": {
        "colab": {
          "base_uri": "https://localhost:8080/",
          "height": 206
        },
        "id": "i2DnggjSOgdL",
        "outputId": "b4aff70d-2b5e-4255-fb20-123c97781d18"
      },
      "outputs": [
        {
          "data": {
            "text/html": [
              "<div>\n",
              "<style scoped>\n",
              "    .dataframe tbody tr th:only-of-type {\n",
              "        vertical-align: middle;\n",
              "    }\n",
              "\n",
              "    .dataframe tbody tr th {\n",
              "        vertical-align: top;\n",
              "    }\n",
              "\n",
              "    .dataframe thead th {\n",
              "        text-align: right;\n",
              "    }\n",
              "</style>\n",
              "<table border=\"1\" class=\"dataframe\">\n",
              "  <thead>\n",
              "    <tr style=\"text-align: right;\">\n",
              "      <th></th>\n",
              "      <th>category</th>\n",
              "      <th>scientific_name</th>\n",
              "      <th>common_names</th>\n",
              "      <th>conservation_status</th>\n",
              "    </tr>\n",
              "  </thead>\n",
              "  <tbody>\n",
              "    <tr>\n",
              "      <th>0</th>\n",
              "      <td>Mammal</td>\n",
              "      <td>Clethrionomys gapperi gapperi</td>\n",
              "      <td>Gapper's Red-Backed Vole</td>\n",
              "      <td>No Intervention</td>\n",
              "    </tr>\n",
              "    <tr>\n",
              "      <th>1</th>\n",
              "      <td>Mammal</td>\n",
              "      <td>Bos bison</td>\n",
              "      <td>American Bison, Bison</td>\n",
              "      <td>No Intervention</td>\n",
              "    </tr>\n",
              "    <tr>\n",
              "      <th>2</th>\n",
              "      <td>Mammal</td>\n",
              "      <td>Bos taurus</td>\n",
              "      <td>Aurochs, Aurochs, Domestic Cattle (Feral), Dom...</td>\n",
              "      <td>No Intervention</td>\n",
              "    </tr>\n",
              "    <tr>\n",
              "      <th>3</th>\n",
              "      <td>Mammal</td>\n",
              "      <td>Ovis aries</td>\n",
              "      <td>Domestic Sheep, Mouflon, Red Sheep, Sheep (Feral)</td>\n",
              "      <td>No Intervention</td>\n",
              "    </tr>\n",
              "    <tr>\n",
              "      <th>7</th>\n",
              "      <td>Mammal</td>\n",
              "      <td>Canis latrans</td>\n",
              "      <td>Coyote</td>\n",
              "      <td>Species of Concern</td>\n",
              "    </tr>\n",
              "  </tbody>\n",
              "</table>\n",
              "</div>"
            ],
            "text/plain": [
              "  category                scientific_name  \\\n",
              "0   Mammal  Clethrionomys gapperi gapperi   \n",
              "1   Mammal                      Bos bison   \n",
              "2   Mammal                     Bos taurus   \n",
              "3   Mammal                     Ovis aries   \n",
              "7   Mammal                  Canis latrans   \n",
              "\n",
              "                                        common_names conservation_status  \n",
              "0                           Gapper's Red-Backed Vole     No Intervention  \n",
              "1                              American Bison, Bison     No Intervention  \n",
              "2  Aurochs, Aurochs, Domestic Cattle (Feral), Dom...     No Intervention  \n",
              "3  Domestic Sheep, Mouflon, Red Sheep, Sheep (Feral)     No Intervention  \n",
              "7                                             Coyote  Species of Concern  "
            ]
          },
          "execution_count": 520,
          "metadata": {},
          "output_type": "execute_result"
        }
      ],
      "source": [
        "animals.head()"
      ]
    },
    {
      "cell_type": "code",
      "execution_count": 521,
      "metadata": {},
      "outputs": [
        {
          "data": {
            "text/html": [
              "<div>\n",
              "<style scoped>\n",
              "    .dataframe tbody tr th:only-of-type {\n",
              "        vertical-align: middle;\n",
              "    }\n",
              "\n",
              "    .dataframe tbody tr th {\n",
              "        vertical-align: top;\n",
              "    }\n",
              "\n",
              "    .dataframe thead th {\n",
              "        text-align: right;\n",
              "    }\n",
              "</style>\n",
              "<table border=\"1\" class=\"dataframe\">\n",
              "  <thead>\n",
              "    <tr style=\"text-align: right;\">\n",
              "      <th></th>\n",
              "      <th>scientific_name</th>\n",
              "    </tr>\n",
              "    <tr>\n",
              "      <th>conservation_status</th>\n",
              "      <th></th>\n",
              "    </tr>\n",
              "  </thead>\n",
              "  <tbody>\n",
              "    <tr>\n",
              "      <th>Endangered</th>\n",
              "      <td>1.479915</td>\n",
              "    </tr>\n",
              "    <tr>\n",
              "      <th>In Recovery</th>\n",
              "      <td>0.317125</td>\n",
              "    </tr>\n",
              "    <tr>\n",
              "      <th>No Intervention</th>\n",
              "      <td>86.469345</td>\n",
              "    </tr>\n",
              "    <tr>\n",
              "      <th>Species of Concern</th>\n",
              "      <td>10.887949</td>\n",
              "    </tr>\n",
              "    <tr>\n",
              "      <th>Threatened</th>\n",
              "      <td>0.845666</td>\n",
              "    </tr>\n",
              "  </tbody>\n",
              "</table>\n",
              "</div>"
            ],
            "text/plain": [
              "                     scientific_name\n",
              "conservation_status                 \n",
              "Endangered                  1.479915\n",
              "In Recovery                 0.317125\n",
              "No Intervention            86.469345\n",
              "Species of Concern         10.887949\n",
              "Threatened                  0.845666"
            ]
          },
          "execution_count": 521,
          "metadata": {},
          "output_type": "execute_result"
        }
      ],
      "source": [
        "animals[['scientific_name', 'conservation_status']]\\\n",
        "    .groupby('conservation_status')\\\n",
        "        .count()/len(animals.scientific_name) * 100"
      ]
    },
    {
      "cell_type": "code",
      "execution_count": 522,
      "metadata": {
        "colab": {
          "base_uri": "https://localhost:8080/",
          "height": 296
        },
        "id": "M-eNSbYTP8JC",
        "outputId": "e65f3dc5-36d9-4296-8308-3fcc9a7f694f"
      },
      "outputs": [
        {
          "data": {
            "image/png": "[encoded data removed]",
            "text/plain": [
              "<Figure size 432x288 with 1 Axes>"
            ]
          },
          "metadata": {
            "needs_background": "light"
          },
          "output_type": "display_data"
        },
        {
          "data": {
            "text/plain": [
              "<Figure size 432x288 with 0 Axes>"
            ]
          },
          "metadata": {},
          "output_type": "display_data"
        }
      ],
      "source": [
        "sns.countplot(x='category', hue='conservation_status', data=animals, palette='Accent')\n",
        "plt.show()\n",
        "plt.clf()"
      ]
    },
    {
      "cell_type": "code",
      "execution_count": 523,
      "metadata": {
        "colab": {
          "base_uri": "https://localhost:8080/",
          "height": 344
        },
        "id": "RYyd1N7RSfoQ",
        "outputId": "169d9cb3-3ea3-406d-94ee-3304466a4f98"
      },
      "outputs": [
        {
          "data": {
            "image/png": "[encoded data removed]",
            "text/plain": [
              "<Figure size 432x288 with 1 Axes>"
            ]
          },
          "metadata": {
            "needs_background": "light"
          },
          "output_type": "display_data"
        },
        {
          "data": {
            "text/plain": [
              "<Figure size 432x288 with 0 Axes>"
            ]
          },
          "metadata": {},
          "output_type": "display_data"
        }
      ],
      "source": [
        "sns.countplot(x='conservation_status', data=animals, palette='Accent')\n",
        "plt.xticks(rotation=30)\n",
        "plt.title('Animals Conservation Status')\n",
        "plt.show()\n",
        "plt.clf()"
      ]
    },
    {
      "cell_type": "markdown",
      "metadata": {
        "id": "vpU-u7NNTiUz"
      },
      "source": [
        "### 2. Are certain types of species more likely to be endangered?"
      ]
    },
    {
      "cell_type": "code",
      "execution_count": 524,
      "metadata": {
        "colab": {
          "base_uri": "https://localhost:8080/",
          "height": 206
        },
        "id": "4ifYLwLua3yt",
        "outputId": "5592b92f-5dc1-488b-8388-ef835d41b77b"
      },
      "outputs": [
        {
          "data": {
            "text/html": [
              "<div>\n",
              "<style scoped>\n",
              "    .dataframe tbody tr th:only-of-type {\n",
              "        vertical-align: middle;\n",
              "    }\n",
              "\n",
              "    .dataframe tbody tr th {\n",
              "        vertical-align: top;\n",
              "    }\n",
              "\n",
              "    .dataframe thead th {\n",
              "        text-align: right;\n",
              "    }\n",
              "</style>\n",
              "<table border=\"1\" class=\"dataframe\">\n",
              "  <thead>\n",
              "    <tr style=\"text-align: right;\">\n",
              "      <th></th>\n",
              "      <th>category</th>\n",
              "      <th>scientific_name</th>\n",
              "      <th>common_names</th>\n",
              "      <th>conservation_status</th>\n",
              "    </tr>\n",
              "  </thead>\n",
              "  <tbody>\n",
              "    <tr>\n",
              "      <th>9</th>\n",
              "      <td>Mammal</td>\n",
              "      <td>Canis rufus</td>\n",
              "      <td>Red Wolf</td>\n",
              "      <td>Endangered</td>\n",
              "    </tr>\n",
              "    <tr>\n",
              "      <th>34</th>\n",
              "      <td>Mammal</td>\n",
              "      <td>Myotis grisescens</td>\n",
              "      <td>Gray Myotis</td>\n",
              "      <td>Endangered</td>\n",
              "    </tr>\n",
              "    <tr>\n",
              "      <th>39</th>\n",
              "      <td>Mammal</td>\n",
              "      <td>Myotis sodalis</td>\n",
              "      <td>Indiana Bat, Indiana Or Social Myotis</td>\n",
              "      <td>Endangered</td>\n",
              "    </tr>\n",
              "    <tr>\n",
              "      <th>72</th>\n",
              "      <td>Mammal</td>\n",
              "      <td>Glaucomys sabrinus coloratus</td>\n",
              "      <td>Carolina Northern Flying Squirrel, Northern Fl...</td>\n",
              "      <td>Endangered</td>\n",
              "    </tr>\n",
              "    <tr>\n",
              "      <th>173</th>\n",
              "      <td>Bird</td>\n",
              "      <td>Grus americana</td>\n",
              "      <td>Whooping Crane</td>\n",
              "      <td>Endangered</td>\n",
              "    </tr>\n",
              "  </tbody>\n",
              "</table>\n",
              "</div>"
            ],
            "text/plain": [
              "    category               scientific_name  \\\n",
              "9     Mammal                   Canis rufus   \n",
              "34    Mammal             Myotis grisescens   \n",
              "39    Mammal                Myotis sodalis   \n",
              "72    Mammal  Glaucomys sabrinus coloratus   \n",
              "173     Bird                Grus americana   \n",
              "\n",
              "                                          common_names conservation_status  \n",
              "9                                             Red Wolf          Endangered  \n",
              "34                                         Gray Myotis          Endangered  \n",
              "39               Indiana Bat, Indiana Or Social Myotis          Endangered  \n",
              "72   Carolina Northern Flying Squirrel, Northern Fl...          Endangered  \n",
              "173                                     Whooping Crane          Endangered  "
            ]
          },
          "execution_count": 524,
          "metadata": {},
          "output_type": "execute_result"
        }
      ],
      "source": [
        "spec_endangered = spec[spec.conservation_status == 'Endangered']\n",
        "spec_endangered.head()"
      ]
    },
    {
      "cell_type": "code",
      "execution_count": 525,
      "metadata": {
        "colab": {
          "base_uri": "https://localhost:8080/",
          "height": 360
        },
        "id": "Vw0X02r-bAqZ",
        "outputId": "75366669-8c5c-4b2c-e1ac-e4d22f6147f1"
      },
      "outputs": [
        {
          "data": {
            "image/png": "[encoded data removed]",
            "text/plain": [
              "<Figure size 432x288 with 1 Axes>"
            ]
          },
          "metadata": {
            "needs_background": "light"
          },
          "output_type": "display_data"
        },
        {
          "data": {
            "text/plain": [
              "<Figure size 432x288 with 0 Axes>"
            ]
          },
          "metadata": {},
          "output_type": "display_data"
        }
      ],
      "source": [
        "sns.countplot(data=spec_endangered, x='category', palette='Accent')\n",
        "plt.xticks(rotation=45)\n",
        "plt.title('Species in endanger condition')\n",
        "plt.show()\n",
        "plt.clf()"
      ]
    },
    {
      "cell_type": "code",
      "execution_count": 526,
      "metadata": {
        "colab": {
          "base_uri": "https://localhost:8080/"
        },
        "id": "YqQ6sQIFbi9x",
        "outputId": "0d9049e4-26b7-4821-e829-61f446c1660a"
      },
      "outputs": [
        {
          "data": {
            "text/plain": [
              "Mammal            0.400000\n",
              "Bird              0.266667\n",
              "Fish              0.200000\n",
              "Vascular Plant    0.066667\n",
              "Amphibian         0.066667\n",
              "Name: category, dtype: float64"
            ]
          },
          "execution_count": 526,
          "metadata": {},
          "output_type": "execute_result"
        }
      ],
      "source": [
        "spec_endangered.category.value_counts(normalize=True, ascending=False)"
      ]
    },
    {
      "attachments": {},
      "cell_type": "markdown",
      "metadata": {
        "id": "2QaLSS2Zb6d6"
      },
      "source": [
        "**2. Are certain types of species more likely to be endangered?**\n",
        "\n",
        "Our observation, shows that mammals, bird and fish are the top 3 species in danger situation.\n",
        "According the data:\n",
        "- 40% mammal\n",
        "- 26% bird\n",
        "- 20% fish\n",
        "- 6% Plant\n",
        "- 6% Anphibian\n",
        "\n",
        "Two of all species observed are not in danger: reptile and nonvascular plants."
      ]
    },
    {
      "cell_type": "code",
      "execution_count": 527,
      "metadata": {
        "id": "qvDnP4ZBfILA"
      },
      "outputs": [],
      "source": [
        "# Merge the dataframes\n",
        "species_df = spec.merge(obs, on='scientific_name')"
      ]
    },
    {
      "cell_type": "code",
      "execution_count": 528,
      "metadata": {
        "colab": {
          "base_uri": "https://localhost:8080/"
        },
        "id": "8LQqM60Ufjbf",
        "outputId": "f9c83016-eb98-4639-a731-26680a8570c2"
      },
      "outputs": [
        {
          "name": "stdout",
          "output_type": "stream",
          "text": [
            "<class 'pandas.core.frame.DataFrame'>\n",
            "Int64Index: 22164 entries, 0 to 22163\n",
            "Data columns (total 6 columns):\n",
            " #   Column               Non-Null Count  Dtype \n",
            "---  ------               --------------  ----- \n",
            " 0   category             22164 non-null  object\n",
            " 1   scientific_name      22164 non-null  object\n",
            " 2   common_names         22164 non-null  object\n",
            " 3   conservation_status  22164 non-null  object\n",
            " 4   park_name            22164 non-null  object\n",
            " 5   observations         22164 non-null  int64 \n",
            "dtypes: int64(1), object(5)\n",
            "memory usage: 1.2+ MB\n"
          ]
        }
      ],
      "source": [
        "# print the first few rows of the DataFrame\n",
        "species_df.head(5)\n",
        "\n",
        "# print the DataFrame's shape\n",
        "species_df.shape\n",
        "\n",
        "# print the DataFrame's data types and other info\n",
        "species_df.info()"
      ]
    },
    {
      "attachments": {},
      "cell_type": "markdown",
      "metadata": {},
      "source": [
        "### 3. Are the differences between species and their conservation status significant?"
      ]
    },
    {
      "cell_type": "code",
      "execution_count": 529,
      "metadata": {},
      "outputs": [],
      "source": [
        "# Create a column for treated or not treated species\n",
        "species_df['under_protection'] = species_df.conservation_status != 'No Intervention'\n"
      ]
    },
    {
      "cell_type": "code",
      "execution_count": 530,
      "metadata": {},
      "outputs": [
        {
          "data": {
            "text/html": [
              "<div>\n",
              "<style scoped>\n",
              "    .dataframe tbody tr th:only-of-type {\n",
              "        vertical-align: middle;\n",
              "    }\n",
              "\n",
              "    .dataframe tbody tr th {\n",
              "        vertical-align: top;\n",
              "    }\n",
              "\n",
              "    .dataframe thead th {\n",
              "        text-align: right;\n",
              "    }\n",
              "</style>\n",
              "<table border=\"1\" class=\"dataframe\">\n",
              "  <thead>\n",
              "    <tr style=\"text-align: right;\">\n",
              "      <th></th>\n",
              "      <th>category</th>\n",
              "      <th>scientific_name</th>\n",
              "      <th>common_names</th>\n",
              "      <th>conservation_status</th>\n",
              "      <th>park_name</th>\n",
              "      <th>observations</th>\n",
              "      <th>under_protection</th>\n",
              "    </tr>\n",
              "  </thead>\n",
              "  <tbody>\n",
              "    <tr>\n",
              "      <th>0</th>\n",
              "      <td>Mammal</td>\n",
              "      <td>Clethrionomys gapperi gapperi</td>\n",
              "      <td>Gapper's Red-Backed Vole</td>\n",
              "      <td>No Intervention</td>\n",
              "      <td>Bryce National Park</td>\n",
              "      <td>130</td>\n",
              "      <td>False</td>\n",
              "    </tr>\n",
              "    <tr>\n",
              "      <th>1</th>\n",
              "      <td>Mammal</td>\n",
              "      <td>Clethrionomys gapperi gapperi</td>\n",
              "      <td>Gapper's Red-Backed Vole</td>\n",
              "      <td>No Intervention</td>\n",
              "      <td>Yellowstone National Park</td>\n",
              "      <td>270</td>\n",
              "      <td>False</td>\n",
              "    </tr>\n",
              "    <tr>\n",
              "      <th>2</th>\n",
              "      <td>Mammal</td>\n",
              "      <td>Clethrionomys gapperi gapperi</td>\n",
              "      <td>Gapper's Red-Backed Vole</td>\n",
              "      <td>No Intervention</td>\n",
              "      <td>Great Smoky Mountains National Park</td>\n",
              "      <td>98</td>\n",
              "      <td>False</td>\n",
              "    </tr>\n",
              "    <tr>\n",
              "      <th>3</th>\n",
              "      <td>Mammal</td>\n",
              "      <td>Clethrionomys gapperi gapperi</td>\n",
              "      <td>Gapper's Red-Backed Vole</td>\n",
              "      <td>No Intervention</td>\n",
              "      <td>Yosemite National Park</td>\n",
              "      <td>117</td>\n",
              "      <td>False</td>\n",
              "    </tr>\n",
              "    <tr>\n",
              "      <th>4</th>\n",
              "      <td>Mammal</td>\n",
              "      <td>Bos bison</td>\n",
              "      <td>American Bison, Bison</td>\n",
              "      <td>No Intervention</td>\n",
              "      <td>Yosemite National Park</td>\n",
              "      <td>128</td>\n",
              "      <td>False</td>\n",
              "    </tr>\n",
              "  </tbody>\n",
              "</table>\n",
              "</div>"
            ],
            "text/plain": [
              "  category                scientific_name              common_names  \\\n",
              "0   Mammal  Clethrionomys gapperi gapperi  Gapper's Red-Backed Vole   \n",
              "1   Mammal  Clethrionomys gapperi gapperi  Gapper's Red-Backed Vole   \n",
              "2   Mammal  Clethrionomys gapperi gapperi  Gapper's Red-Backed Vole   \n",
              "3   Mammal  Clethrionomys gapperi gapperi  Gapper's Red-Backed Vole   \n",
              "4   Mammal                      Bos bison     American Bison, Bison   \n",
              "\n",
              "  conservation_status                            park_name  observations  \\\n",
              "0     No Intervention                  Bryce National Park           130   \n",
              "1     No Intervention            Yellowstone National Park           270   \n",
              "2     No Intervention  Great Smoky Mountains National Park            98   \n",
              "3     No Intervention               Yosemite National Park           117   \n",
              "4     No Intervention               Yosemite National Park           128   \n",
              "\n",
              "   under_protection  \n",
              "0             False  \n",
              "1             False  \n",
              "2             False  \n",
              "3             False  \n",
              "4             False  "
            ]
          },
          "execution_count": 530,
          "metadata": {},
          "output_type": "execute_result"
        }
      ],
      "source": [
        "species_df.head()"
      ]
    },
    {
      "attachments": {},
      "cell_type": "markdown",
      "metadata": {},
      "source": [
        "Now, we can group category and under_protection."
      ]
    },
    {
      "cell_type": "code",
      "execution_count": 531,
      "metadata": {},
      "outputs": [],
      "source": [
        "category_counts = species_df.groupby(['category', 'under_protection'])\\\n",
        "    .scientific_name.nunique()\\\n",
        "    .reset_index()\\\n",
        "    .pivot(columns='under_protection',\n",
        "                index='category',\n",
        "                values='scientific_name')\\\n",
        "    .reset_index()\n",
        "category_counts.columns = ['category', 'not_protected', 'protected']"
      ]
    },
    {
      "cell_type": "code",
      "execution_count": 532,
      "metadata": {},
      "outputs": [
        {
          "data": {
            "text/html": [
              "<div>\n",
              "<style scoped>\n",
              "    .dataframe tbody tr th:only-of-type {\n",
              "        vertical-align: middle;\n",
              "    }\n",
              "\n",
              "    .dataframe tbody tr th {\n",
              "        vertical-align: top;\n",
              "    }\n",
              "\n",
              "    .dataframe thead th {\n",
              "        text-align: right;\n",
              "    }\n",
              "</style>\n",
              "<table border=\"1\" class=\"dataframe\">\n",
              "  <thead>\n",
              "    <tr style=\"text-align: right;\">\n",
              "      <th></th>\n",
              "      <th>category</th>\n",
              "      <th>not_protected</th>\n",
              "      <th>protected</th>\n",
              "    </tr>\n",
              "  </thead>\n",
              "  <tbody>\n",
              "    <tr>\n",
              "      <th>0</th>\n",
              "      <td>Amphibian</td>\n",
              "      <td>72</td>\n",
              "      <td>7</td>\n",
              "    </tr>\n",
              "    <tr>\n",
              "      <th>1</th>\n",
              "      <td>Bird</td>\n",
              "      <td>413</td>\n",
              "      <td>75</td>\n",
              "    </tr>\n",
              "    <tr>\n",
              "      <th>2</th>\n",
              "      <td>Fish</td>\n",
              "      <td>114</td>\n",
              "      <td>11</td>\n",
              "    </tr>\n",
              "    <tr>\n",
              "      <th>3</th>\n",
              "      <td>Mammal</td>\n",
              "      <td>146</td>\n",
              "      <td>30</td>\n",
              "    </tr>\n",
              "    <tr>\n",
              "      <th>4</th>\n",
              "      <td>Nonvascular Plant</td>\n",
              "      <td>328</td>\n",
              "      <td>5</td>\n",
              "    </tr>\n",
              "    <tr>\n",
              "      <th>5</th>\n",
              "      <td>Reptile</td>\n",
              "      <td>73</td>\n",
              "      <td>5</td>\n",
              "    </tr>\n",
              "    <tr>\n",
              "      <th>6</th>\n",
              "      <td>Vascular Plant</td>\n",
              "      <td>4216</td>\n",
              "      <td>46</td>\n",
              "    </tr>\n",
              "  </tbody>\n",
              "</table>\n",
              "</div>"
            ],
            "text/plain": [
              "            category  not_protected  protected\n",
              "0          Amphibian             72          7\n",
              "1               Bird            413         75\n",
              "2               Fish            114         11\n",
              "3             Mammal            146         30\n",
              "4  Nonvascular Plant            328          5\n",
              "5            Reptile             73          5\n",
              "6     Vascular Plant           4216         46"
            ]
          },
          "execution_count": 532,
          "metadata": {},
          "output_type": "execute_result"
        }
      ],
      "source": [
        "category_counts"
      ]
    },
    {
      "attachments": {},
      "cell_type": "markdown",
      "metadata": {},
      "source": [
        "To better understand the statistic, let's calculate the percentage of each status"
      ]
    },
    {
      "cell_type": "code",
      "execution_count": 533,
      "metadata": {},
      "outputs": [],
      "source": [
        "category_counts['perc_protected'] = category_counts.protected / \\\n",
        "    (category_counts.protected + category_counts.not_protected) * 100"
      ]
    },
    {
      "cell_type": "code",
      "execution_count": 534,
      "metadata": {},
      "outputs": [
        {
          "data": {
            "text/html": [
              "<div>\n",
              "<style scoped>\n",
              "    .dataframe tbody tr th:only-of-type {\n",
              "        vertical-align: middle;\n",
              "    }\n",
              "\n",
              "    .dataframe tbody tr th {\n",
              "        vertical-align: top;\n",
              "    }\n",
              "\n",
              "    .dataframe thead th {\n",
              "        text-align: right;\n",
              "    }\n",
              "</style>\n",
              "<table border=\"1\" class=\"dataframe\">\n",
              "  <thead>\n",
              "    <tr style=\"text-align: right;\">\n",
              "      <th></th>\n",
              "      <th>category</th>\n",
              "      <th>not_protected</th>\n",
              "      <th>protected</th>\n",
              "      <th>perc_protected</th>\n",
              "    </tr>\n",
              "  </thead>\n",
              "  <tbody>\n",
              "    <tr>\n",
              "      <th>0</th>\n",
              "      <td>Amphibian</td>\n",
              "      <td>72</td>\n",
              "      <td>7</td>\n",
              "      <td>8.860759</td>\n",
              "    </tr>\n",
              "    <tr>\n",
              "      <th>1</th>\n",
              "      <td>Bird</td>\n",
              "      <td>413</td>\n",
              "      <td>75</td>\n",
              "      <td>15.368852</td>\n",
              "    </tr>\n",
              "    <tr>\n",
              "      <th>2</th>\n",
              "      <td>Fish</td>\n",
              "      <td>114</td>\n",
              "      <td>11</td>\n",
              "      <td>8.800000</td>\n",
              "    </tr>\n",
              "    <tr>\n",
              "      <th>3</th>\n",
              "      <td>Mammal</td>\n",
              "      <td>146</td>\n",
              "      <td>30</td>\n",
              "      <td>17.045455</td>\n",
              "    </tr>\n",
              "    <tr>\n",
              "      <th>4</th>\n",
              "      <td>Nonvascular Plant</td>\n",
              "      <td>328</td>\n",
              "      <td>5</td>\n",
              "      <td>1.501502</td>\n",
              "    </tr>\n",
              "    <tr>\n",
              "      <th>5</th>\n",
              "      <td>Reptile</td>\n",
              "      <td>73</td>\n",
              "      <td>5</td>\n",
              "      <td>6.410256</td>\n",
              "    </tr>\n",
              "    <tr>\n",
              "      <th>6</th>\n",
              "      <td>Vascular Plant</td>\n",
              "      <td>4216</td>\n",
              "      <td>46</td>\n",
              "      <td>1.079305</td>\n",
              "    </tr>\n",
              "  </tbody>\n",
              "</table>\n",
              "</div>"
            ],
            "text/plain": [
              "            category  not_protected  protected  perc_protected\n",
              "0          Amphibian             72          7        8.860759\n",
              "1               Bird            413         75       15.368852\n",
              "2               Fish            114         11        8.800000\n",
              "3             Mammal            146         30       17.045455\n",
              "4  Nonvascular Plant            328          5        1.501502\n",
              "5            Reptile             73          5        6.410256\n",
              "6     Vascular Plant           4216         46        1.079305"
            ]
          },
          "execution_count": 534,
          "metadata": {},
          "output_type": "execute_result"
        }
      ],
      "source": [
        "category_counts"
      ]
    },
    {
      "attachments": {},
      "cell_type": "markdown",
      "metadata": {},
      "source": [
        "Mammals and Bird have the most % of protected species.\n",
        "Now, let's check the statistical significance for this pair of categorical variables."
      ]
    },
    {
      "cell_type": "code",
      "execution_count": 535,
      "metadata": {},
      "outputs": [
        {
          "data": {
            "text/plain": [
              "(0.1617014831654557,\n",
              " 0.6875948096661336,\n",
              " 1,\n",
              " array([[ 27.8313253, 148.1686747],\n",
              "        [ 77.1686747, 410.8313253]]))"
            ]
          },
          "execution_count": 535,
          "metadata": {},
          "output_type": "execute_result"
        }
      ],
      "source": [
        "# Run a contingency1 test between values for 2x2 table protected / not_protected / mammal / bird \n",
        "# Mammal - protected: 30 / not_protected: 146\n",
        "# Bird - protected: 75 / not_protected: 413\n",
        "\n",
        "from scipy.stats import chi2_contingency\n",
        "contingency1 = [[30, 146],\n",
        "              [75, 413]]\n",
        "              \n",
        "chi2_contingency(contingency1)"
      ]
    },
    {
      "attachments": {},
      "cell_type": "markdown",
      "metadata": {},
      "source": [
        "p-value is 0.68 > 0.05 there are no significant relationship between birds and mammals, the variables are independent."
      ]
    },
    {
      "attachments": {},
      "cell_type": "markdown",
      "metadata": {},
      "source": [
        "Now, let's check the signicicance between mammals and reptiles."
      ]
    },
    {
      "cell_type": "code",
      "execution_count": 536,
      "metadata": {},
      "outputs": [
        {
          "data": {
            "text/plain": [
              "(4.289183096203645,\n",
              " 0.03835559022969898,\n",
              " 1,\n",
              " array([[ 24.2519685, 151.7480315],\n",
              "        [ 10.7480315,  67.2519685]]))"
            ]
          },
          "execution_count": 536,
          "metadata": {},
          "output_type": "execute_result"
        }
      ],
      "source": [
        "contingency1 = [[30, 146],\n",
        "              [5, 73]]\n",
        "              \n",
        "chi2_contingency(contingency1)"
      ]
    },
    {
      "attachments": {},
      "cell_type": "markdown",
      "metadata": {},
      "source": [
        "p-value is 0.038 < 0.05. The are significant relationship between Mammals and Reptiles."
      ]
    },
    {
      "attachments": {},
      "cell_type": "markdown",
      "metadata": {},
      "source": [
        "### 4. Which specie is most prevalent and what is their distribution amongst parks?"
      ]
    },
    {
      "attachments": {},
      "cell_type": "markdown",
      "metadata": {},
      "source": [
        "First, we need to look at the common names to get an idea of prevalent species in dataset. Split it and clean the words in each row."
      ]
    },
    {
      "cell_type": "code",
      "execution_count": 537,
      "metadata": {},
      "outputs": [
        {
          "data": {
            "text/plain": [
              "0    Gapper's Red-Backed Vole\n",
              "1    Gapper's Red-Backed Vole\n",
              "2    Gapper's Red-Backed Vole\n",
              "3    Gapper's Red-Backed Vole\n",
              "4       American Bison, Bison\n",
              "Name: common_names, dtype: object"
            ]
          },
          "execution_count": 537,
          "metadata": {},
          "output_type": "execute_result"
        }
      ],
      "source": [
        "species_df.common_names.head()"
      ]
    },
    {
      "cell_type": "code",
      "execution_count": 538,
      "metadata": {},
      "outputs": [],
      "source": [
        "# Remove the ponctuations\n",
        "from itertools import chain\n",
        "import string\n",
        "\n",
        "def remove_punctuations(text):\n",
        "    for punctuation in string.punctuation:\n",
        "        text = text.replace(punctuation, '')\n",
        "    return text\n",
        "\n",
        "common_Names = species_df[species_df['category'] == \"Mammal\"]\\\n",
        "    .common_names\\\n",
        "    .apply(remove_punctuations)\\\n",
        "    .str.split().tolist()"
      ]
    },
    {
      "cell_type": "code",
      "execution_count": 539,
      "metadata": {},
      "outputs": [
        {
          "data": {
            "text/plain": [
              "[['Gappers', 'RedBacked', 'Vole'],\n",
              " ['Gappers', 'RedBacked', 'Vole'],\n",
              " ['Gappers', 'RedBacked', 'Vole'],\n",
              " ['Gappers', 'RedBacked', 'Vole'],\n",
              " ['American', 'Bison', 'Bison']]"
            ]
          },
          "execution_count": 539,
          "metadata": {},
          "output_type": "execute_result"
        }
      ],
      "source": [
        "common_Names[:5]"
      ]
    },
    {
      "attachments": {},
      "cell_type": "markdown",
      "metadata": {},
      "source": [
        "Clean up duplicate words in each row. It should not be counted more than once per species."
      ]
    },
    {
      "cell_type": "code",
      "execution_count": 540,
      "metadata": {},
      "outputs": [
        {
          "data": {
            "text/plain": [
              "[['Gappers', 'RedBacked', 'Vole'],\n",
              " ['Gappers', 'RedBacked', 'Vole'],\n",
              " ['Gappers', 'RedBacked', 'Vole'],\n",
              " ['Gappers', 'RedBacked', 'Vole'],\n",
              " ['American', 'Bison'],\n",
              " ['American', 'Bison']]"
            ]
          },
          "execution_count": 540,
          "metadata": {},
          "output_type": "execute_result"
        }
      ],
      "source": [
        "cleanRows = []\n",
        "\n",
        "for item in common_Names:\n",
        "    item = list(dict.fromkeys(item))\n",
        "    cleanRows.append(item)\n",
        "    \n",
        "cleanRows[:6]"
      ]
    },
    {
      "cell_type": "code",
      "execution_count": 541,
      "metadata": {},
      "outputs": [
        {
          "data": {
            "text/plain": [
              "['Gappers', 'RedBacked', 'Vole', 'Gappers', 'RedBacked', 'Vole']"
            ]
          },
          "execution_count": 541,
          "metadata": {},
          "output_type": "execute_result"
        }
      ],
      "source": [
        "res = list(chain.from_iterable(i if isinstance(i, list) else [i] for i in cleanRows))\n",
        "res[:6]"
      ]
    },
    {
      "cell_type": "code",
      "execution_count": 542,
      "metadata": {},
      "outputs": [
        {
          "data": {
            "text/html": [
              "<div>\n",
              "<style scoped>\n",
              "    .dataframe tbody tr th:only-of-type {\n",
              "        vertical-align: middle;\n",
              "    }\n",
              "\n",
              "    .dataframe tbody tr th {\n",
              "        vertical-align: top;\n",
              "    }\n",
              "\n",
              "    .dataframe thead th {\n",
              "        text-align: right;\n",
              "    }\n",
              "</style>\n",
              "<table border=\"1\" class=\"dataframe\">\n",
              "  <thead>\n",
              "    <tr style=\"text-align: right;\">\n",
              "      <th></th>\n",
              "      <th>Word</th>\n",
              "      <th>Count</th>\n",
              "    </tr>\n",
              "  </thead>\n",
              "  <tbody>\n",
              "    <tr>\n",
              "      <th>23</th>\n",
              "      <td>Bat</td>\n",
              "      <td>64</td>\n",
              "    </tr>\n",
              "    <tr>\n",
              "      <th>37</th>\n",
              "      <td>Mouse</td>\n",
              "      <td>60</td>\n",
              "    </tr>\n",
              "    <tr>\n",
              "      <th>177</th>\n",
              "      <td>Shrew</td>\n",
              "      <td>56</td>\n",
              "    </tr>\n",
              "    <tr>\n",
              "      <th>42</th>\n",
              "      <td>Myotis</td>\n",
              "      <td>52</td>\n",
              "    </tr>\n",
              "    <tr>\n",
              "      <th>89</th>\n",
              "      <td>Squirrel</td>\n",
              "      <td>48</td>\n",
              "    </tr>\n",
              "    <tr>\n",
              "      <th>128</th>\n",
              "      <td>Chipmunk</td>\n",
              "      <td>48</td>\n",
              "    </tr>\n",
              "    <tr>\n",
              "      <th>143</th>\n",
              "      <td>Vole</td>\n",
              "      <td>40</td>\n",
              "    </tr>\n",
              "    <tr>\n",
              "      <th>137</th>\n",
              "      <td>Eastern</td>\n",
              "      <td>40</td>\n",
              "    </tr>\n",
              "    <tr>\n",
              "      <th>179</th>\n",
              "      <td>Western</td>\n",
              "      <td>32</td>\n",
              "    </tr>\n",
              "    <tr>\n",
              "      <th>27</th>\n",
              "      <td>American</td>\n",
              "      <td>32</td>\n",
              "    </tr>\n",
              "  </tbody>\n",
              "</table>\n",
              "</div>"
            ],
            "text/plain": [
              "         Word  Count\n",
              "23        Bat     64\n",
              "37      Mouse     60\n",
              "177     Shrew     56\n",
              "42     Myotis     52\n",
              "89   Squirrel     48\n",
              "128  Chipmunk     48\n",
              "143      Vole     40\n",
              "137   Eastern     40\n",
              "179   Western     32\n",
              "27   American     32"
            ]
          },
          "execution_count": 542,
          "metadata": {},
          "output_type": "execute_result"
        }
      ],
      "source": [
        "words_counted = []\n",
        "\n",
        "for i in res:\n",
        "    x = res.count(i)\n",
        "    words_counted.append((i,x))\n",
        "\n",
        "pd.DataFrame(set(words_counted), columns =['Word', 'Count']).sort_values(\"Count\", ascending = False).head(10)"
      ]
    },
    {
      "attachments": {},
      "cell_type": "markdown",
      "metadata": {},
      "source": [
        "How many observation for bat?"
      ]
    },
    {
      "cell_type": "code",
      "execution_count": 543,
      "metadata": {},
      "outputs": [],
      "source": [
        "species_df['is_bat'] = species_df.common_names.str.contains(r\"\\bBat\\b\", regex = True)"
      ]
    },
    {
      "cell_type": "code",
      "execution_count": 544,
      "metadata": {},
      "outputs": [
        {
          "data": {
            "text/html": [
              "<div>\n",
              "<style scoped>\n",
              "    .dataframe tbody tr th:only-of-type {\n",
              "        vertical-align: middle;\n",
              "    }\n",
              "\n",
              "    .dataframe tbody tr th {\n",
              "        vertical-align: top;\n",
              "    }\n",
              "\n",
              "    .dataframe thead th {\n",
              "        text-align: right;\n",
              "    }\n",
              "</style>\n",
              "<table border=\"1\" class=\"dataframe\">\n",
              "  <thead>\n",
              "    <tr style=\"text-align: right;\">\n",
              "      <th></th>\n",
              "      <th>category</th>\n",
              "      <th>scientific_name</th>\n",
              "      <th>common_names</th>\n",
              "      <th>conservation_status</th>\n",
              "      <th>park_name</th>\n",
              "      <th>observations</th>\n",
              "      <th>under_protection</th>\n",
              "      <th>is_bat</th>\n",
              "    </tr>\n",
              "  </thead>\n",
              "  <tbody>\n",
              "    <tr>\n",
              "      <th>0</th>\n",
              "      <td>Mammal</td>\n",
              "      <td>Clethrionomys gapperi gapperi</td>\n",
              "      <td>Gapper's Red-Backed Vole</td>\n",
              "      <td>No Intervention</td>\n",
              "      <td>Bryce National Park</td>\n",
              "      <td>130</td>\n",
              "      <td>False</td>\n",
              "      <td>False</td>\n",
              "    </tr>\n",
              "    <tr>\n",
              "      <th>1</th>\n",
              "      <td>Mammal</td>\n",
              "      <td>Clethrionomys gapperi gapperi</td>\n",
              "      <td>Gapper's Red-Backed Vole</td>\n",
              "      <td>No Intervention</td>\n",
              "      <td>Yellowstone National Park</td>\n",
              "      <td>270</td>\n",
              "      <td>False</td>\n",
              "      <td>False</td>\n",
              "    </tr>\n",
              "    <tr>\n",
              "      <th>2</th>\n",
              "      <td>Mammal</td>\n",
              "      <td>Clethrionomys gapperi gapperi</td>\n",
              "      <td>Gapper's Red-Backed Vole</td>\n",
              "      <td>No Intervention</td>\n",
              "      <td>Great Smoky Mountains National Park</td>\n",
              "      <td>98</td>\n",
              "      <td>False</td>\n",
              "      <td>False</td>\n",
              "    </tr>\n",
              "    <tr>\n",
              "      <th>3</th>\n",
              "      <td>Mammal</td>\n",
              "      <td>Clethrionomys gapperi gapperi</td>\n",
              "      <td>Gapper's Red-Backed Vole</td>\n",
              "      <td>No Intervention</td>\n",
              "      <td>Yosemite National Park</td>\n",
              "      <td>117</td>\n",
              "      <td>False</td>\n",
              "      <td>False</td>\n",
              "    </tr>\n",
              "    <tr>\n",
              "      <th>4</th>\n",
              "      <td>Mammal</td>\n",
              "      <td>Bos bison</td>\n",
              "      <td>American Bison, Bison</td>\n",
              "      <td>No Intervention</td>\n",
              "      <td>Yosemite National Park</td>\n",
              "      <td>128</td>\n",
              "      <td>False</td>\n",
              "      <td>False</td>\n",
              "    </tr>\n",
              "  </tbody>\n",
              "</table>\n",
              "</div>"
            ],
            "text/plain": [
              "  category                scientific_name              common_names  \\\n",
              "0   Mammal  Clethrionomys gapperi gapperi  Gapper's Red-Backed Vole   \n",
              "1   Mammal  Clethrionomys gapperi gapperi  Gapper's Red-Backed Vole   \n",
              "2   Mammal  Clethrionomys gapperi gapperi  Gapper's Red-Backed Vole   \n",
              "3   Mammal  Clethrionomys gapperi gapperi  Gapper's Red-Backed Vole   \n",
              "4   Mammal                      Bos bison     American Bison, Bison   \n",
              "\n",
              "  conservation_status                            park_name  observations  \\\n",
              "0     No Intervention                  Bryce National Park           130   \n",
              "1     No Intervention            Yellowstone National Park           270   \n",
              "2     No Intervention  Great Smoky Mountains National Park            98   \n",
              "3     No Intervention               Yosemite National Park           117   \n",
              "4     No Intervention               Yosemite National Park           128   \n",
              "\n",
              "   under_protection  is_bat  \n",
              "0             False   False  \n",
              "1             False   False  \n",
              "2             False   False  \n",
              "3             False   False  \n",
              "4             False   False  "
            ]
          },
          "execution_count": 544,
          "metadata": {},
          "output_type": "execute_result"
        }
      ],
      "source": [
        "species_df.head()"
      ]
    },
    {
      "cell_type": "code",
      "execution_count": 545,
      "metadata": {},
      "outputs": [
        {
          "data": {
            "text/html": [
              "<div>\n",
              "<style scoped>\n",
              "    .dataframe tbody tr th:only-of-type {\n",
              "        vertical-align: middle;\n",
              "    }\n",
              "\n",
              "    .dataframe tbody tr th {\n",
              "        vertical-align: top;\n",
              "    }\n",
              "\n",
              "    .dataframe thead th {\n",
              "        text-align: right;\n",
              "    }\n",
              "</style>\n",
              "<table border=\"1\" class=\"dataframe\">\n",
              "  <thead>\n",
              "    <tr style=\"text-align: right;\">\n",
              "      <th></th>\n",
              "      <th>category</th>\n",
              "      <th>scientific_name</th>\n",
              "      <th>common_names</th>\n",
              "      <th>conservation_status</th>\n",
              "      <th>park_name</th>\n",
              "      <th>observations</th>\n",
              "      <th>under_protection</th>\n",
              "      <th>is_bat</th>\n",
              "    </tr>\n",
              "  </thead>\n",
              "  <tbody>\n",
              "    <tr>\n",
              "      <th>68</th>\n",
              "      <td>Mammal</td>\n",
              "      <td>Corynorhinus rafinesquii</td>\n",
              "      <td>Rafinesque's Big-Eared Bat</td>\n",
              "      <td>No Intervention</td>\n",
              "      <td>Yosemite National Park</td>\n",
              "      <td>188</td>\n",
              "      <td>False</td>\n",
              "      <td>True</td>\n",
              "    </tr>\n",
              "    <tr>\n",
              "      <th>69</th>\n",
              "      <td>Mammal</td>\n",
              "      <td>Corynorhinus rafinesquii</td>\n",
              "      <td>Rafinesque's Big-Eared Bat</td>\n",
              "      <td>No Intervention</td>\n",
              "      <td>Great Smoky Mountains National Park</td>\n",
              "      <td>80</td>\n",
              "      <td>False</td>\n",
              "      <td>True</td>\n",
              "    </tr>\n",
              "    <tr>\n",
              "      <th>70</th>\n",
              "      <td>Mammal</td>\n",
              "      <td>Corynorhinus rafinesquii</td>\n",
              "      <td>Rafinesque's Big-Eared Bat</td>\n",
              "      <td>No Intervention</td>\n",
              "      <td>Bryce National Park</td>\n",
              "      <td>57</td>\n",
              "      <td>False</td>\n",
              "      <td>True</td>\n",
              "    </tr>\n",
              "    <tr>\n",
              "      <th>71</th>\n",
              "      <td>Mammal</td>\n",
              "      <td>Corynorhinus rafinesquii</td>\n",
              "      <td>Rafinesque's Big-Eared Bat</td>\n",
              "      <td>No Intervention</td>\n",
              "      <td>Yellowstone National Park</td>\n",
              "      <td>259</td>\n",
              "      <td>False</td>\n",
              "      <td>True</td>\n",
              "    </tr>\n",
              "    <tr>\n",
              "      <th>72</th>\n",
              "      <td>Mammal</td>\n",
              "      <td>Lasiurus borealis</td>\n",
              "      <td>Eastern Red Bat, Red Bat</td>\n",
              "      <td>No Intervention</td>\n",
              "      <td>Yosemite National Park</td>\n",
              "      <td>134</td>\n",
              "      <td>False</td>\n",
              "      <td>True</td>\n",
              "    </tr>\n",
              "    <tr>\n",
              "      <th>...</th>\n",
              "      <td>...</td>\n",
              "      <td>...</td>\n",
              "      <td>...</td>\n",
              "      <td>...</td>\n",
              "      <td>...</td>\n",
              "      <td>...</td>\n",
              "      <td>...</td>\n",
              "      <td>...</td>\n",
              "    </tr>\n",
              "    <tr>\n",
              "      <th>16727</th>\n",
              "      <td>Mammal</td>\n",
              "      <td>Lasiurus blossevillii</td>\n",
              "      <td>Western Red Bat</td>\n",
              "      <td>Species of Concern</td>\n",
              "      <td>Yellowstone National Park</td>\n",
              "      <td>221</td>\n",
              "      <td>True</td>\n",
              "      <td>True</td>\n",
              "    </tr>\n",
              "    <tr>\n",
              "      <th>16740</th>\n",
              "      <td>Mammal</td>\n",
              "      <td>Parastrellus hesperus</td>\n",
              "      <td>Canyon Bat</td>\n",
              "      <td>No Intervention</td>\n",
              "      <td>Great Smoky Mountains National Park</td>\n",
              "      <td>81</td>\n",
              "      <td>False</td>\n",
              "      <td>True</td>\n",
              "    </tr>\n",
              "    <tr>\n",
              "      <th>16741</th>\n",
              "      <td>Mammal</td>\n",
              "      <td>Parastrellus hesperus</td>\n",
              "      <td>Canyon Bat</td>\n",
              "      <td>No Intervention</td>\n",
              "      <td>Bryce National Park</td>\n",
              "      <td>93</td>\n",
              "      <td>False</td>\n",
              "      <td>True</td>\n",
              "    </tr>\n",
              "    <tr>\n",
              "      <th>16742</th>\n",
              "      <td>Mammal</td>\n",
              "      <td>Parastrellus hesperus</td>\n",
              "      <td>Canyon Bat</td>\n",
              "      <td>No Intervention</td>\n",
              "      <td>Yosemite National Park</td>\n",
              "      <td>149</td>\n",
              "      <td>False</td>\n",
              "      <td>True</td>\n",
              "    </tr>\n",
              "    <tr>\n",
              "      <th>16743</th>\n",
              "      <td>Mammal</td>\n",
              "      <td>Parastrellus hesperus</td>\n",
              "      <td>Canyon Bat</td>\n",
              "      <td>No Intervention</td>\n",
              "      <td>Yellowstone National Park</td>\n",
              "      <td>255</td>\n",
              "      <td>False</td>\n",
              "      <td>True</td>\n",
              "    </tr>\n",
              "  </tbody>\n",
              "</table>\n",
              "<p>64 rows × 8 columns</p>\n",
              "</div>"
            ],
            "text/plain": [
              "      category           scientific_name                common_names  \\\n",
              "68      Mammal  Corynorhinus rafinesquii  Rafinesque's Big-Eared Bat   \n",
              "69      Mammal  Corynorhinus rafinesquii  Rafinesque's Big-Eared Bat   \n",
              "70      Mammal  Corynorhinus rafinesquii  Rafinesque's Big-Eared Bat   \n",
              "71      Mammal  Corynorhinus rafinesquii  Rafinesque's Big-Eared Bat   \n",
              "72      Mammal         Lasiurus borealis    Eastern Red Bat, Red Bat   \n",
              "...        ...                       ...                         ...   \n",
              "16727   Mammal     Lasiurus blossevillii             Western Red Bat   \n",
              "16740   Mammal     Parastrellus hesperus                  Canyon Bat   \n",
              "16741   Mammal     Parastrellus hesperus                  Canyon Bat   \n",
              "16742   Mammal     Parastrellus hesperus                  Canyon Bat   \n",
              "16743   Mammal     Parastrellus hesperus                  Canyon Bat   \n",
              "\n",
              "      conservation_status                            park_name  observations  \\\n",
              "68        No Intervention               Yosemite National Park           188   \n",
              "69        No Intervention  Great Smoky Mountains National Park            80   \n",
              "70        No Intervention                  Bryce National Park            57   \n",
              "71        No Intervention            Yellowstone National Park           259   \n",
              "72        No Intervention               Yosemite National Park           134   \n",
              "...                   ...                                  ...           ...   \n",
              "16727  Species of Concern            Yellowstone National Park           221   \n",
              "16740     No Intervention  Great Smoky Mountains National Park            81   \n",
              "16741     No Intervention                  Bryce National Park            93   \n",
              "16742     No Intervention               Yosemite National Park           149   \n",
              "16743     No Intervention            Yellowstone National Park           255   \n",
              "\n",
              "       under_protection  is_bat  \n",
              "68                False    True  \n",
              "69                False    True  \n",
              "70                False    True  \n",
              "71                False    True  \n",
              "72                False    True  \n",
              "...                 ...     ...  \n",
              "16727              True    True  \n",
              "16740             False    True  \n",
              "16741             False    True  \n",
              "16742             False    True  \n",
              "16743             False    True  \n",
              "\n",
              "[64 rows x 8 columns]"
            ]
          },
          "execution_count": 545,
          "metadata": {},
          "output_type": "execute_result"
        }
      ],
      "source": [
        "species_df[species_df.is_bat]"
      ]
    },
    {
      "cell_type": "code",
      "execution_count": 546,
      "metadata": {},
      "outputs": [],
      "source": [
        "bat_observation = species_df[species_df.is_bat].groupby(['park_name'])['observations'].sum().reset_index()"
      ]
    },
    {
      "cell_type": "code",
      "execution_count": 547,
      "metadata": {},
      "outputs": [
        {
          "data": {
            "text/html": [
              "<div>\n",
              "<style scoped>\n",
              "    .dataframe tbody tr th:only-of-type {\n",
              "        vertical-align: middle;\n",
              "    }\n",
              "\n",
              "    .dataframe tbody tr th {\n",
              "        vertical-align: top;\n",
              "    }\n",
              "\n",
              "    .dataframe thead th {\n",
              "        text-align: right;\n",
              "    }\n",
              "</style>\n",
              "<table border=\"1\" class=\"dataframe\">\n",
              "  <thead>\n",
              "    <tr style=\"text-align: right;\">\n",
              "      <th></th>\n",
              "      <th>park_name</th>\n",
              "      <th>observations</th>\n",
              "    </tr>\n",
              "  </thead>\n",
              "  <tbody>\n",
              "    <tr>\n",
              "      <th>0</th>\n",
              "      <td>Bryce National Park</td>\n",
              "      <td>1811</td>\n",
              "    </tr>\n",
              "    <tr>\n",
              "      <th>1</th>\n",
              "      <td>Great Smoky Mountains National Park</td>\n",
              "      <td>1355</td>\n",
              "    </tr>\n",
              "    <tr>\n",
              "      <th>2</th>\n",
              "      <td>Yellowstone National Park</td>\n",
              "      <td>4584</td>\n",
              "    </tr>\n",
              "    <tr>\n",
              "      <th>3</th>\n",
              "      <td>Yosemite National Park</td>\n",
              "      <td>2657</td>\n",
              "    </tr>\n",
              "  </tbody>\n",
              "</table>\n",
              "</div>"
            ],
            "text/plain": [
              "                             park_name  observations\n",
              "0                  Bryce National Park          1811\n",
              "1  Great Smoky Mountains National Park          1355\n",
              "2            Yellowstone National Park          4584\n",
              "3               Yosemite National Park          2657"
            ]
          },
          "execution_count": 547,
          "metadata": {},
          "output_type": "execute_result"
        }
      ],
      "source": [
        "bat_observation"
      ]
    },
    {
      "cell_type": "code",
      "execution_count": 572,
      "metadata": {},
      "outputs": [
        {
          "data": {
            "image/png": "[encoded data removed]",
            "text/plain": [
              "<Figure size 432x288 with 1 Axes>"
            ]
          },
          "metadata": {
            "needs_background": "light"
          },
          "output_type": "display_data"
        }
      ],
      "source": [
        "sns.barplot(data=bat_observation, x='observations', y='park_name')\n",
        "plt.xticks(rotation=0)\n",
        "plt.show()"
      ]
    },
    {
      "attachments": {},
      "cell_type": "markdown",
      "metadata": {},
      "source": [
        "How many observation for mouse?"
      ]
    },
    {
      "cell_type": "code",
      "execution_count": 573,
      "metadata": {},
      "outputs": [],
      "source": [
        "species_df['is_mouse'] = species_df.common_names.str.contains(r\"\\bMouse\\b\", regex = True)"
      ]
    },
    {
      "cell_type": "code",
      "execution_count": 576,
      "metadata": {},
      "outputs": [
        {
          "data": {
            "text/html": [
              "<div>\n",
              "<style scoped>\n",
              "    .dataframe tbody tr th:only-of-type {\n",
              "        vertical-align: middle;\n",
              "    }\n",
              "\n",
              "    .dataframe tbody tr th {\n",
              "        vertical-align: top;\n",
              "    }\n",
              "\n",
              "    .dataframe thead th {\n",
              "        text-align: right;\n",
              "    }\n",
              "</style>\n",
              "<table border=\"1\" class=\"dataframe\">\n",
              "  <thead>\n",
              "    <tr style=\"text-align: right;\">\n",
              "      <th></th>\n",
              "      <th>park_name</th>\n",
              "      <th>observations</th>\n",
              "    </tr>\n",
              "  </thead>\n",
              "  <tbody>\n",
              "    <tr>\n",
              "      <th>0</th>\n",
              "      <td>Bryce National Park</td>\n",
              "      <td>2227</td>\n",
              "    </tr>\n",
              "    <tr>\n",
              "      <th>1</th>\n",
              "      <td>Great Smoky Mountains National Park</td>\n",
              "      <td>1595</td>\n",
              "    </tr>\n",
              "    <tr>\n",
              "      <th>2</th>\n",
              "      <td>Yellowstone National Park</td>\n",
              "      <td>5836</td>\n",
              "    </tr>\n",
              "    <tr>\n",
              "      <th>3</th>\n",
              "      <td>Yosemite National Park</td>\n",
              "      <td>3392</td>\n",
              "    </tr>\n",
              "  </tbody>\n",
              "</table>\n",
              "</div>"
            ],
            "text/plain": [
              "                             park_name  observations\n",
              "0                  Bryce National Park          2227\n",
              "1  Great Smoky Mountains National Park          1595\n",
              "2            Yellowstone National Park          5836\n",
              "3               Yosemite National Park          3392"
            ]
          },
          "execution_count": 576,
          "metadata": {},
          "output_type": "execute_result"
        }
      ],
      "source": [
        "mouse_observation = species_df[species_df.is_mouse].groupby(['park_name'])['observations'].sum().reset_index()\n",
        "mouse_observation"
      ]
    },
    {
      "cell_type": "code",
      "execution_count": 577,
      "metadata": {},
      "outputs": [
        {
          "data": {
            "image/png": "[encoded data removed]",
            "text/plain": [
              "<Figure size 432x288 with 1 Axes>"
            ]
          },
          "metadata": {
            "needs_background": "light"
          },
          "output_type": "display_data"
        }
      ],
      "source": [
        "sns.barplot(data=mouse_observation, x='observations', y='park_name')\n",
        "plt.xticks(rotation=0)\n",
        "plt.show()"
      ]
    },
    {
      "cell_type": "markdown",
      "metadata": {
        "id": "U_wXco_xbBZf"
      },
      "source": [
        "###"
      ]
    }
  ],
  "metadata": {
    "colab": {
      "provenance": []
    },
    "kernelspec": {
      "display_name": "base",
      "language": "python",
      "name": "python3"
    },
    "language_info": {
      "codemirror_mode": {
        "name": "ipython",
        "version": 3
      },
      "file_extension": ".py",
      "mimetype": "text/x-python",
      "name": "python",
      "nbconvert_exporter": "python",
      "pygments_lexer": "ipython3",
      "version": "3.9.13"
    },
    "vscode": {
      "interpreter": {
        "hash": "155e4320cbd76e32fdde734bac67ea2e161d2b8f53e6edc9d7eae4ecf3146a98"
      }
    }
  },
  "nbformat": 4,
  "nbformat_minor": 0
}
