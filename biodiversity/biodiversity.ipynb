{
  "cells": [
    {
      "cell_type": "markdown",
      "metadata": {
        "id": "IhyVzYEG-BCB"
      },
      "source": [
        "The datasets provided have the following columns of data:\n",
        "\n",
        "species_info.csv:\n",
        "\n",
        "    category - class of animal\n",
        "    scientific_name - the scientific name of each species\n",
        "    common_name - the common names of each species\n",
        "    conservation_status - each species’ current conservation status\n",
        "\n",
        "observations.csv:\n",
        "\n",
        "    scientific_name - the scientific name of each species\n",
        "    park_name - Park where species were found\n",
        "    observations - the number of times each species was observed at park\n"
      ]
    },
    {
      "attachments": {},
      "cell_type": "markdown",
      "metadata": {
        "id": "lzEGz2ex-EGZ"
      },
      "source": [
        "# Scoping\n",
        "\n",
        "### Tasks\n",
        "\n",
        "    1. What is the distribution of conservation_status for animals?\n",
        "    2. Are certain types of species more likely to be endangered?\n",
        "    3. Are the differences between species and their conservation status significant?\n",
        "    4. Which species were spotted the most at each park?\n"
      ]
    },
    {
      "cell_type": "markdown",
      "metadata": {
        "id": "2EjDU9m2v4UJ"
      },
      "source": [
        "# Exploratory Data Analysis"
      ]
    },
    {
      "cell_type": "code",
      "execution_count": 1,
      "metadata": {
        "id": "40neptG07gTo"
      },
      "outputs": [],
      "source": [
        "# import necessary libraries\n",
        "import pandas as pd\n",
        "import numpy as np\n",
        "import matplotlib.pyplot as plt\n",
        "import seaborn as sns"
      ]
    },
    {
      "cell_type": "code",
      "execution_count": 2,
      "metadata": {
        "colab": {
          "base_uri": "https://localhost:8080/"
        },
        "id": "JM68dfJkS3OF",
        "outputId": "883b7c57-ec13-4185-f52e-ce7d75233f94"
      },
      "outputs": [
        {
          "name": "stdout",
          "output_type": "stream",
          "text": [
            "            scientific_name                            park_name  observations\n",
            "0        Vicia benghalensis  Great Smoky Mountains National Park            68\n",
            "1            Neovison vison  Great Smoky Mountains National Park            77\n",
            "2         Prunus subcordata               Yosemite National Park           138\n",
            "3      Abutilon theophrasti                  Bryce National Park            84\n",
            "4  Githopsis specularioides  Great Smoky Mountains National Park            85\n",
            "(23296, 3)\n",
            "scientific_name    object\n",
            "park_name          object\n",
            "observations        int64\n",
            "dtype: object\n",
            "scientific_name    0\n",
            "park_name          0\n",
            "observations       0\n",
            "dtype: int64\n"
          ]
        }
      ],
      "source": [
        "# load the datasets\n",
        "obs = pd.read_csv(\"/home/cacaprog/learning-projects/biodiversity/observations.csv\")\n",
        "\n",
        "# print the first few rows of the DataFrame\n",
        "print(obs.head(5))\n",
        "\n",
        "# print the DataFrame's shape\n",
        "print(obs.shape)\n",
        "\n",
        "# print the DataFrame's data types\n",
        "print(obs.dtypes)\n",
        "\n",
        "# check for missing values\n",
        "print(obs.isnull().sum())\n"
      ]
    },
    {
      "cell_type": "code",
      "execution_count": 3,
      "metadata": {
        "colab": {
          "base_uri": "https://localhost:8080/",
          "height": 394
        },
        "id": "9LXkH61zpxj1",
        "outputId": "3bf83b4d-670d-4529-8ab2-e4cd12908de7"
      },
      "outputs": [
        {
          "data": {
            "text/html": [
              "<div>\n",
              "<style scoped>\n",
              "    .dataframe tbody tr th:only-of-type {\n",
              "        vertical-align: middle;\n",
              "    }\n",
              "\n",
              "    .dataframe tbody tr th {\n",
              "        vertical-align: top;\n",
              "    }\n",
              "\n",
              "    .dataframe thead th {\n",
              "        text-align: right;\n",
              "    }\n",
              "</style>\n",
              "<table border=\"1\" class=\"dataframe\">\n",
              "  <thead>\n",
              "    <tr style=\"text-align: right;\">\n",
              "      <th></th>\n",
              "      <th>scientific_name</th>\n",
              "      <th>park_name</th>\n",
              "      <th>observations</th>\n",
              "    </tr>\n",
              "  </thead>\n",
              "  <tbody>\n",
              "    <tr>\n",
              "      <th>count</th>\n",
              "      <td>23296</td>\n",
              "      <td>23296</td>\n",
              "      <td>23296.000000</td>\n",
              "    </tr>\n",
              "    <tr>\n",
              "      <th>unique</th>\n",
              "      <td>5541</td>\n",
              "      <td>4</td>\n",
              "      <td>NaN</td>\n",
              "    </tr>\n",
              "    <tr>\n",
              "      <th>top</th>\n",
              "      <td>Myotis lucifugus</td>\n",
              "      <td>Great Smoky Mountains National Park</td>\n",
              "      <td>NaN</td>\n",
              "    </tr>\n",
              "    <tr>\n",
              "      <th>freq</th>\n",
              "      <td>12</td>\n",
              "      <td>5824</td>\n",
              "      <td>NaN</td>\n",
              "    </tr>\n",
              "    <tr>\n",
              "      <th>mean</th>\n",
              "      <td>NaN</td>\n",
              "      <td>NaN</td>\n",
              "      <td>142.287904</td>\n",
              "    </tr>\n",
              "    <tr>\n",
              "      <th>std</th>\n",
              "      <td>NaN</td>\n",
              "      <td>NaN</td>\n",
              "      <td>69.890532</td>\n",
              "    </tr>\n",
              "    <tr>\n",
              "      <th>min</th>\n",
              "      <td>NaN</td>\n",
              "      <td>NaN</td>\n",
              "      <td>9.000000</td>\n",
              "    </tr>\n",
              "    <tr>\n",
              "      <th>25%</th>\n",
              "      <td>NaN</td>\n",
              "      <td>NaN</td>\n",
              "      <td>86.000000</td>\n",
              "    </tr>\n",
              "    <tr>\n",
              "      <th>50%</th>\n",
              "      <td>NaN</td>\n",
              "      <td>NaN</td>\n",
              "      <td>124.000000</td>\n",
              "    </tr>\n",
              "    <tr>\n",
              "      <th>75%</th>\n",
              "      <td>NaN</td>\n",
              "      <td>NaN</td>\n",
              "      <td>195.000000</td>\n",
              "    </tr>\n",
              "    <tr>\n",
              "      <th>max</th>\n",
              "      <td>NaN</td>\n",
              "      <td>NaN</td>\n",
              "      <td>321.000000</td>\n",
              "    </tr>\n",
              "  </tbody>\n",
              "</table>\n",
              "</div>"
            ],
            "text/plain": [
              "         scientific_name                            park_name  observations\n",
              "count              23296                                23296  23296.000000\n",
              "unique              5541                                    4           NaN\n",
              "top     Myotis lucifugus  Great Smoky Mountains National Park           NaN\n",
              "freq                  12                                 5824           NaN\n",
              "mean                 NaN                                  NaN    142.287904\n",
              "std                  NaN                                  NaN     69.890532\n",
              "min                  NaN                                  NaN      9.000000\n",
              "25%                  NaN                                  NaN     86.000000\n",
              "50%                  NaN                                  NaN    124.000000\n",
              "75%                  NaN                                  NaN    195.000000\n",
              "max                  NaN                                  NaN    321.000000"
            ]
          },
          "execution_count": 3,
          "metadata": {},
          "output_type": "execute_result"
        }
      ],
      "source": [
        "obs.describe(include='all')"
      ]
    },
    {
      "cell_type": "markdown",
      "metadata": {
        "id": "_D6BSF93TUel"
      },
      "source": [
        "There is no missing value in observations data frame"
      ]
    },
    {
      "cell_type": "code",
      "execution_count": 4,
      "metadata": {
        "colab": {
          "base_uri": "https://localhost:8080/"
        },
        "id": "oEexcFeRqh7q",
        "outputId": "51359054-977a-42b6-f160-cf74865f1b59"
      },
      "outputs": [
        {
          "data": {
            "text/plain": [
              "False    23281\n",
              "True        15\n",
              "dtype: int64"
            ]
          },
          "execution_count": 4,
          "metadata": {},
          "output_type": "execute_result"
        }
      ],
      "source": [
        "# Have duplicated data?\n",
        "\n",
        "obs.duplicated().value_counts()"
      ]
    },
    {
      "cell_type": "markdown",
      "metadata": {
        "id": "j5e0mwgZr1oc"
      },
      "source": [
        "@Maryam, we have duplicated data here.\n",
        "Let´s check if the duplicated data is on 'scientific_name'\n",
        "\n",
        "@Cairo, that was so smart"
      ]
    },
    {
      "cell_type": "code",
      "execution_count": 5,
      "metadata": {
        "colab": {
          "base_uri": "https://localhost:8080/",
          "height": 424
        },
        "id": "txgE-tjtz-JV",
        "outputId": "90c04164-a13b-4eae-9fb6-15338c20bb69"
      },
      "outputs": [
        {
          "data": {
            "text/html": [
              "<div>\n",
              "<style scoped>\n",
              "    .dataframe tbody tr th:only-of-type {\n",
              "        vertical-align: middle;\n",
              "    }\n",
              "\n",
              "    .dataframe tbody tr th {\n",
              "        vertical-align: top;\n",
              "    }\n",
              "\n",
              "    .dataframe thead th {\n",
              "        text-align: right;\n",
              "    }\n",
              "</style>\n",
              "<table border=\"1\" class=\"dataframe\">\n",
              "  <thead>\n",
              "    <tr style=\"text-align: right;\">\n",
              "      <th></th>\n",
              "      <th>scientific_name</th>\n",
              "      <th>park_name</th>\n",
              "      <th>observations</th>\n",
              "    </tr>\n",
              "  </thead>\n",
              "  <tbody>\n",
              "    <tr>\n",
              "      <th>483</th>\n",
              "      <td>Agrostis gigantea</td>\n",
              "      <td>Yellowstone National Park</td>\n",
              "      <td>235</td>\n",
              "    </tr>\n",
              "    <tr>\n",
              "      <th>490</th>\n",
              "      <td>Agrostis mertensii</td>\n",
              "      <td>Yosemite National Park</td>\n",
              "      <td>128</td>\n",
              "    </tr>\n",
              "    <tr>\n",
              "      <th>945</th>\n",
              "      <td>Rumex crispus</td>\n",
              "      <td>Yellowstone National Park</td>\n",
              "      <td>255</td>\n",
              "    </tr>\n",
              "    <tr>\n",
              "      <th>1213</th>\n",
              "      <td>Dianthus barbatus</td>\n",
              "      <td>Bryce National Park</td>\n",
              "      <td>110</td>\n",
              "    </tr>\n",
              "    <tr>\n",
              "      <th>1259</th>\n",
              "      <td>Riparia riparia</td>\n",
              "      <td>Bryce National Park</td>\n",
              "      <td>91</td>\n",
              "    </tr>\n",
              "    <tr>\n",
              "      <th>...</th>\n",
              "      <td>...</td>\n",
              "      <td>...</td>\n",
              "      <td>...</td>\n",
              "    </tr>\n",
              "    <tr>\n",
              "      <th>23258</th>\n",
              "      <td>Microtus longicaudus</td>\n",
              "      <td>Yellowstone National Park</td>\n",
              "      <td>244</td>\n",
              "    </tr>\n",
              "    <tr>\n",
              "      <th>23259</th>\n",
              "      <td>Agrostis scabra</td>\n",
              "      <td>Bryce National Park</td>\n",
              "      <td>118</td>\n",
              "    </tr>\n",
              "    <tr>\n",
              "      <th>23267</th>\n",
              "      <td>Oxalis corniculata</td>\n",
              "      <td>Yosemite National Park</td>\n",
              "      <td>164</td>\n",
              "    </tr>\n",
              "    <tr>\n",
              "      <th>23273</th>\n",
              "      <td>Dactylis glomerata</td>\n",
              "      <td>Bryce National Park</td>\n",
              "      <td>89</td>\n",
              "    </tr>\n",
              "    <tr>\n",
              "      <th>23280</th>\n",
              "      <td>Botrychium simplex</td>\n",
              "      <td>Yellowstone National Park</td>\n",
              "      <td>241</td>\n",
              "    </tr>\n",
              "  </tbody>\n",
              "</table>\n",
              "<p>1132 rows × 3 columns</p>\n",
              "</div>"
            ],
            "text/plain": [
              "            scientific_name                  park_name  observations\n",
              "483       Agrostis gigantea  Yellowstone National Park           235\n",
              "490      Agrostis mertensii     Yosemite National Park           128\n",
              "945           Rumex crispus  Yellowstone National Park           255\n",
              "1213      Dianthus barbatus        Bryce National Park           110\n",
              "1259        Riparia riparia        Bryce National Park            91\n",
              "...                     ...                        ...           ...\n",
              "23258  Microtus longicaudus  Yellowstone National Park           244\n",
              "23259       Agrostis scabra        Bryce National Park           118\n",
              "23267    Oxalis corniculata     Yosemite National Park           164\n",
              "23273    Dactylis glomerata        Bryce National Park            89\n",
              "23280    Botrychium simplex  Yellowstone National Park           241\n",
              "\n",
              "[1132 rows x 3 columns]"
            ]
          },
          "execution_count": 5,
          "metadata": {},
          "output_type": "execute_result"
        }
      ],
      "source": [
        "# Check for duplicate data\n",
        "\n",
        "obs[obs.duplicated(subset=['scientific_name', 'park_name'])]"
      ]
    },
    {
      "cell_type": "code",
      "execution_count": 6,
      "metadata": {
        "colab": {
          "base_uri": "https://localhost:8080/",
          "height": 175
        },
        "id": "h00g71_s0fRl",
        "outputId": "9f0961b2-91d6-4ad2-b9b1-63d70bd29d9d"
      },
      "outputs": [
        {
          "data": {
            "text/html": [
              "<div>\n",
              "<style scoped>\n",
              "    .dataframe tbody tr th:only-of-type {\n",
              "        vertical-align: middle;\n",
              "    }\n",
              "\n",
              "    .dataframe tbody tr th {\n",
              "        vertical-align: top;\n",
              "    }\n",
              "\n",
              "    .dataframe thead th {\n",
              "        text-align: right;\n",
              "    }\n",
              "</style>\n",
              "<table border=\"1\" class=\"dataframe\">\n",
              "  <thead>\n",
              "    <tr style=\"text-align: right;\">\n",
              "      <th></th>\n",
              "      <th>scientific_name</th>\n",
              "      <th>park_name</th>\n",
              "      <th>observations</th>\n",
              "    </tr>\n",
              "  </thead>\n",
              "  <tbody>\n",
              "    <tr>\n",
              "      <th>55</th>\n",
              "      <td>Penstemon procerus</td>\n",
              "      <td>Great Smoky Mountains National Park</td>\n",
              "      <td>67</td>\n",
              "    </tr>\n",
              "    <tr>\n",
              "      <th>211</th>\n",
              "      <td>Penstemon procerus</td>\n",
              "      <td>Yellowstone National Park</td>\n",
              "      <td>215</td>\n",
              "    </tr>\n",
              "    <tr>\n",
              "      <th>2334</th>\n",
              "      <td>Penstemon procerus</td>\n",
              "      <td>Bryce National Park</td>\n",
              "      <td>98</td>\n",
              "    </tr>\n",
              "    <tr>\n",
              "      <th>16876</th>\n",
              "      <td>Penstemon procerus</td>\n",
              "      <td>Yosemite National Park</td>\n",
              "      <td>121</td>\n",
              "    </tr>\n",
              "  </tbody>\n",
              "</table>\n",
              "</div>"
            ],
            "text/plain": [
              "          scientific_name                            park_name  observations\n",
              "55     Penstemon procerus  Great Smoky Mountains National Park            67\n",
              "211    Penstemon procerus            Yellowstone National Park           215\n",
              "2334   Penstemon procerus                  Bryce National Park            98\n",
              "16876  Penstemon procerus               Yosemite National Park           121"
            ]
          },
          "execution_count": 6,
          "metadata": {},
          "output_type": "execute_result"
        }
      ],
      "source": [
        "obs[obs.scientific_name == 'Penstemon procerus']"
      ]
    },
    {
      "cell_type": "markdown",
      "metadata": {
        "id": "zOlwO4140iEw"
      },
      "source": [
        "Duplicated scientific name. It´s not good. But the same specie was found in different parks."
      ]
    },
    {
      "cell_type": "code",
      "execution_count": 7,
      "metadata": {
        "colab": {
          "base_uri": "https://localhost:8080/"
        },
        "id": "IZkBUBfesAyU",
        "outputId": "3d42f69f-e562-479e-a1b0-9f4be627ac57"
      },
      "outputs": [
        {
          "name": "stdout",
          "output_type": "stream",
          "text": [
            "<class 'pandas.core.frame.DataFrame'>\n",
            "Int64Index: 22164 entries, 0 to 23295\n",
            "Data columns (total 3 columns):\n",
            " #   Column           Non-Null Count  Dtype \n",
            "---  ------           --------------  ----- \n",
            " 0   scientific_name  22164 non-null  object\n",
            " 1   park_name        22164 non-null  object\n",
            " 2   observations     22164 non-null  int64 \n",
            "dtypes: int64(1), object(2)\n",
            "memory usage: 692.6+ KB\n"
          ]
        }
      ],
      "source": [
        "# Calculate the total observations for duplicate records and then remove the duplicates\n",
        "obs['total'] = obs.groupby(['scientific_name', 'park_name'])['observations'].transform('sum')\n",
        "obs.drop_duplicates(subset=['scientific_name', 'park_name'], keep='last', inplace=True)\n",
        "obs = obs[['scientific_name', 'park_name', 'total']]\n",
        "obs = obs.rename(columns={'total': 'observations'})\n",
        "obs.info()"
      ]
    },
    {
      "cell_type": "markdown",
      "metadata": {
        "id": "OGb8KU2V4AlJ"
      },
      "source": [
        "Let's do the same on spec dataframe"
      ]
    },
    {
      "cell_type": "code",
      "execution_count": 8,
      "metadata": {
        "colab": {
          "base_uri": "https://localhost:8080/"
        },
        "id": "Lsk8EL-yTYO0",
        "outputId": "9a8fde05-bbc9-4c89-b28f-519a685ca50b"
      },
      "outputs": [
        {
          "name": "stdout",
          "output_type": "stream",
          "text": [
            "  category                scientific_name  \\\n",
            "0   Mammal  Clethrionomys gapperi gapperi   \n",
            "1   Mammal                      Bos bison   \n",
            "2   Mammal                     Bos taurus   \n",
            "3   Mammal                     Ovis aries   \n",
            "4   Mammal                 Cervus elaphus   \n",
            "\n",
            "                                        common_names conservation_status  \n",
            "0                           Gapper's Red-Backed Vole                 NaN  \n",
            "1                              American Bison, Bison                 NaN  \n",
            "2  Aurochs, Aurochs, Domestic Cattle (Feral), Dom...                 NaN  \n",
            "3  Domestic Sheep, Mouflon, Red Sheep, Sheep (Feral)                 NaN  \n",
            "4                                      Wapiti Or Elk                 NaN  \n",
            "(5824, 4)\n",
            "category               object\n",
            "scientific_name        object\n",
            "common_names           object\n",
            "conservation_status    object\n",
            "dtype: object\n",
            "category                  0\n",
            "scientific_name           0\n",
            "common_names              0\n",
            "conservation_status    5633\n",
            "dtype: int64\n"
          ]
        }
      ],
      "source": [
        "# load the datasets\n",
        "spec = pd.read_csv(\"/home/cacaprog/learning-projects/biodiversity/species_info.csv\")\n",
        "# print the first few rows of the DataFrame\n",
        "print(spec.head(5))\n",
        "\n",
        "# print the DataFrame's shape\n",
        "print(spec.shape)\n",
        "\n",
        "# print the DataFrame's data types\n",
        "print(spec.dtypes)\n",
        "\n",
        "# check for missing values\n",
        "print(spec.isnull().sum())"
      ]
    },
    {
      "cell_type": "markdown",
      "metadata": {
        "id": "WHDr-3SXTmlk"
      },
      "source": [
        "There is no missing value in spieces_info data frame"
      ]
    },
    {
      "cell_type": "code",
      "execution_count": 9,
      "metadata": {
        "colab": {
          "base_uri": "https://localhost:8080/",
          "height": 175
        },
        "id": "OFPEyKYVku1q",
        "outputId": "b42b3fed-d97f-45e6-e098-999ed2195579"
      },
      "outputs": [
        {
          "data": {
            "text/html": [
              "<div>\n",
              "<style scoped>\n",
              "    .dataframe tbody tr th:only-of-type {\n",
              "        vertical-align: middle;\n",
              "    }\n",
              "\n",
              "    .dataframe tbody tr th {\n",
              "        vertical-align: top;\n",
              "    }\n",
              "\n",
              "    .dataframe thead th {\n",
              "        text-align: right;\n",
              "    }\n",
              "</style>\n",
              "<table border=\"1\" class=\"dataframe\">\n",
              "  <thead>\n",
              "    <tr style=\"text-align: right;\">\n",
              "      <th></th>\n",
              "      <th>category</th>\n",
              "      <th>scientific_name</th>\n",
              "      <th>common_names</th>\n",
              "      <th>conservation_status</th>\n",
              "    </tr>\n",
              "  </thead>\n",
              "  <tbody>\n",
              "    <tr>\n",
              "      <th>count</th>\n",
              "      <td>5824</td>\n",
              "      <td>5824</td>\n",
              "      <td>5824</td>\n",
              "      <td>191</td>\n",
              "    </tr>\n",
              "    <tr>\n",
              "      <th>unique</th>\n",
              "      <td>7</td>\n",
              "      <td>5541</td>\n",
              "      <td>5504</td>\n",
              "      <td>4</td>\n",
              "    </tr>\n",
              "    <tr>\n",
              "      <th>top</th>\n",
              "      <td>Vascular Plant</td>\n",
              "      <td>Castor canadensis</td>\n",
              "      <td>Brachythecium Moss</td>\n",
              "      <td>Species of Concern</td>\n",
              "    </tr>\n",
              "    <tr>\n",
              "      <th>freq</th>\n",
              "      <td>4470</td>\n",
              "      <td>3</td>\n",
              "      <td>7</td>\n",
              "      <td>161</td>\n",
              "    </tr>\n",
              "  </tbody>\n",
              "</table>\n",
              "</div>"
            ],
            "text/plain": [
              "              category    scientific_name        common_names  \\\n",
              "count             5824               5824                5824   \n",
              "unique               7               5541                5504   \n",
              "top     Vascular Plant  Castor canadensis  Brachythecium Moss   \n",
              "freq              4470                  3                   7   \n",
              "\n",
              "       conservation_status  \n",
              "count                  191  \n",
              "unique                   4  \n",
              "top     Species of Concern  \n",
              "freq                   161  "
            ]
          },
          "execution_count": 9,
          "metadata": {},
          "output_type": "execute_result"
        }
      ],
      "source": [
        "spec.describe(include='all')"
      ]
    },
    {
      "cell_type": "code",
      "execution_count": 10,
      "metadata": {
        "colab": {
          "base_uri": "https://localhost:8080/"
        },
        "id": "DKXz7Gp6rlc3",
        "outputId": "ff52cbbc-b556-4a47-eb3f-4ca51cd67be3"
      },
      "outputs": [
        {
          "data": {
            "text/plain": [
              "False    5824\n",
              "dtype: int64"
            ]
          },
          "execution_count": 10,
          "metadata": {},
          "output_type": "execute_result"
        }
      ],
      "source": [
        "# Have duplicated data?\n",
        "\n",
        "spec.duplicated().value_counts()\n"
      ]
    },
    {
      "cell_type": "markdown",
      "metadata": {
        "id": "0ISE466trtbu"
      },
      "source": [
        "Let's check further, inside dataset"
      ]
    },
    {
      "cell_type": "code",
      "execution_count": 11,
      "metadata": {
        "colab": {
          "base_uri": "https://localhost:8080/",
          "height": 424
        },
        "id": "hkKpnzxn4jbc",
        "outputId": "aeeadd14-9f8b-4a26-bd9a-072c379587ec"
      },
      "outputs": [
        {
          "data": {
            "text/html": [
              "<div>\n",
              "<style scoped>\n",
              "    .dataframe tbody tr th:only-of-type {\n",
              "        vertical-align: middle;\n",
              "    }\n",
              "\n",
              "    .dataframe tbody tr th {\n",
              "        vertical-align: top;\n",
              "    }\n",
              "\n",
              "    .dataframe thead th {\n",
              "        text-align: right;\n",
              "    }\n",
              "</style>\n",
              "<table border=\"1\" class=\"dataframe\">\n",
              "  <thead>\n",
              "    <tr style=\"text-align: right;\">\n",
              "      <th></th>\n",
              "      <th>category</th>\n",
              "      <th>scientific_name</th>\n",
              "      <th>common_names</th>\n",
              "      <th>conservation_status</th>\n",
              "    </tr>\n",
              "  </thead>\n",
              "  <tbody>\n",
              "    <tr>\n",
              "      <th>3017</th>\n",
              "      <td>Mammal</td>\n",
              "      <td>Cervus elaphus</td>\n",
              "      <td>Rocky Mountain Elk</td>\n",
              "      <td>NaN</td>\n",
              "    </tr>\n",
              "    <tr>\n",
              "      <th>3019</th>\n",
              "      <td>Mammal</td>\n",
              "      <td>Odocoileus virginianus</td>\n",
              "      <td>White-Tailed Deer, White-Tailed Deer</td>\n",
              "      <td>NaN</td>\n",
              "    </tr>\n",
              "    <tr>\n",
              "      <th>3020</th>\n",
              "      <td>Mammal</td>\n",
              "      <td>Canis lupus</td>\n",
              "      <td>Gray Wolf, Wolf</td>\n",
              "      <td>In Recovery</td>\n",
              "    </tr>\n",
              "    <tr>\n",
              "      <th>3022</th>\n",
              "      <td>Mammal</td>\n",
              "      <td>Puma concolor</td>\n",
              "      <td>Cougar, Mountain Lion, Puma</td>\n",
              "      <td>NaN</td>\n",
              "    </tr>\n",
              "    <tr>\n",
              "      <th>3025</th>\n",
              "      <td>Mammal</td>\n",
              "      <td>Lutra canadensis</td>\n",
              "      <td>River Otter</td>\n",
              "      <td>NaN</td>\n",
              "    </tr>\n",
              "    <tr>\n",
              "      <th>...</th>\n",
              "      <td>...</td>\n",
              "      <td>...</td>\n",
              "      <td>...</td>\n",
              "      <td>...</td>\n",
              "    </tr>\n",
              "    <tr>\n",
              "      <th>5619</th>\n",
              "      <td>Vascular Plant</td>\n",
              "      <td>Panicum rigidulum var. rigidulum</td>\n",
              "      <td>Redtop Panicgrass, Redtop Panicum</td>\n",
              "      <td>NaN</td>\n",
              "    </tr>\n",
              "    <tr>\n",
              "      <th>5638</th>\n",
              "      <td>Vascular Plant</td>\n",
              "      <td>Setaria pumila</td>\n",
              "      <td>Cattail Grass, Yellow Bristle Grass, Yellow Br...</td>\n",
              "      <td>NaN</td>\n",
              "    </tr>\n",
              "    <tr>\n",
              "      <th>5640</th>\n",
              "      <td>Vascular Plant</td>\n",
              "      <td>Vulpia bromoides</td>\n",
              "      <td>Brome Fescue, Brome Six-Weeks Grass, Desert Fe...</td>\n",
              "      <td>NaN</td>\n",
              "    </tr>\n",
              "    <tr>\n",
              "      <th>5643</th>\n",
              "      <td>Vascular Plant</td>\n",
              "      <td>Vulpia myuros</td>\n",
              "      <td>Foxtail Fescue, Rattail Fescue, Rat-Tail Fescu...</td>\n",
              "      <td>NaN</td>\n",
              "    </tr>\n",
              "    <tr>\n",
              "      <th>5750</th>\n",
              "      <td>Vascular Plant</td>\n",
              "      <td>Rosa eglanteria</td>\n",
              "      <td>Sweetbriar Rose</td>\n",
              "      <td>NaN</td>\n",
              "    </tr>\n",
              "  </tbody>\n",
              "</table>\n",
              "<p>283 rows × 4 columns</p>\n",
              "</div>"
            ],
            "text/plain": [
              "            category                   scientific_name  \\\n",
              "3017          Mammal                    Cervus elaphus   \n",
              "3019          Mammal            Odocoileus virginianus   \n",
              "3020          Mammal                       Canis lupus   \n",
              "3022          Mammal                     Puma concolor   \n",
              "3025          Mammal                  Lutra canadensis   \n",
              "...              ...                               ...   \n",
              "5619  Vascular Plant  Panicum rigidulum var. rigidulum   \n",
              "5638  Vascular Plant                    Setaria pumila   \n",
              "5640  Vascular Plant                  Vulpia bromoides   \n",
              "5643  Vascular Plant                     Vulpia myuros   \n",
              "5750  Vascular Plant                   Rosa eglanteria   \n",
              "\n",
              "                                           common_names conservation_status  \n",
              "3017                                 Rocky Mountain Elk                 NaN  \n",
              "3019               White-Tailed Deer, White-Tailed Deer                 NaN  \n",
              "3020                                    Gray Wolf, Wolf         In Recovery  \n",
              "3022                        Cougar, Mountain Lion, Puma                 NaN  \n",
              "3025                                        River Otter                 NaN  \n",
              "...                                                 ...                 ...  \n",
              "5619                  Redtop Panicgrass, Redtop Panicum                 NaN  \n",
              "5638  Cattail Grass, Yellow Bristle Grass, Yellow Br...                 NaN  \n",
              "5640  Brome Fescue, Brome Six-Weeks Grass, Desert Fe...                 NaN  \n",
              "5643  Foxtail Fescue, Rattail Fescue, Rat-Tail Fescu...                 NaN  \n",
              "5750                                    Sweetbriar Rose                 NaN  \n",
              "\n",
              "[283 rows x 4 columns]"
            ]
          },
          "execution_count": 11,
          "metadata": {},
          "output_type": "execute_result"
        }
      ],
      "source": [
        "spec[spec.duplicated(subset=['scientific_name'])]"
      ]
    },
    {
      "cell_type": "code",
      "execution_count": 12,
      "metadata": {
        "colab": {
          "base_uri": "https://localhost:8080/",
          "height": 143
        },
        "id": "ARpj1wYn4sWs",
        "outputId": "d750eaba-7dd2-49d6-84fb-56a86b9663e1"
      },
      "outputs": [
        {
          "data": {
            "text/html": [
              "<div>\n",
              "<style scoped>\n",
              "    .dataframe tbody tr th:only-of-type {\n",
              "        vertical-align: middle;\n",
              "    }\n",
              "\n",
              "    .dataframe tbody tr th {\n",
              "        vertical-align: top;\n",
              "    }\n",
              "\n",
              "    .dataframe thead th {\n",
              "        text-align: right;\n",
              "    }\n",
              "</style>\n",
              "<table border=\"1\" class=\"dataframe\">\n",
              "  <thead>\n",
              "    <tr style=\"text-align: right;\">\n",
              "      <th></th>\n",
              "      <th>category</th>\n",
              "      <th>scientific_name</th>\n",
              "      <th>common_names</th>\n",
              "      <th>conservation_status</th>\n",
              "    </tr>\n",
              "  </thead>\n",
              "  <tbody>\n",
              "    <tr>\n",
              "      <th>8</th>\n",
              "      <td>Mammal</td>\n",
              "      <td>Canis lupus</td>\n",
              "      <td>Gray Wolf</td>\n",
              "      <td>Endangered</td>\n",
              "    </tr>\n",
              "    <tr>\n",
              "      <th>3020</th>\n",
              "      <td>Mammal</td>\n",
              "      <td>Canis lupus</td>\n",
              "      <td>Gray Wolf, Wolf</td>\n",
              "      <td>In Recovery</td>\n",
              "    </tr>\n",
              "    <tr>\n",
              "      <th>4448</th>\n",
              "      <td>Mammal</td>\n",
              "      <td>Canis lupus</td>\n",
              "      <td>Gray Wolf, Wolf</td>\n",
              "      <td>Endangered</td>\n",
              "    </tr>\n",
              "  </tbody>\n",
              "</table>\n",
              "</div>"
            ],
            "text/plain": [
              "     category scientific_name     common_names conservation_status\n",
              "8      Mammal     Canis lupus        Gray Wolf          Endangered\n",
              "3020   Mammal     Canis lupus  Gray Wolf, Wolf         In Recovery\n",
              "4448   Mammal     Canis lupus  Gray Wolf, Wolf          Endangered"
            ]
          },
          "execution_count": 12,
          "metadata": {},
          "output_type": "execute_result"
        }
      ],
      "source": [
        "spec[spec.scientific_name == 'Canis lupus']"
      ]
    },
    {
      "cell_type": "markdown",
      "metadata": {
        "id": "GS-GCmq4508b"
      },
      "source": [
        "Let's drop the duplicate"
      ]
    },
    {
      "cell_type": "code",
      "execution_count": 13,
      "metadata": {
        "id": "B5EQ4TMx58kf"
      },
      "outputs": [],
      "source": [
        "spec.drop_duplicates(subset=['scientific_name'], keep='last', inplace=True)"
      ]
    },
    {
      "cell_type": "code",
      "execution_count": 14,
      "metadata": {
        "colab": {
          "base_uri": "https://localhost:8080/"
        },
        "id": "48jaRn656aOt",
        "outputId": "c9cfa02e-b3b7-4a76-b14f-7bb9337b4121"
      },
      "outputs": [
        {
          "name": "stdout",
          "output_type": "stream",
          "text": [
            "<class 'pandas.core.frame.DataFrame'>\n",
            "Int64Index: 5541 entries, 0 to 5823\n",
            "Data columns (total 4 columns):\n",
            " #   Column               Non-Null Count  Dtype \n",
            "---  ------               --------------  ----- \n",
            " 0   category             5541 non-null   object\n",
            " 1   scientific_name      5541 non-null   object\n",
            " 2   common_names         5541 non-null   object\n",
            " 3   conservation_status  179 non-null    object\n",
            "dtypes: object(4)\n",
            "memory usage: 216.4+ KB\n"
          ]
        }
      ],
      "source": [
        "spec.info()"
      ]
    },
    {
      "cell_type": "markdown",
      "metadata": {
        "id": "y3p3B5mx-Jh2"
      },
      "source": [
        "### 1. What is the distribution of conservation_status for animals?\n"
      ]
    },
    {
      "cell_type": "code",
      "execution_count": 15,
      "metadata": {
        "colab": {
          "base_uri": "https://localhost:8080/"
        },
        "id": "iID3nEft-Ps0",
        "outputId": "1ac18cb4-151e-46fa-aef9-714e1e9b735c"
      },
      "outputs": [
        {
          "data": {
            "text/plain": [
              "Species of Concern    151\n",
              "Endangered             15\n",
              "Threatened             10\n",
              "In Recovery             3\n",
              "Name: conservation_status, dtype: int64"
            ]
          },
          "execution_count": 15,
          "metadata": {},
          "output_type": "execute_result"
        }
      ],
      "source": [
        "spec.conservation_status.value_counts()"
      ]
    },
    {
      "cell_type": "code",
      "execution_count": 16,
      "metadata": {
        "colab": {
          "base_uri": "https://localhost:8080/"
        },
        "id": "mWD4Z9CN_boh",
        "outputId": "66e3d4ac-4b79-40f4-da75-c555b8b1d463"
      },
      "outputs": [
        {
          "data": {
            "text/plain": [
              "array(['Mammal', 'Bird', 'Reptile', 'Amphibian', 'Fish', 'Vascular Plant',\n",
              "       'Nonvascular Plant'], dtype=object)"
            ]
          },
          "execution_count": 16,
          "metadata": {},
          "output_type": "execute_result"
        }
      ],
      "source": [
        "spec.category.unique()"
      ]
    },
    {
      "cell_type": "markdown",
      "metadata": {
        "id": "lvUpssug_gV0"
      },
      "source": [
        "Animals = Mammal, Bird, Reptile, Amphibian, Fish, Vascular Plant, Nonvascular Plant"
      ]
    },
    {
      "cell_type": "code",
      "execution_count": 17,
      "metadata": {
        "colab": {
          "base_uri": "https://localhost:8080/"
        },
        "id": "ZSK4BzFuGdyf",
        "outputId": "1d513d0f-7e28-47bf-8ef6-77e7b8a9eb5e"
      },
      "outputs": [
        {
          "data": {
            "text/plain": [
              "0    Mammal\n",
              "1    Mammal\n",
              "2    Mammal\n",
              "3    Mammal\n",
              "7    Mammal\n",
              "Name: category, dtype: object"
            ]
          },
          "execution_count": 17,
          "metadata": {},
          "output_type": "execute_result"
        }
      ],
      "source": [
        "spec.category.head()"
      ]
    },
    {
      "cell_type": "code",
      "execution_count": 18,
      "metadata": {
        "colab": {
          "base_uri": "https://localhost:8080/",
          "height": 206
        },
        "id": "wXk6mPy0--A1",
        "outputId": "8ddd2eaa-1681-42f3-8ed2-5e4a0cb5a06e"
      },
      "outputs": [
        {
          "data": {
            "text/html": [
              "<div>\n",
              "<style scoped>\n",
              "    .dataframe tbody tr th:only-of-type {\n",
              "        vertical-align: middle;\n",
              "    }\n",
              "\n",
              "    .dataframe tbody tr th {\n",
              "        vertical-align: top;\n",
              "    }\n",
              "\n",
              "    .dataframe thead th {\n",
              "        text-align: right;\n",
              "    }\n",
              "</style>\n",
              "<table border=\"1\" class=\"dataframe\">\n",
              "  <thead>\n",
              "    <tr style=\"text-align: right;\">\n",
              "      <th></th>\n",
              "      <th>scientific_name</th>\n",
              "    </tr>\n",
              "    <tr>\n",
              "      <th>conservation_status</th>\n",
              "      <th></th>\n",
              "    </tr>\n",
              "  </thead>\n",
              "  <tbody>\n",
              "    <tr>\n",
              "      <th>Endangered</th>\n",
              "      <td>15</td>\n",
              "    </tr>\n",
              "    <tr>\n",
              "      <th>In Recovery</th>\n",
              "      <td>3</td>\n",
              "    </tr>\n",
              "    <tr>\n",
              "      <th>Species of Concern</th>\n",
              "      <td>151</td>\n",
              "    </tr>\n",
              "    <tr>\n",
              "      <th>Threatened</th>\n",
              "      <td>10</td>\n",
              "    </tr>\n",
              "  </tbody>\n",
              "</table>\n",
              "</div>"
            ],
            "text/plain": [
              "                     scientific_name\n",
              "conservation_status                 \n",
              "Endangered                        15\n",
              "In Recovery                        3\n",
              "Species of Concern               151\n",
              "Threatened                        10"
            ]
          },
          "execution_count": 18,
          "metadata": {},
          "output_type": "execute_result"
        }
      ],
      "source": [
        "spec[['scientific_name', 'conservation_status']].groupby('conservation_status').count()"
      ]
    },
    {
      "cell_type": "markdown",
      "metadata": {
        "id": "I869XSsn69qS"
      },
      "source": []
    },
    {
      "cell_type": "code",
      "execution_count": 19,
      "metadata": {
        "colab": {
          "base_uri": "https://localhost:8080/"
        },
        "id": "5wSBfc-dLYOn",
        "outputId": "4784971e-2c1a-430b-f864-bc03438cde92"
      },
      "outputs": [
        {
          "data": {
            "text/plain": [
              "In Recovery           0.016760\n",
              "Threatened            0.055866\n",
              "Endangered            0.083799\n",
              "Species of Concern    0.843575\n",
              "Name: conservation_status, dtype: float64"
            ]
          },
          "execution_count": 19,
          "metadata": {},
          "output_type": "execute_result"
        }
      ],
      "source": [
        "spec.conservation_status.value_counts(normalize=True, ascending=True)"
      ]
    },
    {
      "cell_type": "code",
      "execution_count": 20,
      "metadata": {
        "id": "l7Ps3UKGOFfM"
      },
      "outputs": [],
      "source": [
        "# Create a specific dd for animals\n",
        "\n",
        "animal = ('Mammal', 'Bird', 'Reptile', 'Amphibian', 'Fish')\n",
        "animals = spec.loc[spec['category'].isin(animal)]"
      ]
    },
    {
      "cell_type": "code",
      "execution_count": 21,
      "metadata": {
        "colab": {
          "base_uri": "https://localhost:8080/",
          "height": 206
        },
        "id": "i2DnggjSOgdL",
        "outputId": "b4aff70d-2b5e-4255-fb20-123c97781d18"
      },
      "outputs": [
        {
          "data": {
            "text/html": [
              "<div>\n",
              "<style scoped>\n",
              "    .dataframe tbody tr th:only-of-type {\n",
              "        vertical-align: middle;\n",
              "    }\n",
              "\n",
              "    .dataframe tbody tr th {\n",
              "        vertical-align: top;\n",
              "    }\n",
              "\n",
              "    .dataframe thead th {\n",
              "        text-align: right;\n",
              "    }\n",
              "</style>\n",
              "<table border=\"1\" class=\"dataframe\">\n",
              "  <thead>\n",
              "    <tr style=\"text-align: right;\">\n",
              "      <th></th>\n",
              "      <th>category</th>\n",
              "      <th>scientific_name</th>\n",
              "      <th>common_names</th>\n",
              "      <th>conservation_status</th>\n",
              "    </tr>\n",
              "  </thead>\n",
              "  <tbody>\n",
              "    <tr>\n",
              "      <th>0</th>\n",
              "      <td>Mammal</td>\n",
              "      <td>Clethrionomys gapperi gapperi</td>\n",
              "      <td>Gapper's Red-Backed Vole</td>\n",
              "      <td>NaN</td>\n",
              "    </tr>\n",
              "    <tr>\n",
              "      <th>1</th>\n",
              "      <td>Mammal</td>\n",
              "      <td>Bos bison</td>\n",
              "      <td>American Bison, Bison</td>\n",
              "      <td>NaN</td>\n",
              "    </tr>\n",
              "    <tr>\n",
              "      <th>2</th>\n",
              "      <td>Mammal</td>\n",
              "      <td>Bos taurus</td>\n",
              "      <td>Aurochs, Aurochs, Domestic Cattle (Feral), Dom...</td>\n",
              "      <td>NaN</td>\n",
              "    </tr>\n",
              "    <tr>\n",
              "      <th>3</th>\n",
              "      <td>Mammal</td>\n",
              "      <td>Ovis aries</td>\n",
              "      <td>Domestic Sheep, Mouflon, Red Sheep, Sheep (Feral)</td>\n",
              "      <td>NaN</td>\n",
              "    </tr>\n",
              "    <tr>\n",
              "      <th>7</th>\n",
              "      <td>Mammal</td>\n",
              "      <td>Canis latrans</td>\n",
              "      <td>Coyote</td>\n",
              "      <td>Species of Concern</td>\n",
              "    </tr>\n",
              "  </tbody>\n",
              "</table>\n",
              "</div>"
            ],
            "text/plain": [
              "  category                scientific_name  \\\n",
              "0   Mammal  Clethrionomys gapperi gapperi   \n",
              "1   Mammal                      Bos bison   \n",
              "2   Mammal                     Bos taurus   \n",
              "3   Mammal                     Ovis aries   \n",
              "7   Mammal                  Canis latrans   \n",
              "\n",
              "                                        common_names conservation_status  \n",
              "0                           Gapper's Red-Backed Vole                 NaN  \n",
              "1                              American Bison, Bison                 NaN  \n",
              "2  Aurochs, Aurochs, Domestic Cattle (Feral), Dom...                 NaN  \n",
              "3  Domestic Sheep, Mouflon, Red Sheep, Sheep (Feral)                 NaN  \n",
              "7                                             Coyote  Species of Concern  "
            ]
          },
          "execution_count": 21,
          "metadata": {},
          "output_type": "execute_result"
        }
      ],
      "source": [
        "animals.head()"
      ]
    },
    {
      "cell_type": "markdown",
      "metadata": {
        "id": "zXFdtI7IP1gv"
      },
      "source": [
        "Now, we can plot the conservation_status for animals"
      ]
    },
    {
      "cell_type": "code",
      "execution_count": 22,
      "metadata": {
        "colab": {
          "base_uri": "https://localhost:8080/",
          "height": 296
        },
        "id": "M-eNSbYTP8JC",
        "outputId": "e65f3dc5-36d9-4296-8308-3fcc9a7f694f"
      },
      "outputs": [
        {
          "data": {
            "image/png": "[encoded data removed]",
            "text/plain": [
              "<Figure size 640x480 with 1 Axes>"
            ]
          },
          "metadata": {},
          "output_type": "display_data"
        },
        {
          "data": {
            "text/plain": [
              "<Figure size 640x480 with 0 Axes>"
            ]
          },
          "metadata": {},
          "output_type": "display_data"
        }
      ],
      "source": [
        "sns.countplot(x='category', hue='conservation_status', data=animals, palette='Accent')\n",
        "plt.show()\n",
        "plt.clf()"
      ]
    },
    {
      "cell_type": "code",
      "execution_count": 23,
      "metadata": {
        "colab": {
          "base_uri": "https://localhost:8080/",
          "height": 344
        },
        "id": "RYyd1N7RSfoQ",
        "outputId": "169d9cb3-3ea3-406d-94ee-3304466a4f98"
      },
      "outputs": [
        {
          "data": {
            "image/png": "[encoded data removed]",
            "text/plain": [
              "<Figure size 640x480 with 1 Axes>"
            ]
          },
          "metadata": {},
          "output_type": "display_data"
        },
        {
          "data": {
            "text/plain": [
              "<Figure size 640x480 with 0 Axes>"
            ]
          },
          "metadata": {},
          "output_type": "display_data"
        }
      ],
      "source": [
        "sns.countplot(x='conservation_status', data=animals, palette='Accent')\n",
        "plt.xticks(rotation=30)\n",
        "plt.show()\n",
        "plt.clf()"
      ]
    },
    {
      "cell_type": "code",
      "execution_count": 24,
      "metadata": {
        "colab": {
          "base_uri": "https://localhost:8080/"
        },
        "id": "_IhMtkOhS56r",
        "outputId": "98eea96c-ba86-4bb4-ff42-54cca01d05ce"
      },
      "outputs": [
        {
          "data": {
            "text/plain": [
              "In Recovery           0.023438\n",
              "Threatened            0.062500\n",
              "Endangered            0.109375\n",
              "Species of Concern    0.804688\n",
              "Name: conservation_status, dtype: float64"
            ]
          },
          "execution_count": 24,
          "metadata": {},
          "output_type": "execute_result"
        }
      ],
      "source": [
        "animals.conservation_status.value_counts(normalize=True, ascending=True)"
      ]
    },
    {
      "cell_type": "markdown",
      "metadata": {
        "id": "MjegwPKqR6qJ"
      },
      "source": [
        "**1. What is the distribution of conservation_status for animals?**\n",
        "\n",
        "Despite the lack of information for all species, we could observe:\n",
        "- 80% of animals are species of concern\n",
        "- 10% are endangered\n",
        "- 6% are threatened\n",
        "- Only 2% in recovery\n",
        "\n"
      ]
    },
    {
      "cell_type": "markdown",
      "metadata": {
        "id": "vpU-u7NNTiUz"
      },
      "source": [
        "### 2. Are certain types of species more likely to be endangered?"
      ]
    },
    {
      "cell_type": "code",
      "execution_count": 25,
      "metadata": {
        "colab": {
          "base_uri": "https://localhost:8080/",
          "height": 206
        },
        "id": "4ifYLwLua3yt",
        "outputId": "5592b92f-5dc1-488b-8388-ef835d41b77b"
      },
      "outputs": [
        {
          "data": {
            "text/html": [
              "<div>\n",
              "<style scoped>\n",
              "    .dataframe tbody tr th:only-of-type {\n",
              "        vertical-align: middle;\n",
              "    }\n",
              "\n",
              "    .dataframe tbody tr th {\n",
              "        vertical-align: top;\n",
              "    }\n",
              "\n",
              "    .dataframe thead th {\n",
              "        text-align: right;\n",
              "    }\n",
              "</style>\n",
              "<table border=\"1\" class=\"dataframe\">\n",
              "  <thead>\n",
              "    <tr style=\"text-align: right;\">\n",
              "      <th></th>\n",
              "      <th>category</th>\n",
              "      <th>scientific_name</th>\n",
              "      <th>common_names</th>\n",
              "      <th>conservation_status</th>\n",
              "    </tr>\n",
              "  </thead>\n",
              "  <tbody>\n",
              "    <tr>\n",
              "      <th>9</th>\n",
              "      <td>Mammal</td>\n",
              "      <td>Canis rufus</td>\n",
              "      <td>Red Wolf</td>\n",
              "      <td>Endangered</td>\n",
              "    </tr>\n",
              "    <tr>\n",
              "      <th>34</th>\n",
              "      <td>Mammal</td>\n",
              "      <td>Myotis grisescens</td>\n",
              "      <td>Gray Myotis</td>\n",
              "      <td>Endangered</td>\n",
              "    </tr>\n",
              "    <tr>\n",
              "      <th>39</th>\n",
              "      <td>Mammal</td>\n",
              "      <td>Myotis sodalis</td>\n",
              "      <td>Indiana Bat, Indiana Or Social Myotis</td>\n",
              "      <td>Endangered</td>\n",
              "    </tr>\n",
              "    <tr>\n",
              "      <th>72</th>\n",
              "      <td>Mammal</td>\n",
              "      <td>Glaucomys sabrinus coloratus</td>\n",
              "      <td>Carolina Northern Flying Squirrel, Northern Fl...</td>\n",
              "      <td>Endangered</td>\n",
              "    </tr>\n",
              "    <tr>\n",
              "      <th>173</th>\n",
              "      <td>Bird</td>\n",
              "      <td>Grus americana</td>\n",
              "      <td>Whooping Crane</td>\n",
              "      <td>Endangered</td>\n",
              "    </tr>\n",
              "  </tbody>\n",
              "</table>\n",
              "</div>"
            ],
            "text/plain": [
              "    category               scientific_name  \\\n",
              "9     Mammal                   Canis rufus   \n",
              "34    Mammal             Myotis grisescens   \n",
              "39    Mammal                Myotis sodalis   \n",
              "72    Mammal  Glaucomys sabrinus coloratus   \n",
              "173     Bird                Grus americana   \n",
              "\n",
              "                                          common_names conservation_status  \n",
              "9                                             Red Wolf          Endangered  \n",
              "34                                         Gray Myotis          Endangered  \n",
              "39               Indiana Bat, Indiana Or Social Myotis          Endangered  \n",
              "72   Carolina Northern Flying Squirrel, Northern Fl...          Endangered  \n",
              "173                                     Whooping Crane          Endangered  "
            ]
          },
          "execution_count": 25,
          "metadata": {},
          "output_type": "execute_result"
        }
      ],
      "source": [
        "spec_endangered = spec[spec.conservation_status == 'Endangered']\n",
        "spec_endangered.head()"
      ]
    },
    {
      "cell_type": "code",
      "execution_count": 26,
      "metadata": {
        "colab": {
          "base_uri": "https://localhost:8080/",
          "height": 360
        },
        "id": "Vw0X02r-bAqZ",
        "outputId": "75366669-8c5c-4b2c-e1ac-e4d22f6147f1"
      },
      "outputs": [
        {
          "data": {
            "image/png": "[encoded data removed]",
            "text/plain": [
              "<Figure size 640x480 with 1 Axes>"
            ]
          },
          "metadata": {},
          "output_type": "display_data"
        },
        {
          "data": {
            "text/plain": [
              "<Figure size 640x480 with 0 Axes>"
            ]
          },
          "metadata": {},
          "output_type": "display_data"
        }
      ],
      "source": [
        "sns.countplot(data=spec_endangered, x='category', palette='Accent')\n",
        "plt.xticks(rotation=45)\n",
        "plt.title('Species in endanger condition')\n",
        "plt.show()\n",
        "plt.clf()"
      ]
    },
    {
      "cell_type": "code",
      "execution_count": 27,
      "metadata": {
        "colab": {
          "base_uri": "https://localhost:8080/"
        },
        "id": "YqQ6sQIFbi9x",
        "outputId": "0d9049e4-26b7-4821-e829-61f446c1660a"
      },
      "outputs": [
        {
          "data": {
            "text/plain": [
              "Mammal            0.400000\n",
              "Bird              0.266667\n",
              "Fish              0.200000\n",
              "Vascular Plant    0.066667\n",
              "Amphibian         0.066667\n",
              "Name: category, dtype: float64"
            ]
          },
          "execution_count": 27,
          "metadata": {},
          "output_type": "execute_result"
        }
      ],
      "source": [
        "spec_endangered.category.value_counts(normalize=True, ascending=False)"
      ]
    },
    {
      "cell_type": "markdown",
      "metadata": {
        "id": "2QaLSS2Zb6d6"
      },
      "source": [
        "**2. Are certain types of species more likely to be endangered?**\n",
        "\n",
        "Our observation, shows that mammals, fish and birds are the top 3 species in danger situation.\n",
        "According the data:\n",
        "- 4 out of 10 are mammals\n",
        "- 2 out of 10 are bird and fish\n",
        "- Vascular Plant and Anphibian respond for 6%\n",
        "\n",
        "Two of all species observed are not in danger: reptile and nonvascular plants."
      ]
    },
    {
      "cell_type": "markdown",
      "metadata": {
        "id": "DNtoo6T9e5rK"
      },
      "source": [
        "Let´s merge the dataframes.\n",
        "@Maryam, I search for a method to merge, I think your hint to clean both of dataframes before merge could make sense. Let´s check it out!"
      ]
    },
    {
      "cell_type": "code",
      "execution_count": 28,
      "metadata": {
        "id": "qvDnP4ZBfILA"
      },
      "outputs": [],
      "source": [
        "# Merge the dataframes\n",
        "species_df = spec.merge(obs, on='scientific_name')"
      ]
    },
    {
      "cell_type": "code",
      "execution_count": 29,
      "metadata": {
        "colab": {
          "base_uri": "https://localhost:8080/"
        },
        "id": "8LQqM60Ufjbf",
        "outputId": "f9c83016-eb98-4639-a731-26680a8570c2"
      },
      "outputs": [
        {
          "name": "stdout",
          "output_type": "stream",
          "text": [
            "<class 'pandas.core.frame.DataFrame'>\n",
            "Int64Index: 22164 entries, 0 to 22163\n",
            "Data columns (total 6 columns):\n",
            " #   Column               Non-Null Count  Dtype \n",
            "---  ------               --------------  ----- \n",
            " 0   category             22164 non-null  object\n",
            " 1   scientific_name      22164 non-null  object\n",
            " 2   common_names         22164 non-null  object\n",
            " 3   conservation_status  716 non-null    object\n",
            " 4   park_name            22164 non-null  object\n",
            " 5   observations         22164 non-null  int64 \n",
            "dtypes: int64(1), object(5)\n",
            "memory usage: 1.2+ MB\n"
          ]
        }
      ],
      "source": [
        "# print the first few rows of the DataFrame\n",
        "species_df.head(5)\n",
        "\n",
        "# print the DataFrame's shape\n",
        "species_df.shape\n",
        "\n",
        "# print the DataFrame's data types and other info\n",
        "species_df.info()"
      ]
    },
    {
      "attachments": {},
      "cell_type": "markdown",
      "metadata": {},
      "source": [
        "### 3. Are the differences between species and their conservation status significant?"
      ]
    },
    {
      "cell_type": "code",
      "execution_count": 42,
      "metadata": {},
      "outputs": [
        {
          "data": {
            "text/html": [
              "<div>\n",
              "<style scoped>\n",
              "    .dataframe tbody tr th:only-of-type {\n",
              "        vertical-align: middle;\n",
              "    }\n",
              "\n",
              "    .dataframe tbody tr th {\n",
              "        vertical-align: top;\n",
              "    }\n",
              "\n",
              "    .dataframe thead th {\n",
              "        text-align: right;\n",
              "    }\n",
              "</style>\n",
              "<table border=\"1\" class=\"dataframe\">\n",
              "  <thead>\n",
              "    <tr style=\"text-align: right;\">\n",
              "      <th></th>\n",
              "      <th>category</th>\n",
              "      <th>scientific_name</th>\n",
              "      <th>common_names</th>\n",
              "      <th>conservation_status</th>\n",
              "      <th>park_name</th>\n",
              "      <th>observations</th>\n",
              "    </tr>\n",
              "  </thead>\n",
              "  <tbody>\n",
              "    <tr>\n",
              "      <th>0</th>\n",
              "      <td>Mammal</td>\n",
              "      <td>Clethrionomys gapperi gapperi</td>\n",
              "      <td>Gapper's Red-Backed Vole</td>\n",
              "      <td>NaN</td>\n",
              "      <td>Bryce National Park</td>\n",
              "      <td>130</td>\n",
              "    </tr>\n",
              "    <tr>\n",
              "      <th>1</th>\n",
              "      <td>Mammal</td>\n",
              "      <td>Clethrionomys gapperi gapperi</td>\n",
              "      <td>Gapper's Red-Backed Vole</td>\n",
              "      <td>NaN</td>\n",
              "      <td>Yellowstone National Park</td>\n",
              "      <td>270</td>\n",
              "    </tr>\n",
              "    <tr>\n",
              "      <th>2</th>\n",
              "      <td>Mammal</td>\n",
              "      <td>Clethrionomys gapperi gapperi</td>\n",
              "      <td>Gapper's Red-Backed Vole</td>\n",
              "      <td>NaN</td>\n",
              "      <td>Great Smoky Mountains National Park</td>\n",
              "      <td>98</td>\n",
              "    </tr>\n",
              "    <tr>\n",
              "      <th>3</th>\n",
              "      <td>Mammal</td>\n",
              "      <td>Clethrionomys gapperi gapperi</td>\n",
              "      <td>Gapper's Red-Backed Vole</td>\n",
              "      <td>NaN</td>\n",
              "      <td>Yosemite National Park</td>\n",
              "      <td>117</td>\n",
              "    </tr>\n",
              "    <tr>\n",
              "      <th>4</th>\n",
              "      <td>Mammal</td>\n",
              "      <td>Bos bison</td>\n",
              "      <td>American Bison, Bison</td>\n",
              "      <td>NaN</td>\n",
              "      <td>Yosemite National Park</td>\n",
              "      <td>128</td>\n",
              "    </tr>\n",
              "    <tr>\n",
              "      <th>5</th>\n",
              "      <td>Mammal</td>\n",
              "      <td>Bos bison</td>\n",
              "      <td>American Bison, Bison</td>\n",
              "      <td>NaN</td>\n",
              "      <td>Yellowstone National Park</td>\n",
              "      <td>269</td>\n",
              "    </tr>\n",
              "    <tr>\n",
              "      <th>6</th>\n",
              "      <td>Mammal</td>\n",
              "      <td>Bos bison</td>\n",
              "      <td>American Bison, Bison</td>\n",
              "      <td>NaN</td>\n",
              "      <td>Bryce National Park</td>\n",
              "      <td>68</td>\n",
              "    </tr>\n",
              "    <tr>\n",
              "      <th>7</th>\n",
              "      <td>Mammal</td>\n",
              "      <td>Bos bison</td>\n",
              "      <td>American Bison, Bison</td>\n",
              "      <td>NaN</td>\n",
              "      <td>Great Smoky Mountains National Park</td>\n",
              "      <td>77</td>\n",
              "    </tr>\n",
              "    <tr>\n",
              "      <th>8</th>\n",
              "      <td>Mammal</td>\n",
              "      <td>Bos taurus</td>\n",
              "      <td>Aurochs, Aurochs, Domestic Cattle (Feral), Dom...</td>\n",
              "      <td>NaN</td>\n",
              "      <td>Bryce National Park</td>\n",
              "      <td>99</td>\n",
              "    </tr>\n",
              "    <tr>\n",
              "      <th>9</th>\n",
              "      <td>Mammal</td>\n",
              "      <td>Bos taurus</td>\n",
              "      <td>Aurochs, Aurochs, Domestic Cattle (Feral), Dom...</td>\n",
              "      <td>NaN</td>\n",
              "      <td>Yosemite National Park</td>\n",
              "      <td>124</td>\n",
              "    </tr>\n",
              "  </tbody>\n",
              "</table>\n",
              "</div>"
            ],
            "text/plain": [
              "  category                scientific_name  \\\n",
              "0   Mammal  Clethrionomys gapperi gapperi   \n",
              "1   Mammal  Clethrionomys gapperi gapperi   \n",
              "2   Mammal  Clethrionomys gapperi gapperi   \n",
              "3   Mammal  Clethrionomys gapperi gapperi   \n",
              "4   Mammal                      Bos bison   \n",
              "5   Mammal                      Bos bison   \n",
              "6   Mammal                      Bos bison   \n",
              "7   Mammal                      Bos bison   \n",
              "8   Mammal                     Bos taurus   \n",
              "9   Mammal                     Bos taurus   \n",
              "\n",
              "                                        common_names conservation_status  \\\n",
              "0                           Gapper's Red-Backed Vole                 NaN   \n",
              "1                           Gapper's Red-Backed Vole                 NaN   \n",
              "2                           Gapper's Red-Backed Vole                 NaN   \n",
              "3                           Gapper's Red-Backed Vole                 NaN   \n",
              "4                              American Bison, Bison                 NaN   \n",
              "5                              American Bison, Bison                 NaN   \n",
              "6                              American Bison, Bison                 NaN   \n",
              "7                              American Bison, Bison                 NaN   \n",
              "8  Aurochs, Aurochs, Domestic Cattle (Feral), Dom...                 NaN   \n",
              "9  Aurochs, Aurochs, Domestic Cattle (Feral), Dom...                 NaN   \n",
              "\n",
              "                             park_name  observations  \n",
              "0                  Bryce National Park           130  \n",
              "1            Yellowstone National Park           270  \n",
              "2  Great Smoky Mountains National Park            98  \n",
              "3               Yosemite National Park           117  \n",
              "4               Yosemite National Park           128  \n",
              "5            Yellowstone National Park           269  \n",
              "6                  Bryce National Park            68  \n",
              "7  Great Smoky Mountains National Park            77  \n",
              "8                  Bryce National Park            99  \n",
              "9               Yosemite National Park           124  "
            ]
          },
          "execution_count": 42,
          "metadata": {},
          "output_type": "execute_result"
        }
      ],
      "source": [
        "# Conservation status by category\n",
        "species_df.head(10)"
      ]
    },
    {
      "cell_type": "code",
      "execution_count": 52,
      "metadata": {},
      "outputs": [
        {
          "data": {
            "image/png": "[encoded data removed]",
            "text/plain": [
              "<Figure size 640x480 with 1 Axes>"
            ]
          },
          "metadata": {},
          "output_type": "display_data"
        },
        {
          "data": {
            "text/plain": [
              "<Figure size 640x480 with 0 Axes>"
            ]
          },
          "metadata": {},
          "output_type": "display_data"
        }
      ],
      "source": [
        "sns.violinplot(x='observations', y='park_name', data=species_df, palette='Accent')\n",
        "plt.xticks(rotation=0)\n",
        "plt.show()\n",
        "plt.clf()"
      ]
    },
    {
      "attachments": {},
      "cell_type": "markdown",
      "metadata": {},
      "source": [
        "Yellowstone have outliers, more than other parks. What kind of species are there?"
      ]
    },
    {
      "cell_type": "code",
      "execution_count": 56,
      "metadata": {},
      "outputs": [],
      "source": [
        "yellowstone_park = species_df[species_df['park_name'] == 'Yellowstone National Park']"
      ]
    },
    {
      "cell_type": "code",
      "execution_count": 57,
      "metadata": {},
      "outputs": [
        {
          "data": {
            "text/html": [
              "<div>\n",
              "<style scoped>\n",
              "    .dataframe tbody tr th:only-of-type {\n",
              "        vertical-align: middle;\n",
              "    }\n",
              "\n",
              "    .dataframe tbody tr th {\n",
              "        vertical-align: top;\n",
              "    }\n",
              "\n",
              "    .dataframe thead th {\n",
              "        text-align: right;\n",
              "    }\n",
              "</style>\n",
              "<table border=\"1\" class=\"dataframe\">\n",
              "  <thead>\n",
              "    <tr style=\"text-align: right;\">\n",
              "      <th></th>\n",
              "      <th>category</th>\n",
              "      <th>scientific_name</th>\n",
              "      <th>common_names</th>\n",
              "      <th>conservation_status</th>\n",
              "      <th>park_name</th>\n",
              "      <th>observations</th>\n",
              "    </tr>\n",
              "  </thead>\n",
              "  <tbody>\n",
              "    <tr>\n",
              "      <th>1</th>\n",
              "      <td>Mammal</td>\n",
              "      <td>Clethrionomys gapperi gapperi</td>\n",
              "      <td>Gapper's Red-Backed Vole</td>\n",
              "      <td>NaN</td>\n",
              "      <td>Yellowstone National Park</td>\n",
              "      <td>270</td>\n",
              "    </tr>\n",
              "    <tr>\n",
              "      <th>5</th>\n",
              "      <td>Mammal</td>\n",
              "      <td>Bos bison</td>\n",
              "      <td>American Bison, Bison</td>\n",
              "      <td>NaN</td>\n",
              "      <td>Yellowstone National Park</td>\n",
              "      <td>269</td>\n",
              "    </tr>\n",
              "    <tr>\n",
              "      <th>10</th>\n",
              "      <td>Mammal</td>\n",
              "      <td>Bos taurus</td>\n",
              "      <td>Aurochs, Aurochs, Domestic Cattle (Feral), Dom...</td>\n",
              "      <td>NaN</td>\n",
              "      <td>Yellowstone National Park</td>\n",
              "      <td>235</td>\n",
              "    </tr>\n",
              "    <tr>\n",
              "      <th>15</th>\n",
              "      <td>Mammal</td>\n",
              "      <td>Ovis aries</td>\n",
              "      <td>Domestic Sheep, Mouflon, Red Sheep, Sheep (Feral)</td>\n",
              "      <td>NaN</td>\n",
              "      <td>Yellowstone National Park</td>\n",
              "      <td>221</td>\n",
              "    </tr>\n",
              "    <tr>\n",
              "      <th>17</th>\n",
              "      <td>Mammal</td>\n",
              "      <td>Canis latrans</td>\n",
              "      <td>Coyote</td>\n",
              "      <td>Species of Concern</td>\n",
              "      <td>Yellowstone National Park</td>\n",
              "      <td>206</td>\n",
              "    </tr>\n",
              "  </tbody>\n",
              "</table>\n",
              "</div>"
            ],
            "text/plain": [
              "   category                scientific_name  \\\n",
              "1    Mammal  Clethrionomys gapperi gapperi   \n",
              "5    Mammal                      Bos bison   \n",
              "10   Mammal                     Bos taurus   \n",
              "15   Mammal                     Ovis aries   \n",
              "17   Mammal                  Canis latrans   \n",
              "\n",
              "                                         common_names conservation_status  \\\n",
              "1                            Gapper's Red-Backed Vole                 NaN   \n",
              "5                               American Bison, Bison                 NaN   \n",
              "10  Aurochs, Aurochs, Domestic Cattle (Feral), Dom...                 NaN   \n",
              "15  Domestic Sheep, Mouflon, Red Sheep, Sheep (Feral)                 NaN   \n",
              "17                                             Coyote  Species of Concern   \n",
              "\n",
              "                    park_name  observations  \n",
              "1   Yellowstone National Park           270  \n",
              "5   Yellowstone National Park           269  \n",
              "10  Yellowstone National Park           235  \n",
              "15  Yellowstone National Park           221  \n",
              "17  Yellowstone National Park           206  "
            ]
          },
          "execution_count": 57,
          "metadata": {},
          "output_type": "execute_result"
        }
      ],
      "source": [
        "yellowstone_park.head()"
      ]
    },
    {
      "cell_type": "code",
      "execution_count": 65,
      "metadata": {},
      "outputs": [
        {
          "data": {
            "image/png": "[encoded data removed]",
            "text/plain": [
              "<Figure size 640x480 with 1 Axes>"
            ]
          },
          "metadata": {},
          "output_type": "display_data"
        },
        {
          "data": {
            "text/plain": [
              "<Figure size 640x480 with 0 Axes>"
            ]
          },
          "metadata": {},
          "output_type": "display_data"
        }
      ],
      "source": [
        "plt.hist(x='observations', bins= 30, data=yellowstone_park)\n",
        "plt.show()\n",
        "plt.clf()"
      ]
    },
    {
      "cell_type": "code",
      "execution_count": 66,
      "metadata": {},
      "outputs": [
        {
          "data": {
            "text/plain": [
              "<AxesSubplot:>"
            ]
          },
          "execution_count": 66,
          "metadata": {},
          "output_type": "execute_result"
        },
        {
          "data": {
            "image/png": "[encoded data removed]",
            "text/plain": [
              "<Figure size 640x480 with 1 Axes>"
            ]
          },
          "metadata": {},
          "output_type": "display_data"
        }
      ],
      "source": [
        "yellowstone_park['conservation_status'].value_counts().plot(kind='bar')"
      ]
    },
    {
      "cell_type": "code",
      "execution_count": 54,
      "metadata": {},
      "outputs": [
        {
          "data": {
            "image/png": "[encoded data removed]",
            "text/plain": [
              "<Figure size 640x480 with 1 Axes>"
            ]
          },
          "metadata": {},
          "output_type": "display_data"
        },
        {
          "data": {
            "text/plain": [
              "<Figure size 640x480 with 0 Axes>"
            ]
          },
          "metadata": {},
          "output_type": "display_data"
        }
      ],
      "source": [
        "sns.scatterplot(data=species_df, x='park_name', y='observations')\n",
        "plt.show()\n",
        "plt.clf()"
      ]
    },
    {
      "cell_type": "markdown",
      "metadata": {
        "id": "U_wXco_xbBZf"
      },
      "source": [
        "###"
      ]
    }
  ],
  "metadata": {
    "colab": {
      "provenance": []
    },
    "kernelspec": {
      "display_name": "base",
      "language": "python",
      "name": "python3"
    },
    "language_info": {
      "codemirror_mode": {
        "name": "ipython",
        "version": 3
      },
      "file_extension": ".py",
      "mimetype": "text/x-python",
      "name": "python",
      "nbconvert_exporter": "python",
      "pygments_lexer": "ipython3",
      "version": "3.9.13"
    },
    "vscode": {
      "interpreter": {
        "hash": "155e4320cbd76e32fdde734bac67ea2e161d2b8f53e6edc9d7eae4ecf3146a98"
      }
    }
  },
  "nbformat": 4,
  "nbformat_minor": 0
}
