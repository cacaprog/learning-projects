{
 "cells": [
  {
   "cell_type": "markdown",
   "metadata": {},
   "source": [
    "# Frida Kahlo Exhibition\n",
    "\n",
    "You've been hired to work on a retrospective of Frida Kahlo's work at a major museum. Your job is to put together the audio tour, but in order to do that you need to create a list of each painting featured in the exhibit, the date it was painted, and its spot in the tour. \n",
    "\n",
    "Use your knowledge of Python lists to create a master list of each painting, its date, and its audio tour ID. \n"
   ]
  },
  {
   "cell_type": "markdown",
   "metadata": {},
   "source": [
    "## Task 1\n",
    "First, create a list called `paintings` and add the following titles to it:\n",
    "\n",
    "`The Two Fridas, My Dress Hangs Here, Tree of Hope, Self Portrait With Monkeys`\n"
   ]
  },
  {
   "cell_type": "code",
   "execution_count": 15,
   "metadata": {
    "collapsed": true
   },
   "outputs": [],
   "source": [
    "paintings = ['The Two Fridas', 'My Dress Hangs Here', 'Tree of Hope', 'Self Portrait With Monkeys']"
   ]
  },
  {
   "cell_type": "code",
   "execution_count": 16,
   "metadata": {},
   "outputs": [
    {
     "data": {
      "text/plain": [
       "['The Two Fridas',\n",
       " 'My Dress Hangs Here',\n",
       " 'Tree of Hope',\n",
       " 'Self Portrait With Monkeys']"
      ]
     },
     "execution_count": 16,
     "metadata": {},
     "output_type": "execute_result"
    }
   ],
   "source": [
    "paintings"
   ]
  },
  {
   "cell_type": "markdown",
   "metadata": {},
   "source": [
    "## Task 2\n",
    "\n",
    "Next, create a second list called `dates` and give it the following values:\n",
    "`1939, 1933, 1946, 1940`"
   ]
  },
  {
   "cell_type": "code",
   "execution_count": 17,
   "metadata": {
    "collapsed": true
   },
   "outputs": [],
   "source": [
    "dates = ['1939', '1933', '1946', '1940']"
   ]
  },
  {
   "cell_type": "markdown",
   "metadata": {},
   "source": [
    "## Task 3 \n",
    "It doesn't do much good to have the paintings without their dates, and vice versa. \n",
    "Zip together the two lists so that each painting is paired with its date and resave it to the `paintings` variable. Make sure to convert the zipped object into a list using the `list()` function. Print the results to the terminal to check your work. "
   ]
  },
  {
   "cell_type": "code",
   "execution_count": 18,
   "metadata": {
    "collapsed": true
   },
   "outputs": [],
   "source": [
    "paint_date = list(zip(paintings, dates))"
   ]
  },
  {
   "cell_type": "code",
   "execution_count": 19,
   "metadata": {},
   "outputs": [
    {
     "data": {
      "text/plain": [
       "[('The Two Fridas', '1939'),\n",
       " ('My Dress Hangs Here', '1933'),\n",
       " ('Tree of Hope', '1946'),\n",
       " ('Self Portrait With Monkeys', '1940')]"
      ]
     },
     "execution_count": 19,
     "metadata": {},
     "output_type": "execute_result"
    }
   ],
   "source": [
    "paint_date"
   ]
  },
  {
   "cell_type": "markdown",
   "metadata": {},
   "source": [
    "## Task 4\n",
    "There were some last minute additions to the show that we need to add to our list. Append the following paintings to our `paintings` list then re-print to check they were added correctly:\n",
    "- 'The Broken Column', 1944\n",
    "- 'The Wounded Deer', 1946\n",
    "- 'Me and My Doll', 1937\n",
    "\n",
    "Hint: Make sure to append each painting individually and that you're appending them as tuples, not lists. "
   ]
  },
  {
   "cell_type": "code",
   "execution_count": 20,
   "metadata": {
    "collapsed": true
   },
   "outputs": [],
   "source": [
    "paintings.append('The Broken Column')\n",
    "dates.append(1944)\n",
    "paintings.append('The Wounded Deer')\n",
    "dates.append(1946)\n",
    "paintings.append('Me and My Doll')\n",
    "dates.append(1937)\n"
   ]
  },
  {
   "cell_type": "code",
   "execution_count": 21,
   "metadata": {},
   "outputs": [
    {
     "name": "stdout",
     "output_type": "stream",
     "text": [
      "['The Two Fridas', 'My Dress Hangs Here', 'Tree of Hope', 'Self Portrait With Monkeys', 'The Broken Column', 'The Wounded Deer', 'Me and My Doll']\n"
     ]
    }
   ],
   "source": [
    "print(paintings)"
   ]
  },
  {
   "cell_type": "markdown",
   "metadata": {},
   "source": [
    "Another way to include all itens in the list: extend"
   ]
  },
  {
   "cell_type": "code",
   "execution_count": 27,
   "metadata": {},
   "outputs": [],
   "source": [
    "paintings_b = []\n",
    "paintings_b.extend(('The Broken Column', 'The Wounded Deer', 'Me and My Doll')) "
   ]
  },
  {
   "cell_type": "code",
   "execution_count": 28,
   "metadata": {},
   "outputs": [
    {
     "data": {
      "text/plain": [
       "['The Broken Column', 'The Wounded Deer', 'Me and My Doll']"
      ]
     },
     "execution_count": 28,
     "metadata": {},
     "output_type": "execute_result"
    }
   ],
   "source": [
    "paintings_b"
   ]
  },
  {
   "cell_type": "code",
   "execution_count": 45,
   "metadata": {},
   "outputs": [],
   "source": [
    "#let´s get paints and dates together\n",
    "paint_date = list(zip(paintings, dates))"
   ]
  },
  {
   "cell_type": "code",
   "execution_count": 46,
   "metadata": {},
   "outputs": [
    {
     "data": {
      "text/plain": [
       "[('The Two Fridas', '1939'),\n",
       " ('My Dress Hangs Here', '1933'),\n",
       " ('Tree of Hope', '1946'),\n",
       " ('Self Portrait With Monkeys', '1940'),\n",
       " ('The Broken Column', 1944),\n",
       " ('The Wounded Deer', 1946),\n",
       " ('Me and My Doll', 1937)]"
      ]
     },
     "execution_count": 46,
     "metadata": {},
     "output_type": "execute_result"
    }
   ],
   "source": [
    "paint_date"
   ]
  },
  {
   "cell_type": "markdown",
   "metadata": {},
   "source": [
    "## Task 5\n",
    "Since each of these paintings is going to be in the audio tour, they each need a unique identification number.\n",
    "But before we assign them a number, we first need to check how many paintings there are in total.\n",
    "\n",
    "Find the length of the `paintings` list."
   ]
  },
  {
   "cell_type": "code",
   "execution_count": 23,
   "metadata": {
    "collapsed": true
   },
   "outputs": [
    {
     "data": {
      "text/plain": [
       "7"
      ]
     },
     "execution_count": 23,
     "metadata": {},
     "output_type": "execute_result"
    }
   ],
   "source": [
    "len(paintings)"
   ]
  },
  {
   "cell_type": "markdown",
   "metadata": {},
   "source": [
    "## Task 6\n",
    "Use the `range` method to generate a list of identification numbers that starts at 1 and is equal in length to our list of items. \n",
    "Save the list to the variable `audio_tour_number` and check your work by printing the list."
   ]
  },
  {
   "cell_type": "code",
   "execution_count": 43,
   "metadata": {
    "collapsed": true
   },
   "outputs": [],
   "source": [
    "audio_tour_number = []\n",
    "audio_number = range(1, len(paintings) +1)\n",
    "for i in audio_number:\n",
    "    audio_tour_number.append(i)\n",
    "\n"
   ]
  },
  {
   "cell_type": "code",
   "execution_count": 44,
   "metadata": {},
   "outputs": [
    {
     "data": {
      "text/plain": [
       "[1, 2, 3, 4, 5, 6, 7]"
      ]
     },
     "execution_count": 44,
     "metadata": {},
     "output_type": "execute_result"
    }
   ],
   "source": [
    "audio_tour_number"
   ]
  },
  {
   "cell_type": "markdown",
   "metadata": {},
   "source": [
    "## Task 7 \n",
    "\n",
    "We're finally read to create our master list. \n",
    "Zip the `audio_tour_number` list to the `paintings` list and save it as `master_list`.\n",
    "\n",
    "Hint: Make sure to convert the zipped object into a list using the `list()` function."
   ]
  },
  {
   "cell_type": "code",
   "execution_count": 51,
   "metadata": {
    "collapsed": true
   },
   "outputs": [],
   "source": [
    "master_list = list(zip(paint_date, audio_tour_number))"
   ]
  },
  {
   "cell_type": "markdown",
   "metadata": {},
   "source": [
    "## Task 8 \n",
    "Print the `master_list` to the terminal."
   ]
  },
  {
   "cell_type": "code",
   "execution_count": 53,
   "metadata": {
    "collapsed": true
   },
   "outputs": [
    {
     "name": "stdout",
     "output_type": "stream",
     "text": [
      "Here the list of Frida Kahlo painting tour: \n",
      "[(('The Two Fridas', '1939'), 1), (('My Dress Hangs Here', '1933'), 2), (('Tree of Hope', '1946'), 3), (('Self Portrait With Monkeys', '1940'), 4), (('The Broken Column', 1944), 5), (('The Wounded Deer', 1946), 6), (('Me and My Doll', 1937), 7)]\n"
     ]
    }
   ],
   "source": [
    "print('Here the list of Frida Kahlo painting tour: ')\n",
    "print(master_list)"
   ]
  }
 ],
 "metadata": {
  "kernelspec": {
   "display_name": "Python 3.9.5",
   "language": "python",
   "name": "python3"
  },
  "language_info": {
   "codemirror_mode": {
    "name": "ipython",
    "version": 3
   },
   "file_extension": ".py",
   "mimetype": "text/x-python",
   "name": "python",
   "nbconvert_exporter": "python",
   "pygments_lexer": "ipython3",
   "version": "3.9.5"
  },
  "vscode": {
   "interpreter": {
    "hash": "c79d06ea20e8646de26e4ec8a47f3c94649a50123e8abc59fa31bc7f2c14ff45"
   }
  }
 },
 "nbformat": 4,
 "nbformat_minor": 2
}
