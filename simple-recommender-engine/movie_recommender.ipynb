{
 "cells": [
  {
   "cell_type": "code",
   "execution_count": 36,
   "metadata": {},
   "outputs": [],
   "source": [
    "import surprise\n",
    "from surprise.model_selection import train_test_split\n",
    "from surprise import KNNBasic\n",
    "from surprise import accuracy\n",
    "from surprise import SVD\n",
    "\n"
   ]
  },
  {
   "cell_type": "code",
   "execution_count": 37,
   "metadata": {},
   "outputs": [],
   "source": [
    "# Loading data\n",
    "from surprise import Dataset\n",
    "data = Dataset.load_builtin('ml-100k', prompt = False)\n",
    "\n",
    "# rating = pd.read_csv('/home/cacaprog/learning-projects/simple-recommender-engine/data/ratings.csv')\n",
    "# movies = pd.read_csv('/home/cacaprog/learning-projects/simple-recommender-engine/data/movies.csv')"
   ]
  },
  {
   "cell_type": "code",
   "execution_count": 38,
   "metadata": {},
   "outputs": [
    {
     "data": {
      "text/plain": [
       "<surprise.dataset.DatasetAutoFolds at 0x7f60e77fffd0>"
      ]
     },
     "execution_count": 38,
     "metadata": {},
     "output_type": "execute_result"
    }
   ],
   "source": [
    "data"
   ]
  },
  {
   "cell_type": "markdown",
   "metadata": {},
   "source": [
    "Train / test split of data"
   ]
  },
  {
   "cell_type": "code",
   "execution_count": 39,
   "metadata": {},
   "outputs": [],
   "source": [
    "trainset, testset = train_test_split(data, test_size=0.2, random_state=42)"
   ]
  },
  {
   "cell_type": "code",
   "execution_count": 40,
   "metadata": {},
   "outputs": [
    {
     "data": {
      "text/plain": [
       "[(699, 4.0),\n",
       " (114, 4.0),\n",
       " (339, 5.0),\n",
       " (769, 5.0),\n",
       " (230, 4.0),\n",
       " (212, 5.0),\n",
       " (21, 5.0),\n",
       " (33, 3.0),\n",
       " (94, 4.0),\n",
       " (74, 2.0),\n",
       " (22, 4.0),\n",
       " (471, 5.0),\n",
       " (8, 3.0),\n",
       " (305, 3.0),\n",
       " (645, 3.0),\n",
       " (558, 2.0),\n",
       " (166, 4.0),\n",
       " (129, 4.0),\n",
       " (100, 5.0),\n",
       " (232, 3.0),\n",
       " (391, 3.0),\n",
       " (204, 3.0),\n",
       " (508, 4.0),\n",
       " (79, 3.0),\n",
       " (83, 4.0),\n",
       " (426, 1.0),\n",
       " (6, 3.0),\n",
       " (58, 3.0),\n",
       " (1119, 5.0),\n",
       " (76, 5.0)]"
      ]
     },
     "execution_count": 40,
     "metadata": {},
     "output_type": "execute_result"
    }
   ],
   "source": [
    "# check the rating for user 590\n",
    "trainset.ur[590]"
   ]
  },
  {
   "cell_type": "markdown",
   "metadata": {},
   "source": [
    "### Training A Recommender System"
   ]
  },
  {
   "cell_type": "markdown",
   "metadata": {},
   "source": [
    "`KNNBasic` is a very simple implementation of user-user _collaborative filtering_. This algorithm works by using the k-nearest Negighbors (KNN) algorithm to determine the similarity of users based on how they rated movies"
   ]
  },
  {
   "cell_type": "code",
   "execution_count": 41,
   "metadata": {},
   "outputs": [
    {
     "name": "stdout",
     "output_type": "stream",
     "text": [
      "Computing the msd similarity matrix...\n",
      "Done computing similarity matrix.\n"
     ]
    },
    {
     "data": {
      "text/plain": [
       "<surprise.prediction_algorithms.knns.KNNBasic at 0x7f60e4270b10>"
      ]
     },
     "execution_count": 41,
     "metadata": {},
     "output_type": "execute_result"
    }
   ],
   "source": [
    "movie_recommender = KNNBasic()\n",
    "movie_recommender.fit(trainset)"
   ]
  },
  {
   "cell_type": "markdown",
   "metadata": {},
   "source": [
    "### Evaluating Recommender System Performance"
   ]
  },
  {
   "cell_type": "code",
   "execution_count": 42,
   "metadata": {},
   "outputs": [],
   "source": [
    "predictions = movie_recommender.test(testset)"
   ]
  },
  {
   "cell_type": "code",
   "execution_count": 43,
   "metadata": {},
   "outputs": [
    {
     "data": {
      "text/plain": [
       "['907',\n",
       " '143',\n",
       " 5.0,\n",
       " 4.039960584359155,\n",
       " {'actual_k': 40, 'was_impossible': False}]"
      ]
     },
     "execution_count": 43,
     "metadata": {},
     "output_type": "execute_result"
    }
   ],
   "source": [
    "list(predictions[0])"
   ]
  },
  {
   "cell_type": "markdown",
   "metadata": {},
   "source": [
    "The RMSE (root-mean square error) is an average measure of how far off predictions will be from their actual values. The closer the RMSE is to 0, the more accurate the model."
   ]
  },
  {
   "cell_type": "code",
   "execution_count": 44,
   "metadata": {},
   "outputs": [
    {
     "name": "stdout",
     "output_type": "stream",
     "text": [
      "RMSE: 0.9802\n"
     ]
    },
    {
     "data": {
      "text/plain": [
       "0.980150596704479"
      ]
     },
     "execution_count": 44,
     "metadata": {},
     "output_type": "execute_result"
    }
   ],
   "source": [
    "accuracy.rmse(predictions)"
   ]
  },
  {
   "cell_type": "markdown",
   "metadata": {},
   "source": [
    "### SVD (Singular Value Decomposition) recommender"
   ]
  },
  {
   "cell_type": "code",
   "execution_count": 45,
   "metadata": {},
   "outputs": [
    {
     "data": {
      "text/plain": [
       "<surprise.prediction_algorithms.matrix_factorization.SVD at 0x7f60e562d2d0>"
      ]
     },
     "execution_count": 45,
     "metadata": {},
     "output_type": "execute_result"
    }
   ],
   "source": [
    "svd_recommender = SVD()\n",
    "svd_recommender.fit(trainset)"
   ]
  },
  {
   "cell_type": "code",
   "execution_count": 46,
   "metadata": {},
   "outputs": [
    {
     "name": "stdout",
     "output_type": "stream",
     "text": [
      "RMSE: 0.9341\n"
     ]
    },
    {
     "data": {
      "text/plain": [
       "0.9340841204620788"
      ]
     },
     "execution_count": 46,
     "metadata": {},
     "output_type": "execute_result"
    }
   ],
   "source": [
    "svd_predictions = svd_recommender.test(testset)\n",
    "accuracy.rmse(svd_predictions)"
   ]
  }
 ],
 "metadata": {
  "kernelspec": {
   "display_name": "base",
   "language": "python",
   "name": "python3"
  },
  "language_info": {
   "codemirror_mode": {
    "name": "ipython",
    "version": 3
   },
   "file_extension": ".py",
   "mimetype": "text/x-python",
   "name": "python",
   "nbconvert_exporter": "python",
   "pygments_lexer": "ipython3",
   "version": "3.11.4"
  },
  "orig_nbformat": 4
 },
 "nbformat": 4,
 "nbformat_minor": 2
}
